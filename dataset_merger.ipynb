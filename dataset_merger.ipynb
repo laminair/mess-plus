{
 "cells": [
  {
   "cell_type": "code",
   "id": "initial_id",
   "metadata": {
    "collapsed": true
   },
   "source": [
    "from classifier.file_reader import read_files_from_folder\n",
    "\n",
    "from pathlib import Path\n",
    "\n",
    "\n",
    "PROJECT_ROOT_PATH = Path(\"dataset_merger.ipynb\").parent\n",
    "BASE_DATASET_PATH = Path(f\"{PROJECT_ROOT_PATH}/data\").absolute()\n",
    "\n",
    "BENCHMARKS = [\n",
    "\t\"arc_challenge\",\n",
    "\t\"arc_easy\",\n",
    "\t\"boolq\",\n",
    "\t\"logiqa\",\n",
    "\t\"piqa\",\n",
    "\t\"sciq\",\n",
    "\t\"social_iqa\",\n",
    "\t\"winogrande\"\n",
    "]\n",
    "\n",
    "BASE_COLS = [\n",
    "\t\"input_text\",\n",
    "\t\"benchmark_name\",\n",
    "]\n",
    "\n",
    "LLAMA3_COLS = [\"small\", \"medium\"]\n",
    "QWEN2_COLS = [\"xsmall\", \"large\"]\n",
    "\n"
   ],
   "outputs": [],
   "execution_count": null
  },
  {
   "metadata": {},
   "cell_type": "code",
   "source": [
    "for benchmark in BENCHMARKS:\n",
    "\tbm_subset1 = read_files_from_folder(f\"{PROJECT_ROOT_PATH}/data/llama3/inference_outputs/{benchmark}\")\n",
    "\tbm_subset2 = read_files_from_folder(f\"{PROJECT_ROOT_PATH}/data/qwen2/inference_outputs/{benchmark}\")\n",
    "\n",
    "\tcols_a = bm_subset1.columns.to_list()\n",
    "\tcols_b = bm_subset1.columns.to_list()\n",
    "\n",
    "\tbase_cols = [col for col in cols_a if col in BASE_COLS]\n",
    "\tcols_a_adj = []\n",
    "\tfor col in cols_a:\n",
    "\t\tfor selected_col in LLAMA3_COLS:\n",
    "\t\t\tif selected_col in col:\n",
    "\t\t\t\tcols_a_adj.append(col)\n",
    "\n",
    "\tcols_b_adj = []\n",
    "\tfor col in cols_b:\n",
    "\t\tfor selected_col in QWEN2_COLS:\n",
    "\t\t\tif selected_col in col:\n",
    "\t\t\t\tcols_b_adj.append(col)\n",
    "\n",
    "\tcols_a_adj = base_cols + cols_a_adj\n",
    "\n",
    "\tmerged_df = bm_subset1[cols_a_adj].merge(\n",
    "\t\tbm_subset2[cols_b_adj],\n",
    "\t\tleft_index=True,\n",
    "\t\tright_index=True,\n",
    "\t\thow=\"inner\"\n",
    "\t)\n",
    "\n",
    "\tbenchmark_base_path = Path(f\"{BASE_DATASET_PATH}/llama3_qwen2_mix/inference_outputs/{benchmark}\")\n",
    "\tbenchmark_base_path.mkdir(parents=True, exist_ok=True)\n",
    "\tmerged_df.to_csv(f\"{benchmark_base_path}/all_data.csv\")\n"
   ],
   "id": "f073163d18dc7d95",
   "outputs": [],
   "execution_count": null
  },
  {
   "metadata": {},
   "cell_type": "code",
   "source": [
    "df_test = read_files_from_folder(f\"{PROJECT_ROOT_PATH}/data/llama3_qwen2_mix/inference_outputs/arc_challenge\")\n",
    "display(df_test)"
   ],
   "id": "bdaaa48d6539f4c",
   "outputs": [],
   "execution_count": null
  },
  {
   "metadata": {},
   "cell_type": "code",
   "source": "",
   "id": "749d26a84ba38685",
   "outputs": [],
   "execution_count": null
  }
 ],
 "metadata": {
  "kernelspec": {
   "display_name": "Python 3",
   "language": "python",
   "name": "python3"
  },
  "language_info": {
   "codemirror_mode": {
    "name": "ipython",
    "version": 2
   },
   "file_extension": ".py",
   "mimetype": "text/x-python",
   "name": "python",
   "nbconvert_exporter": "python",
   "pygments_lexer": "ipython2",
   "version": "2.7.6"
  }
 },
 "nbformat": 4,
 "nbformat_minor": 5
}
