{
 "cells": [
  {
   "cell_type": "code",
   "id": "initial_id",
   "metadata": {
    "collapsed": true,
    "ExecuteTime": {
     "end_time": "2025-07-31T01:29:36.708186Z",
     "start_time": "2025-07-31T01:29:36.694894Z"
    }
   },
   "source": [
    "import pandas as pd\n",
    "import numpy as np\n",
    "\n",
    "from classifier.file_reader import read_files_from_folder\n",
    "\n",
    "from pathlib import Path\n",
    "\n",
    "PROJECT_ROOT_PATH = Path(\"dataset_merger.ipynb\").parent\n",
    "BASE_DATASET_PATH = Path(f\"{PROJECT_ROOT_PATH}/data\").absolute()\n",
    "\n",
    "BENCHMARKS = [\n",
    "\t\"arc_challenge\",\n",
    "\t\"arc_easy\",\n",
    "\t\"boolq\",\n",
    "\t\"logiqa\",\n",
    "\t\"piqa\",\n",
    "\t\"sciq\",\n",
    "\t\"social_iqa\",\n",
    "\t\"winogrande\"\n",
    "]\n",
    "\n",
    "LLAMA3_COLS = [\"_small\", \"_medium\"]\n",
    "QWEN2_COLS = [\"_xsmall\", \"_large\"]\n",
    "\n",
    "OUTPUT_FOLDER = Path(f\"{BASE_DATASET_PATH}/llama3_qwen2_mix/inference_outputs\")\n"
   ],
   "outputs": [],
   "execution_count": 1
  },
  {
   "metadata": {
    "ExecuteTime": {
     "end_time": "2025-07-31T01:29:37.380529Z",
     "start_time": "2025-07-31T01:29:36.719052Z"
    }
   },
   "cell_type": "code",
   "source": [
    "for benchmark in BENCHMARKS:\n",
    "    llama3_set = read_files_from_folder(f\"{PROJECT_ROOT_PATH}/data/llama3/inference_outputs/{benchmark}\")\n",
    "    qwen2_set = read_files_from_folder(f\"{PROJECT_ROOT_PATH}/data/qwen2/inference_outputs/{benchmark}\")\n",
    "\n",
    "    LLAMA3_COLS = [\"_small\", \"_medium\"]\n",
    "    QWEN2_COLS = [\"_xsmall\", \"_large\"]\n",
    "    base_cols = [\"input_text\", \"benchmark_name\"]\n",
    "\n",
    "    # Get relevant llama columns\n",
    "    llama3_set_cols = llama3_set.columns.to_list()\n",
    "    relevant_llama_cols = base_cols.copy()\n",
    "    for llama_col_name in llama3_set_cols:\n",
    "       for model_size in LLAMA3_COLS:\n",
    "          if model_size in llama_col_name:\n",
    "             relevant_llama_cols.append(llama_col_name)\n",
    "\n",
    "    # Get relevant qwen columns\n",
    "    qwen2_set_cols = qwen2_set.columns.to_list()\n",
    "    relevant_qwen_cols = []\n",
    "    for qwen_col_name in qwen2_set_cols:\n",
    "       for model_size in QWEN2_COLS:\n",
    "          if model_size in qwen_col_name:\n",
    "             relevant_qwen_cols.append(qwen_col_name)\n",
    "\n",
    "    display(llama3_set_cols)\n",
    "    display(qwen2_set_cols)\n",
    "\n",
    "    print(f\"Relevant llama cols: {relevant_llama_cols}\")\n",
    "    print(f\"Relevant qwen cols: {relevant_qwen_cols}\")\n",
    "\n",
    "    subset_llama = llama3_set[relevant_llama_cols]\n",
    "    subset_qwen = qwen2_set[relevant_qwen_cols]\n",
    "\n",
    "    subset_llama.sort_index(inplace=True)\n",
    "    subset_qwen.sort_index(inplace=True)\n",
    "\n",
    "    cs_set = subset_llama.join(subset_qwen, how='inner')\n",
    "\n",
    "    save_path = Path(f\"{OUTPUT_FOLDER}/{benchmark}\")\n",
    "    save_path.mkdir(parents=True, exist_ok=True)\n",
    "    cs_set.sort_index(inplace=True)\n",
    "    cs_set.to_csv(f\"{OUTPUT_FOLDER}/{benchmark}/all_data.csv\")"
   ],
   "id": "f073163d18dc7d95",
   "outputs": [
    {
     "data": {
      "text/plain": [
       "['input_text',\n",
       " 'benchmark_name',\n",
       " 'label_small',\n",
       " 'acc_norm_small',\n",
       " 'energy_consumption_small',\n",
       " 'inference_time_small',\n",
       " 'label_medium',\n",
       " 'acc_norm_medium',\n",
       " 'energy_consumption_medium',\n",
       " 'inference_time_medium',\n",
       " 'label_large',\n",
       " 'acc_norm_large',\n",
       " 'energy_consumption_large',\n",
       " 'inference_time_large']"
      ]
     },
     "metadata": {},
     "output_type": "display_data"
    },
    {
     "data": {
      "text/plain": [
       "['input_text',\n",
       " 'benchmark_name',\n",
       " 'label_xsmall',\n",
       " 'acc_norm_xsmall',\n",
       " 'energy_consumption_xsmall',\n",
       " 'inference_time_xsmall',\n",
       " 'label_small',\n",
       " 'acc_norm_small',\n",
       " 'energy_consumption_small',\n",
       " 'inference_time_small',\n",
       " 'label_medium',\n",
       " 'acc_norm_medium',\n",
       " 'energy_consumption_medium',\n",
       " 'inference_time_medium',\n",
       " 'label_large',\n",
       " 'acc_norm_large',\n",
       " 'energy_consumption_large',\n",
       " 'inference_time_large']"
      ]
     },
     "metadata": {},
     "output_type": "display_data"
    },
    {
     "name": "stdout",
     "output_type": "stream",
     "text": [
      "Relevant llama cols: ['input_text', 'benchmark_name', 'label_small', 'acc_norm_small', 'energy_consumption_small', 'inference_time_small', 'label_medium', 'acc_norm_medium', 'energy_consumption_medium', 'inference_time_medium']\n",
      "Relevant qwen cols: ['label_xsmall', 'acc_norm_xsmall', 'energy_consumption_xsmall', 'inference_time_xsmall', 'label_large', 'acc_norm_large', 'energy_consumption_large', 'inference_time_large']\n"
     ]
    },
    {
     "name": "stderr",
     "output_type": "stream",
     "text": [
      "/var/folders/yz/mgc_jz0x28j0kgl9dm72cwp40000gn/T/ipykernel_68448/1945913144.py:34: SettingWithCopyWarning: \n",
      "A value is trying to be set on a copy of a slice from a DataFrame\n",
      "\n",
      "See the caveats in the documentation: https://pandas.pydata.org/pandas-docs/stable/user_guide/indexing.html#returning-a-view-versus-a-copy\n",
      "  subset_llama.sort_index(inplace=True)\n",
      "/var/folders/yz/mgc_jz0x28j0kgl9dm72cwp40000gn/T/ipykernel_68448/1945913144.py:35: SettingWithCopyWarning: \n",
      "A value is trying to be set on a copy of a slice from a DataFrame\n",
      "\n",
      "See the caveats in the documentation: https://pandas.pydata.org/pandas-docs/stable/user_guide/indexing.html#returning-a-view-versus-a-copy\n",
      "  subset_qwen.sort_index(inplace=True)\n"
     ]
    },
    {
     "data": {
      "text/plain": [
       "['input_text',\n",
       " 'benchmark_name',\n",
       " 'label_small',\n",
       " 'acc_norm_small',\n",
       " 'energy_consumption_small',\n",
       " 'inference_time_small',\n",
       " 'label_medium',\n",
       " 'acc_norm_medium',\n",
       " 'energy_consumption_medium',\n",
       " 'inference_time_medium',\n",
       " 'label_large',\n",
       " 'acc_norm_large',\n",
       " 'energy_consumption_large',\n",
       " 'inference_time_large']"
      ]
     },
     "metadata": {},
     "output_type": "display_data"
    },
    {
     "data": {
      "text/plain": [
       "['input_text',\n",
       " 'benchmark_name',\n",
       " 'label_xsmall',\n",
       " 'acc_norm_xsmall',\n",
       " 'energy_consumption_xsmall',\n",
       " 'inference_time_xsmall',\n",
       " 'label_small',\n",
       " 'acc_norm_small',\n",
       " 'energy_consumption_small',\n",
       " 'inference_time_small',\n",
       " 'label_medium',\n",
       " 'acc_norm_medium',\n",
       " 'energy_consumption_medium',\n",
       " 'inference_time_medium',\n",
       " 'label_large',\n",
       " 'acc_norm_large',\n",
       " 'energy_consumption_large',\n",
       " 'inference_time_large']"
      ]
     },
     "metadata": {},
     "output_type": "display_data"
    },
    {
     "name": "stdout",
     "output_type": "stream",
     "text": [
      "Relevant llama cols: ['input_text', 'benchmark_name', 'label_small', 'acc_norm_small', 'energy_consumption_small', 'inference_time_small', 'label_medium', 'acc_norm_medium', 'energy_consumption_medium', 'inference_time_medium']\n",
      "Relevant qwen cols: ['label_xsmall', 'acc_norm_xsmall', 'energy_consumption_xsmall', 'inference_time_xsmall', 'label_large', 'acc_norm_large', 'energy_consumption_large', 'inference_time_large']\n"
     ]
    },
    {
     "name": "stderr",
     "output_type": "stream",
     "text": [
      "/var/folders/yz/mgc_jz0x28j0kgl9dm72cwp40000gn/T/ipykernel_68448/1945913144.py:34: SettingWithCopyWarning: \n",
      "A value is trying to be set on a copy of a slice from a DataFrame\n",
      "\n",
      "See the caveats in the documentation: https://pandas.pydata.org/pandas-docs/stable/user_guide/indexing.html#returning-a-view-versus-a-copy\n",
      "  subset_llama.sort_index(inplace=True)\n",
      "/var/folders/yz/mgc_jz0x28j0kgl9dm72cwp40000gn/T/ipykernel_68448/1945913144.py:35: SettingWithCopyWarning: \n",
      "A value is trying to be set on a copy of a slice from a DataFrame\n",
      "\n",
      "See the caveats in the documentation: https://pandas.pydata.org/pandas-docs/stable/user_guide/indexing.html#returning-a-view-versus-a-copy\n",
      "  subset_qwen.sort_index(inplace=True)\n"
     ]
    },
    {
     "data": {
      "text/plain": [
       "['input_text',\n",
       " 'benchmark_name',\n",
       " 'label_small',\n",
       " 'acc_small',\n",
       " 'energy_consumption_small',\n",
       " 'inference_time_small',\n",
       " 'label_medium',\n",
       " 'acc_medium',\n",
       " 'energy_consumption_medium',\n",
       " 'inference_time_medium',\n",
       " 'label_large',\n",
       " 'acc_large',\n",
       " 'energy_consumption_large',\n",
       " 'inference_time_large']"
      ]
     },
     "metadata": {},
     "output_type": "display_data"
    },
    {
     "data": {
      "text/plain": [
       "['input_text',\n",
       " 'benchmark_name',\n",
       " 'label_xsmall',\n",
       " 'acc_xsmall',\n",
       " 'energy_consumption_xsmall',\n",
       " 'inference_time_xsmall',\n",
       " 'label_small',\n",
       " 'acc_small',\n",
       " 'energy_consumption_small',\n",
       " 'inference_time_small',\n",
       " 'label_medium',\n",
       " 'acc_medium',\n",
       " 'energy_consumption_medium',\n",
       " 'inference_time_medium',\n",
       " 'label_large',\n",
       " 'acc_large',\n",
       " 'energy_consumption_large',\n",
       " 'inference_time_large']"
      ]
     },
     "metadata": {},
     "output_type": "display_data"
    },
    {
     "name": "stdout",
     "output_type": "stream",
     "text": [
      "Relevant llama cols: ['input_text', 'benchmark_name', 'label_small', 'acc_small', 'energy_consumption_small', 'inference_time_small', 'label_medium', 'acc_medium', 'energy_consumption_medium', 'inference_time_medium']\n",
      "Relevant qwen cols: ['label_xsmall', 'acc_xsmall', 'energy_consumption_xsmall', 'inference_time_xsmall', 'label_large', 'acc_large', 'energy_consumption_large', 'inference_time_large']\n"
     ]
    },
    {
     "name": "stderr",
     "output_type": "stream",
     "text": [
      "/var/folders/yz/mgc_jz0x28j0kgl9dm72cwp40000gn/T/ipykernel_68448/1945913144.py:34: SettingWithCopyWarning: \n",
      "A value is trying to be set on a copy of a slice from a DataFrame\n",
      "\n",
      "See the caveats in the documentation: https://pandas.pydata.org/pandas-docs/stable/user_guide/indexing.html#returning-a-view-versus-a-copy\n",
      "  subset_llama.sort_index(inplace=True)\n",
      "/var/folders/yz/mgc_jz0x28j0kgl9dm72cwp40000gn/T/ipykernel_68448/1945913144.py:35: SettingWithCopyWarning: \n",
      "A value is trying to be set on a copy of a slice from a DataFrame\n",
      "\n",
      "See the caveats in the documentation: https://pandas.pydata.org/pandas-docs/stable/user_guide/indexing.html#returning-a-view-versus-a-copy\n",
      "  subset_qwen.sort_index(inplace=True)\n"
     ]
    },
    {
     "data": {
      "text/plain": [
       "['input_text',\n",
       " 'benchmark_name',\n",
       " 'label_small',\n",
       " 'acc_small',\n",
       " 'energy_consumption_small',\n",
       " 'inference_time_small',\n",
       " 'label_medium',\n",
       " 'acc_medium',\n",
       " 'energy_consumption_medium',\n",
       " 'inference_time_medium',\n",
       " 'label_large',\n",
       " 'acc_large',\n",
       " 'energy_consumption_large',\n",
       " 'inference_time_large']"
      ]
     },
     "metadata": {},
     "output_type": "display_data"
    },
    {
     "data": {
      "text/plain": [
       "['input_text',\n",
       " 'benchmark_name',\n",
       " 'label_xsmall',\n",
       " 'acc_xsmall',\n",
       " 'energy_consumption_xsmall',\n",
       " 'inference_time_xsmall',\n",
       " 'label_small',\n",
       " 'acc_small',\n",
       " 'energy_consumption_small',\n",
       " 'inference_time_small',\n",
       " 'label_medium',\n",
       " 'acc_medium',\n",
       " 'energy_consumption_medium',\n",
       " 'inference_time_medium',\n",
       " 'label_large',\n",
       " 'acc_large',\n",
       " 'energy_consumption_large',\n",
       " 'inference_time_large']"
      ]
     },
     "metadata": {},
     "output_type": "display_data"
    },
    {
     "name": "stdout",
     "output_type": "stream",
     "text": [
      "Relevant llama cols: ['input_text', 'benchmark_name', 'label_small', 'acc_small', 'energy_consumption_small', 'inference_time_small', 'label_medium', 'acc_medium', 'energy_consumption_medium', 'inference_time_medium']\n",
      "Relevant qwen cols: ['label_xsmall', 'acc_xsmall', 'energy_consumption_xsmall', 'inference_time_xsmall', 'label_large', 'acc_large', 'energy_consumption_large', 'inference_time_large']\n"
     ]
    },
    {
     "name": "stderr",
     "output_type": "stream",
     "text": [
      "/var/folders/yz/mgc_jz0x28j0kgl9dm72cwp40000gn/T/ipykernel_68448/1945913144.py:34: SettingWithCopyWarning: \n",
      "A value is trying to be set on a copy of a slice from a DataFrame\n",
      "\n",
      "See the caveats in the documentation: https://pandas.pydata.org/pandas-docs/stable/user_guide/indexing.html#returning-a-view-versus-a-copy\n",
      "  subset_llama.sort_index(inplace=True)\n",
      "/var/folders/yz/mgc_jz0x28j0kgl9dm72cwp40000gn/T/ipykernel_68448/1945913144.py:35: SettingWithCopyWarning: \n",
      "A value is trying to be set on a copy of a slice from a DataFrame\n",
      "\n",
      "See the caveats in the documentation: https://pandas.pydata.org/pandas-docs/stable/user_guide/indexing.html#returning-a-view-versus-a-copy\n",
      "  subset_qwen.sort_index(inplace=True)\n"
     ]
    },
    {
     "data": {
      "text/plain": [
       "['input_text',\n",
       " 'benchmark_name',\n",
       " 'label_small',\n",
       " 'acc_small',\n",
       " 'energy_consumption_small',\n",
       " 'inference_time_small',\n",
       " 'label_medium',\n",
       " 'acc_medium',\n",
       " 'energy_consumption_medium',\n",
       " 'inference_time_medium',\n",
       " 'label_large',\n",
       " 'acc_large',\n",
       " 'energy_consumption_large',\n",
       " 'inference_time_large']"
      ]
     },
     "metadata": {},
     "output_type": "display_data"
    },
    {
     "data": {
      "text/plain": [
       "['input_text',\n",
       " 'benchmark_name',\n",
       " 'label_xsmall',\n",
       " 'acc_xsmall',\n",
       " 'energy_consumption_xsmall',\n",
       " 'inference_time_xsmall',\n",
       " 'label_small',\n",
       " 'acc_small',\n",
       " 'energy_consumption_small',\n",
       " 'inference_time_small',\n",
       " 'label_medium',\n",
       " 'acc_medium',\n",
       " 'energy_consumption_medium',\n",
       " 'inference_time_medium',\n",
       " 'label_large',\n",
       " 'acc_large',\n",
       " 'energy_consumption_large',\n",
       " 'inference_time_large']"
      ]
     },
     "metadata": {},
     "output_type": "display_data"
    },
    {
     "name": "stdout",
     "output_type": "stream",
     "text": [
      "Relevant llama cols: ['input_text', 'benchmark_name', 'label_small', 'acc_small', 'energy_consumption_small', 'inference_time_small', 'label_medium', 'acc_medium', 'energy_consumption_medium', 'inference_time_medium']\n",
      "Relevant qwen cols: ['label_xsmall', 'acc_xsmall', 'energy_consumption_xsmall', 'inference_time_xsmall', 'label_large', 'acc_large', 'energy_consumption_large', 'inference_time_large']\n"
     ]
    },
    {
     "name": "stderr",
     "output_type": "stream",
     "text": [
      "/var/folders/yz/mgc_jz0x28j0kgl9dm72cwp40000gn/T/ipykernel_68448/1945913144.py:34: SettingWithCopyWarning: \n",
      "A value is trying to be set on a copy of a slice from a DataFrame\n",
      "\n",
      "See the caveats in the documentation: https://pandas.pydata.org/pandas-docs/stable/user_guide/indexing.html#returning-a-view-versus-a-copy\n",
      "  subset_llama.sort_index(inplace=True)\n",
      "/var/folders/yz/mgc_jz0x28j0kgl9dm72cwp40000gn/T/ipykernel_68448/1945913144.py:35: SettingWithCopyWarning: \n",
      "A value is trying to be set on a copy of a slice from a DataFrame\n",
      "\n",
      "See the caveats in the documentation: https://pandas.pydata.org/pandas-docs/stable/user_guide/indexing.html#returning-a-view-versus-a-copy\n",
      "  subset_qwen.sort_index(inplace=True)\n"
     ]
    },
    {
     "data": {
      "text/plain": [
       "['input_text',\n",
       " 'benchmark_name',\n",
       " 'label_small',\n",
       " 'acc_small',\n",
       " 'energy_consumption_small',\n",
       " 'inference_time_small',\n",
       " 'label_medium',\n",
       " 'acc_medium',\n",
       " 'energy_consumption_medium',\n",
       " 'inference_time_medium',\n",
       " 'label_large',\n",
       " 'acc_large',\n",
       " 'energy_consumption_large',\n",
       " 'inference_time_large']"
      ]
     },
     "metadata": {},
     "output_type": "display_data"
    },
    {
     "data": {
      "text/plain": [
       "['input_text',\n",
       " 'benchmark_name',\n",
       " 'label_xsmall',\n",
       " 'acc_xsmall',\n",
       " 'energy_consumption_xsmall',\n",
       " 'inference_time_xsmall',\n",
       " 'label_small',\n",
       " 'acc_small',\n",
       " 'energy_consumption_small',\n",
       " 'inference_time_small',\n",
       " 'label_medium',\n",
       " 'acc_medium',\n",
       " 'energy_consumption_medium',\n",
       " 'inference_time_medium',\n",
       " 'label_large',\n",
       " 'acc_large',\n",
       " 'energy_consumption_large',\n",
       " 'inference_time_large']"
      ]
     },
     "metadata": {},
     "output_type": "display_data"
    },
    {
     "name": "stdout",
     "output_type": "stream",
     "text": [
      "Relevant llama cols: ['input_text', 'benchmark_name', 'label_small', 'acc_small', 'energy_consumption_small', 'inference_time_small', 'label_medium', 'acc_medium', 'energy_consumption_medium', 'inference_time_medium']\n",
      "Relevant qwen cols: ['label_xsmall', 'acc_xsmall', 'energy_consumption_xsmall', 'inference_time_xsmall', 'label_large', 'acc_large', 'energy_consumption_large', 'inference_time_large']\n"
     ]
    },
    {
     "name": "stderr",
     "output_type": "stream",
     "text": [
      "/var/folders/yz/mgc_jz0x28j0kgl9dm72cwp40000gn/T/ipykernel_68448/1945913144.py:34: SettingWithCopyWarning: \n",
      "A value is trying to be set on a copy of a slice from a DataFrame\n",
      "\n",
      "See the caveats in the documentation: https://pandas.pydata.org/pandas-docs/stable/user_guide/indexing.html#returning-a-view-versus-a-copy\n",
      "  subset_llama.sort_index(inplace=True)\n",
      "/var/folders/yz/mgc_jz0x28j0kgl9dm72cwp40000gn/T/ipykernel_68448/1945913144.py:35: SettingWithCopyWarning: \n",
      "A value is trying to be set on a copy of a slice from a DataFrame\n",
      "\n",
      "See the caveats in the documentation: https://pandas.pydata.org/pandas-docs/stable/user_guide/indexing.html#returning-a-view-versus-a-copy\n",
      "  subset_qwen.sort_index(inplace=True)\n"
     ]
    },
    {
     "data": {
      "text/plain": [
       "['input_text',\n",
       " 'benchmark_name',\n",
       " 'label_small',\n",
       " 'acc_small',\n",
       " 'energy_consumption_small',\n",
       " 'inference_time_small',\n",
       " 'label_medium',\n",
       " 'acc_medium',\n",
       " 'energy_consumption_medium',\n",
       " 'inference_time_medium',\n",
       " 'label_large',\n",
       " 'acc_large',\n",
       " 'energy_consumption_large',\n",
       " 'inference_time_large']"
      ]
     },
     "metadata": {},
     "output_type": "display_data"
    },
    {
     "data": {
      "text/plain": [
       "['input_text',\n",
       " 'benchmark_name',\n",
       " 'label_xsmall',\n",
       " 'acc_xsmall',\n",
       " 'energy_consumption_xsmall',\n",
       " 'inference_time_xsmall',\n",
       " 'label_small',\n",
       " 'acc_small',\n",
       " 'energy_consumption_small',\n",
       " 'inference_time_small',\n",
       " 'label_medium',\n",
       " 'acc_medium',\n",
       " 'energy_consumption_medium',\n",
       " 'inference_time_medium',\n",
       " 'label_large',\n",
       " 'acc_large',\n",
       " 'energy_consumption_large',\n",
       " 'inference_time_large']"
      ]
     },
     "metadata": {},
     "output_type": "display_data"
    },
    {
     "name": "stdout",
     "output_type": "stream",
     "text": [
      "Relevant llama cols: ['input_text', 'benchmark_name', 'label_small', 'acc_small', 'energy_consumption_small', 'inference_time_small', 'label_medium', 'acc_medium', 'energy_consumption_medium', 'inference_time_medium']\n",
      "Relevant qwen cols: ['label_xsmall', 'acc_xsmall', 'energy_consumption_xsmall', 'inference_time_xsmall', 'label_large', 'acc_large', 'energy_consumption_large', 'inference_time_large']\n"
     ]
    },
    {
     "name": "stderr",
     "output_type": "stream",
     "text": [
      "/var/folders/yz/mgc_jz0x28j0kgl9dm72cwp40000gn/T/ipykernel_68448/1945913144.py:34: SettingWithCopyWarning: \n",
      "A value is trying to be set on a copy of a slice from a DataFrame\n",
      "\n",
      "See the caveats in the documentation: https://pandas.pydata.org/pandas-docs/stable/user_guide/indexing.html#returning-a-view-versus-a-copy\n",
      "  subset_llama.sort_index(inplace=True)\n",
      "/var/folders/yz/mgc_jz0x28j0kgl9dm72cwp40000gn/T/ipykernel_68448/1945913144.py:35: SettingWithCopyWarning: \n",
      "A value is trying to be set on a copy of a slice from a DataFrame\n",
      "\n",
      "See the caveats in the documentation: https://pandas.pydata.org/pandas-docs/stable/user_guide/indexing.html#returning-a-view-versus-a-copy\n",
      "  subset_qwen.sort_index(inplace=True)\n"
     ]
    },
    {
     "data": {
      "text/plain": [
       "['input_text',\n",
       " 'benchmark_name',\n",
       " 'label_small',\n",
       " 'acc_small',\n",
       " 'energy_consumption_small',\n",
       " 'inference_time_small',\n",
       " 'label_medium',\n",
       " 'acc_medium',\n",
       " 'energy_consumption_medium',\n",
       " 'inference_time_medium',\n",
       " 'label_large',\n",
       " 'acc_large',\n",
       " 'energy_consumption_large',\n",
       " 'inference_time_large']"
      ]
     },
     "metadata": {},
     "output_type": "display_data"
    },
    {
     "data": {
      "text/plain": [
       "['input_text',\n",
       " 'benchmark_name',\n",
       " 'label_xsmall',\n",
       " 'acc_xsmall',\n",
       " 'energy_consumption_xsmall',\n",
       " 'inference_time_xsmall',\n",
       " 'label_small',\n",
       " 'acc_small',\n",
       " 'energy_consumption_small',\n",
       " 'inference_time_small',\n",
       " 'label_medium',\n",
       " 'acc_medium',\n",
       " 'energy_consumption_medium',\n",
       " 'inference_time_medium',\n",
       " 'label_large',\n",
       " 'acc_large',\n",
       " 'energy_consumption_large',\n",
       " 'inference_time_large']"
      ]
     },
     "metadata": {},
     "output_type": "display_data"
    },
    {
     "name": "stdout",
     "output_type": "stream",
     "text": [
      "Relevant llama cols: ['input_text', 'benchmark_name', 'label_small', 'acc_small', 'energy_consumption_small', 'inference_time_small', 'label_medium', 'acc_medium', 'energy_consumption_medium', 'inference_time_medium']\n",
      "Relevant qwen cols: ['label_xsmall', 'acc_xsmall', 'energy_consumption_xsmall', 'inference_time_xsmall', 'label_large', 'acc_large', 'energy_consumption_large', 'inference_time_large']\n"
     ]
    },
    {
     "name": "stderr",
     "output_type": "stream",
     "text": [
      "/var/folders/yz/mgc_jz0x28j0kgl9dm72cwp40000gn/T/ipykernel_68448/1945913144.py:34: SettingWithCopyWarning: \n",
      "A value is trying to be set on a copy of a slice from a DataFrame\n",
      "\n",
      "See the caveats in the documentation: https://pandas.pydata.org/pandas-docs/stable/user_guide/indexing.html#returning-a-view-versus-a-copy\n",
      "  subset_llama.sort_index(inplace=True)\n",
      "/var/folders/yz/mgc_jz0x28j0kgl9dm72cwp40000gn/T/ipykernel_68448/1945913144.py:35: SettingWithCopyWarning: \n",
      "A value is trying to be set on a copy of a slice from a DataFrame\n",
      "\n",
      "See the caveats in the documentation: https://pandas.pydata.org/pandas-docs/stable/user_guide/indexing.html#returning-a-view-versus-a-copy\n",
      "  subset_qwen.sort_index(inplace=True)\n"
     ]
    }
   ],
   "execution_count": 2
  },
  {
   "metadata": {},
   "cell_type": "markdown",
   "source": "",
   "id": "2bd172d4c93faa3e"
  }
 ],
 "metadata": {
  "kernelspec": {
   "display_name": "Python 3",
   "language": "python",
   "name": "python3"
  },
  "language_info": {
   "codemirror_mode": {
    "name": "ipython",
    "version": 2
   },
   "file_extension": ".py",
   "mimetype": "text/x-python",
   "name": "python",
   "nbconvert_exporter": "python",
   "pygments_lexer": "ipython2",
   "version": "2.7.6"
  }
 },
 "nbformat": 4,
 "nbformat_minor": 5
}
