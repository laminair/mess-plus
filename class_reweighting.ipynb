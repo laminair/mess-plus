{
 "cells": [
  {
   "cell_type": "code",
   "execution_count": 1,
   "id": "2d3ce011-1f8e-4e9f-a618-e0f39da1250c",
   "metadata": {},
   "outputs": [],
   "source": [
    "import torch\n",
    "import pathlib\n",
    "import pandas as pd\n",
    "import numpy as np\n",
    "\n",
    "from torch import nn\n",
    "\n",
    "from classifier.utils.experimentation import filter_dataset\n",
    "\n",
    "\n",
    "FILE_PATH = pathlib.Path(\"class_reweighting.ipynb\").parent"
   ]
  },
  {
   "cell_type": "code",
   "execution_count": 7,
   "id": "8f6f0e77-af0f-4ef4-b3c9-463a22e76139",
   "metadata": {},
   "outputs": [
    {
     "data": {
      "text/plain": [
       "str"
      ]
     },
     "metadata": {},
     "output_type": "display_data"
    }
   ],
   "source": [
    "df = pd.read_csv(f\"{FILE_PATH.parent}/datasets/csv/all_data.csv\", low_memory=False)\n",
    "df = filter_dataset(\n",
    "    df,\n",
    "    benchmark_dataset=\"boolq\",\n",
    "    dataset_name_matching=\"exact\",\n",
    "    base_model_name=\"llama\",\n",
    "    models_to_remove=set([\"llama_03B_32\", \"llama_70B_31\"]),\n",
    "    limit_nb_samples=None,\n",
    "    seed=42\n",
    ")\n",
    "\n",
    "display(type(df[\"label\"].iloc[0]))\n",
    "\n",
    "df[\"label\"] = df[\"label\"].apply(lambda x: eval(x))"
   ]
  },
  {
   "cell_type": "code",
   "execution_count": 3,
   "id": "72df53e1-8f0d-407f-a39b-a42ef141d75c",
   "metadata": {},
   "outputs": [
    {
     "data": {
      "text/plain": [
       "(3270, 3)"
      ]
     },
     "metadata": {},
     "output_type": "display_data"
    },
    {
     "data": {
      "text/plain": [
       "tensor([[1.1528, 0.9483, 0.8989]])"
      ]
     },
     "metadata": {},
     "output_type": "display_data"
    }
   ],
   "source": [
    "label_matrix = np.stack(df[\"label\"].values, axis=0)\n",
    "display(label_matrix.shape)\n",
    "num_samples, num_labels = label_matrix.shape\n",
    "\n",
    "counts = label_matrix.sum(axis=0)  \n",
    "freq = counts / (num_samples + 1e-9)\n",
    "\n",
    "weights = 1.0 / (freq + 1e-9)\n",
    "weights = weights / weights.mean()\n",
    "weights = weights.reshape(1, num_labels)\n",
    "\n",
    "display(torch.as_tensor(weights, dtype=torch.float))\n"
   ]
  },
  {
   "cell_type": "code",
   "execution_count": null,
   "id": "2f8b8f5b-5349-4975-ba86-ba5ef2f50b5d",
   "metadata": {},
   "outputs": [],
   "source": []
  }
 ],
 "metadata": {
  "kernelspec": {
   "display_name": "Python 3 (ipykernel)",
   "language": "python",
   "name": "python3"
  },
  "language_info": {
   "codemirror_mode": {
    "name": "ipython",
    "version": 3
   },
   "file_extension": ".py",
   "mimetype": "text/x-python",
   "name": "python",
   "nbconvert_exporter": "python",
   "pygments_lexer": "ipython3",
   "version": "3.12.8"
  }
 },
 "nbformat": 4,
 "nbformat_minor": 5
}
