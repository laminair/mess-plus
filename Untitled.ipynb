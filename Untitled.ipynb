{
 "cells": [
  {
   "cell_type": "code",
   "id": "f94ab4e9-b083-41c5-87d6-f6df0c8a6d6b",
   "metadata": {
    "ExecuteTime": {
     "end_time": "2025-04-15T14:03:37.713323Z",
     "start_time": "2025-04-15T14:03:31.564454Z"
    }
   },
   "source": [
    "import numpy as np\n",
    "from numpy.random import binomial\n",
    "\n",
    "\n",
    "qty = 0\n",
    "\n",
    "alpha = 0.5\n",
    "q_val = 0.5\n",
    "\n",
    "steps = 7000\n",
    "\n",
    "fw = []\n",
    "for rep in range(1000):\n",
    "    queue = 0.0\n",
    "    for i in range(steps):     \n",
    "    \n",
    "        x_t = binomial(n=1, p=q_val)\n",
    "        queue += (x_t - 1) / np.abs(x_t - alpha)\n",
    "    \n",
    "    fw.append(queue)\n",
    "    # print(queue)"
   ],
   "outputs": [],
   "execution_count": 5
  },
  {
   "cell_type": "code",
   "id": "f4c28e0d-59c4-4ede-b29b-4b62542f6c1c",
   "metadata": {
    "ExecuteTime": {
     "end_time": "2025-04-15T14:03:37.718188Z",
     "start_time": "2025-04-15T14:03:37.716412Z"
    }
   },
   "source": [
    "print(sum(fw) / len(fw))\n",
    "print(max(fw))"
   ],
   "outputs": [
    {
     "name": "stdout",
     "output_type": "stream",
     "text": [
      "-7001.636\n",
      "-6774.0\n"
     ]
    }
   ],
   "execution_count": 6
  },
  {
   "cell_type": "code",
   "id": "102debc3-addb-4dbf-b331-e02f31e74219",
   "metadata": {
    "ExecuteTime": {
     "end_time": "2025-04-15T14:03:37.764728Z",
     "start_time": "2025-04-15T14:03:37.763326Z"
    }
   },
   "source": "",
   "outputs": [],
   "execution_count": null
  }
 ],
 "metadata": {
  "kernelspec": {
   "display_name": "Python 3 (ipykernel)",
   "language": "python",
   "name": "python3"
  },
  "language_info": {
   "codemirror_mode": {
    "name": "ipython",
    "version": 3
   },
   "file_extension": ".py",
   "mimetype": "text/x-python",
   "name": "python",
   "nbconvert_exporter": "python",
   "pygments_lexer": "ipython3",
   "version": "3.12.8"
  }
 },
 "nbformat": 4,
 "nbformat_minor": 5
}
