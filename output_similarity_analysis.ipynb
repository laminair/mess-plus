{
 "cells": [
  {
   "cell_type": "code",
   "execution_count": 1,
   "id": "36f32b4e-5b28-4751-9d1f-81f233a15266",
   "metadata": {
    "scrolled": true
   },
   "outputs": [
    {
     "name": "stdout",
     "output_type": "stream",
     "text": [
      "Requirement already satisfied: sentence_transformers in ./venv/lib/python3.12/site-packages (3.3.1)\n",
      "Requirement already satisfied: faiss-cpu in ./venv/lib/python3.12/site-packages (1.9.0.post1)\n",
      "Requirement already satisfied: transformers<5.0.0,>=4.41.0 in ./venv/lib/python3.12/site-packages (from sentence_transformers) (4.48.0.dev0)\n",
      "Requirement already satisfied: tqdm in ./venv/lib/python3.12/site-packages (from sentence_transformers) (4.67.1)\n",
      "Requirement already satisfied: torch>=1.11.0 in ./venv/lib/python3.12/site-packages (from sentence_transformers) (2.5.1)\n",
      "Requirement already satisfied: scikit-learn in ./venv/lib/python3.12/site-packages (from sentence_transformers) (1.6.0)\n",
      "Requirement already satisfied: scipy in ./venv/lib/python3.12/site-packages (from sentence_transformers) (1.14.1)\n",
      "Requirement already satisfied: huggingface-hub>=0.20.0 in ./venv/lib/python3.12/site-packages (from sentence_transformers) (0.27.0)\n",
      "Requirement already satisfied: Pillow in ./venv/lib/python3.12/site-packages (from sentence_transformers) (10.4.0)\n",
      "Requirement already satisfied: numpy<3.0,>=1.25.0 in ./venv/lib/python3.12/site-packages (from faiss-cpu) (1.26.4)\n",
      "Requirement already satisfied: packaging in ./venv/lib/python3.12/site-packages (from faiss-cpu) (24.2)\n",
      "Requirement already satisfied: filelock in ./venv/lib/python3.12/site-packages (from huggingface-hub>=0.20.0->sentence_transformers) (3.16.1)\n",
      "Requirement already satisfied: fsspec>=2023.5.0 in ./venv/lib/python3.12/site-packages (from huggingface-hub>=0.20.0->sentence_transformers) (2024.9.0)\n",
      "Requirement already satisfied: pyyaml>=5.1 in ./venv/lib/python3.12/site-packages (from huggingface-hub>=0.20.0->sentence_transformers) (6.0.2)\n",
      "Requirement already satisfied: requests in ./venv/lib/python3.12/site-packages (from huggingface-hub>=0.20.0->sentence_transformers) (2.32.3)\n",
      "Requirement already satisfied: typing-extensions>=3.7.4.3 in ./venv/lib/python3.12/site-packages (from huggingface-hub>=0.20.0->sentence_transformers) (4.12.2)\n",
      "Requirement already satisfied: networkx in ./venv/lib/python3.12/site-packages (from torch>=1.11.0->sentence_transformers) (3.4.2)\n",
      "Requirement already satisfied: jinja2 in ./venv/lib/python3.12/site-packages (from torch>=1.11.0->sentence_transformers) (3.1.4)\n",
      "Requirement already satisfied: nvidia-cuda-nvrtc-cu12==12.4.127 in ./venv/lib/python3.12/site-packages (from torch>=1.11.0->sentence_transformers) (12.4.127)\n",
      "Requirement already satisfied: nvidia-cuda-runtime-cu12==12.4.127 in ./venv/lib/python3.12/site-packages (from torch>=1.11.0->sentence_transformers) (12.4.127)\n",
      "Requirement already satisfied: nvidia-cuda-cupti-cu12==12.4.127 in ./venv/lib/python3.12/site-packages (from torch>=1.11.0->sentence_transformers) (12.4.127)\n",
      "Requirement already satisfied: nvidia-cudnn-cu12==9.1.0.70 in ./venv/lib/python3.12/site-packages (from torch>=1.11.0->sentence_transformers) (9.1.0.70)\n",
      "Requirement already satisfied: nvidia-cublas-cu12==12.4.5.8 in ./venv/lib/python3.12/site-packages (from torch>=1.11.0->sentence_transformers) (12.4.5.8)\n",
      "Requirement already satisfied: nvidia-cufft-cu12==11.2.1.3 in ./venv/lib/python3.12/site-packages (from torch>=1.11.0->sentence_transformers) (11.2.1.3)\n",
      "Requirement already satisfied: nvidia-curand-cu12==10.3.5.147 in ./venv/lib/python3.12/site-packages (from torch>=1.11.0->sentence_transformers) (10.3.5.147)\n",
      "Requirement already satisfied: nvidia-cusolver-cu12==11.6.1.9 in ./venv/lib/python3.12/site-packages (from torch>=1.11.0->sentence_transformers) (11.6.1.9)\n",
      "Requirement already satisfied: nvidia-cusparse-cu12==12.3.1.170 in ./venv/lib/python3.12/site-packages (from torch>=1.11.0->sentence_transformers) (12.3.1.170)\n",
      "Requirement already satisfied: nvidia-nccl-cu12==2.21.5 in ./venv/lib/python3.12/site-packages (from torch>=1.11.0->sentence_transformers) (2.21.5)\n",
      "Requirement already satisfied: nvidia-nvtx-cu12==12.4.127 in ./venv/lib/python3.12/site-packages (from torch>=1.11.0->sentence_transformers) (12.4.127)\n",
      "Requirement already satisfied: nvidia-nvjitlink-cu12==12.4.127 in ./venv/lib/python3.12/site-packages (from torch>=1.11.0->sentence_transformers) (12.4.127)\n",
      "Requirement already satisfied: triton==3.1.0 in ./venv/lib/python3.12/site-packages (from torch>=1.11.0->sentence_transformers) (3.1.0)\n",
      "Requirement already satisfied: setuptools in ./venv/lib/python3.12/site-packages (from torch>=1.11.0->sentence_transformers) (75.6.0)\n",
      "Requirement already satisfied: sympy==1.13.1 in ./venv/lib/python3.12/site-packages (from torch>=1.11.0->sentence_transformers) (1.13.1)\n",
      "Requirement already satisfied: mpmath<1.4,>=1.1.0 in ./venv/lib/python3.12/site-packages (from sympy==1.13.1->torch>=1.11.0->sentence_transformers) (1.3.0)\n",
      "Requirement already satisfied: regex!=2019.12.17 in ./venv/lib/python3.12/site-packages (from transformers<5.0.0,>=4.41.0->sentence_transformers) (2024.11.6)\n",
      "Requirement already satisfied: tokenizers<0.22,>=0.21 in ./venv/lib/python3.12/site-packages (from transformers<5.0.0,>=4.41.0->sentence_transformers) (0.21.0)\n",
      "Requirement already satisfied: safetensors>=0.4.1 in ./venv/lib/python3.12/site-packages (from transformers<5.0.0,>=4.41.0->sentence_transformers) (0.4.5)\n",
      "Requirement already satisfied: joblib>=1.2.0 in ./venv/lib/python3.12/site-packages (from scikit-learn->sentence_transformers) (1.4.2)\n",
      "Requirement already satisfied: threadpoolctl>=3.1.0 in ./venv/lib/python3.12/site-packages (from scikit-learn->sentence_transformers) (3.5.0)\n",
      "Requirement already satisfied: MarkupSafe>=2.0 in ./venv/lib/python3.12/site-packages (from jinja2->torch>=1.11.0->sentence_transformers) (3.0.2)\n",
      "Requirement already satisfied: charset-normalizer<4,>=2 in ./venv/lib/python3.12/site-packages (from requests->huggingface-hub>=0.20.0->sentence_transformers) (3.4.0)\n",
      "Requirement already satisfied: idna<4,>=2.5 in ./venv/lib/python3.12/site-packages (from requests->huggingface-hub>=0.20.0->sentence_transformers) (3.10)\n",
      "Requirement already satisfied: urllib3<3,>=1.21.1 in ./venv/lib/python3.12/site-packages (from requests->huggingface-hub>=0.20.0->sentence_transformers) (2.2.3)\n",
      "Requirement already satisfied: certifi>=2017.4.17 in ./venv/lib/python3.12/site-packages (from requests->huggingface-hub>=0.20.0->sentence_transformers) (2024.12.14)\n"
     ]
    }
   ],
   "source": [
    "!pip install sentence_transformers faiss-cpu"
   ]
  },
  {
   "cell_type": "code",
   "execution_count": 2,
   "id": "f00d4d84-4638-4160-b979-e4b5a7351160",
   "metadata": {},
   "outputs": [],
   "source": [
    "import math\n",
    "import pandas as pd \n",
    "import torch\n",
    "\n",
    "from sentence_transformers import SentenceTransformer"
   ]
  },
  {
   "cell_type": "code",
   "execution_count": 3,
   "id": "b31368a9-45c3-4b2a-986f-5b5edd8f288b",
   "metadata": {},
   "outputs": [
    {
     "data": {
      "text/plain": [
       "'Found 50000 rows.'"
      ]
     },
     "metadata": {},
     "output_type": "display_data"
    }
   ],
   "source": [
    "df = pd.read_csv(\"data/simulation_data.csv\")\n",
    "\n",
    "display(f\"Found {len(df)} rows.\")"
   ]
  },
  {
   "cell_type": "code",
   "execution_count": 4,
   "id": "4e3c81d7-38fb-4b40-8a04-711d3d34125e",
   "metadata": {},
   "outputs": [],
   "source": [
    "RELEVANT_COLUMNS = [\"input_text\", \"target_txt\", \"output_meta-llama_Llama-3.2-3B-Instruct\", \"output_meta-llama_Llama-3.1-8B-Instruct\", \"output_meta-llama_Llama-3.3-70B-Instruct\"]\n",
    "\n",
    "MINIBATCH_SIZE = 1024\n",
    "NUM_CHUNKS = math.ceil(len(df) / MINIBATCH_SIZE)\n"
   ]
  },
  {
   "cell_type": "code",
   "execution_count": 5,
   "id": "e8223a43-dda9-47ad-b3b4-079e65205e7c",
   "metadata": {
    "scrolled": true
   },
   "outputs": [
    {
     "data": {
      "text/plain": [
       "'Model running on cuda:0.'"
      ]
     },
     "metadata": {},
     "output_type": "display_data"
    },
    {
     "data": {
      "text/plain": [
       "50000"
      ]
     },
     "metadata": {},
     "output_type": "display_data"
    },
    {
     "data": {
      "text/plain": [
       "50000"
      ]
     },
     "metadata": {},
     "output_type": "display_data"
    },
    {
     "data": {
      "text/plain": [
       "50000"
      ]
     },
     "metadata": {},
     "output_type": "display_data"
    },
    {
     "data": {
      "text/plain": [
       "50000"
      ]
     },
     "metadata": {},
     "output_type": "display_data"
    },
    {
     "data": {
      "text/plain": [
       "50000"
      ]
     },
     "metadata": {},
     "output_type": "display_data"
    }
   ],
   "source": [
    "model = SentenceTransformer('sentence-transformers/all-MiniLM-L6-v2', device=\"cuda\" if torch.cuda.is_available() else \"cpu\")\n",
    "display(f\"Model running on {model.device}.\")\n",
    "\n",
    "for col in RELEVANT_COLUMNS:\n",
    "    emb_list = []\n",
    "    for idx, minibatch in enumerate(range(NUM_CHUNKS)):\n",
    "        min_idx = minibatch * MINIBATCH_SIZE\n",
    "        max_idx = (minibatch + 1) * MINIBATCH_SIZE - 1\n",
    "\n",
    "        text_input = df.loc[min_idx: max_idx, col].tolist()\n",
    "        embeddings = model.encode(text_input)\n",
    "        emb_list += [i for i in embeddings]\n",
    "\n",
    "    display(len(emb_list))\n",
    "    df[f\"{col}_embed\"] = pd.Series(emb_list).astype(object)"
   ]
  },
  {
   "cell_type": "code",
   "execution_count": 6,
   "id": "7d78174d-7328-49a4-a0fc-9ee0fb39587f",
   "metadata": {},
   "outputs": [],
   "source": [
    "def compute_distance(row, col_1: str, col_2: str): \n",
    "    distance = torch.sqrt(\n",
    "        torch.sum(\n",
    "            torch.pow(\n",
    "                torch.subtract(torch.tensor(row[f\"{col_1}_embed\"]), torch.tensor(row[f\"{col_2}_embed\"])), \n",
    "                2\n",
    "            ), \n",
    "            dim=0\n",
    "        )\n",
    "    )  \n",
    "    return distance.item()\n",
    "\n",
    "DISTANCE_TUPLES = {\n",
    "    \"3b-8b\": (\"output_meta-llama_Llama-3.2-3B-Instruct\", \"output_meta-llama_Llama-3.1-8B-Instruct\"),\n",
    "    \"3b-70b\": (\"output_meta-llama_Llama-3.2-3B-Instruct\", \"output_meta-llama_Llama-3.3-70B-Instruct\"),\n",
    "    \"8b-70b\": (\"output_meta-llama_Llama-3.1-8B-Instruct\", \"output_meta-llama_Llama-3.3-70B-Instruct\"),\n",
    "    \"3b-target_txt\": (\"output_meta-llama_Llama-3.2-3B-Instruct\", \"target_txt\"),\n",
    "    \"8b-target_txt\": (\"output_meta-llama_Llama-3.1-8B-Instruct\", \"target_txt\"),\n",
    "    \"70b-target_txt\": (\"output_meta-llama_Llama-3.3-70B-Instruct\", \"target_txt\"),\n",
    "}\n",
    "\n",
    "for k, dist_tuple in DISTANCE_TUPLES.items(): \n",
    "    df[f\"dist_{k}\"] = df.apply(lambda row: compute_distance(row, col_1=dist_tuple[0], col_2=dist_tuple[1]), axis=1)"
   ]
  },
  {
   "cell_type": "code",
   "execution_count": 7,
   "id": "34e29934-8157-43cc-ad9c-806d2c487759",
   "metadata": {},
   "outputs": [
    {
     "data": {
      "text/plain": [
       "'Distance statistics between model 3b-8b: 0.0 (Min.) - 1.4643 (Max.) - 0.5181 (Avg.) - 0.2291 (Std.Dev.).'"
      ]
     },
     "metadata": {},
     "output_type": "display_data"
    },
    {
     "data": {
      "text/plain": [
       "'Distance statistics between model 3b-70b: 0.0 (Min.) - 1.4568 (Max.) - 0.5089 (Avg.) - 0.2283 (Std.Dev.).'"
      ]
     },
     "metadata": {},
     "output_type": "display_data"
    },
    {
     "data": {
      "text/plain": [
       "'Distance statistics between model 8b-70b: 0.0 (Min.) - 1.4267 (Max.) - 0.4431 (Avg.) - 0.2207 (Std.Dev.).'"
      ]
     },
     "metadata": {},
     "output_type": "display_data"
    },
    {
     "data": {
      "text/plain": [
       "'Distance statistics between model 3b-target_txt: 0.0 (Min.) - 1.4518 (Max.) - 0.6775 (Avg.) - 0.218 (Std.Dev.).'"
      ]
     },
     "metadata": {},
     "output_type": "display_data"
    },
    {
     "data": {
      "text/plain": [
       "'Distance statistics between model 8b-target_txt: 0.0 (Min.) - 1.431 (Max.) - 0.6452 (Avg.) - 0.2152 (Std.Dev.).'"
      ]
     },
     "metadata": {},
     "output_type": "display_data"
    },
    {
     "data": {
      "text/plain": [
       "'Distance statistics between model 70b-target_txt: 0.0 (Min.) - 1.4268 (Max.) - 0.5856 (Avg.) - 0.221 (Std.Dev.).'"
      ]
     },
     "metadata": {},
     "output_type": "display_data"
    }
   ],
   "source": [
    "for dist in DISTANCE_TUPLES.keys(): \n",
    "    display(f\"Distance statistics between model {dist}: {round(df[f'dist_{dist}'].min(), 4)} (Min.) - {round(df[f'dist_{dist}'].max(), 4)} (Max.) - {round(df[f'dist_{dist}'].mean(), 4)} (Avg.) - {round(df[f'dist_{dist}'].std(), 4)} (Std.Dev.).\")\n"
   ]
  },
  {
   "cell_type": "code",
   "execution_count": 8,
   "id": "68eee7d8-7a99-40a3-8d0f-e51c448fe568",
   "metadata": {},
   "outputs": [],
   "source": [
    "CHUNK_SIZE = 1000\n",
    "NUM_CHUNKS = int(len(df) / CHUNK_SIZE)\n",
    "\n",
    "for idx, chunk in enumerate(range(NUM_CHUNKS)):\n",
    "    min_idx = idx * CHUNK_SIZE\n",
    "    max_idx = (idx + 1) * CHUNK_SIZE - 1\n",
    "\n",
    "    df.loc[min_idx: max_idx].to_parquet(f\"data/sentence_transformer_embeddings/data_chunk_{idx}.parquet\", index=None)\n"
   ]
  },
  {
   "cell_type": "code",
   "execution_count": 9,
   "id": "d4f42861-4b34-40c3-901f-a5867a9acc16",
   "metadata": {},
   "outputs": [],
   "source": [
    "df_test = pd.read_parquet(f\"data/sentence_transformer_embeddings/data_chunk_3.parquet\")"
   ]
  },
  {
   "cell_type": "code",
   "execution_count": 10,
   "id": "0cc6eee5-c6be-405e-b661-1e60fbc3773e",
   "metadata": {},
   "outputs": [
    {
     "data": {
      "text/plain": [
       "array([-1.74004666e-03, -2.23796978e-03,  3.74957547e-02, -1.02234706e-02,\n",
       "        7.76794106e-02,  3.98207754e-02, -1.05262930e-02,  1.29920319e-02,\n",
       "       -1.04747124e-01, -8.24390631e-03,  2.05260087e-02, -8.63364805e-03,\n",
       "       -1.71148051e-02,  2.39389371e-02, -1.03658875e-02, -1.16256149e-02,\n",
       "       -2.88991015e-02, -3.32117788e-02, -1.26792818e-01, -8.64633545e-03,\n",
       "       -1.03339665e-02, -1.83805656e-02,  2.60190237e-02, -4.86015752e-02,\n",
       "       -4.20669280e-02, -3.68275195e-02,  6.24631196e-02, -6.46939799e-02,\n",
       "        2.79593766e-02,  3.66472267e-02, -2.07238570e-02, -1.18935127e-02,\n",
       "       -5.20533957e-02, -5.71092125e-03, -3.65023986e-02,  1.81146730e-02,\n",
       "        5.75629696e-02, -1.20269656e-02, -1.02160620e-02,  1.51121290e-02,\n",
       "        3.35738547e-02, -1.14121931e-02, -2.13363972e-02, -5.16641028e-02,\n",
       "        6.94205612e-02, -1.47264125e-03, -4.67739627e-03, -8.15976858e-02,\n",
       "       -1.00058995e-01, -9.14961025e-02,  9.46687534e-02, -5.55385686e-02,\n",
       "       -2.12671887e-03, -3.81191671e-02,  5.88815659e-03,  3.52950506e-02,\n",
       "       -3.18759903e-02,  4.53956909e-02,  1.76383834e-02, -4.50881384e-02,\n",
       "       -1.07803233e-02,  2.53867451e-02, -6.91686496e-02, -1.13765029e-02,\n",
       "        3.84042825e-04, -2.74039451e-02, -5.16683906e-02,  1.04655728e-01,\n",
       "       -1.06115252e-01,  1.06663695e-02, -7.91155696e-02, -7.35144839e-02,\n",
       "       -2.33102422e-02, -5.60183935e-02,  1.20843552e-01,  2.29145829e-02,\n",
       "       -2.16757264e-02,  7.04209730e-02,  1.87568795e-02,  7.65177375e-03,\n",
       "        2.00486537e-02,  1.58365688e-03, -3.30080874e-02, -5.63251898e-02,\n",
       "       -3.20971832e-02, -6.73582498e-03,  2.85627553e-04, -2.45987065e-02,\n",
       "        4.83619161e-02,  4.86505702e-02, -9.33852699e-03, -3.28258798e-02,\n",
       "        3.65436375e-02,  4.81388383e-02,  5.09600267e-02, -2.17058938e-02,\n",
       "       -6.82873093e-03, -1.07252523e-01,  2.89768446e-02,  5.73140010e-02,\n",
       "       -2.39613447e-02, -3.09613831e-02,  1.12724546e-02, -3.75994109e-02,\n",
       "       -5.61838783e-02, -7.82771334e-02,  2.30840594e-03,  2.97173858e-02,\n",
       "        5.77713512e-02, -3.10239885e-02, -4.21763547e-02, -7.76044577e-02,\n",
       "        6.04048967e-02, -6.81827366e-02,  7.80344289e-03, -1.94619652e-02,\n",
       "        1.86271258e-02, -4.74092439e-02,  1.31537184e-01, -2.06999667e-02,\n",
       "        6.25198781e-02,  1.28268683e-02,  1.17659364e-02, -2.35754228e-03,\n",
       "        4.48913239e-02,  2.61459257e-02, -4.35082838e-02, -3.50083670e-33,\n",
       "       -3.73167992e-02, -7.07843676e-02, -7.60747632e-03,  4.95509617e-02,\n",
       "       -3.88729684e-02,  3.12707089e-02, -7.92106017e-02,  2.76130512e-02,\n",
       "       -2.38220505e-02, -1.00676734e-02, -3.86537472e-03,  1.77636847e-01,\n",
       "        9.63004399e-03,  3.46767716e-02, -1.88475512e-02, -3.25528602e-03,\n",
       "        1.38326408e-02,  1.84747621e-01, -3.46272476e-02,  5.50106429e-02,\n",
       "        5.75643443e-02, -2.57763918e-02,  5.44616021e-02, -8.99008010e-03,\n",
       "        4.73319404e-02, -2.91498215e-03, -8.52749720e-02, -1.55237745e-02,\n",
       "        1.18175387e-01, -1.39481612e-02,  1.63955428e-02,  4.29884270e-02,\n",
       "       -4.36085276e-02, -1.38646364e-01, -1.35726365e-03,  1.38318747e-01,\n",
       "       -2.01790128e-02, -1.45729538e-03, -1.07094962e-02, -6.20028526e-02,\n",
       "       -3.20118479e-02, -1.27852429e-02,  5.93863167e-02, -3.13625634e-02,\n",
       "        9.31333452e-02,  4.77893203e-02,  5.31234220e-02, -8.63240436e-02,\n",
       "       -1.15640799e-03, -5.78851160e-03, -2.71653347e-02, -4.11086679e-02,\n",
       "       -2.74889022e-02, -7.93570951e-02,  2.33068168e-02,  1.65514015e-02,\n",
       "       -2.65438594e-02,  1.11035936e-01, -5.67432819e-03, -7.28483647e-02,\n",
       "        3.04579902e-02, -7.77178109e-02, -6.83957636e-02,  9.05653741e-03,\n",
       "       -3.61615559e-03,  1.06566094e-01, -2.34019831e-02, -6.81311358e-03,\n",
       "        2.34654266e-02, -2.56830472e-02, -6.86287582e-02,  1.16662225e-02,\n",
       "       -3.59584345e-03,  2.93929758e-03, -7.30664060e-02, -1.36863533e-03,\n",
       "       -2.09087059e-02,  7.56437853e-02,  5.28419614e-02, -1.57437734e-02,\n",
       "       -1.00488789e-01,  8.91760271e-03, -2.75722928e-02, -6.98320791e-02,\n",
       "        7.12517947e-02,  3.24573740e-02,  1.72180645e-02,  2.40907688e-02,\n",
       "        1.48481205e-01, -4.49747071e-02, -2.96066478e-02, -3.17254923e-02,\n",
       "       -6.82011992e-02,  8.32091738e-03,  2.01146733e-02, -4.78284315e-34,\n",
       "        1.01075575e-01,  4.65669595e-02, -3.83585170e-02,  8.50344542e-03,\n",
       "        6.73789084e-02,  1.02665596e-01, -1.33111922e-03, -3.85425948e-02,\n",
       "        1.55636176e-01,  6.18303777e-04,  5.65569662e-03, -5.53394705e-02,\n",
       "        1.26875281e-01,  1.84395406e-02, -6.63716123e-02, -7.46376514e-02,\n",
       "       -3.62562947e-02,  4.72165160e-02,  5.42810932e-02,  5.95605038e-02,\n",
       "        5.01788743e-02, -6.35274127e-02,  2.43370384e-02,  2.62191817e-02,\n",
       "        5.16618118e-02,  1.55948419e-02, -5.07874750e-02,  2.98129059e-02,\n",
       "       -3.08217201e-02, -9.51122493e-02, -2.41273940e-02, -3.83801088e-02,\n",
       "       -8.72126445e-02, -2.56587844e-02, -2.92445682e-02, -3.05082519e-02,\n",
       "       -7.69018754e-03,  1.88918635e-02, -4.58988585e-02, -2.60811131e-02,\n",
       "       -2.02521831e-02, -5.53626604e-02, -1.05424151e-01,  4.79754806e-02,\n",
       "       -2.43936591e-02,  3.58535387e-02,  3.16647650e-03, -4.45179678e-02,\n",
       "        4.43484038e-02, -1.04631238e-01,  5.66163938e-03,  1.92643590e-02,\n",
       "        6.01851232e-02,  3.61284963e-03,  2.36509778e-02, -1.74984280e-02,\n",
       "        5.17250560e-02, -4.40596379e-02, -6.69997511e-03, -9.24821291e-03,\n",
       "        1.93505418e-02,  2.14257631e-02, -2.53727585e-02,  5.92711233e-02,\n",
       "       -1.90092847e-02, -4.91772741e-02, -7.00221630e-03, -5.26900105e-02,\n",
       "       -3.44918407e-02,  1.14135807e-02, -5.24656707e-03, -4.86257225e-02,\n",
       "       -2.86276173e-02, -4.02776636e-02, -2.03583706e-02,  4.87956591e-03,\n",
       "        9.53272581e-02, -5.55094145e-02, -1.77727677e-02,  7.29319006e-02,\n",
       "        6.05345238e-04, -6.22631237e-02,  1.04002077e-02, -2.28354689e-02,\n",
       "        5.38876802e-02,  3.29130180e-02,  3.60071175e-02,  1.51067059e-02,\n",
       "        3.79641540e-02,  1.90713126e-02, -9.53511968e-02, -6.86275363e-02,\n",
       "       -5.23225591e-03,  3.71564589e-02,  1.72853190e-02, -3.04685415e-08,\n",
       "        7.05085415e-03,  2.95668766e-02, -8.29330534e-02,  3.60006727e-02,\n",
       "       -5.10471053e-02, -3.81366163e-02, -9.90206823e-02, -5.72427958e-02,\n",
       "       -3.43221910e-02,  7.34084249e-02, -3.33575718e-02,  8.27584043e-03,\n",
       "        2.77737174e-02,  2.44293474e-02,  8.63929689e-02,  3.68208066e-02,\n",
       "       -2.63213124e-02, -6.05012896e-03,  5.78598352e-04,  1.01640522e-01,\n",
       "       -6.98386459e-03,  5.41656613e-02,  9.78210196e-03, -1.38228670e-01,\n",
       "        3.22091840e-02,  6.17774650e-02,  9.40568745e-03,  3.73346619e-02,\n",
       "       -5.56124449e-02, -6.81616217e-02,  5.02979308e-02, -2.39585270e-03,\n",
       "        2.29444597e-02, -2.59975027e-02, -1.40016787e-02,  1.89767256e-02,\n",
       "        3.50270830e-02,  4.78619412e-02,  1.30982837e-04,  1.48035334e-02,\n",
       "        3.88388261e-02, -4.99180295e-02,  5.62273115e-02, -2.54240632e-02,\n",
       "        4.37287427e-03,  6.80682436e-02, -2.57609468e-02,  6.51526004e-02,\n",
       "       -9.49527510e-03, -4.01887484e-02,  1.03108082e-02,  1.98963303e-02,\n",
       "        3.63216922e-02, -6.08496815e-02,  8.38410631e-02, -2.25896034e-02,\n",
       "        2.79912278e-02,  2.15866733e-02, -8.09498280e-02,  8.74733180e-02,\n",
       "        5.72206862e-02, -4.26520668e-02,  1.04271183e-02,  6.55424129e-03],\n",
       "      dtype=float32)"
      ]
     },
     "metadata": {},
     "output_type": "display_data"
    }
   ],
   "source": [
    "display(df_test.loc[3000, \"target_txt_embed\"])"
   ]
  },
  {
   "cell_type": "code",
   "execution_count": null,
   "id": "043504a0-a290-4425-8fc0-585556538e22",
   "metadata": {},
   "outputs": [],
   "source": []
  }
 ],
 "metadata": {
  "kernelspec": {
   "display_name": "Python 3 (ipykernel)",
   "language": "python",
   "name": "python3"
  },
  "language_info": {
   "codemirror_mode": {
    "name": "ipython",
    "version": 3
   },
   "file_extension": ".py",
   "mimetype": "text/x-python",
   "name": "python",
   "nbconvert_exporter": "python",
   "pygments_lexer": "ipython3",
   "version": "3.12.8"
  }
 },
 "nbformat": 4,
 "nbformat_minor": 5
}
