{
 "cells": [
  {
   "cell_type": "code",
   "id": "initial_id",
   "metadata": {
    "collapsed": true
   },
   "source": [
    "import pandas as pd\n",
    "import numpy as np\n",
    "\n",
    "from classifier.file_reader import read_files_from_folder\n",
    "\n",
    "from pathlib import Path\n",
    "\n",
    "PROJECT_ROOT_PATH = Path(\"dataset_merger.ipynb\").parent\n",
    "BASE_DATASET_PATH = Path(f\"{PROJECT_ROOT_PATH}/data\").absolute()\n",
    "\n",
    "BENCHMARKS = [\n",
    "\t\"arc_challenge\",\n",
    "\t\"arc_easy\",\n",
    "\t\"boolq\",\n",
    "\t\"logiqa\",\n",
    "\t\"piqa\",\n",
    "\t\"sciq\",\n",
    "\t\"social_iqa\",\n",
    "\t\"winogrande\"\n",
    "]\n",
    "\n",
    "LLAMA3_COLS = [\"_small\", \"_medium\"]\n",
    "QWEN2_COLS = [\"_xsmall\", \"_large\"]\n",
    "\n",
    "OUTPUT_FOLDER = Path(f\"{BASE_DATASET_PATH}/llama3_qwen2_mix/inference_outputs\")\n"
   ],
   "outputs": [],
   "execution_count": null
  },
  {
   "metadata": {},
   "cell_type": "code",
   "source": [
    "for benchmark in BENCHMARKS:\n",
    "    llama3_set = read_files_from_folder(f\"{PROJECT_ROOT_PATH}/data/llama3/inference_outputs/{benchmark}\")\n",
    "    qwen2_set = read_files_from_folder(f\"{PROJECT_ROOT_PATH}/data/qwen2/inference_outputs/{benchmark}\")\n",
    "\n",
    "    LLAMA3_COLS = [\"_small\", \"_medium\"]\n",
    "    QWEN2_COLS = [\"_xsmall\", \"_large\"]\n",
    "    base_cols = [\"input_text\", \"benchmark_name\"]\n",
    "\n",
    "    # Get relevant llama columns\n",
    "    llama3_set_cols = llama3_set.columns.to_list()\n",
    "    relevant_llama_cols = base_cols.copy()\n",
    "    for llama_col_name in llama3_set_cols:\n",
    "       for model_size in LLAMA3_COLS:\n",
    "          if model_size in llama_col_name:\n",
    "             relevant_llama_cols.append(llama_col_name)\n",
    "\n",
    "    # Get relevant qwen columns\n",
    "    qwen2_set_cols = qwen2_set.columns.to_list()\n",
    "    relevant_qwen_cols = []\n",
    "    for qwen_col_name in qwen2_set_cols:\n",
    "       for model_size in QWEN2_COLS:\n",
    "          if model_size in qwen_col_name:\n",
    "             relevant_qwen_cols.append(qwen_col_name)\n",
    "\n",
    "    display(llama3_set_cols)\n",
    "    display(qwen2_set_cols)\n",
    "\n",
    "    print(f\"Relevant llama cols: {relevant_llama_cols}\")\n",
    "    print(f\"Relevant qwen cols: {relevant_qwen_cols}\")\n",
    "\n",
    "    subset_llama = llama3_set[relevant_llama_cols]\n",
    "    subset_qwen = qwen2_set[relevant_qwen_cols]\n",
    "\n",
    "    subset_llama.sort_index(inplace=True)\n",
    "    subset_qwen.sort_index(inplace=True)\n",
    "\n",
    "    cs_set = subset_llama.join(subset_qwen, how='inner')\n",
    "\n",
    "    save_path = Path(f\"{OUTPUT_FOLDER}/{benchmark}\")\n",
    "    save_path.mkdir(parents=True, exist_ok=True)\n",
    "    cs_set.sort_index(inplace=True)\n",
    "    cs_set.to_csv(f\"{OUTPUT_FOLDER}/{benchmark}/all_data.csv\")"
   ],
   "id": "f073163d18dc7d95",
   "outputs": [],
   "execution_count": null
  },
  {
   "metadata": {},
   "cell_type": "markdown",
   "source": "",
   "id": "2bd172d4c93faa3e"
  }
 ],
 "metadata": {
  "kernelspec": {
   "display_name": "Python 3",
   "language": "python",
   "name": "python3"
  },
  "language_info": {
   "codemirror_mode": {
    "name": "ipython",
    "version": 2
   },
   "file_extension": ".py",
   "mimetype": "text/x-python",
   "name": "python",
   "nbconvert_exporter": "python",
   "pygments_lexer": "ipython2",
   "version": "2.7.6"
  }
 },
 "nbformat": 4,
 "nbformat_minor": 5
}
