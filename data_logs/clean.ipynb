{
 "cells": [
  {
   "cell_type": "code",
   "execution_count": 1,
   "id": "baa5dca8-24ab-4e49-8e03-90ec449dec7a",
   "metadata": {},
   "outputs": [],
   "source": [
    "import pickle\n",
    "import pandas as pd\n",
    "import csv\n",
    "from datasets import load_dataset"
   ]
  },
  {
   "cell_type": "code",
   "execution_count": 2,
   "id": "e5d521fa-428b-406d-a94f-388c30c41901",
   "metadata": {},
   "outputs": [],
   "source": [
    "file_paths = [\n",
    "    \"input_output_pairs/input_output_pairs_1b\",\n",
    "    \"input_output_pairs/input_output_pairs_3b\",\n",
    "    \"input_output_pairs/input_output_pairs_8b\"\n",
    "]"
   ]
  },
  {
   "cell_type": "code",
   "execution_count": 3,
   "id": "830cc875-1340-4ef0-80e4-bbb8dd22931e",
   "metadata": {},
   "outputs": [],
   "source": [
    "with open(file_paths[0], 'rb') as f:\n",
    "    outputs_1b = pickle.load(f)\n",
    "\n",
    "with open(file_paths[1], 'rb') as f:\n",
    "    outputs_3b = pickle.load(f)\n",
    "\n",
    "with open(file_paths[2], 'rb') as f:\n",
    "    outputs_8b = pickle.load(f)"
   ]
  },
  {
   "cell_type": "code",
   "execution_count": 4,
   "id": "05153ecf-53f7-4fb6-9258-b135ffae3ec7",
   "metadata": {},
   "outputs": [
    {
     "name": "stdout",
     "output_type": "stream",
     "text": [
      "Length of outputs_1b['wmt14']: 5000\n",
      "Length of outputs_3b['wmt14']: 5000\n",
      "Length of outputs_8b['wmt14]: 5000\n"
     ]
    }
   ],
   "source": [
    "print(f\"Length of outputs_1b['wmt14']: {len(outputs_1b['wmt14'])}\")\n",
    "print(f\"Length of outputs_3b['wmt14']: {len(outputs_3b['wmt14'])}\")\n",
    "print(f\"Length of outputs_8b['wmt14]: {len(outputs_8b['wmt14'])}\")"
   ]
  },
  {
   "cell_type": "code",
   "execution_count": 5,
   "id": "68f02749-fd93-4c98-95bf-58952a1d20a8",
   "metadata": {},
   "outputs": [
    {
     "name": "stdout",
     "output_type": "stream",
     "text": [
      "Number of identical input_text entries across all three: 5000\n"
     ]
    }
   ],
   "source": [
    "input_texts_1b = [entry['input_text'] for entry in outputs_1b['wmt14']]\n",
    "input_texts_3b = [entry['input_text'] for entry in outputs_3b['wmt14']]\n",
    "input_texts_8b = [entry['input_text'] for entry in outputs_8b['wmt14']]\n",
    "\n",
    "identical_input_text_count = sum(\n",
    "    input_text_1b == input_text_3b == input_text_8b\n",
    "    for input_text_1b, input_text_3b, input_text_8b in zip(input_texts_1b, input_texts_3b, input_texts_8b)\n",
    ")\n",
    "\n",
    "print(f\"Number of identical input_text entries across all three: {identical_input_text_count}\")"
   ]
  },
  {
   "cell_type": "code",
   "execution_count": 9,
   "id": "4dde66f8-d7a3-45fa-8ec2-d3aa70dd396d",
   "metadata": {},
   "outputs": [
    {
     "name": "stdout",
     "output_type": "stream",
     "text": [
      "Length of outputs_1b['cnn_dailymail']: 5000\n",
      "Length of outputs_3b['cnn_dailymail']: 5000\n",
      "Length of outputs_8b['cnn_dailymail']: 5000\n"
     ]
    }
   ],
   "source": [
    "print(f\"Length of outputs_1b['cnn_dailymail']: {len(outputs_1b['cnn_dailymail'])}\")\n",
    "print(f\"Length of outputs_3b['cnn_dailymail']: {len(outputs_3b['cnn_dailymail'])}\")\n",
    "print(f\"Length of outputs_8b['cnn_dailymail']: {len(outputs_8b['cnn_dailymail'])}\")"
   ]
  },
  {
   "cell_type": "code",
   "execution_count": 7,
   "id": "50e83b1a-02a1-4489-a6e8-f3f1315346d9",
   "metadata": {},
   "outputs": [
    {
     "name": "stdout",
     "output_type": "stream",
     "text": [
      "Number of identical input_text entries in cnn_dailymail across all three: 5000\n"
     ]
    }
   ],
   "source": [
    "input_texts_1b_cnn = [entry['input_text'] for entry in outputs_1b['cnn_dailymail'][:5000]]\n",
    "input_texts_3b_cnn = [entry['input_text'] for entry in outputs_3b['cnn_dailymail'][:5000]]\n",
    "input_texts_8b_cnn = [entry['input_text'] for entry in outputs_8b['cnn_dailymail'][:5000]]\n",
    "\n",
    "identical_input_text_count_cnn = sum(\n",
    "    input_text_1b == input_text_3b == input_text_8b\n",
    "    for input_text_1b, input_text_3b, input_text_8b in zip(input_texts_1b_cnn, input_texts_3b_cnn, input_texts_8b_cnn)\n",
    ")\n",
    "\n",
    "print(f\"Number of identical input_text entries in cnn_dailymail across all three: {identical_input_text_count_cnn}\")"
   ]
  },
  {
   "cell_type": "code",
   "execution_count": 8,
   "id": "f3bd19a9-b9e6-4b0f-b414-770697e25db6",
   "metadata": {},
   "outputs": [
    {
     "name": "stdout",
     "output_type": "stream",
     "text": [
      "Truncated datasets saved successfully.\n"
     ]
    }
   ],
   "source": [
    "outputs_1b['cnn_dailymail'] = outputs_1b['cnn_dailymail'][:5000]\n",
    "outputs_3b['cnn_dailymail'] = outputs_3b['cnn_dailymail'][:5000]\n",
    "outputs_8b['cnn_dailymail'] = outputs_8b['cnn_dailymail'][:5000]\n",
    "\n",
    "with open(file_paths[0], 'wb') as f:\n",
    "    pickle.dump(outputs_1b, f)\n",
    "\n",
    "with open(file_paths[1], 'wb') as f:\n",
    "    pickle.dump(outputs_3b, f)\n",
    "\n",
    "with open(file_paths[2], 'wb') as f:\n",
    "    pickle.dump(outputs_8b, f)\n",
    "\n",
    "print(\"Truncated datasets saved successfully.\")"
   ]
  },
  {
   "cell_type": "code",
   "execution_count": 12,
   "id": "0deb67e4-6638-476c-834e-bd93f00fbcdd",
   "metadata": {
    "scrolled": true
   },
   "outputs": [
    {
     "data": {
      "text/plain": [
       "{'input_text': '(Mental Floss) -- Have you ever wondered about the origins and namesakes of our favorite spreads, sauces, and dressings? Here are a few stories that you can use to regale your friends the next time you chow down. Peppers were imported from the Mexican state of Tabasco to make spicy Tabasco sauce, giving the condiment its name. 1. Thousand Island Dressing . Is the delicious dressing that gives a Reuben its tanginess named after an actual chain of islands? You bet it is. The Thousand Islands are an archipelago that sits in the Saint Lawrence River on the U.S.-Canada border, and there are actually 1,793 of them, some of which are so small that they contain nothing more than a single home. So why is the dressing named after an archipelago? No one\\'s quite sure. Some people claim that early film star and vaudevillian May Irwin, who summered on the Thousand Islands, named it, while others contend that George Boldt, the famed proprietor of the Waldorf-Astoria, gave the dressing its name because of his own summer place in the region. No matter who named it, it\\'s tough to beat on a sandwich. 2. Ranch Dressing . Yep, the beloved dressing and dipping sauce actually got its start on a real ranch. When Steve and Gayle Henson opened a dude ranch in California in 1954, they had an ace up their sleeves: a delicious dressing that Steve had concocted while the couple was living in Alaska. The couple did a nice business at their Hidden Valley Ranch, but guests were always flipping out over just how tasty Steve\\'s dressing was. Eventually, the Hensons started bottling the stuff, and the popularity grew so quickly that they had to hire a twelve-man crew just to help mix up each batch. Steve\\'s culinary creativity turned out to be lucrative; in 1972 Clorox forked over $8 million for the recipe. Mental Floss: Foods named after people . 3. A1 Steak Sauce . According to the brand\\'s Web site, A1 has been around for quite a while. Henderson William Brand worked as the personal chef for King George IV from 1824 to 1831, and at some point during this employment mixed up a new sauce for the king to use on his beef. George IV allegedly took one bite of Brand\\'s creation and declared that it was \"A1.\" Brand then left the king\\'s employ in order to go peddle his new sauce. 4. Tabasco Sauce . Tabasco sauce is perhaps the most famous of all hot sauces, but where did it get its name? When Edmund McIlhenny, a former banker, invented the sauce in Louisiana in 1868, he didn\\'t have a huge supply of chili peppers at his disposal. To keep cooking, he imported peppers from the Mexican state of Tabasco and slapped the region\\'s name on his bottles. Mental Floss: The origins of salt, pepper and other popular spices . 5. Heinz 57 . Legend has it that Heinz 57 takes its name from H.J. Heinz\\'s company formerly marketing 57 products at once, and except for the number, the story holds up. Heinz\\'s Web site tells a story that Henry John Heinz was riding a train when he saw a billboard advertising 21 varieties of shoes. He so liked the idea he wanted to try it with his own condiment company. Thus, he started touting Heinz\\'s 57 varieties. There was only one catch: Heinz marketed well over 60 products at the time. So where did the 57 come from? Heinz thought the number was lucky. Five was Heinz\\'s lucky number, and seven was his wife\\'s. He mashed the charmed digits together, got 57, and never looked back. 6. Tartar Sauce . Fish\\'s best friend is named after an alternate spelling of the word \"Tatar,\" which was how Western Europeans once referred to almost anyone of Mongolian or Turkic descent. Many of these Tatars/Tartars ran roughshod over Europe in the time of Genghis Khan, but they knew how to cook. One of the dishes they left behind, beef tartare, came back into fashion in 19th-century France. These helpings of steak tartare came with a number of garnishes, including the creamy white stuff that eventually became generically known as tartar sauce. Mental Floss: The history of utensils (spork included) 7. Hollandaise Sauce . Hollandaise, the lemon-butter-and-egg yumminess that Eggs Benedict can\\'t live without, isn\\'t actually Dutch. Instead, it\\'s one of the most well known French sauces. The sauce first appeared in French cooking in the 17th century, and is apparently named both because it somewhat resembles an old Dutch sauce and because the Dutch had such thriving butter and egg industries that provided two of the sauce\\'s main ingredients. For more mental_floss articles, visit mentalfloss.com . Entire contents of this article copyright, Mental Floss LLC. All rights reserved.',\n",
       " '1b': None,\n",
       " '3b': None,\n",
       " '8b': 'The article discusses the origins and namesakes of various popular condiments and sauces, including Thousand Island Dressing, Ranch Dressing, A1 Steak Sauce, Tabasco Sauce, Heinz 57, and Tartar Sauce.'}"
      ]
     },
     "execution_count": 12,
     "metadata": {},
     "output_type": "execute_result"
    }
   ],
   "source": [
    "outputs_8b['cnn_dailymail'][4999]"
   ]
  },
  {
   "cell_type": "code",
   "execution_count": 13,
   "id": "f4a9a25e-83ca-4db2-99d2-604ba99f1926",
   "metadata": {},
   "outputs": [
    {
     "name": "stdout",
     "output_type": "stream",
     "text": [
      "wmt14:\n",
      "  Length of outputs_1b: 5000\n",
      "  Length of outputs_3b: 5000\n",
      "  Length of outputs_8b: 5000\n",
      "cnn_dailymail:\n",
      "  Length of outputs_1b: 5000\n",
      "  Length of outputs_3b: 5000\n",
      "  Length of outputs_8b: 5000\n",
      "gsm8k:\n",
      "  Length of outputs_1b: 25000\n",
      "  Length of outputs_3b: 5000\n",
      "  Length of outputs_8b: 0\n"
     ]
    }
   ],
   "source": [
    "for dataset_key in outputs_1b.keys():\n",
    "    print(f\"{dataset_key}:\")\n",
    "    print(f\"  Length of outputs_1b: {len(outputs_1b[dataset_key])}\")\n",
    "    print(f\"  Length of outputs_3b: {len(outputs_3b[dataset_key])}\")\n",
    "    print(f\"  Length of outputs_8b: {len(outputs_8b[dataset_key])}\")"
   ]
  },
  {
   "cell_type": "code",
   "execution_count": 14,
   "id": "70d58f6a-177c-4514-af36-110a9f23d4de",
   "metadata": {},
   "outputs": [],
   "source": [
    "combined_outputs = {}\n",
    "\n",
    "for dataset_key in outputs_1b.keys():\n",
    "    if dataset_key == \"gsm8k\":\n",
    "        break\n",
    "    combined_outputs[dataset_key] = []\n",
    "\n",
    "    for i in range(len(outputs_1b[dataset_key])):\n",
    "        combined_entry = {\n",
    "            \"input_text\": outputs_1b[dataset_key][i][\"input_text\"],  \n",
    "            \"1b\": outputs_1b[dataset_key][i].get(\"1b\"),     \n",
    "            \"3b\": outputs_3b[dataset_key][i].get(\"3b\"),\n",
    "            \"8b\": outputs_8b[dataset_key][i].get(\"8b\")         \n",
    "        }\n",
    "        combined_outputs[dataset_key].append(combined_entry)\n",
    "\n",
    "with open(\"input_output_pairs.pkl\", 'wb') as f:\n",
    "    pickle.dump(combined_outputs, f)"
   ]
  },
  {
   "cell_type": "code",
   "execution_count": 15,
   "id": "755d5442-f786-4bfc-80dd-e36c140dfae3",
   "metadata": {},
   "outputs": [
    {
     "name": "stdout",
     "output_type": "stream",
     "text": [
      "Updated combined_outputs saved with labels.\n"
     ]
    }
   ],
   "source": [
    "from datasets import load_dataset\n",
    "import pickle\n",
    "\n",
    "wmt14_dataset = load_dataset('wmt14', 'de-en', split='train')\n",
    "cnndailymail_dataset = load_dataset('abisee/cnn_dailymail', '2.0.0', split='train')\n",
    "\n",
    "def match_labels(combined_outputs, wmt14_dataset, cnndailymail_dataset):\n",
    "    # Match wmt14 dataset\n",
    "    if 'wmt14' in combined_outputs:\n",
    "        for i, entry in enumerate(combined_outputs['wmt14']):\n",
    "            if i < len(wmt14_dataset):\n",
    "                entry['label'] = wmt14_dataset[i]['translation']['en'] \n",
    "\n",
    "    if 'cnn_dailymail' in combined_outputs:\n",
    "        for i, entry in enumerate(combined_outputs['cnn_dailymail']):\n",
    "            if i < len(cnndailymail_dataset):\n",
    "                entry['label'] = cnndailymail_dataset[i]['highlights']  \n",
    "\n",
    "    return combined_outputs\n",
    "\n",
    "with open(\"input_output_pairs.pkl\", 'rb') as f:\n",
    "    combined_outputs = pickle.load(f)\n",
    "\n",
    "combined_outputs = match_labels(combined_outputs, wmt14_dataset, cnndailymail_dataset)\n",
    "\n",
    "with open(\"input_output_pairs.pkl\", 'wb') as f:\n",
    "    pickle.dump(combined_outputs, f)\n",
    "\n",
    "print(\"Updated combined_outputs saved with labels.\")"
   ]
  },
  {
   "cell_type": "code",
   "execution_count": 17,
   "id": "df2f1d1a-0649-4927-9e2f-af8a90383138",
   "metadata": {},
   "outputs": [
    {
     "data": {
      "text/html": [
       "<div>\n",
       "<style scoped>\n",
       "    .dataframe tbody tr th:only-of-type {\n",
       "        vertical-align: middle;\n",
       "    }\n",
       "\n",
       "    .dataframe tbody tr th {\n",
       "        vertical-align: top;\n",
       "    }\n",
       "\n",
       "    .dataframe thead th {\n",
       "        text-align: right;\n",
       "    }\n",
       "</style>\n",
       "<table border=\"1\" class=\"dataframe\">\n",
       "  <thead>\n",
       "    <tr style=\"text-align: right;\">\n",
       "      <th></th>\n",
       "      <th>wmt14</th>\n",
       "      <th>cnn_dailymail</th>\n",
       "    </tr>\n",
       "  </thead>\n",
       "  <tbody>\n",
       "    <tr>\n",
       "      <th>0</th>\n",
       "      <td>{'input_text': 'Wiederaufnahme der Sitzungsper...</td>\n",
       "      <td>{'input_text': 'LONDON, England (Reuters) -- H...</td>\n",
       "    </tr>\n",
       "    <tr>\n",
       "      <th>1</th>\n",
       "      <td>{'input_text': 'Ich erkläre die am Freitag, de...</td>\n",
       "      <td>{'input_text': 'Editor's note: In our Behind t...</td>\n",
       "    </tr>\n",
       "    <tr>\n",
       "      <th>2</th>\n",
       "      <td>{'input_text': 'Wie Sie feststellen konnten, i...</td>\n",
       "      <td>{'input_text': 'MINNEAPOLIS, Minnesota (CNN) -...</td>\n",
       "    </tr>\n",
       "    <tr>\n",
       "      <th>3</th>\n",
       "      <td>{'input_text': 'Im Parlament besteht der Wunsc...</td>\n",
       "      <td>{'input_text': 'WASHINGTON (CNN) -- Doctors re...</td>\n",
       "    </tr>\n",
       "    <tr>\n",
       "      <th>4</th>\n",
       "      <td>{'input_text': 'Heute möchte ich Sie bitten - ...</td>\n",
       "      <td>{'input_text': '(CNN)  -- The National Footbal...</td>\n",
       "    </tr>\n",
       "  </tbody>\n",
       "</table>\n",
       "</div>"
      ],
      "text/plain": [
       "                                               wmt14  \\\n",
       "0  {'input_text': 'Wiederaufnahme der Sitzungsper...   \n",
       "1  {'input_text': 'Ich erkläre die am Freitag, de...   \n",
       "2  {'input_text': 'Wie Sie feststellen konnten, i...   \n",
       "3  {'input_text': 'Im Parlament besteht der Wunsc...   \n",
       "4  {'input_text': 'Heute möchte ich Sie bitten - ...   \n",
       "\n",
       "                                       cnn_dailymail  \n",
       "0  {'input_text': 'LONDON, England (Reuters) -- H...  \n",
       "1  {'input_text': 'Editor's note: In our Behind t...  \n",
       "2  {'input_text': 'MINNEAPOLIS, Minnesota (CNN) -...  \n",
       "3  {'input_text': 'WASHINGTON (CNN) -- Doctors re...  \n",
       "4  {'input_text': '(CNN)  -- The National Footbal...  "
      ]
     },
     "execution_count": 17,
     "metadata": {},
     "output_type": "execute_result"
    }
   ],
   "source": [
    "import pickle\n",
    "import pandas as pd\n",
    "\n",
    "with open('input_output_pairs.pkl', 'rb') as file:\n",
    "    combined_outputs = pickle.load(file)\n",
    "\n",
    "df_combined_outputs = pd.DataFrame(combined_outputs)\n",
    "df_combined_outputs.head()"
   ]
  },
  {
   "cell_type": "code",
   "execution_count": 21,
   "id": "2167daf7-6cb1-4001-8e40-94bce49aabf1",
   "metadata": {},
   "outputs": [],
   "source": [
    "with open('input_output_pairs.pkl', 'rb') as file:\n",
    "    combined_outputs = pickle.load(file)\n",
    "\n",
    "df_wmt14 = pd.DataFrame(combined_outputs['wmt14']) if 'wmt14' in combined_outputs else pd.DataFrame()\n",
    "df_cnn_dailymail = pd.DataFrame(combined_outputs['cnn_dailymail']) if 'cnn_dailymail' in combined_outputs else pd.DataFrame()\n",
    "\n",
    "df_wmt14.to_csv('wmt14_outputs.csv', index=False)\n",
    "df_cnn_dailymail.to_csv('cnn_dailymail_outputs.csv', index=False)"
   ]
  },
  {
   "cell_type": "code",
   "execution_count": 22,
   "id": "27355173-44ac-4dce-84e0-75bedb486d54",
   "metadata": {},
   "outputs": [
    {
     "data": {
      "text/html": [
       "<div>\n",
       "<style scoped>\n",
       "    .dataframe tbody tr th:only-of-type {\n",
       "        vertical-align: middle;\n",
       "    }\n",
       "\n",
       "    .dataframe tbody tr th {\n",
       "        vertical-align: top;\n",
       "    }\n",
       "\n",
       "    .dataframe thead th {\n",
       "        text-align: right;\n",
       "    }\n",
       "</style>\n",
       "<table border=\"1\" class=\"dataframe\">\n",
       "  <thead>\n",
       "    <tr style=\"text-align: right;\">\n",
       "      <th></th>\n",
       "      <th>input_text</th>\n",
       "      <th>1b</th>\n",
       "      <th>3b</th>\n",
       "      <th>8b</th>\n",
       "      <th>label</th>\n",
       "    </tr>\n",
       "  </thead>\n",
       "  <tbody>\n",
       "    <tr>\n",
       "      <th>0</th>\n",
       "      <td>Wiederaufnahme der Sitzungsperiode</td>\n",
       "      <td>Wiederaufnahme der Sitzungsperiode\\n\\nThe Pres...</td>\n",
       "      <td>Reopening of the session\\n\\nPlease note that t...</td>\n",
       "      <td>Resumption of the session period\\n\\n Original ...</td>\n",
       "      <td>Resumption of the session</td>\n",
       "    </tr>\n",
       "    <tr>\n",
       "      <th>1</th>\n",
       "      <td>Ich erkläre die am Freitag, dem 17. Dezember u...</td>\n",
       "      <td>I explain the interrupted session of the Europ...</td>\n",
       "      <td>I am explaining the interrupted parliamentary ...</td>\n",
       "      <td>I would like to inform you that the European P...</td>\n",
       "      <td>I declare resumed the session of the European ...</td>\n",
       "    </tr>\n",
       "    <tr>\n",
       "      <th>2</th>\n",
       "      <td>Wie Sie feststellen konnten, ist der gefürchte...</td>\n",
       "      <td>As you can see, the feared \"Millennium Bug\" wa...</td>\n",
       "      <td>As you were able to determine, the feared \"Mil...</td>\n",
       "      <td>As you could see, the dreaded \"Millennium Bug\"...</td>\n",
       "      <td>Although, as you will have seen, the dreaded '...</td>\n",
       "    </tr>\n",
       "    <tr>\n",
       "      <th>3</th>\n",
       "      <td>Im Parlament besteht der Wunsch nach einer Aus...</td>\n",
       "      <td>In the parliament there is a wish for an expre...</td>\n",
       "      <td>In the Parliament, there is a desire for a deb...</td>\n",
       "      <td>In the parliament there is a desire for a deba...</td>\n",
       "      <td>You have requested a debate on this subject in...</td>\n",
       "    </tr>\n",
       "    <tr>\n",
       "      <th>4</th>\n",
       "      <td>Heute möchte ich Sie bitten - das ist auch der...</td>\n",
       "      <td>Today I want to ask you - that's also the wish...</td>\n",
       "      <td>He today wants to ask - this is also the wish ...</td>\n",
       "      <td>I would like to ask you - this is also the wis...</td>\n",
       "      <td>In the meantime, I should like to observe a mi...</td>\n",
       "    </tr>\n",
       "  </tbody>\n",
       "</table>\n",
       "</div>"
      ],
      "text/plain": [
       "                                          input_text  \\\n",
       "0                 Wiederaufnahme der Sitzungsperiode   \n",
       "1  Ich erkläre die am Freitag, dem 17. Dezember u...   \n",
       "2  Wie Sie feststellen konnten, ist der gefürchte...   \n",
       "3  Im Parlament besteht der Wunsch nach einer Aus...   \n",
       "4  Heute möchte ich Sie bitten - das ist auch der...   \n",
       "\n",
       "                                                  1b  \\\n",
       "0  Wiederaufnahme der Sitzungsperiode\\n\\nThe Pres...   \n",
       "1  I explain the interrupted session of the Europ...   \n",
       "2  As you can see, the feared \"Millennium Bug\" wa...   \n",
       "3  In the parliament there is a wish for an expre...   \n",
       "4  Today I want to ask you - that's also the wish...   \n",
       "\n",
       "                                                  3b  \\\n",
       "0  Reopening of the session\\n\\nPlease note that t...   \n",
       "1  I am explaining the interrupted parliamentary ...   \n",
       "2  As you were able to determine, the feared \"Mil...   \n",
       "3  In the Parliament, there is a desire for a deb...   \n",
       "4  He today wants to ask - this is also the wish ...   \n",
       "\n",
       "                                                  8b  \\\n",
       "0  Resumption of the session period\\n\\n Original ...   \n",
       "1  I would like to inform you that the European P...   \n",
       "2  As you could see, the dreaded \"Millennium Bug\"...   \n",
       "3  In the parliament there is a desire for a deba...   \n",
       "4  I would like to ask you - this is also the wis...   \n",
       "\n",
       "                                               label  \n",
       "0                          Resumption of the session  \n",
       "1  I declare resumed the session of the European ...  \n",
       "2  Although, as you will have seen, the dreaded '...  \n",
       "3  You have requested a debate on this subject in...  \n",
       "4  In the meantime, I should like to observe a mi...  "
      ]
     },
     "execution_count": 22,
     "metadata": {},
     "output_type": "execute_result"
    }
   ],
   "source": [
    "df_wmt14.head()"
   ]
  },
  {
   "cell_type": "code",
   "execution_count": 23,
   "id": "7843415d-3484-459d-8732-717fb890c2df",
   "metadata": {},
   "outputs": [
    {
     "data": {
      "text/html": [
       "<div>\n",
       "<style scoped>\n",
       "    .dataframe tbody tr th:only-of-type {\n",
       "        vertical-align: middle;\n",
       "    }\n",
       "\n",
       "    .dataframe tbody tr th {\n",
       "        vertical-align: top;\n",
       "    }\n",
       "\n",
       "    .dataframe thead th {\n",
       "        text-align: right;\n",
       "    }\n",
       "</style>\n",
       "<table border=\"1\" class=\"dataframe\">\n",
       "  <thead>\n",
       "    <tr style=\"text-align: right;\">\n",
       "      <th></th>\n",
       "      <th>input_text</th>\n",
       "      <th>1b</th>\n",
       "      <th>3b</th>\n",
       "      <th>8b</th>\n",
       "      <th>label</th>\n",
       "    </tr>\n",
       "  </thead>\n",
       "  <tbody>\n",
       "    <tr>\n",
       "      <th>0</th>\n",
       "      <td>LONDON, England (Reuters) -- Harry Potter star...</td>\n",
       "      <td>Daniel Radcliffe, the star of the Harry Potter...</td>\n",
       "      <td>Daniel Radcliffe, star of the Harry Potter ser...</td>\n",
       "      <td>Daniel Radcliffe, who turns 18 on Monday, has ...</td>\n",
       "      <td>Harry Potter star Daniel Radcliffe gets £20M f...</td>\n",
       "    </tr>\n",
       "    <tr>\n",
       "      <th>1</th>\n",
       "      <td>Editor's note: In our Behind the Scenes series...</td>\n",
       "      <td>9th floor of the Miami-Dade pretrial detention...</td>\n",
       "      <td>A Miami-Dade pretrial detention facility has a...</td>\n",
       "      <td>In Miami's \"forgotten floor,\" mentally ill inm...</td>\n",
       "      <td>Mentally ill inmates in Miami are housed on th...</td>\n",
       "    </tr>\n",
       "    <tr>\n",
       "      <th>2</th>\n",
       "      <td>MINNEAPOLIS, Minnesota (CNN) -- Drivers who we...</td>\n",
       "      <td>A devastating bridge collapse occurred in Minn...</td>\n",
       "      <td>55 people were rescued from the Mississippi Ri...</td>\n",
       "      <td>The Minneapolis bridge collapse sent cars plum...</td>\n",
       "      <td>NEW: \"I thought I was going to die,\" driver sa...</td>\n",
       "    </tr>\n",
       "    <tr>\n",
       "      <th>3</th>\n",
       "      <td>WASHINGTON (CNN) -- Doctors removed five small...</td>\n",
       "      <td>5 small polyps removed from President Bush's c...</td>\n",
       "      <td>President Bush had 5 small polyps removed from...</td>\n",
       "      <td>Doctors removed five small polyps from Preside...</td>\n",
       "      <td>Five small polyps found during procedure; \"non...</td>\n",
       "    </tr>\n",
       "    <tr>\n",
       "      <th>4</th>\n",
       "      <td>(CNN)  -- The National Football League has ind...</td>\n",
       "      <td>The NFL has indefinitely suspended Atlanta Fal...</td>\n",
       "      <td>NFL quarterback Michael Vick has been indefini...</td>\n",
       "      <td>Michael Vick, Atlanta Falcons quarterback, has...</td>\n",
       "      <td>NEW: NFL chief, Atlanta Falcons owner critical...</td>\n",
       "    </tr>\n",
       "  </tbody>\n",
       "</table>\n",
       "</div>"
      ],
      "text/plain": [
       "                                          input_text  \\\n",
       "0  LONDON, England (Reuters) -- Harry Potter star...   \n",
       "1  Editor's note: In our Behind the Scenes series...   \n",
       "2  MINNEAPOLIS, Minnesota (CNN) -- Drivers who we...   \n",
       "3  WASHINGTON (CNN) -- Doctors removed five small...   \n",
       "4  (CNN)  -- The National Football League has ind...   \n",
       "\n",
       "                                                  1b  \\\n",
       "0  Daniel Radcliffe, the star of the Harry Potter...   \n",
       "1  9th floor of the Miami-Dade pretrial detention...   \n",
       "2  A devastating bridge collapse occurred in Minn...   \n",
       "3  5 small polyps removed from President Bush's c...   \n",
       "4  The NFL has indefinitely suspended Atlanta Fal...   \n",
       "\n",
       "                                                  3b  \\\n",
       "0  Daniel Radcliffe, star of the Harry Potter ser...   \n",
       "1  A Miami-Dade pretrial detention facility has a...   \n",
       "2  55 people were rescued from the Mississippi Ri...   \n",
       "3  President Bush had 5 small polyps removed from...   \n",
       "4  NFL quarterback Michael Vick has been indefini...   \n",
       "\n",
       "                                                  8b  \\\n",
       "0  Daniel Radcliffe, who turns 18 on Monday, has ...   \n",
       "1  In Miami's \"forgotten floor,\" mentally ill inm...   \n",
       "2  The Minneapolis bridge collapse sent cars plum...   \n",
       "3  Doctors removed five small polyps from Preside...   \n",
       "4  Michael Vick, Atlanta Falcons quarterback, has...   \n",
       "\n",
       "                                               label  \n",
       "0  Harry Potter star Daniel Radcliffe gets £20M f...  \n",
       "1  Mentally ill inmates in Miami are housed on th...  \n",
       "2  NEW: \"I thought I was going to die,\" driver sa...  \n",
       "3  Five small polyps found during procedure; \"non...  \n",
       "4  NEW: NFL chief, Atlanta Falcons owner critical...  "
      ]
     },
     "execution_count": 23,
     "metadata": {},
     "output_type": "execute_result"
    }
   ],
   "source": [
    "df_cnn_dailymail.head()"
   ]
  },
  {
   "cell_type": "code",
   "execution_count": 43,
   "id": "01b40da1-d688-4274-a105-bf0fe4c7aab5",
   "metadata": {},
   "outputs": [],
   "source": [
    "import sys\n",
    "import os\n",
    "\n",
    "parent_dir = os.path.abspath(os.path.join(os.getcwd(), \"..\"))\n",
    "sys.path.append(parent_dir)\n",
    "\n",
    "from analysis import metrics"
   ]
  },
  {
   "cell_type": "code",
   "execution_count": 44,
   "id": "57c8bf30-73dc-4d64-ad8f-114f55ecb7e2",
   "metadata": {},
   "outputs": [
    {
     "name": "stdout",
     "output_type": "stream",
     "text": [
      "Average BLEU score for 1b: 0.4041277811656105\n",
      "Average BLEU score for 3b: 0.41986096501637005\n",
      "Average BLEU score for 8b: 0.45745371736690155\n"
     ]
    }
   ],
   "source": [
    "df_wmt14 = pd.read_csv('wmt14_outputs.csv')\n",
    "\n",
    "bleu_scores_1b = [\n",
    "    metrics.calculate_bleu(row['1b'], row['label']) for _, row in df_wmt14.iterrows() if pd.notnull(row['1b'])\n",
    "]\n",
    "bleu_scores_3b = [\n",
    "    metrics.calculate_bleu(row['3b'], row['label']) for _, row in df_wmt14.iterrows() if pd.notnull(row['3b'])\n",
    "]\n",
    "bleu_scores_8b = [\n",
    "    metrics.calculate_bleu(row['8b'], row['label']) for _, row in df_wmt14.iterrows() if pd.notnull(row['8b'])\n",
    "]\n",
    "\n",
    "avg_bleu_1b = sum(bleu_scores_1b) / len(bleu_scores_1b) if bleu_scores_1b else 0\n",
    "avg_bleu_3b = sum(bleu_scores_3b) / len(bleu_scores_3b) if bleu_scores_3b else 0\n",
    "avg_bleu_8b = sum(bleu_scores_8b) / len(bleu_scores_8b) if bleu_scores_8b else 0\n",
    "\n",
    "print(f\"Average BLEU score for 1b: {avg_bleu_1b}\")\n",
    "print(f\"Average BLEU score for 3b: {avg_bleu_3b}\")\n",
    "print(f\"Average BLEU score for 8b: {avg_bleu_8b}\")"
   ]
  },
  {
   "cell_type": "code",
   "execution_count": 45,
   "id": "b7afde43-da39-4aef-a0a6-83151d1fc4c9",
   "metadata": {},
   "outputs": [
    {
     "data": {
      "text/html": [
       "<div>\n",
       "<style scoped>\n",
       "    .dataframe tbody tr th:only-of-type {\n",
       "        vertical-align: middle;\n",
       "    }\n",
       "\n",
       "    .dataframe tbody tr th {\n",
       "        vertical-align: top;\n",
       "    }\n",
       "\n",
       "    .dataframe thead th {\n",
       "        text-align: right;\n",
       "    }\n",
       "</style>\n",
       "<table border=\"1\" class=\"dataframe\">\n",
       "  <thead>\n",
       "    <tr style=\"text-align: right;\">\n",
       "      <th></th>\n",
       "      <th>input_text</th>\n",
       "      <th>1b</th>\n",
       "      <th>3b</th>\n",
       "      <th>8b</th>\n",
       "    </tr>\n",
       "  </thead>\n",
       "  <tbody>\n",
       "    <tr>\n",
       "      <th>0</th>\n",
       "      <td>Wiederaufnahme der Sitzungsperiode</td>\n",
       "      <td>0</td>\n",
       "      <td>0</td>\n",
       "      <td>1</td>\n",
       "    </tr>\n",
       "    <tr>\n",
       "      <th>1</th>\n",
       "      <td>Ich erkläre die am Freitag, dem 17. Dezember u...</td>\n",
       "      <td>1</td>\n",
       "      <td>1</td>\n",
       "      <td>1</td>\n",
       "    </tr>\n",
       "    <tr>\n",
       "      <th>2</th>\n",
       "      <td>Wie Sie feststellen konnten, ist der gefürchte...</td>\n",
       "      <td>0</td>\n",
       "      <td>0</td>\n",
       "      <td>1</td>\n",
       "    </tr>\n",
       "    <tr>\n",
       "      <th>3</th>\n",
       "      <td>Im Parlament besteht der Wunsch nach einer Aus...</td>\n",
       "      <td>0</td>\n",
       "      <td>1</td>\n",
       "      <td>1</td>\n",
       "    </tr>\n",
       "    <tr>\n",
       "      <th>4</th>\n",
       "      <td>Heute möchte ich Sie bitten - das ist auch der...</td>\n",
       "      <td>1</td>\n",
       "      <td>1</td>\n",
       "      <td>1</td>\n",
       "    </tr>\n",
       "  </tbody>\n",
       "</table>\n",
       "</div>"
      ],
      "text/plain": [
       "                                          input_text  1b  3b  8b\n",
       "0                 Wiederaufnahme der Sitzungsperiode   0   0   1\n",
       "1  Ich erkläre die am Freitag, dem 17. Dezember u...   1   1   1\n",
       "2  Wie Sie feststellen konnten, ist der gefürchte...   0   0   1\n",
       "3  Im Parlament besteht der Wunsch nach einer Aus...   0   1   1\n",
       "4  Heute möchte ich Sie bitten - das ist auch der...   1   1   1"
      ]
     },
     "execution_count": 45,
     "metadata": {},
     "output_type": "execute_result"
    }
   ],
   "source": [
    "threshold = 0.43\n",
    "\n",
    "def bleu_pass_fail(generated_output, reference_output, threshold):\n",
    "    if pd.notnull(generated_output) and pd.notnull(reference_output):\n",
    "        bleu_score = metrics.calculate_bleu(generated_output, reference_output)\n",
    "        return 1 if bleu_score >= threshold else 0\n",
    "    return 0\n",
    "\n",
    "df_wmt14['8b'] = 1  \n",
    "df_wmt14['3b'] = df_wmt14.apply(lambda row: bleu_pass_fail(row['3b'], row['label'], threshold), axis=1)\n",
    "df_wmt14['1b'] = df_wmt14.apply(lambda row: bleu_pass_fail(row['1b'], row['label'], threshold), axis=1)\n",
    "\n",
    "output_csv = 'wmt14_bleu_threshold.csv'\n",
    "df_wmt14[['input_text', '1b', '3b', '8b']].to_csv(output_csv, index=False)\n",
    "\n",
    "df_wmt14[['input_text', '1b', '3b', '8b']].head()"
   ]
  },
  {
   "cell_type": "code",
   "execution_count": null,
   "id": "34c25df6-0ea3-416e-a840-8bf0814c69c8",
   "metadata": {},
   "outputs": [],
   "source": []
  }
 ],
 "metadata": {
  "kernelspec": {
   "display_name": "Python 3 (ipykernel)",
   "language": "python",
   "name": "python3"
  },
  "language_info": {
   "codemirror_mode": {
    "name": "ipython",
    "version": 3
   },
   "file_extension": ".py",
   "mimetype": "text/x-python",
   "name": "python",
   "nbconvert_exporter": "python",
   "pygments_lexer": "ipython3",
   "version": "3.8.10"
  }
 },
 "nbformat": 4,
 "nbformat_minor": 5
}
