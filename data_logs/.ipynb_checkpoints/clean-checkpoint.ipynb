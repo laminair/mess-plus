{
 "cells": [
  {
   "cell_type": "code",
   "execution_count": 1,
   "id": "baa5dca8-24ab-4e49-8e03-90ec449dec7a",
   "metadata": {},
   "outputs": [],
   "source": [
    "import pickle\n",
    "import pandas as pd\n",
    "import csv"
   ]
  },
  {
   "cell_type": "code",
   "execution_count": 2,
   "id": "83deec40-f5b5-42b9-9513-857e10832b3a",
   "metadata": {},
   "outputs": [],
   "source": [
    "file_paths = [\"input_output_pairs/input_output_pairs_1b\",\n",
    "              \"input_output_pairs/input_output_pairs_3b\", \n",
    "              \"input_output_pairs/input_output_pairs_8b\"]"
   ]
  },
  {
   "cell_type": "code",
   "execution_count": 3,
   "id": "830cc875-1340-4ef0-80e4-bbb8dd22931e",
   "metadata": {},
   "outputs": [],
   "source": [
    "with open(file_paths[0], 'rb') as f:\n",
    "    outputs_1b = pickle.load(f)\n",
    "\n",
    "with open(file_paths[1], 'rb') as f:\n",
    "    outputs_3b = pickle.load(f)\n",
    "\n",
    "with open(file_paths[2], 'rb') as f:\n",
    "    outputs_8b = pickle.load(f)"
   ]
  },
  {
   "cell_type": "code",
   "execution_count": 19,
   "id": "60c61fc3-246b-46b4-9f43-9b5ccc433689",
   "metadata": {},
   "outputs": [
    {
     "ename": "IndexError",
     "evalue": "list index out of range",
     "output_type": "error",
     "traceback": [
      "\u001b[0;31m---------------------------------------------------------------------------\u001b[0m",
      "\u001b[0;31mIndexError\u001b[0m                                Traceback (most recent call last)",
      "Cell \u001b[0;32mIn[19], line 11\u001b[0m\n\u001b[1;32m      4\u001b[0m     combined_outputs[dataset_key] \u001b[38;5;241m=\u001b[39m []\n\u001b[1;32m      6\u001b[0m     \u001b[38;5;28;01mfor\u001b[39;00m i \u001b[38;5;129;01min\u001b[39;00m \u001b[38;5;28mrange\u001b[39m(\u001b[38;5;28mlen\u001b[39m(outputs_1b[dataset_key])):\n\u001b[1;32m      7\u001b[0m         combined_entry \u001b[38;5;241m=\u001b[39m {\n\u001b[1;32m      8\u001b[0m             \u001b[38;5;124m\"\u001b[39m\u001b[38;5;124minput_text\u001b[39m\u001b[38;5;124m\"\u001b[39m: outputs_1b[dataset_key][i][\u001b[38;5;124m\"\u001b[39m\u001b[38;5;124minput_text\u001b[39m\u001b[38;5;124m\"\u001b[39m],  \n\u001b[1;32m      9\u001b[0m             \u001b[38;5;124m\"\u001b[39m\u001b[38;5;124m1b\u001b[39m\u001b[38;5;124m\"\u001b[39m: outputs_1b[dataset_key][i]\u001b[38;5;241m.\u001b[39mget(\u001b[38;5;124m\"\u001b[39m\u001b[38;5;124m1b\u001b[39m\u001b[38;5;124m\"\u001b[39m),     \n\u001b[1;32m     10\u001b[0m             \u001b[38;5;124m\"\u001b[39m\u001b[38;5;124m3b\u001b[39m\u001b[38;5;124m\"\u001b[39m: outputs_3b[dataset_key][i]\u001b[38;5;241m.\u001b[39mget(\u001b[38;5;124m\"\u001b[39m\u001b[38;5;124m3b\u001b[39m\u001b[38;5;124m\"\u001b[39m),\n\u001b[0;32m---> 11\u001b[0m             \u001b[38;5;124m\"\u001b[39m\u001b[38;5;124m8b\u001b[39m\u001b[38;5;124m\"\u001b[39m: \u001b[43moutputs_8b\u001b[49m\u001b[43m[\u001b[49m\u001b[43mdataset_key\u001b[49m\u001b[43m]\u001b[49m\u001b[43m[\u001b[49m\u001b[43mi\u001b[49m\u001b[43m]\u001b[49m\u001b[38;5;241m.\u001b[39mget(\u001b[38;5;124m\"\u001b[39m\u001b[38;5;124m8b\u001b[39m\u001b[38;5;124m\"\u001b[39m)         \n\u001b[1;32m     12\u001b[0m         }\n\u001b[1;32m     13\u001b[0m         combined_outputs[dataset_key]\u001b[38;5;241m.\u001b[39mappend(combined_entry)\n\u001b[1;32m     15\u001b[0m \u001b[38;5;28;01mwith\u001b[39;00m \u001b[38;5;28mopen\u001b[39m(\u001b[38;5;124m\"\u001b[39m\u001b[38;5;124mdata/input_output_train\u001b[39m\u001b[38;5;124m\"\u001b[39m, \u001b[38;5;124m'\u001b[39m\u001b[38;5;124mwb\u001b[39m\u001b[38;5;124m'\u001b[39m) \u001b[38;5;28;01mas\u001b[39;00m f:\n",
      "\u001b[0;31mIndexError\u001b[0m: list index out of range"
     ]
    }
   ],
   "source": [
    "combined_outputs = {}\n",
    "\n",
    "for dataset_key in outputs_1b.keys():\n",
    "    combined_outputs[dataset_key] = []\n",
    "\n",
    "    for i in range(len(outputs_1b[dataset_key])):\n",
    "        combined_entry = {\n",
    "            \"input_text\": outputs_1b[dataset_key][i][\"input_text\"],  \n",
    "            \"1b\": outputs_1b[dataset_key][i].get(\"1b\"),     \n",
    "            \"3b\": outputs_3b[dataset_key][i].get(\"3b\"),\n",
    "            \"8b\": outputs_8b[dataset_key][i].get(\"8b\")         \n",
    "        }\n",
    "        combined_outputs[dataset_key].append(combined_entry)\n",
    "\n",
    "with open(\"data/input_output_train\", 'wb') as f:\n",
    "    pickle.dump(combined_outputs, f)"
   ]
  },
  {
   "cell_type": "code",
   "execution_count": 25,
   "id": "4dde66f8-d7a3-45fa-8ec2-d3aa70dd396d",
   "metadata": {},
   "outputs": [
    {
     "data": {
      "text/plain": [
       "20000"
      ]
     },
     "execution_count": 25,
     "metadata": {},
     "output_type": "execute_result"
    }
   ],
   "source": [
    "len(outputs_8b[\"cnn_dailymail\"])"
   ]
  },
  {
   "cell_type": "code",
   "execution_count": null,
   "id": "62144091-36ff-4830-8b4c-68ea85e81c19",
   "metadata": {},
   "outputs": [],
   "source": []
  }
 ],
 "metadata": {
  "kernelspec": {
   "display_name": "Python 3 (ipykernel)",
   "language": "python",
   "name": "python3"
  },
  "language_info": {
   "codemirror_mode": {
    "name": "ipython",
    "version": 3
   },
   "file_extension": ".py",
   "mimetype": "text/x-python",
   "name": "python",
   "nbconvert_exporter": "python",
   "pygments_lexer": "ipython3",
   "version": "3.8.10"
  }
 },
 "nbformat": 4,
 "nbformat_minor": 5
}
