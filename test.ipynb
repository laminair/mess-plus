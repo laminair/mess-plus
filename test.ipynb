{
 "cells": [
  {
   "cell_type": "code",
   "id": "initial_id",
   "metadata": {
    "collapsed": true,
    "ExecuteTime": {
     "end_time": "2025-07-27T01:09:42.711271Z",
     "start_time": "2025-07-27T01:09:42.708546Z"
    }
   },
   "source": [
    "import pandas as pd\n",
    "\n",
    "from classifier.file_reader import read_files_from_folder\n",
    "\n",
    "from pathlib import Path\n",
    "\n",
    "PROJECT_ROOT = Path(\"test.ipynb\").absolute().parent\n",
    "print(PROJECT_ROOT)"
   ],
   "outputs": [
    {
     "name": "stdout",
     "output_type": "stream",
     "text": [
      "/Users/herbert/code/mess-plus\n"
     ]
    }
   ],
   "execution_count": 1
  },
  {
   "metadata": {
    "ExecuteTime": {
     "end_time": "2025-07-27T01:09:42.778619Z",
     "start_time": "2025-07-27T01:09:42.715832Z"
    }
   },
   "cell_type": "code",
   "source": [
    "input_df = read_files_from_folder(folder_path=f\"{PROJECT_ROOT}/data/qwen2/inference_outputs/non_iid_chained\")\n",
    "\n",
    "model_labels = [\"xsmall\", \"small\", \"medium\", \"large\"]\n",
    "\n",
    "for label in model_labels:\n",
    "\tprint(f\"{label.upper()} model average accuracy over time: {input_df[f'label_{label}'].mean()}\")"
   ],
   "id": "47fe89b94b9fa1ec",
   "outputs": [
    {
     "name": "stdout",
     "output_type": "stream",
     "text": [
      "XSMALL model average accuracy over time: 0.5450081833060556\n",
      "SMALL model average accuracy over time: 0.6291793313069909\n",
      "MEDIUM model average accuracy over time: 0.6934767360299275\n",
      "LARGE model average accuracy over time: 0.7194295066635492\n"
     ]
    }
   ],
   "execution_count": 2
  },
  {
   "metadata": {
    "ExecuteTime": {
     "end_time": "2025-07-27T01:09:42.793958Z",
     "start_time": "2025-07-27T01:09:42.792445Z"
    }
   },
   "cell_type": "code",
   "source": "",
   "id": "4ff013f06220902a",
   "outputs": [],
   "execution_count": null
  }
 ],
 "metadata": {
  "kernelspec": {
   "display_name": "Python 3",
   "language": "python",
   "name": "python3"
  },
  "language_info": {
   "codemirror_mode": {
    "name": "ipython",
    "version": 2
   },
   "file_extension": ".py",
   "mimetype": "text/x-python",
   "name": "python",
   "nbconvert_exporter": "python",
   "pygments_lexer": "ipython2",
   "version": "2.7.6"
  }
 },
 "nbformat": 4,
 "nbformat_minor": 5
}
