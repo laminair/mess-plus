{
 "cells": [
  {
   "cell_type": "code",
   "id": "ee8b612c-14d2-4ff9-8af1-092e43dcce8b",
   "metadata": {
    "ExecuteTime": {
     "end_time": "2025-04-17T16:50:49.799768Z",
     "start_time": "2025-04-17T16:50:48.212520Z"
    }
   },
   "source": [
    "from torch.utils.data import DataLoader\n",
    "\n",
    "from classifier.file_reader import read_files_from_folder\n",
    "from classifier.dataset import BertPandasDataset, collate_fn, create_bert_datasets, preprocess_dataframe\n",
    "from classifier.model import ContinualMultilabelBERTClassifier\n"
   ],
   "outputs": [],
   "execution_count": 1
  },
  {
   "cell_type": "code",
   "id": "d209f97e-e7ec-4b2f-860d-caaf5ced27af",
   "metadata": {
    "ExecuteTime": {
     "end_time": "2025-04-17T16:50:50.013176Z",
     "start_time": "2025-04-17T16:50:49.802643Z"
    }
   },
   "source": [
    "SEED = 42\n",
    "DATASET = \"boolq\"\n",
    "MODEL_NAME = \"answerdotai/ModernBERT-base\"\n",
    "MINIBATCH_SIZE = 64\n",
    "N_EPOCHS = 50\n",
    "TEST_VAL_SET_SIZE = 0.15\n",
    "\n",
    "\n",
    "df = read_files_from_folder(\"data/inference_outputs/boolq\", file_ext=\".csv\")\n",
    "display(df.head())"
   ],
   "outputs": [
    {
     "data": {
      "text/plain": [
       "                                          input_text ground_truth  doc_id  \\\n",
       "0   does ethanol take more energy make that produces           no       0   \n",
       "1   does ethanol take more energy make that produces          yes       0   \n",
       "2             is house tax and property tax are same           no       1   \n",
       "3             is house tax and property tax are same          yes       1   \n",
       "4  is pain experienced in a missing body part or ...           no       2   \n",
       "\n",
       "   small_numeric small_string  small_bool  medium_numeric medium_string  \\\n",
       "0      -2.581821          yes       False       -4.826312           yes   \n",
       "1      -1.581821          yes        True       -3.138812           yes   \n",
       "2      -3.108254           no        True       -2.988763            no   \n",
       "3      -6.545754           no       False       -3.426263            no   \n",
       "4      -4.238685      phantom       False       -4.971416           yes   \n",
       "\n",
       "   medium_bool  \n",
       "0        False  \n",
       "1         True  \n",
       "2         True  \n",
       "3        False  \n",
       "4        False  "
      ],
      "text/html": [
       "<div>\n",
       "<style scoped>\n",
       "    .dataframe tbody tr th:only-of-type {\n",
       "        vertical-align: middle;\n",
       "    }\n",
       "\n",
       "    .dataframe tbody tr th {\n",
       "        vertical-align: top;\n",
       "    }\n",
       "\n",
       "    .dataframe thead th {\n",
       "        text-align: right;\n",
       "    }\n",
       "</style>\n",
       "<table border=\"1\" class=\"dataframe\">\n",
       "  <thead>\n",
       "    <tr style=\"text-align: right;\">\n",
       "      <th></th>\n",
       "      <th>input_text</th>\n",
       "      <th>ground_truth</th>\n",
       "      <th>doc_id</th>\n",
       "      <th>small_numeric</th>\n",
       "      <th>small_string</th>\n",
       "      <th>small_bool</th>\n",
       "      <th>medium_numeric</th>\n",
       "      <th>medium_string</th>\n",
       "      <th>medium_bool</th>\n",
       "    </tr>\n",
       "  </thead>\n",
       "  <tbody>\n",
       "    <tr>\n",
       "      <th>0</th>\n",
       "      <td>does ethanol take more energy make that produces</td>\n",
       "      <td>no</td>\n",
       "      <td>0</td>\n",
       "      <td>-2.581821</td>\n",
       "      <td>yes</td>\n",
       "      <td>False</td>\n",
       "      <td>-4.826312</td>\n",
       "      <td>yes</td>\n",
       "      <td>False</td>\n",
       "    </tr>\n",
       "    <tr>\n",
       "      <th>1</th>\n",
       "      <td>does ethanol take more energy make that produces</td>\n",
       "      <td>yes</td>\n",
       "      <td>0</td>\n",
       "      <td>-1.581821</td>\n",
       "      <td>yes</td>\n",
       "      <td>True</td>\n",
       "      <td>-3.138812</td>\n",
       "      <td>yes</td>\n",
       "      <td>True</td>\n",
       "    </tr>\n",
       "    <tr>\n",
       "      <th>2</th>\n",
       "      <td>is house tax and property tax are same</td>\n",
       "      <td>no</td>\n",
       "      <td>1</td>\n",
       "      <td>-3.108254</td>\n",
       "      <td>no</td>\n",
       "      <td>True</td>\n",
       "      <td>-2.988763</td>\n",
       "      <td>no</td>\n",
       "      <td>True</td>\n",
       "    </tr>\n",
       "    <tr>\n",
       "      <th>3</th>\n",
       "      <td>is house tax and property tax are same</td>\n",
       "      <td>yes</td>\n",
       "      <td>1</td>\n",
       "      <td>-6.545754</td>\n",
       "      <td>no</td>\n",
       "      <td>False</td>\n",
       "      <td>-3.426263</td>\n",
       "      <td>no</td>\n",
       "      <td>False</td>\n",
       "    </tr>\n",
       "    <tr>\n",
       "      <th>4</th>\n",
       "      <td>is pain experienced in a missing body part or ...</td>\n",
       "      <td>no</td>\n",
       "      <td>2</td>\n",
       "      <td>-4.238685</td>\n",
       "      <td>phantom</td>\n",
       "      <td>False</td>\n",
       "      <td>-4.971416</td>\n",
       "      <td>yes</td>\n",
       "      <td>False</td>\n",
       "    </tr>\n",
       "  </tbody>\n",
       "</table>\n",
       "</div>"
      ]
     },
     "metadata": {},
     "output_type": "display_data"
    }
   ],
   "execution_count": 2
  },
  {
   "metadata": {
    "ExecuteTime": {
     "end_time": "2025-04-17T16:50:50.134358Z",
     "start_time": "2025-04-17T16:50:50.058474Z"
    }
   },
   "cell_type": "code",
   "source": [
    "display(len(df[\"input_text\"]))\n",
    "# Filter the \"golden dataset\"\n",
    "display(df[\"small_bool\"].unique())\n",
    "display(df[\"medium_bool\"].unique())\n",
    "\n",
    "# First, handle any potential NaN values in the boolean columns\n",
    "df['small_bool'] = df['small_bool'].fillna(False)\n",
    "df['medium_bool'] = df['medium_bool'].fillna(False)\n",
    "\n",
    "# Convert string 'True'/'False' to boolean values\n",
    "df['small_bool'] = df['small_bool'].astype(str).map({'True': True, 'true': True, 'False': False, 'false': False})\n",
    "df['medium_bool'] = df['medium_bool'].astype(str).map({'True': True, 'true': True, 'False': False, 'false': False})\n",
    "\n",
    "# Fill any remaining NaN values (that weren't matched in the mapping) with False\n",
    "df['small_bool'] = df['small_bool'].fillna(False)\n",
    "df['medium_bool'] = df['medium_bool'].fillna(False)\n",
    "\n",
    "# Create a score column using the boolean values directly\n",
    "df['bool_score'] = df['small_bool'].astype(int) + df['medium_bool'].astype(int)\n",
    "\n",
    "# Sort by input_text and then by bool_score in descending order\n",
    "df_sorted = df.sort_values(['input_text', 'bool_score'], ascending=[True, False])\n",
    "\n",
    "# Keep the first occurrence of each input_text (which will be the one with highest bool_score)\n",
    "df_filtered = df_sorted.drop_duplicates(subset=['input_text'])\n",
    "\n",
    "# Drop the temporary score column if you don't need it\n",
    "df_filtered = df_filtered.drop(columns=['bool_score'])\n",
    "\n",
    "# Reset the index\n",
    "df_filtered = df_filtered.reset_index(drop=True)\n",
    "\n",
    "display(df_filtered[\"small_bool\"].unique())\n",
    "display(df_filtered[\"medium_bool\"].unique())\n",
    "\n",
    "display(len(df_filtered))"
   ],
   "id": "f2beea90aeb28a77",
   "outputs": [
    {
     "data": {
      "text/plain": [
       "201600"
      ]
     },
     "metadata": {},
     "output_type": "display_data"
    },
    {
     "data": {
      "text/plain": [
       "array([False,  True])"
      ]
     },
     "metadata": {},
     "output_type": "display_data"
    },
    {
     "data": {
      "text/plain": [
       "array([False,  True])"
      ]
     },
     "metadata": {},
     "output_type": "display_data"
    },
    {
     "data": {
      "text/plain": [
       "array([ True, False])"
      ]
     },
     "metadata": {},
     "output_type": "display_data"
    },
    {
     "data": {
      "text/plain": [
       "array([ True, False])"
      ]
     },
     "metadata": {},
     "output_type": "display_data"
    },
    {
     "data": {
      "text/plain": [
       "3150"
      ]
     },
     "metadata": {},
     "output_type": "display_data"
    }
   ],
   "execution_count": 3
  },
  {
   "metadata": {
    "ExecuteTime": {
     "end_time": "2025-04-17T16:50:50.336298Z",
     "start_time": "2025-04-17T16:50:50.141501Z"
    }
   },
   "cell_type": "code",
   "source": [
    "text_col = \"input_text\"\n",
    "label_cols = [\"small_bool\", \"medium_bool\"]\n",
    "\n",
    "dataset = df_filtered[[\"input_text\", \"small_bool\", \"medium_bool\"]]\n",
    "dataset = preprocess_dataframe(dataset, label_cols=label_cols)\n",
    "\n",
    "# Create train and validation datasets\n",
    "train_dataset, val_dataset, tokenizer = create_bert_datasets(\n",
    "    dataset,\n",
    "    text_col,\n",
    "    label_cols,\n",
    "    model_name=MODEL_NAME,\n",
    "    max_length=1024,\n",
    "    val_ratio=0.05,\n",
    ")\n",
    "\n",
    "# Create DataLoaders with the custom collate function\n",
    "train_loader = DataLoader(\n",
    "    train_dataset,\n",
    "    batch_size=16,\n",
    "    shuffle=True,\n",
    "    collate_fn=collate_fn\n",
    ")\n",
    "\n",
    "val_loader = DataLoader(\n",
    "    val_dataset,\n",
    "    batch_size=16,\n",
    "    collate_fn=collate_fn\n",
    ")\n",
    "\n",
    "display(f\"Training dataset size: {len(train_dataset)}\")\n",
    "display(f\"Validation dataset size: {len(val_dataset)}\")"
   ],
   "id": "25b3a966464e6f7a",
   "outputs": [
    {
     "data": {
      "text/plain": [
       "'Training dataset size: 2993'"
      ]
     },
     "metadata": {},
     "output_type": "display_data"
    },
    {
     "data": {
      "text/plain": [
       "'Validation dataset size: 157'"
      ]
     },
     "metadata": {},
     "output_type": "display_data"
    }
   ],
   "execution_count": 4
  },
  {
   "metadata": {},
   "cell_type": "markdown",
   "source": [
    "## Full model training\n",
    "Training the full model yields strong results but shows overfitting behavior very quickly.\n",
    "We also exhibit local batch instabilities (observable from loss spikes).\n",
    "I tried to adjust the classifier architecture to account for those instabilities.\n",
    "We might need some form of regularization to treat the losses."
   ],
   "id": "fc20c725256390a0"
  },
  {
   "metadata": {
    "ExecuteTime": {
     "end_time": "2025-04-17T16:50:50.340251Z",
     "start_time": "2025-04-17T16:50:50.338734Z"
    }
   },
   "cell_type": "code",
   "source": [
    "# classifier = MultilabelBERTClassifier(\n",
    "#     model_name=MODEL_NAME,  # Replace with your preferred BERT variant\n",
    "#     num_labels=len(label_cols),\n",
    "#     learning_rate=2e-7,\n",
    "#     weight_decay=0.01,\n",
    "#     batch_size=1,\n",
    "#     max_length=128,\n",
    "#     warmup_ratio=0.1,\n",
    "#     threshold=0.5,\n",
    "#     freeze_bert_layers=True\n",
    "# )\n",
    "#\n",
    "# with wandb.init(\n",
    "#     project=\"mess-plus-classifier-evaluations\",\n",
    "#     name=\"minibatch_size-1\"\n",
    "# ):\n",
    "#\n",
    "#     # Train the model\n",
    "#     classifier.fit(train_dataset, val_dataset, epochs=5, early_stopping_patience=2)\n",
    "#\n",
    "# wandb.finish()\n"
   ],
   "id": "4e79303f353c13f6",
   "outputs": [],
   "execution_count": 5
  },
  {
   "metadata": {},
   "cell_type": "markdown",
   "source": "## Continuous learning approach",
   "id": "b7113f8890babd75"
  },
  {
   "metadata": {
    "ExecuteTime": {
     "end_time": "2025-04-17T16:54:33.758722Z",
     "start_time": "2025-04-17T16:50:50.392038Z"
    }
   },
   "cell_type": "code",
   "source": [
    "cont_model = ContinualMultilabelBERTClassifier(\n",
    "    model_name=MODEL_NAME,  # Replace with your preferred BERT variant\n",
    "    num_labels=len(label_cols),\n",
    "    learning_rate=8e-7,\n",
    "    weight_decay=0.01,\n",
    "    batch_size=16,\n",
    "    max_length=128,\n",
    "    warmup_ratio=0.1,\n",
    "    threshold=0.5,\n",
    "    freeze_bert_layers=True,\n",
    "    memory_size=0\n",
    ")\n",
    "\n",
    "\n",
    "for idx in range(len(dataset)):\n",
    "    print(f\"Fetching sample {idx}/{len(dataset)}...\")\n",
    "    sample = BertPandasDataset(df.loc[idx], text_col, label_cols, tokenizer, 128)\n",
    "    cont_model.incremental_fit(\n",
    "        new_train_dataset=sample,\n",
    "        new_val_dataset=val_dataset,\n",
    "    )\n",
    "\n",
    "    if idx % 50 == 0 and idx != 0:\n",
    "        display(f\"Done.\")\n",
    "        break\n"
   ],
   "id": "3ab887dfc87151d3",
   "outputs": [
    {
     "name": "stderr",
     "output_type": "stream",
     "text": [
      "INFO:classifier.model:Using device: cuda\n",
      "INFO:classifier.model:Initializing custom BERTClassifier: answerdotai/ModernBERT-base with 2 labels\n"
     ]
    },
    {
     "name": "stdout",
     "output_type": "stream",
     "text": [
      "Fetching sample 0/3150...\n"
     ]
    },
    {
     "name": "stderr",
     "output_type": "stream",
     "text": [
      "INFO:classifier.model:Training on new data only: 10 examples\n",
      "Epoch 1/3 [Training]: 100%|██████████| 1/1 [00:00<00:00,  1.29it/s]\n",
      "Evaluating: 100%|██████████| 10/10 [00:01<00:00,  5.19it/s]\n",
      "INFO:classifier.model:Epoch 1/3 - Time: 2.71s\n",
      "INFO:classifier.model:  Train Loss: 0.9182\n",
      "INFO:classifier.model:  Val Loss: 0.5935, Val F1: 0.9170\n",
      "INFO:classifier.model:  Precision: 0.8521, Recall: 0.9925\n",
      "Epoch 2/3 [Training]: 100%|██████████| 1/1 [00:00<00:00, 90.61it/s]\n",
      "Evaluating: 100%|██████████| 10/10 [00:01<00:00,  7.07it/s]\n",
      "INFO:classifier.model:Epoch 2/3 - Time: 1.43s\n",
      "INFO:classifier.model:  Train Loss: 0.8843\n",
      "INFO:classifier.model:  Val Loss: 0.5939, Val F1: 0.9170\n",
      "INFO:classifier.model:  Precision: 0.8521, Recall: 0.9925\n",
      "Epoch 3/3 [Training]: 100%|██████████| 1/1 [00:00<00:00, 90.76it/s]\n",
      "Evaluating: 100%|██████████| 10/10 [00:01<00:00,  7.07it/s]\n",
      "INFO:classifier.model:Epoch 3/3 - Time: 1.43s\n",
      "INFO:classifier.model:  Train Loss: 0.9083\n",
      "INFO:classifier.model:  Val Loss: 0.5941, Val F1: 0.9170\n",
      "INFO:classifier.model:  Precision: 0.8521, Recall: 0.9925\n",
      "INFO:classifier.model:Training on new data only: 10 examples\n"
     ]
    },
    {
     "name": "stdout",
     "output_type": "stream",
     "text": [
      "Fetching sample 1/3150...\n"
     ]
    },
    {
     "name": "stderr",
     "output_type": "stream",
     "text": [
      "Epoch 1/3 [Training]: 100%|██████████| 1/1 [00:00<00:00, 92.40it/s]\n",
      "Evaluating: 100%|██████████| 10/10 [00:01<00:00,  7.10it/s]\n",
      "INFO:classifier.model:Epoch 1/3 - Time: 1.43s\n",
      "INFO:classifier.model:  Train Loss: 0.5270\n",
      "INFO:classifier.model:  Val Loss: 0.5943, Val F1: 0.9170\n",
      "INFO:classifier.model:  Precision: 0.8521, Recall: 0.9925\n",
      "Epoch 2/3 [Training]: 100%|██████████| 1/1 [00:00<00:00, 91.92it/s]\n",
      "Evaluating: 100%|██████████| 10/10 [00:01<00:00,  7.09it/s]\n",
      "INFO:classifier.model:Epoch 2/3 - Time: 1.43s\n",
      "INFO:classifier.model:  Train Loss: 0.5420\n",
      "INFO:classifier.model:  Val Loss: 0.5943, Val F1: 0.9170\n",
      "INFO:classifier.model:  Precision: 0.8521, Recall: 0.9925\n",
      "Epoch 3/3 [Training]: 100%|██████████| 1/1 [00:00<00:00, 85.13it/s]\n",
      "Evaluating: 100%|██████████| 10/10 [00:01<00:00,  7.09it/s]\n",
      "INFO:classifier.model:Epoch 3/3 - Time: 1.43s\n",
      "INFO:classifier.model:  Train Loss: 0.5205\n",
      "INFO:classifier.model:  Val Loss: 0.5943, Val F1: 0.9170\n",
      "INFO:classifier.model:  Precision: 0.8521, Recall: 0.9925\n",
      "INFO:classifier.model:Training on new data only: 10 examples\n"
     ]
    },
    {
     "name": "stdout",
     "output_type": "stream",
     "text": [
      "Fetching sample 2/3150...\n"
     ]
    },
    {
     "name": "stderr",
     "output_type": "stream",
     "text": [
      "Epoch 1/3 [Training]: 100%|██████████| 1/1 [00:00<00:00, 77.68it/s]\n",
      "Evaluating: 100%|██████████| 10/10 [00:01<00:00,  7.05it/s]\n",
      "INFO:classifier.model:Epoch 1/3 - Time: 1.44s\n",
      "INFO:classifier.model:  Train Loss: 0.5298\n",
      "INFO:classifier.model:  Val Loss: 0.5941, Val F1: 0.9170\n",
      "INFO:classifier.model:  Precision: 0.8521, Recall: 0.9925\n",
      "Epoch 2/3 [Training]: 100%|██████████| 1/1 [00:00<00:00, 79.51it/s]\n",
      "Evaluating: 100%|██████████| 10/10 [00:01<00:00,  7.04it/s]\n",
      "INFO:classifier.model:Epoch 2/3 - Time: 1.44s\n",
      "INFO:classifier.model:  Train Loss: 0.5423\n",
      "INFO:classifier.model:  Val Loss: 0.5939, Val F1: 0.9170\n",
      "INFO:classifier.model:  Precision: 0.8521, Recall: 0.9925\n",
      "Epoch 3/3 [Training]: 100%|██████████| 1/1 [00:00<00:00, 87.40it/s]\n",
      "Evaluating: 100%|██████████| 10/10 [00:01<00:00,  7.06it/s]\n",
      "INFO:classifier.model:Epoch 3/3 - Time: 1.43s\n",
      "INFO:classifier.model:  Train Loss: 0.5490\n",
      "INFO:classifier.model:  Val Loss: 0.5939, Val F1: 0.9170\n",
      "INFO:classifier.model:  Precision: 0.8521, Recall: 0.9925\n",
      "INFO:classifier.model:Training on new data only: 10 examples\n"
     ]
    },
    {
     "name": "stdout",
     "output_type": "stream",
     "text": [
      "Fetching sample 3/3150...\n"
     ]
    },
    {
     "name": "stderr",
     "output_type": "stream",
     "text": [
      "Epoch 1/3 [Training]: 100%|██████████| 1/1 [00:00<00:00, 80.76it/s]\n",
      "Evaluating: 100%|██████████| 10/10 [00:01<00:00,  7.08it/s]\n",
      "INFO:classifier.model:Epoch 1/3 - Time: 1.43s\n",
      "INFO:classifier.model:  Train Loss: 0.8114\n",
      "INFO:classifier.model:  Val Loss: 0.5937, Val F1: 0.9170\n",
      "INFO:classifier.model:  Precision: 0.8521, Recall: 0.9925\n",
      "Epoch 2/3 [Training]: 100%|██████████| 1/1 [00:00<00:00, 78.34it/s]\n",
      "Evaluating: 100%|██████████| 10/10 [00:01<00:00,  7.05it/s]\n",
      "INFO:classifier.model:Epoch 2/3 - Time: 1.44s\n",
      "INFO:classifier.model:  Train Loss: 0.8264\n",
      "INFO:classifier.model:  Val Loss: 0.5937, Val F1: 0.9170\n",
      "INFO:classifier.model:  Precision: 0.8521, Recall: 0.9925\n",
      "Epoch 3/3 [Training]: 100%|██████████| 1/1 [00:00<00:00, 80.61it/s]\n",
      "Evaluating: 100%|██████████| 10/10 [00:01<00:00,  7.05it/s]\n",
      "INFO:classifier.model:Epoch 3/3 - Time: 1.44s\n",
      "INFO:classifier.model:  Train Loss: 0.8465\n",
      "INFO:classifier.model:  Val Loss: 0.5937, Val F1: 0.9170\n",
      "INFO:classifier.model:  Precision: 0.8521, Recall: 0.9925\n",
      "INFO:classifier.model:Training on new data only: 10 examples\n"
     ]
    },
    {
     "name": "stdout",
     "output_type": "stream",
     "text": [
      "Fetching sample 4/3150...\n"
     ]
    },
    {
     "name": "stderr",
     "output_type": "stream",
     "text": [
      "Epoch 1/3 [Training]: 100%|██████████| 1/1 [00:00<00:00, 83.54it/s]\n",
      "Evaluating: 100%|██████████| 10/10 [00:01<00:00,  7.07it/s]\n",
      "INFO:classifier.model:Epoch 1/3 - Time: 1.43s\n",
      "INFO:classifier.model:  Train Loss: 0.9402\n",
      "INFO:classifier.model:  Val Loss: 0.5938, Val F1: 0.9170\n",
      "INFO:classifier.model:  Precision: 0.8521, Recall: 0.9925\n",
      "Epoch 2/3 [Training]: 100%|██████████| 1/1 [00:00<00:00, 91.30it/s]\n",
      "Evaluating: 100%|██████████| 10/10 [00:01<00:00,  7.07it/s]\n",
      "INFO:classifier.model:Epoch 2/3 - Time: 1.43s\n",
      "INFO:classifier.model:  Train Loss: 0.9072\n",
      "INFO:classifier.model:  Val Loss: 0.5939, Val F1: 0.9170\n",
      "INFO:classifier.model:  Precision: 0.8521, Recall: 0.9925\n",
      "Epoch 3/3 [Training]: 100%|██████████| 1/1 [00:00<00:00, 83.96it/s]\n",
      "Evaluating: 100%|██████████| 10/10 [00:01<00:00,  7.04it/s]\n",
      "INFO:classifier.model:Epoch 3/3 - Time: 1.44s\n",
      "INFO:classifier.model:  Train Loss: 0.8894\n",
      "INFO:classifier.model:  Val Loss: 0.5940, Val F1: 0.9170\n",
      "INFO:classifier.model:  Precision: 0.8521, Recall: 0.9925\n",
      "INFO:classifier.model:Training on new data only: 10 examples\n"
     ]
    },
    {
     "name": "stdout",
     "output_type": "stream",
     "text": [
      "Fetching sample 5/3150...\n"
     ]
    },
    {
     "name": "stderr",
     "output_type": "stream",
     "text": [
      "Epoch 1/3 [Training]: 100%|██████████| 1/1 [00:00<00:00, 90.81it/s]\n",
      "Evaluating: 100%|██████████| 10/10 [00:01<00:00,  7.02it/s]\n",
      "INFO:classifier.model:Epoch 1/3 - Time: 1.44s\n",
      "INFO:classifier.model:  Train Loss: 0.7354\n",
      "INFO:classifier.model:  Val Loss: 0.5942, Val F1: 0.9170\n",
      "INFO:classifier.model:  Precision: 0.8521, Recall: 0.9925\n",
      "Epoch 2/3 [Training]: 100%|██████████| 1/1 [00:00<00:00, 84.25it/s]\n",
      "Evaluating: 100%|██████████| 10/10 [00:01<00:00,  7.05it/s]\n",
      "INFO:classifier.model:Epoch 2/3 - Time: 1.44s\n",
      "INFO:classifier.model:  Train Loss: 0.7272\n",
      "INFO:classifier.model:  Val Loss: 0.5943, Val F1: 0.9170\n",
      "INFO:classifier.model:  Precision: 0.8521, Recall: 0.9925\n",
      "Epoch 3/3 [Training]: 100%|██████████| 1/1 [00:00<00:00, 89.09it/s]\n",
      "Evaluating: 100%|██████████| 10/10 [00:01<00:00,  7.09it/s]\n",
      "INFO:classifier.model:Epoch 3/3 - Time: 1.43s\n",
      "INFO:classifier.model:  Train Loss: 0.8011\n",
      "INFO:classifier.model:  Val Loss: 0.5943, Val F1: 0.9170\n",
      "INFO:classifier.model:  Precision: 0.8521, Recall: 0.9925\n",
      "INFO:classifier.model:Training on new data only: 10 examples\n"
     ]
    },
    {
     "name": "stdout",
     "output_type": "stream",
     "text": [
      "Fetching sample 6/3150...\n"
     ]
    },
    {
     "name": "stderr",
     "output_type": "stream",
     "text": [
      "Epoch 1/3 [Training]: 100%|██████████| 1/1 [00:00<00:00, 90.20it/s]\n",
      "Evaluating: 100%|██████████| 10/10 [00:01<00:00,  7.10it/s]\n",
      "INFO:classifier.model:Epoch 1/3 - Time: 1.43s\n",
      "INFO:classifier.model:  Train Loss: 0.7560\n",
      "INFO:classifier.model:  Val Loss: 0.5945, Val F1: 0.9170\n",
      "INFO:classifier.model:  Precision: 0.8521, Recall: 0.9925\n",
      "Epoch 2/3 [Training]: 100%|██████████| 1/1 [00:00<00:00, 82.18it/s]\n",
      "Evaluating: 100%|██████████| 10/10 [00:01<00:00,  7.09it/s]\n",
      "INFO:classifier.model:Epoch 2/3 - Time: 1.43s\n",
      "INFO:classifier.model:  Train Loss: 0.7985\n",
      "INFO:classifier.model:  Val Loss: 0.5947, Val F1: 0.9170\n",
      "INFO:classifier.model:  Precision: 0.8521, Recall: 0.9925\n",
      "Epoch 3/3 [Training]: 100%|██████████| 1/1 [00:00<00:00, 91.06it/s]\n",
      "Evaluating: 100%|██████████| 10/10 [00:01<00:00,  7.08it/s]\n",
      "INFO:classifier.model:Epoch 3/3 - Time: 1.43s\n",
      "INFO:classifier.model:  Train Loss: 0.7878\n",
      "INFO:classifier.model:  Val Loss: 0.5948, Val F1: 0.9170\n",
      "INFO:classifier.model:  Precision: 0.8521, Recall: 0.9925\n",
      "INFO:classifier.model:Training on new data only: 10 examples\n"
     ]
    },
    {
     "name": "stdout",
     "output_type": "stream",
     "text": [
      "Fetching sample 7/3150...\n"
     ]
    },
    {
     "name": "stderr",
     "output_type": "stream",
     "text": [
      "Epoch 1/3 [Training]: 100%|██████████| 1/1 [00:00<00:00, 89.82it/s]\n",
      "Evaluating: 100%|██████████| 10/10 [00:01<00:00,  7.09it/s]\n",
      "INFO:classifier.model:Epoch 1/3 - Time: 1.43s\n",
      "INFO:classifier.model:  Train Loss: 0.6142\n",
      "INFO:classifier.model:  Val Loss: 0.5950, Val F1: 0.9170\n",
      "INFO:classifier.model:  Precision: 0.8521, Recall: 0.9925\n",
      "Epoch 2/3 [Training]: 100%|██████████| 1/1 [00:00<00:00, 92.03it/s]\n",
      "Evaluating: 100%|██████████| 10/10 [00:01<00:00,  7.03it/s]\n",
      "INFO:classifier.model:Epoch 2/3 - Time: 1.44s\n",
      "INFO:classifier.model:  Train Loss: 0.6000\n",
      "INFO:classifier.model:  Val Loss: 0.5950, Val F1: 0.9170\n",
      "INFO:classifier.model:  Precision: 0.8521, Recall: 0.9925\n",
      "Epoch 3/3 [Training]: 100%|██████████| 1/1 [00:00<00:00, 91.09it/s]\n",
      "Evaluating: 100%|██████████| 10/10 [00:01<00:00,  7.09it/s]\n",
      "INFO:classifier.model:Epoch 3/3 - Time: 1.43s\n",
      "INFO:classifier.model:  Train Loss: 0.6304\n",
      "INFO:classifier.model:  Val Loss: 0.5950, Val F1: 0.9170\n",
      "INFO:classifier.model:  Precision: 0.8521, Recall: 0.9925\n",
      "INFO:classifier.model:Training on new data only: 10 examples\n"
     ]
    },
    {
     "name": "stdout",
     "output_type": "stream",
     "text": [
      "Fetching sample 8/3150...\n"
     ]
    },
    {
     "name": "stderr",
     "output_type": "stream",
     "text": [
      "Epoch 1/3 [Training]: 100%|██████████| 1/1 [00:00<00:00, 82.29it/s]\n",
      "Evaluating: 100%|██████████| 10/10 [00:01<00:00,  7.04it/s]\n",
      "INFO:classifier.model:Epoch 1/3 - Time: 1.44s\n",
      "INFO:classifier.model:  Train Loss: 0.8697\n",
      "INFO:classifier.model:  Val Loss: 0.5951, Val F1: 0.9170\n",
      "INFO:classifier.model:  Precision: 0.8521, Recall: 0.9925\n",
      "Epoch 2/3 [Training]: 100%|██████████| 1/1 [00:00<00:00, 78.87it/s]\n",
      "Evaluating: 100%|██████████| 10/10 [00:01<00:00,  7.05it/s]\n",
      "INFO:classifier.model:Epoch 2/3 - Time: 1.44s\n",
      "INFO:classifier.model:  Train Loss: 0.8954\n",
      "INFO:classifier.model:  Val Loss: 0.5952, Val F1: 0.9170\n",
      "INFO:classifier.model:  Precision: 0.8521, Recall: 0.9925\n",
      "Epoch 3/3 [Training]: 100%|██████████| 1/1 [00:00<00:00, 91.64it/s]\n",
      "Evaluating: 100%|██████████| 10/10 [00:01<00:00,  7.03it/s]\n",
      "INFO:classifier.model:Epoch 3/3 - Time: 1.44s\n",
      "INFO:classifier.model:  Train Loss: 0.8460\n",
      "INFO:classifier.model:  Val Loss: 0.5952, Val F1: 0.9170\n",
      "INFO:classifier.model:  Precision: 0.8521, Recall: 0.9925\n",
      "INFO:classifier.model:Training on new data only: 10 examples\n"
     ]
    },
    {
     "name": "stdout",
     "output_type": "stream",
     "text": [
      "Fetching sample 9/3150...\n"
     ]
    },
    {
     "name": "stderr",
     "output_type": "stream",
     "text": [
      "Epoch 1/3 [Training]: 100%|██████████| 1/1 [00:00<00:00, 83.54it/s]\n",
      "Evaluating: 100%|██████████| 10/10 [00:01<00:00,  7.04it/s]\n",
      "INFO:classifier.model:Epoch 1/3 - Time: 1.44s\n",
      "INFO:classifier.model:  Train Loss: 0.5233\n",
      "INFO:classifier.model:  Val Loss: 0.5953, Val F1: 0.9170\n",
      "INFO:classifier.model:  Precision: 0.8521, Recall: 0.9925\n",
      "Epoch 2/3 [Training]: 100%|██████████| 1/1 [00:00<00:00, 75.85it/s]\n",
      "Evaluating: 100%|██████████| 10/10 [00:01<00:00,  7.04it/s]\n",
      "INFO:classifier.model:Epoch 2/3 - Time: 1.44s\n",
      "INFO:classifier.model:  Train Loss: 0.5323\n",
      "INFO:classifier.model:  Val Loss: 0.5954, Val F1: 0.9170\n",
      "INFO:classifier.model:  Precision: 0.8521, Recall: 0.9925\n",
      "Epoch 3/3 [Training]: 100%|██████████| 1/1 [00:00<00:00, 90.29it/s]\n",
      "Evaluating: 100%|██████████| 10/10 [00:01<00:00,  7.08it/s]\n",
      "INFO:classifier.model:Epoch 3/3 - Time: 1.43s\n",
      "INFO:classifier.model:  Train Loss: 0.5656\n",
      "INFO:classifier.model:  Val Loss: 0.5954, Val F1: 0.9170\n",
      "INFO:classifier.model:  Precision: 0.8521, Recall: 0.9925\n",
      "INFO:classifier.model:Training on new data only: 10 examples\n"
     ]
    },
    {
     "name": "stdout",
     "output_type": "stream",
     "text": [
      "Fetching sample 10/3150...\n"
     ]
    },
    {
     "name": "stderr",
     "output_type": "stream",
     "text": [
      "Epoch 1/3 [Training]: 100%|██████████| 1/1 [00:00<00:00, 89.67it/s]\n",
      "Evaluating: 100%|██████████| 10/10 [00:01<00:00,  7.08it/s]\n",
      "INFO:classifier.model:Epoch 1/3 - Time: 1.43s\n",
      "INFO:classifier.model:  Train Loss: 0.5549\n",
      "INFO:classifier.model:  Val Loss: 0.5953, Val F1: 0.9170\n",
      "INFO:classifier.model:  Precision: 0.8521, Recall: 0.9925\n",
      "Epoch 2/3 [Training]: 100%|██████████| 1/1 [00:00<00:00, 81.02it/s]\n",
      "Evaluating: 100%|██████████| 10/10 [00:01<00:00,  7.07it/s]\n",
      "INFO:classifier.model:Epoch 2/3 - Time: 1.43s\n",
      "INFO:classifier.model:  Train Loss: 0.5792\n",
      "INFO:classifier.model:  Val Loss: 0.5952, Val F1: 0.9170\n",
      "INFO:classifier.model:  Precision: 0.8521, Recall: 0.9925\n",
      "Epoch 3/3 [Training]: 100%|██████████| 1/1 [00:00<00:00, 79.84it/s]\n",
      "Evaluating: 100%|██████████| 10/10 [00:01<00:00,  7.06it/s]\n",
      "INFO:classifier.model:Epoch 3/3 - Time: 1.44s\n",
      "INFO:classifier.model:  Train Loss: 0.5494\n",
      "INFO:classifier.model:  Val Loss: 0.5951, Val F1: 0.9170\n",
      "INFO:classifier.model:  Precision: 0.8521, Recall: 0.9925\n",
      "INFO:classifier.model:Training on new data only: 10 examples\n"
     ]
    },
    {
     "name": "stdout",
     "output_type": "stream",
     "text": [
      "Fetching sample 11/3150...\n"
     ]
    },
    {
     "name": "stderr",
     "output_type": "stream",
     "text": [
      "Epoch 1/3 [Training]: 100%|██████████| 1/1 [00:00<00:00, 79.51it/s]\n",
      "Evaluating: 100%|██████████| 10/10 [00:01<00:00,  7.08it/s]\n",
      "INFO:classifier.model:Epoch 1/3 - Time: 1.43s\n",
      "INFO:classifier.model:  Train Loss: 0.8781\n",
      "INFO:classifier.model:  Val Loss: 0.5950, Val F1: 0.9170\n",
      "INFO:classifier.model:  Precision: 0.8521, Recall: 0.9925\n",
      "Epoch 2/3 [Training]: 100%|██████████| 1/1 [00:00<00:00, 76.75it/s]\n",
      "Evaluating: 100%|██████████| 10/10 [00:01<00:00,  7.04it/s]\n",
      "INFO:classifier.model:Epoch 2/3 - Time: 1.44s\n",
      "INFO:classifier.model:  Train Loss: 0.8923\n",
      "INFO:classifier.model:  Val Loss: 0.5950, Val F1: 0.9170\n",
      "INFO:classifier.model:  Precision: 0.8521, Recall: 0.9925\n",
      "Epoch 3/3 [Training]: 100%|██████████| 1/1 [00:00<00:00, 79.88it/s]\n",
      "Evaluating: 100%|██████████| 10/10 [00:01<00:00,  7.07it/s]\n",
      "INFO:classifier.model:Epoch 3/3 - Time: 1.43s\n",
      "INFO:classifier.model:  Train Loss: 0.8721\n",
      "INFO:classifier.model:  Val Loss: 0.5950, Val F1: 0.9170\n",
      "INFO:classifier.model:  Precision: 0.8521, Recall: 0.9925\n",
      "INFO:classifier.model:Training on new data only: 10 examples\n"
     ]
    },
    {
     "name": "stdout",
     "output_type": "stream",
     "text": [
      "Fetching sample 12/3150...\n"
     ]
    },
    {
     "name": "stderr",
     "output_type": "stream",
     "text": [
      "Epoch 1/3 [Training]: 100%|██████████| 1/1 [00:00<00:00, 69.19it/s]\n",
      "Evaluating: 100%|██████████| 10/10 [00:01<00:00,  7.06it/s]\n",
      "INFO:classifier.model:Epoch 1/3 - Time: 1.44s\n",
      "INFO:classifier.model:  Train Loss: 0.6293\n",
      "INFO:classifier.model:  Val Loss: 0.5950, Val F1: 0.9170\n",
      "INFO:classifier.model:  Precision: 0.8521, Recall: 0.9925\n",
      "Epoch 2/3 [Training]: 100%|██████████| 1/1 [00:00<00:00, 87.51it/s]\n",
      "Evaluating: 100%|██████████| 10/10 [00:01<00:00,  7.06it/s]\n",
      "INFO:classifier.model:Epoch 2/3 - Time: 1.44s\n",
      "INFO:classifier.model:  Train Loss: 0.6375\n",
      "INFO:classifier.model:  Val Loss: 0.5951, Val F1: 0.9170\n",
      "INFO:classifier.model:  Precision: 0.8521, Recall: 0.9925\n",
      "Epoch 3/3 [Training]: 100%|██████████| 1/1 [00:00<00:00, 85.91it/s]\n",
      "Evaluating: 100%|██████████| 10/10 [00:01<00:00,  7.02it/s]\n",
      "INFO:classifier.model:Epoch 3/3 - Time: 1.44s\n",
      "INFO:classifier.model:  Train Loss: 0.6600\n",
      "INFO:classifier.model:  Val Loss: 0.5951, Val F1: 0.9170\n",
      "INFO:classifier.model:  Precision: 0.8521, Recall: 0.9925\n",
      "INFO:classifier.model:Training on new data only: 10 examples\n"
     ]
    },
    {
     "name": "stdout",
     "output_type": "stream",
     "text": [
      "Fetching sample 13/3150...\n"
     ]
    },
    {
     "name": "stderr",
     "output_type": "stream",
     "text": [
      "Epoch 1/3 [Training]: 100%|██████████| 1/1 [00:00<00:00, 75.53it/s]\n",
      "Evaluating: 100%|██████████| 10/10 [00:01<00:00,  7.02it/s]\n",
      "INFO:classifier.model:Epoch 1/3 - Time: 1.44s\n",
      "INFO:classifier.model:  Train Loss: 0.7287\n",
      "INFO:classifier.model:  Val Loss: 0.5951, Val F1: 0.9170\n",
      "INFO:classifier.model:  Precision: 0.8521, Recall: 0.9925\n",
      "Epoch 2/3 [Training]: 100%|██████████| 1/1 [00:00<00:00, 83.04it/s]\n",
      "Evaluating: 100%|██████████| 10/10 [00:01<00:00,  7.01it/s]\n",
      "INFO:classifier.model:Epoch 2/3 - Time: 1.45s\n",
      "INFO:classifier.model:  Train Loss: 0.7234\n",
      "INFO:classifier.model:  Val Loss: 0.5951, Val F1: 0.9170\n",
      "INFO:classifier.model:  Precision: 0.8521, Recall: 0.9925\n",
      "Epoch 3/3 [Training]: 100%|██████████| 1/1 [00:00<00:00, 78.59it/s]\n",
      "Evaluating: 100%|██████████| 10/10 [00:01<00:00,  7.04it/s]\n",
      "INFO:classifier.model:Epoch 3/3 - Time: 1.44s\n",
      "INFO:classifier.model:  Train Loss: 0.7420\n",
      "INFO:classifier.model:  Val Loss: 0.5952, Val F1: 0.9170\n",
      "INFO:classifier.model:  Precision: 0.8521, Recall: 0.9925\n",
      "INFO:classifier.model:Training on new data only: 10 examples\n"
     ]
    },
    {
     "name": "stdout",
     "output_type": "stream",
     "text": [
      "Fetching sample 14/3150...\n"
     ]
    },
    {
     "name": "stderr",
     "output_type": "stream",
     "text": [
      "Epoch 1/3 [Training]: 100%|██████████| 1/1 [00:00<00:00, 87.58it/s]\n",
      "Evaluating: 100%|██████████| 10/10 [00:01<00:00,  7.03it/s]\n",
      "INFO:classifier.model:Epoch 1/3 - Time: 1.44s\n",
      "INFO:classifier.model:  Train Loss: 0.9118\n",
      "INFO:classifier.model:  Val Loss: 0.5953, Val F1: 0.9170\n",
      "INFO:classifier.model:  Precision: 0.8521, Recall: 0.9925\n",
      "Epoch 2/3 [Training]: 100%|██████████| 1/1 [00:00<00:00, 79.77it/s]\n",
      "Evaluating: 100%|██████████| 10/10 [00:01<00:00,  7.02it/s]\n",
      "INFO:classifier.model:Epoch 2/3 - Time: 1.44s\n",
      "INFO:classifier.model:  Train Loss: 0.8932\n",
      "INFO:classifier.model:  Val Loss: 0.5954, Val F1: 0.9170\n",
      "INFO:classifier.model:  Precision: 0.8521, Recall: 0.9925\n",
      "Epoch 3/3 [Training]: 100%|██████████| 1/1 [00:00<00:00, 74.88it/s]\n",
      "Evaluating: 100%|██████████| 10/10 [00:01<00:00,  7.05it/s]\n",
      "INFO:classifier.model:Epoch 3/3 - Time: 1.44s\n",
      "INFO:classifier.model:  Train Loss: 0.8851\n",
      "INFO:classifier.model:  Val Loss: 0.5954, Val F1: 0.9170\n",
      "INFO:classifier.model:  Precision: 0.8521, Recall: 0.9925\n",
      "INFO:classifier.model:Training on new data only: 10 examples\n"
     ]
    },
    {
     "name": "stdout",
     "output_type": "stream",
     "text": [
      "Fetching sample 15/3150...\n"
     ]
    },
    {
     "name": "stderr",
     "output_type": "stream",
     "text": [
      "Epoch 1/3 [Training]: 100%|██████████| 1/1 [00:00<00:00, 73.38it/s]\n",
      "Evaluating: 100%|██████████| 10/10 [00:01<00:00,  7.05it/s]\n",
      "INFO:classifier.model:Epoch 1/3 - Time: 1.44s\n",
      "INFO:classifier.model:  Train Loss: 0.5241\n",
      "INFO:classifier.model:  Val Loss: 0.5955, Val F1: 0.9170\n",
      "INFO:classifier.model:  Precision: 0.8521, Recall: 0.9925\n",
      "Epoch 2/3 [Training]: 100%|██████████| 1/1 [00:00<00:00, 86.81it/s]\n",
      "Evaluating: 100%|██████████| 10/10 [00:01<00:00,  7.04it/s]\n",
      "INFO:classifier.model:Epoch 2/3 - Time: 1.44s\n",
      "INFO:classifier.model:  Train Loss: 0.5412\n",
      "INFO:classifier.model:  Val Loss: 0.5956, Val F1: 0.9170\n",
      "INFO:classifier.model:  Precision: 0.8521, Recall: 0.9925\n",
      "Epoch 3/3 [Training]: 100%|██████████| 1/1 [00:00<00:00, 86.60it/s]\n",
      "Evaluating: 100%|██████████| 10/10 [00:01<00:00,  7.07it/s]\n",
      "INFO:classifier.model:Epoch 3/3 - Time: 1.43s\n",
      "INFO:classifier.model:  Train Loss: 0.5557\n",
      "INFO:classifier.model:  Val Loss: 0.5955, Val F1: 0.9170\n",
      "INFO:classifier.model:  Precision: 0.8521, Recall: 0.9925\n",
      "INFO:classifier.model:Training on new data only: 10 examples\n"
     ]
    },
    {
     "name": "stdout",
     "output_type": "stream",
     "text": [
      "Fetching sample 16/3150...\n"
     ]
    },
    {
     "name": "stderr",
     "output_type": "stream",
     "text": [
      "Epoch 1/3 [Training]: 100%|██████████| 1/1 [00:00<00:00, 79.46it/s]\n",
      "Evaluating: 100%|██████████| 10/10 [00:01<00:00,  7.07it/s]\n",
      "INFO:classifier.model:Epoch 1/3 - Time: 1.43s\n",
      "INFO:classifier.model:  Train Loss: 0.8253\n",
      "INFO:classifier.model:  Val Loss: 0.5956, Val F1: 0.9170\n",
      "INFO:classifier.model:  Precision: 0.8521, Recall: 0.9925\n",
      "Epoch 2/3 [Training]: 100%|██████████| 1/1 [00:00<00:00, 85.40it/s]\n",
      "Evaluating: 100%|██████████| 10/10 [00:01<00:00,  7.06it/s]\n",
      "INFO:classifier.model:Epoch 2/3 - Time: 1.43s\n",
      "INFO:classifier.model:  Train Loss: 0.9067\n",
      "INFO:classifier.model:  Val Loss: 0.5956, Val F1: 0.9170\n",
      "INFO:classifier.model:  Precision: 0.8521, Recall: 0.9925\n",
      "Epoch 3/3 [Training]: 100%|██████████| 1/1 [00:00<00:00, 80.08it/s]\n",
      "Evaluating: 100%|██████████| 10/10 [00:01<00:00,  7.04it/s]\n",
      "INFO:classifier.model:Epoch 3/3 - Time: 1.44s\n",
      "INFO:classifier.model:  Train Loss: 0.8520\n",
      "INFO:classifier.model:  Val Loss: 0.5957, Val F1: 0.9170\n",
      "INFO:classifier.model:  Precision: 0.8521, Recall: 0.9925\n",
      "INFO:classifier.model:Training on new data only: 10 examples\n"
     ]
    },
    {
     "name": "stdout",
     "output_type": "stream",
     "text": [
      "Fetching sample 17/3150...\n"
     ]
    },
    {
     "name": "stderr",
     "output_type": "stream",
     "text": [
      "Epoch 1/3 [Training]: 100%|██████████| 1/1 [00:00<00:00, 86.67it/s]\n",
      "Evaluating: 100%|██████████| 10/10 [00:01<00:00,  7.04it/s]\n",
      "INFO:classifier.model:Epoch 1/3 - Time: 1.44s\n",
      "INFO:classifier.model:  Train Loss: 0.5676\n",
      "INFO:classifier.model:  Val Loss: 0.5957, Val F1: 0.9170\n",
      "INFO:classifier.model:  Precision: 0.8521, Recall: 0.9925\n",
      "Epoch 2/3 [Training]: 100%|██████████| 1/1 [00:00<00:00, 85.63it/s]\n",
      "Evaluating: 100%|██████████| 10/10 [00:01<00:00,  7.02it/s]\n",
      "INFO:classifier.model:Epoch 2/3 - Time: 1.44s\n",
      "INFO:classifier.model:  Train Loss: 0.5826\n",
      "INFO:classifier.model:  Val Loss: 0.5957, Val F1: 0.9170\n",
      "INFO:classifier.model:  Precision: 0.8521, Recall: 0.9925\n",
      "Epoch 3/3 [Training]: 100%|██████████| 1/1 [00:00<00:00, 75.03it/s]\n",
      "Evaluating: 100%|██████████| 10/10 [00:01<00:00,  7.03it/s]\n",
      "INFO:classifier.model:Epoch 3/3 - Time: 1.44s\n",
      "INFO:classifier.model:  Train Loss: 0.5760\n",
      "INFO:classifier.model:  Val Loss: 0.5957, Val F1: 0.9170\n",
      "INFO:classifier.model:  Precision: 0.8521, Recall: 0.9925\n",
      "INFO:classifier.model:Training on new data only: 10 examples\n"
     ]
    },
    {
     "name": "stdout",
     "output_type": "stream",
     "text": [
      "Fetching sample 18/3150...\n"
     ]
    },
    {
     "name": "stderr",
     "output_type": "stream",
     "text": [
      "Epoch 1/3 [Training]: 100%|██████████| 1/1 [00:00<00:00, 85.30it/s]\n",
      "Evaluating: 100%|██████████| 10/10 [00:01<00:00,  7.05it/s]\n",
      "INFO:classifier.model:Epoch 1/3 - Time: 1.44s\n",
      "INFO:classifier.model:  Train Loss: 0.7430\n",
      "INFO:classifier.model:  Val Loss: 0.5957, Val F1: 0.9170\n",
      "INFO:classifier.model:  Precision: 0.8521, Recall: 0.9925\n",
      "Epoch 2/3 [Training]: 100%|██████████| 1/1 [00:00<00:00, 84.70it/s]\n",
      "Evaluating: 100%|██████████| 10/10 [00:01<00:00,  7.07it/s]\n",
      "INFO:classifier.model:Epoch 2/3 - Time: 1.43s\n",
      "INFO:classifier.model:  Train Loss: 0.7798\n",
      "INFO:classifier.model:  Val Loss: 0.5958, Val F1: 0.9170\n",
      "INFO:classifier.model:  Precision: 0.8521, Recall: 0.9925\n",
      "Epoch 3/3 [Training]: 100%|██████████| 1/1 [00:00<00:00, 84.91it/s]\n",
      "Evaluating: 100%|██████████| 10/10 [00:01<00:00,  7.05it/s]\n",
      "INFO:classifier.model:Epoch 3/3 - Time: 1.44s\n",
      "INFO:classifier.model:  Train Loss: 0.8218\n",
      "INFO:classifier.model:  Val Loss: 0.5958, Val F1: 0.9170\n",
      "INFO:classifier.model:  Precision: 0.8521, Recall: 0.9925\n",
      "INFO:classifier.model:Training on new data only: 10 examples\n"
     ]
    },
    {
     "name": "stdout",
     "output_type": "stream",
     "text": [
      "Fetching sample 19/3150...\n"
     ]
    },
    {
     "name": "stderr",
     "output_type": "stream",
     "text": [
      "Epoch 1/3 [Training]: 100%|██████████| 1/1 [00:00<00:00, 84.65it/s]\n",
      "Evaluating: 100%|██████████| 10/10 [00:01<00:00,  7.07it/s]\n",
      "INFO:classifier.model:Epoch 1/3 - Time: 1.43s\n",
      "INFO:classifier.model:  Train Loss: 0.6099\n",
      "INFO:classifier.model:  Val Loss: 0.5958, Val F1: 0.9170\n",
      "INFO:classifier.model:  Precision: 0.8521, Recall: 0.9925\n",
      "Epoch 2/3 [Training]: 100%|██████████| 1/1 [00:00<00:00, 87.20it/s]\n",
      "Evaluating: 100%|██████████| 10/10 [00:01<00:00,  7.03it/s]\n",
      "INFO:classifier.model:Epoch 2/3 - Time: 1.44s\n",
      "INFO:classifier.model:  Train Loss: 0.5817\n",
      "INFO:classifier.model:  Val Loss: 0.5958, Val F1: 0.9170\n",
      "INFO:classifier.model:  Precision: 0.8521, Recall: 0.9925\n",
      "Epoch 3/3 [Training]: 100%|██████████| 1/1 [00:00<00:00, 86.35it/s]\n",
      "Evaluating: 100%|██████████| 10/10 [00:01<00:00,  7.05it/s]\n",
      "INFO:classifier.model:Epoch 3/3 - Time: 1.44s\n",
      "INFO:classifier.model:  Train Loss: 0.5765\n",
      "INFO:classifier.model:  Val Loss: 0.5958, Val F1: 0.9170\n",
      "INFO:classifier.model:  Precision: 0.8521, Recall: 0.9925\n",
      "INFO:classifier.model:Training on new data only: 10 examples\n"
     ]
    },
    {
     "name": "stdout",
     "output_type": "stream",
     "text": [
      "Fetching sample 20/3150...\n"
     ]
    },
    {
     "name": "stderr",
     "output_type": "stream",
     "text": [
      "Epoch 1/3 [Training]: 100%|██████████| 1/1 [00:00<00:00, 90.54it/s]\n",
      "Evaluating: 100%|██████████| 10/10 [00:01<00:00,  7.05it/s]\n",
      "INFO:classifier.model:Epoch 1/3 - Time: 1.44s\n",
      "INFO:classifier.model:  Train Loss: 0.8259\n",
      "INFO:classifier.model:  Val Loss: 0.5958, Val F1: 0.9170\n",
      "INFO:classifier.model:  Precision: 0.8521, Recall: 0.9925\n",
      "Epoch 2/3 [Training]: 100%|██████████| 1/1 [00:00<00:00, 92.02it/s]\n",
      "Evaluating: 100%|██████████| 10/10 [00:01<00:00,  7.09it/s]\n",
      "INFO:classifier.model:Epoch 2/3 - Time: 1.43s\n",
      "INFO:classifier.model:  Train Loss: 0.8790\n",
      "INFO:classifier.model:  Val Loss: 0.5958, Val F1: 0.9170\n",
      "INFO:classifier.model:  Precision: 0.8521, Recall: 0.9925\n",
      "Epoch 3/3 [Training]: 100%|██████████| 1/1 [00:00<00:00, 92.00it/s]\n",
      "Evaluating: 100%|██████████| 10/10 [00:01<00:00,  7.06it/s]\n",
      "INFO:classifier.model:Epoch 3/3 - Time: 1.43s\n",
      "INFO:classifier.model:  Train Loss: 0.9197\n",
      "INFO:classifier.model:  Val Loss: 0.5959, Val F1: 0.9170\n",
      "INFO:classifier.model:  Precision: 0.8521, Recall: 0.9925\n",
      "INFO:classifier.model:Training on new data only: 10 examples\n"
     ]
    },
    {
     "name": "stdout",
     "output_type": "stream",
     "text": [
      "Fetching sample 21/3150...\n"
     ]
    },
    {
     "name": "stderr",
     "output_type": "stream",
     "text": [
      "Epoch 1/3 [Training]: 100%|██████████| 1/1 [00:00<00:00, 83.78it/s]\n",
      "Evaluating: 100%|██████████| 10/10 [00:01<00:00,  7.03it/s]\n",
      "INFO:classifier.model:Epoch 1/3 - Time: 1.44s\n",
      "INFO:classifier.model:  Train Loss: 0.5895\n",
      "INFO:classifier.model:  Val Loss: 0.5959, Val F1: 0.9170\n",
      "INFO:classifier.model:  Precision: 0.8521, Recall: 0.9925\n",
      "Epoch 2/3 [Training]: 100%|██████████| 1/1 [00:00<00:00, 89.49it/s]\n",
      "Evaluating: 100%|██████████| 10/10 [00:01<00:00,  7.05it/s]\n",
      "INFO:classifier.model:Epoch 2/3 - Time: 1.44s\n",
      "INFO:classifier.model:  Train Loss: 0.5983\n",
      "INFO:classifier.model:  Val Loss: 0.5959, Val F1: 0.9170\n",
      "INFO:classifier.model:  Precision: 0.8521, Recall: 0.9925\n",
      "Epoch 3/3 [Training]: 100%|██████████| 1/1 [00:00<00:00, 82.23it/s]\n",
      "Evaluating: 100%|██████████| 10/10 [00:01<00:00,  7.06it/s]\n",
      "INFO:classifier.model:Epoch 3/3 - Time: 1.44s\n",
      "INFO:classifier.model:  Train Loss: 0.6082\n",
      "INFO:classifier.model:  Val Loss: 0.5958, Val F1: 0.9170\n",
      "INFO:classifier.model:  Precision: 0.8521, Recall: 0.9925\n",
      "INFO:classifier.model:Training on new data only: 10 examples\n"
     ]
    },
    {
     "name": "stdout",
     "output_type": "stream",
     "text": [
      "Fetching sample 22/3150...\n"
     ]
    },
    {
     "name": "stderr",
     "output_type": "stream",
     "text": [
      "Epoch 1/3 [Training]: 100%|██████████| 1/1 [00:00<00:00, 90.52it/s]\n",
      "Evaluating: 100%|██████████| 10/10 [00:01<00:00,  7.08it/s]\n",
      "INFO:classifier.model:Epoch 1/3 - Time: 1.43s\n",
      "INFO:classifier.model:  Train Loss: 0.5505\n",
      "INFO:classifier.model:  Val Loss: 0.5958, Val F1: 0.9170\n",
      "INFO:classifier.model:  Precision: 0.8521, Recall: 0.9925\n",
      "Epoch 2/3 [Training]: 100%|██████████| 1/1 [00:00<00:00, 90.51it/s]\n",
      "Evaluating: 100%|██████████| 10/10 [00:01<00:00,  7.09it/s]\n",
      "INFO:classifier.model:Epoch 2/3 - Time: 1.43s\n",
      "INFO:classifier.model:  Train Loss: 0.5711\n",
      "INFO:classifier.model:  Val Loss: 0.5956, Val F1: 0.9170\n",
      "INFO:classifier.model:  Precision: 0.8521, Recall: 0.9925\n",
      "Epoch 3/3 [Training]: 100%|██████████| 1/1 [00:00<00:00, 91.93it/s]\n",
      "Evaluating: 100%|██████████| 10/10 [00:01<00:00,  7.06it/s]\n",
      "INFO:classifier.model:Epoch 3/3 - Time: 1.43s\n",
      "INFO:classifier.model:  Train Loss: 0.5704\n",
      "INFO:classifier.model:  Val Loss: 0.5956, Val F1: 0.9170\n",
      "INFO:classifier.model:  Precision: 0.8521, Recall: 0.9925\n",
      "INFO:classifier.model:Training on new data only: 10 examples\n"
     ]
    },
    {
     "name": "stdout",
     "output_type": "stream",
     "text": [
      "Fetching sample 23/3150...\n"
     ]
    },
    {
     "name": "stderr",
     "output_type": "stream",
     "text": [
      "Epoch 1/3 [Training]: 100%|██████████| 1/1 [00:00<00:00, 91.32it/s]\n",
      "Evaluating: 100%|██████████| 10/10 [00:01<00:00,  7.08it/s]\n",
      "INFO:classifier.model:Epoch 1/3 - Time: 1.43s\n",
      "INFO:classifier.model:  Train Loss: 0.9076\n",
      "INFO:classifier.model:  Val Loss: 0.5955, Val F1: 0.9170\n",
      "INFO:classifier.model:  Precision: 0.8521, Recall: 0.9925\n",
      "Epoch 2/3 [Training]: 100%|██████████| 1/1 [00:00<00:00, 90.94it/s]\n",
      "Evaluating: 100%|██████████| 10/10 [00:01<00:00,  7.08it/s]\n",
      "INFO:classifier.model:Epoch 2/3 - Time: 1.43s\n",
      "INFO:classifier.model:  Train Loss: 0.8635\n",
      "INFO:classifier.model:  Val Loss: 0.5954, Val F1: 0.9170\n",
      "INFO:classifier.model:  Precision: 0.8521, Recall: 0.9925\n",
      "Epoch 3/3 [Training]: 100%|██████████| 1/1 [00:00<00:00, 90.46it/s]\n",
      "Evaluating: 100%|██████████| 10/10 [00:01<00:00,  7.07it/s]\n",
      "INFO:classifier.model:Epoch 3/3 - Time: 1.43s\n",
      "INFO:classifier.model:  Train Loss: 0.8514\n",
      "INFO:classifier.model:  Val Loss: 0.5954, Val F1: 0.9170\n",
      "INFO:classifier.model:  Precision: 0.8521, Recall: 0.9925\n",
      "INFO:classifier.model:Training on new data only: 10 examples\n"
     ]
    },
    {
     "name": "stdout",
     "output_type": "stream",
     "text": [
      "Fetching sample 24/3150...\n"
     ]
    },
    {
     "name": "stderr",
     "output_type": "stream",
     "text": [
      "Epoch 1/3 [Training]: 100%|██████████| 1/1 [00:00<00:00, 89.14it/s]\n",
      "Evaluating: 100%|██████████| 10/10 [00:01<00:00,  7.09it/s]\n",
      "INFO:classifier.model:Epoch 1/3 - Time: 1.43s\n",
      "INFO:classifier.model:  Train Loss: 0.6883\n",
      "INFO:classifier.model:  Val Loss: 0.5954, Val F1: 0.9170\n",
      "INFO:classifier.model:  Precision: 0.8521, Recall: 0.9925\n",
      "Epoch 2/3 [Training]: 100%|██████████| 1/1 [00:00<00:00, 89.45it/s]\n",
      "Evaluating: 100%|██████████| 10/10 [00:01<00:00,  7.03it/s]\n",
      "INFO:classifier.model:Epoch 2/3 - Time: 1.44s\n",
      "INFO:classifier.model:  Train Loss: 0.7014\n",
      "INFO:classifier.model:  Val Loss: 0.5954, Val F1: 0.9170\n",
      "INFO:classifier.model:  Precision: 0.8521, Recall: 0.9925\n",
      "Epoch 3/3 [Training]: 100%|██████████| 1/1 [00:00<00:00, 83.30it/s]\n",
      "Evaluating: 100%|██████████| 10/10 [00:01<00:00,  7.07it/s]\n",
      "INFO:classifier.model:Epoch 3/3 - Time: 1.43s\n",
      "INFO:classifier.model:  Train Loss: 0.7160\n",
      "INFO:classifier.model:  Val Loss: 0.5954, Val F1: 0.9170\n",
      "INFO:classifier.model:  Precision: 0.8521, Recall: 0.9925\n",
      "INFO:classifier.model:Training on new data only: 10 examples\n"
     ]
    },
    {
     "name": "stdout",
     "output_type": "stream",
     "text": [
      "Fetching sample 25/3150...\n"
     ]
    },
    {
     "name": "stderr",
     "output_type": "stream",
     "text": [
      "Epoch 1/3 [Training]: 100%|██████████| 1/1 [00:00<00:00, 90.28it/s]\n",
      "Evaluating: 100%|██████████| 10/10 [00:01<00:00,  7.09it/s]\n",
      "INFO:classifier.model:Epoch 1/3 - Time: 1.43s\n",
      "INFO:classifier.model:  Train Loss: 0.9099\n",
      "INFO:classifier.model:  Val Loss: 0.5955, Val F1: 0.9170\n",
      "INFO:classifier.model:  Precision: 0.8521, Recall: 0.9925\n",
      "Epoch 2/3 [Training]: 100%|██████████| 1/1 [00:00<00:00, 88.82it/s]\n",
      "Evaluating: 100%|██████████| 10/10 [00:01<00:00,  7.07it/s]\n",
      "INFO:classifier.model:Epoch 2/3 - Time: 1.43s\n",
      "INFO:classifier.model:  Train Loss: 0.9154\n",
      "INFO:classifier.model:  Val Loss: 0.5955, Val F1: 0.9170\n",
      "INFO:classifier.model:  Precision: 0.8521, Recall: 0.9925\n",
      "Epoch 3/3 [Training]: 100%|██████████| 1/1 [00:00<00:00, 90.19it/s]\n",
      "Evaluating: 100%|██████████| 10/10 [00:01<00:00,  7.07it/s]\n",
      "INFO:classifier.model:Epoch 3/3 - Time: 1.43s\n",
      "INFO:classifier.model:  Train Loss: 0.8446\n",
      "INFO:classifier.model:  Val Loss: 0.5956, Val F1: 0.9170\n",
      "INFO:classifier.model:  Precision: 0.8521, Recall: 0.9925\n",
      "INFO:classifier.model:Training on new data only: 10 examples\n"
     ]
    },
    {
     "name": "stdout",
     "output_type": "stream",
     "text": [
      "Fetching sample 26/3150...\n"
     ]
    },
    {
     "name": "stderr",
     "output_type": "stream",
     "text": [
      "Epoch 1/3 [Training]: 100%|██████████| 1/1 [00:00<00:00, 90.00it/s]\n",
      "Evaluating: 100%|██████████| 10/10 [00:01<00:00,  7.08it/s]\n",
      "INFO:classifier.model:Epoch 1/3 - Time: 1.43s\n",
      "INFO:classifier.model:  Train Loss: 0.8563\n",
      "INFO:classifier.model:  Val Loss: 0.5958, Val F1: 0.9170\n",
      "INFO:classifier.model:  Precision: 0.8521, Recall: 0.9925\n",
      "Epoch 2/3 [Training]: 100%|██████████| 1/1 [00:00<00:00, 90.85it/s]\n",
      "Evaluating: 100%|██████████| 10/10 [00:01<00:00,  7.09it/s]\n",
      "INFO:classifier.model:Epoch 2/3 - Time: 1.43s\n",
      "INFO:classifier.model:  Train Loss: 0.8934\n",
      "INFO:classifier.model:  Val Loss: 0.5959, Val F1: 0.9170\n",
      "INFO:classifier.model:  Precision: 0.8521, Recall: 0.9925\n",
      "Epoch 3/3 [Training]: 100%|██████████| 1/1 [00:00<00:00, 91.49it/s]\n",
      "Evaluating: 100%|██████████| 10/10 [00:01<00:00,  7.09it/s]\n",
      "INFO:classifier.model:Epoch 3/3 - Time: 1.43s\n",
      "INFO:classifier.model:  Train Loss: 0.8888\n",
      "INFO:classifier.model:  Val Loss: 0.5960, Val F1: 0.9170\n",
      "INFO:classifier.model:  Precision: 0.8521, Recall: 0.9925\n",
      "INFO:classifier.model:Training on new data only: 10 examples\n"
     ]
    },
    {
     "name": "stdout",
     "output_type": "stream",
     "text": [
      "Fetching sample 27/3150...\n"
     ]
    },
    {
     "name": "stderr",
     "output_type": "stream",
     "text": [
      "Epoch 1/3 [Training]: 100%|██████████| 1/1 [00:00<00:00, 91.46it/s]\n",
      "Evaluating: 100%|██████████| 10/10 [00:01<00:00,  7.09it/s]\n",
      "INFO:classifier.model:Epoch 1/3 - Time: 1.43s\n",
      "INFO:classifier.model:  Train Loss: 0.5324\n",
      "INFO:classifier.model:  Val Loss: 0.5962, Val F1: 0.9170\n",
      "INFO:classifier.model:  Precision: 0.8521, Recall: 0.9925\n",
      "Epoch 2/3 [Training]: 100%|██████████| 1/1 [00:00<00:00, 91.16it/s]\n",
      "Evaluating: 100%|██████████| 10/10 [00:01<00:00,  7.06it/s]\n",
      "INFO:classifier.model:Epoch 2/3 - Time: 1.43s\n",
      "INFO:classifier.model:  Train Loss: 0.5324\n",
      "INFO:classifier.model:  Val Loss: 0.5962, Val F1: 0.9170\n",
      "INFO:classifier.model:  Precision: 0.8521, Recall: 0.9925\n",
      "Epoch 3/3 [Training]: 100%|██████████| 1/1 [00:00<00:00, 91.07it/s]\n",
      "Evaluating: 100%|██████████| 10/10 [00:01<00:00,  7.09it/s]\n",
      "INFO:classifier.model:Epoch 3/3 - Time: 1.43s\n",
      "INFO:classifier.model:  Train Loss: 0.5321\n",
      "INFO:classifier.model:  Val Loss: 0.5963, Val F1: 0.9170\n",
      "INFO:classifier.model:  Precision: 0.8521, Recall: 0.9925\n",
      "INFO:classifier.model:Training on new data only: 10 examples\n"
     ]
    },
    {
     "name": "stdout",
     "output_type": "stream",
     "text": [
      "Fetching sample 28/3150...\n"
     ]
    },
    {
     "name": "stderr",
     "output_type": "stream",
     "text": [
      "Epoch 1/3 [Training]: 100%|██████████| 1/1 [00:00<00:00, 90.96it/s]\n",
      "Evaluating: 100%|██████████| 10/10 [00:01<00:00,  7.08it/s]\n",
      "INFO:classifier.model:Epoch 1/3 - Time: 1.43s\n",
      "INFO:classifier.model:  Train Loss: 0.8496\n",
      "INFO:classifier.model:  Val Loss: 0.5963, Val F1: 0.9170\n",
      "INFO:classifier.model:  Precision: 0.8521, Recall: 0.9925\n",
      "Epoch 2/3 [Training]: 100%|██████████| 1/1 [00:00<00:00, 82.97it/s]\n",
      "Evaluating: 100%|██████████| 10/10 [00:01<00:00,  7.07it/s]\n",
      "INFO:classifier.model:Epoch 2/3 - Time: 1.43s\n",
      "INFO:classifier.model:  Train Loss: 0.8491\n",
      "INFO:classifier.model:  Val Loss: 0.5964, Val F1: 0.9170\n",
      "INFO:classifier.model:  Precision: 0.8521, Recall: 0.9925\n",
      "Epoch 3/3 [Training]: 100%|██████████| 1/1 [00:00<00:00, 89.92it/s]\n",
      "Evaluating: 100%|██████████| 10/10 [00:01<00:00,  7.06it/s]\n",
      "INFO:classifier.model:Epoch 3/3 - Time: 1.43s\n",
      "INFO:classifier.model:  Train Loss: 0.8398\n",
      "INFO:classifier.model:  Val Loss: 0.5965, Val F1: 0.9170\n",
      "INFO:classifier.model:  Precision: 0.8521, Recall: 0.9925\n",
      "INFO:classifier.model:Training on new data only: 10 examples\n"
     ]
    },
    {
     "name": "stdout",
     "output_type": "stream",
     "text": [
      "Fetching sample 29/3150...\n"
     ]
    },
    {
     "name": "stderr",
     "output_type": "stream",
     "text": [
      "Epoch 1/3 [Training]: 100%|██████████| 1/1 [00:00<00:00, 87.91it/s]\n",
      "Evaluating: 100%|██████████| 10/10 [00:01<00:00,  7.06it/s]\n",
      "INFO:classifier.model:Epoch 1/3 - Time: 1.43s\n",
      "INFO:classifier.model:  Train Loss: 0.5813\n",
      "INFO:classifier.model:  Val Loss: 0.5966, Val F1: 0.9170\n",
      "INFO:classifier.model:  Precision: 0.8521, Recall: 0.9925\n",
      "Epoch 2/3 [Training]: 100%|██████████| 1/1 [00:00<00:00, 79.19it/s]\n",
      "Evaluating: 100%|██████████| 10/10 [00:01<00:00,  7.02it/s]\n",
      "INFO:classifier.model:Epoch 2/3 - Time: 1.44s\n",
      "INFO:classifier.model:  Train Loss: 0.5757\n",
      "INFO:classifier.model:  Val Loss: 0.5966, Val F1: 0.9170\n",
      "INFO:classifier.model:  Precision: 0.8521, Recall: 0.9925\n",
      "Epoch 3/3 [Training]: 100%|██████████| 1/1 [00:00<00:00, 86.75it/s]\n",
      "Evaluating: 100%|██████████| 10/10 [00:01<00:00,  7.05it/s]\n",
      "INFO:classifier.model:Epoch 3/3 - Time: 1.44s\n",
      "INFO:classifier.model:  Train Loss: 0.6002\n",
      "INFO:classifier.model:  Val Loss: 0.5966, Val F1: 0.9170\n",
      "INFO:classifier.model:  Precision: 0.8521, Recall: 0.9925\n",
      "INFO:classifier.model:Training on new data only: 10 examples\n"
     ]
    },
    {
     "name": "stdout",
     "output_type": "stream",
     "text": [
      "Fetching sample 30/3150...\n"
     ]
    },
    {
     "name": "stderr",
     "output_type": "stream",
     "text": [
      "Epoch 1/3 [Training]: 100%|██████████| 1/1 [00:00<00:00, 86.38it/s]\n",
      "Evaluating: 100%|██████████| 10/10 [00:01<00:00,  7.07it/s]\n",
      "INFO:classifier.model:Epoch 1/3 - Time: 1.43s\n",
      "INFO:classifier.model:  Train Loss: 0.8843\n",
      "INFO:classifier.model:  Val Loss: 0.5966, Val F1: 0.9170\n",
      "INFO:classifier.model:  Precision: 0.8521, Recall: 0.9925\n",
      "Epoch 2/3 [Training]: 100%|██████████| 1/1 [00:00<00:00, 85.92it/s]\n",
      "Evaluating: 100%|██████████| 10/10 [00:01<00:00,  7.08it/s]\n",
      "INFO:classifier.model:Epoch 2/3 - Time: 1.43s\n",
      "INFO:classifier.model:  Train Loss: 0.8438\n",
      "INFO:classifier.model:  Val Loss: 0.5967, Val F1: 0.9170\n",
      "INFO:classifier.model:  Precision: 0.8521, Recall: 0.9925\n",
      "Epoch 3/3 [Training]: 100%|██████████| 1/1 [00:00<00:00, 79.98it/s]\n",
      "Evaluating: 100%|██████████| 10/10 [00:01<00:00,  7.02it/s]\n",
      "INFO:classifier.model:Epoch 3/3 - Time: 1.44s\n",
      "INFO:classifier.model:  Train Loss: 0.8950\n",
      "INFO:classifier.model:  Val Loss: 0.5967, Val F1: 0.9170\n",
      "INFO:classifier.model:  Precision: 0.8521, Recall: 0.9925\n",
      "INFO:classifier.model:Training on new data only: 10 examples\n"
     ]
    },
    {
     "name": "stdout",
     "output_type": "stream",
     "text": [
      "Fetching sample 31/3150...\n"
     ]
    },
    {
     "name": "stderr",
     "output_type": "stream",
     "text": [
      "Epoch 1/3 [Training]: 100%|██████████| 1/1 [00:00<00:00, 86.08it/s]\n",
      "Evaluating: 100%|██████████| 10/10 [00:01<00:00,  7.03it/s]\n",
      "INFO:classifier.model:Epoch 1/3 - Time: 1.44s\n",
      "INFO:classifier.model:  Train Loss: 0.5324\n",
      "INFO:classifier.model:  Val Loss: 0.5968, Val F1: 0.9170\n",
      "INFO:classifier.model:  Precision: 0.8521, Recall: 0.9925\n",
      "Epoch 2/3 [Training]: 100%|██████████| 1/1 [00:00<00:00, 87.31it/s]\n",
      "Evaluating: 100%|██████████| 10/10 [00:01<00:00,  7.01it/s]\n",
      "INFO:classifier.model:Epoch 2/3 - Time: 1.44s\n",
      "INFO:classifier.model:  Train Loss: 0.5570\n",
      "INFO:classifier.model:  Val Loss: 0.5968, Val F1: 0.9170\n",
      "INFO:classifier.model:  Precision: 0.8521, Recall: 0.9925\n",
      "Epoch 3/3 [Training]: 100%|██████████| 1/1 [00:00<00:00, 78.72it/s]\n",
      "Evaluating: 100%|██████████| 10/10 [00:01<00:00,  7.03it/s]\n",
      "INFO:classifier.model:Epoch 3/3 - Time: 1.44s\n",
      "INFO:classifier.model:  Train Loss: 0.5608\n",
      "INFO:classifier.model:  Val Loss: 0.5968, Val F1: 0.9170\n",
      "INFO:classifier.model:  Precision: 0.8521, Recall: 0.9925\n",
      "INFO:classifier.model:Training on new data only: 10 examples\n"
     ]
    },
    {
     "name": "stdout",
     "output_type": "stream",
     "text": [
      "Fetching sample 32/3150...\n"
     ]
    },
    {
     "name": "stderr",
     "output_type": "stream",
     "text": [
      "Epoch 1/3 [Training]: 100%|██████████| 1/1 [00:00<00:00, 86.67it/s]\n",
      "Evaluating: 100%|██████████| 10/10 [00:01<00:00,  7.06it/s]\n",
      "INFO:classifier.model:Epoch 1/3 - Time: 1.43s\n",
      "INFO:classifier.model:  Train Loss: 0.8944\n",
      "INFO:classifier.model:  Val Loss: 0.5968, Val F1: 0.9170\n",
      "INFO:classifier.model:  Precision: 0.8521, Recall: 0.9925\n",
      "Epoch 2/3 [Training]: 100%|██████████| 1/1 [00:00<00:00, 75.14it/s]\n",
      "Evaluating: 100%|██████████| 10/10 [00:01<00:00,  7.06it/s]\n",
      "INFO:classifier.model:Epoch 2/3 - Time: 1.44s\n",
      "INFO:classifier.model:  Train Loss: 0.8323\n",
      "INFO:classifier.model:  Val Loss: 0.5968, Val F1: 0.9170\n",
      "INFO:classifier.model:  Precision: 0.8521, Recall: 0.9925\n",
      "Epoch 3/3 [Training]: 100%|██████████| 1/1 [00:00<00:00, 74.18it/s]\n",
      "Evaluating: 100%|██████████| 10/10 [00:01<00:00,  7.05it/s]\n",
      "INFO:classifier.model:Epoch 3/3 - Time: 1.44s\n",
      "INFO:classifier.model:  Train Loss: 0.8767\n",
      "INFO:classifier.model:  Val Loss: 0.5968, Val F1: 0.9170\n",
      "INFO:classifier.model:  Precision: 0.8521, Recall: 0.9925\n",
      "INFO:classifier.model:Training on new data only: 10 examples\n"
     ]
    },
    {
     "name": "stdout",
     "output_type": "stream",
     "text": [
      "Fetching sample 33/3150...\n"
     ]
    },
    {
     "name": "stderr",
     "output_type": "stream",
     "text": [
      "Epoch 1/3 [Training]: 100%|██████████| 1/1 [00:00<00:00, 81.35it/s]\n",
      "Evaluating: 100%|██████████| 10/10 [00:01<00:00,  7.06it/s]\n",
      "INFO:classifier.model:Epoch 1/3 - Time: 1.44s\n",
      "INFO:classifier.model:  Train Loss: 0.5827\n",
      "INFO:classifier.model:  Val Loss: 0.5969, Val F1: 0.9170\n",
      "INFO:classifier.model:  Precision: 0.8521, Recall: 0.9925\n",
      "Epoch 2/3 [Training]: 100%|██████████| 1/1 [00:00<00:00, 86.10it/s]\n",
      "Evaluating: 100%|██████████| 10/10 [00:01<00:00,  7.08it/s]\n",
      "INFO:classifier.model:Epoch 2/3 - Time: 1.43s\n",
      "INFO:classifier.model:  Train Loss: 0.5548\n",
      "INFO:classifier.model:  Val Loss: 0.5969, Val F1: 0.9170\n",
      "INFO:classifier.model:  Precision: 0.8521, Recall: 0.9925\n",
      "Epoch 3/3 [Training]: 100%|██████████| 1/1 [00:00<00:00, 75.20it/s]\n",
      "Evaluating: 100%|██████████| 10/10 [00:01<00:00,  7.03it/s]\n",
      "INFO:classifier.model:Epoch 3/3 - Time: 1.44s\n",
      "INFO:classifier.model:  Train Loss: 0.5731\n",
      "INFO:classifier.model:  Val Loss: 0.5969, Val F1: 0.9170\n",
      "INFO:classifier.model:  Precision: 0.8521, Recall: 0.9925\n",
      "INFO:classifier.model:Training on new data only: 10 examples\n"
     ]
    },
    {
     "name": "stdout",
     "output_type": "stream",
     "text": [
      "Fetching sample 34/3150...\n"
     ]
    },
    {
     "name": "stderr",
     "output_type": "stream",
     "text": [
      "Epoch 1/3 [Training]: 100%|██████████| 1/1 [00:00<00:00, 76.50it/s]\n",
      "Evaluating: 100%|██████████| 10/10 [00:01<00:00,  7.04it/s]\n",
      "INFO:classifier.model:Epoch 1/3 - Time: 1.44s\n",
      "INFO:classifier.model:  Train Loss: 0.8532\n",
      "INFO:classifier.model:  Val Loss: 0.5968, Val F1: 0.9170\n",
      "INFO:classifier.model:  Precision: 0.8521, Recall: 0.9925\n",
      "Epoch 2/3 [Training]: 100%|██████████| 1/1 [00:00<00:00, 86.18it/s]\n",
      "Evaluating: 100%|██████████| 10/10 [00:01<00:00,  7.06it/s]\n",
      "INFO:classifier.model:Epoch 2/3 - Time: 1.44s\n",
      "INFO:classifier.model:  Train Loss: 0.8524\n",
      "INFO:classifier.model:  Val Loss: 0.5969, Val F1: 0.9170\n",
      "INFO:classifier.model:  Precision: 0.8521, Recall: 0.9925\n",
      "Epoch 3/3 [Training]: 100%|██████████| 1/1 [00:00<00:00, 86.02it/s]\n",
      "Evaluating: 100%|██████████| 10/10 [00:01<00:00,  7.07it/s]\n",
      "INFO:classifier.model:Epoch 3/3 - Time: 1.43s\n",
      "INFO:classifier.model:  Train Loss: 0.8155\n",
      "INFO:classifier.model:  Val Loss: 0.5969, Val F1: 0.9170\n",
      "INFO:classifier.model:  Precision: 0.8521, Recall: 0.9925\n",
      "INFO:classifier.model:Training on new data only: 10 examples\n"
     ]
    },
    {
     "name": "stdout",
     "output_type": "stream",
     "text": [
      "Fetching sample 35/3150...\n"
     ]
    },
    {
     "name": "stderr",
     "output_type": "stream",
     "text": [
      "Epoch 1/3 [Training]: 100%|██████████| 1/1 [00:00<00:00, 85.71it/s]\n",
      "Evaluating: 100%|██████████| 10/10 [00:01<00:00,  7.07it/s]\n",
      "INFO:classifier.model:Epoch 1/3 - Time: 1.43s\n",
      "INFO:classifier.model:  Train Loss: 0.5346\n",
      "INFO:classifier.model:  Val Loss: 0.5969, Val F1: 0.9170\n",
      "INFO:classifier.model:  Precision: 0.8521, Recall: 0.9925\n",
      "Epoch 2/3 [Training]: 100%|██████████| 1/1 [00:00<00:00, 85.34it/s]\n",
      "Evaluating: 100%|██████████| 10/10 [00:01<00:00,  7.06it/s]\n",
      "INFO:classifier.model:Epoch 2/3 - Time: 1.44s\n",
      "INFO:classifier.model:  Train Loss: 0.5661\n",
      "INFO:classifier.model:  Val Loss: 0.5969, Val F1: 0.9170\n",
      "INFO:classifier.model:  Precision: 0.8521, Recall: 0.9925\n",
      "Epoch 3/3 [Training]: 100%|██████████| 1/1 [00:00<00:00, 76.37it/s]\n",
      "Evaluating: 100%|██████████| 10/10 [00:01<00:00,  7.03it/s]\n",
      "INFO:classifier.model:Epoch 3/3 - Time: 1.44s\n",
      "INFO:classifier.model:  Train Loss: 0.5975\n",
      "INFO:classifier.model:  Val Loss: 0.5969, Val F1: 0.9170\n",
      "INFO:classifier.model:  Precision: 0.8521, Recall: 0.9925\n",
      "INFO:classifier.model:Training on new data only: 10 examples\n"
     ]
    },
    {
     "name": "stdout",
     "output_type": "stream",
     "text": [
      "Fetching sample 36/3150...\n"
     ]
    },
    {
     "name": "stderr",
     "output_type": "stream",
     "text": [
      "Epoch 1/3 [Training]: 100%|██████████| 1/1 [00:00<00:00, 85.14it/s]\n",
      "Evaluating: 100%|██████████| 10/10 [00:01<00:00,  7.04it/s]\n",
      "INFO:classifier.model:Epoch 1/3 - Time: 1.44s\n",
      "INFO:classifier.model:  Train Loss: 0.6301\n",
      "INFO:classifier.model:  Val Loss: 0.5968, Val F1: 0.9170\n",
      "INFO:classifier.model:  Precision: 0.8521, Recall: 0.9925\n",
      "Epoch 2/3 [Training]: 100%|██████████| 1/1 [00:00<00:00, 76.77it/s]\n",
      "Evaluating: 100%|██████████| 10/10 [00:01<00:00,  7.06it/s]\n",
      "INFO:classifier.model:Epoch 2/3 - Time: 1.44s\n",
      "INFO:classifier.model:  Train Loss: 0.6278\n",
      "INFO:classifier.model:  Val Loss: 0.5968, Val F1: 0.9170\n",
      "INFO:classifier.model:  Precision: 0.8521, Recall: 0.9925\n",
      "Epoch 3/3 [Training]: 100%|██████████| 1/1 [00:00<00:00, 77.64it/s]\n",
      "Evaluating: 100%|██████████| 10/10 [00:01<00:00,  7.00it/s]\n",
      "INFO:classifier.model:Epoch 3/3 - Time: 1.45s\n",
      "INFO:classifier.model:  Train Loss: 0.6537\n",
      "INFO:classifier.model:  Val Loss: 0.5968, Val F1: 0.9170\n",
      "INFO:classifier.model:  Precision: 0.8521, Recall: 0.9925\n",
      "INFO:classifier.model:Training on new data only: 10 examples\n"
     ]
    },
    {
     "name": "stdout",
     "output_type": "stream",
     "text": [
      "Fetching sample 37/3150...\n"
     ]
    },
    {
     "name": "stderr",
     "output_type": "stream",
     "text": [
      "Epoch 1/3 [Training]: 100%|██████████| 1/1 [00:00<00:00, 85.62it/s]\n",
      "Evaluating: 100%|██████████| 10/10 [00:01<00:00,  7.04it/s]\n",
      "INFO:classifier.model:Epoch 1/3 - Time: 1.44s\n",
      "INFO:classifier.model:  Train Loss: 0.8369\n",
      "INFO:classifier.model:  Val Loss: 0.5969, Val F1: 0.9170\n",
      "INFO:classifier.model:  Precision: 0.8521, Recall: 0.9925\n",
      "Epoch 2/3 [Training]: 100%|██████████| 1/1 [00:00<00:00, 85.34it/s]\n",
      "Evaluating: 100%|██████████| 10/10 [00:01<00:00,  7.06it/s]\n",
      "INFO:classifier.model:Epoch 2/3 - Time: 1.43s\n",
      "INFO:classifier.model:  Train Loss: 0.8504\n",
      "INFO:classifier.model:  Val Loss: 0.5969, Val F1: 0.9170\n",
      "INFO:classifier.model:  Precision: 0.8521, Recall: 0.9925\n",
      "Epoch 3/3 [Training]: 100%|██████████| 1/1 [00:00<00:00, 85.95it/s]\n",
      "Evaluating: 100%|██████████| 10/10 [00:01<00:00,  7.02it/s]\n",
      "INFO:classifier.model:Epoch 3/3 - Time: 1.44s\n",
      "INFO:classifier.model:  Train Loss: 0.8471\n",
      "INFO:classifier.model:  Val Loss: 0.5970, Val F1: 0.9170\n",
      "INFO:classifier.model:  Precision: 0.8521, Recall: 0.9925\n",
      "INFO:classifier.model:Training on new data only: 10 examples\n"
     ]
    },
    {
     "name": "stdout",
     "output_type": "stream",
     "text": [
      "Fetching sample 38/3150...\n"
     ]
    },
    {
     "name": "stderr",
     "output_type": "stream",
     "text": [
      "Epoch 1/3 [Training]: 100%|██████████| 1/1 [00:00<00:00, 86.12it/s]\n",
      "Evaluating: 100%|██████████| 10/10 [00:01<00:00,  7.06it/s]\n",
      "INFO:classifier.model:Epoch 1/3 - Time: 1.43s\n",
      "INFO:classifier.model:  Train Loss: 0.9194\n",
      "INFO:classifier.model:  Val Loss: 0.5971, Val F1: 0.9170\n",
      "INFO:classifier.model:  Precision: 0.8521, Recall: 0.9925\n",
      "Epoch 2/3 [Training]: 100%|██████████| 1/1 [00:00<00:00, 85.95it/s]\n",
      "Evaluating: 100%|██████████| 10/10 [00:01<00:00,  7.04it/s]\n",
      "INFO:classifier.model:Epoch 2/3 - Time: 1.44s\n",
      "INFO:classifier.model:  Train Loss: 0.9361\n",
      "INFO:classifier.model:  Val Loss: 0.5973, Val F1: 0.9170\n",
      "INFO:classifier.model:  Precision: 0.8521, Recall: 0.9925\n",
      "Epoch 3/3 [Training]: 100%|██████████| 1/1 [00:00<00:00, 85.60it/s]\n",
      "Evaluating: 100%|██████████| 10/10 [00:01<00:00,  7.07it/s]\n",
      "INFO:classifier.model:Epoch 3/3 - Time: 1.43s\n",
      "INFO:classifier.model:  Train Loss: 0.9112\n",
      "INFO:classifier.model:  Val Loss: 0.5974, Val F1: 0.9170\n",
      "INFO:classifier.model:  Precision: 0.8521, Recall: 0.9925\n",
      "INFO:classifier.model:Training on new data only: 10 examples\n"
     ]
    },
    {
     "name": "stdout",
     "output_type": "stream",
     "text": [
      "Fetching sample 39/3150...\n"
     ]
    },
    {
     "name": "stderr",
     "output_type": "stream",
     "text": [
      "Epoch 1/3 [Training]: 100%|██████████| 1/1 [00:00<00:00, 84.64it/s]\n",
      "Evaluating: 100%|██████████| 10/10 [00:01<00:00,  7.08it/s]\n",
      "INFO:classifier.model:Epoch 1/3 - Time: 1.43s\n",
      "INFO:classifier.model:  Train Loss: 0.5273\n",
      "INFO:classifier.model:  Val Loss: 0.5975, Val F1: 0.9170\n",
      "INFO:classifier.model:  Precision: 0.8521, Recall: 0.9925\n",
      "Epoch 2/3 [Training]: 100%|██████████| 1/1 [00:00<00:00, 85.94it/s]\n",
      "Evaluating: 100%|██████████| 10/10 [00:01<00:00,  7.06it/s]\n",
      "INFO:classifier.model:Epoch 2/3 - Time: 1.44s\n",
      "INFO:classifier.model:  Train Loss: 0.5239\n",
      "INFO:classifier.model:  Val Loss: 0.5976, Val F1: 0.9170\n",
      "INFO:classifier.model:  Precision: 0.8521, Recall: 0.9925\n",
      "Epoch 3/3 [Training]: 100%|██████████| 1/1 [00:00<00:00, 86.07it/s]\n",
      "Evaluating: 100%|██████████| 10/10 [00:01<00:00,  7.03it/s]\n",
      "INFO:classifier.model:Epoch 3/3 - Time: 1.44s\n",
      "INFO:classifier.model:  Train Loss: 0.5003\n",
      "INFO:classifier.model:  Val Loss: 0.5976, Val F1: 0.9170\n",
      "INFO:classifier.model:  Precision: 0.8521, Recall: 0.9925\n",
      "INFO:classifier.model:Training on new data only: 10 examples\n"
     ]
    },
    {
     "name": "stdout",
     "output_type": "stream",
     "text": [
      "Fetching sample 40/3150...\n"
     ]
    },
    {
     "name": "stderr",
     "output_type": "stream",
     "text": [
      "Epoch 1/3 [Training]: 100%|██████████| 1/1 [00:00<00:00, 86.73it/s]\n",
      "Evaluating: 100%|██████████| 10/10 [00:01<00:00,  7.01it/s]\n",
      "INFO:classifier.model:Epoch 1/3 - Time: 1.45s\n",
      "INFO:classifier.model:  Train Loss: 0.5421\n",
      "INFO:classifier.model:  Val Loss: 0.5976, Val F1: 0.9170\n",
      "INFO:classifier.model:  Precision: 0.8521, Recall: 0.9925\n",
      "Epoch 2/3 [Training]: 100%|██████████| 1/1 [00:00<00:00, 85.41it/s]\n",
      "Evaluating: 100%|██████████| 10/10 [00:01<00:00,  7.00it/s]\n",
      "INFO:classifier.model:Epoch 2/3 - Time: 1.45s\n",
      "INFO:classifier.model:  Train Loss: 0.5538\n",
      "INFO:classifier.model:  Val Loss: 0.5975, Val F1: 0.9170\n",
      "INFO:classifier.model:  Precision: 0.8521, Recall: 0.9925\n",
      "Epoch 3/3 [Training]: 100%|██████████| 1/1 [00:00<00:00, 77.99it/s]\n",
      "Evaluating: 100%|██████████| 10/10 [00:01<00:00,  7.01it/s]\n",
      "INFO:classifier.model:Epoch 3/3 - Time: 1.45s\n",
      "INFO:classifier.model:  Train Loss: 0.5468\n",
      "INFO:classifier.model:  Val Loss: 0.5975, Val F1: 0.9170\n",
      "INFO:classifier.model:  Precision: 0.8521, Recall: 0.9925\n",
      "INFO:classifier.model:Training on new data only: 10 examples\n"
     ]
    },
    {
     "name": "stdout",
     "output_type": "stream",
     "text": [
      "Fetching sample 41/3150...\n"
     ]
    },
    {
     "name": "stderr",
     "output_type": "stream",
     "text": [
      "Epoch 1/3 [Training]: 100%|██████████| 1/1 [00:00<00:00, 74.96it/s]\n",
      "Evaluating: 100%|██████████| 10/10 [00:01<00:00,  7.03it/s]\n",
      "INFO:classifier.model:Epoch 1/3 - Time: 1.44s\n",
      "INFO:classifier.model:  Train Loss: 0.9124\n",
      "INFO:classifier.model:  Val Loss: 0.5974, Val F1: 0.9170\n",
      "INFO:classifier.model:  Precision: 0.8521, Recall: 0.9925\n",
      "Epoch 2/3 [Training]: 100%|██████████| 1/1 [00:00<00:00, 77.60it/s]\n",
      "Evaluating: 100%|██████████| 10/10 [00:01<00:00,  7.04it/s]\n",
      "INFO:classifier.model:Epoch 2/3 - Time: 1.44s\n",
      "INFO:classifier.model:  Train Loss: 0.8699\n",
      "INFO:classifier.model:  Val Loss: 0.5974, Val F1: 0.9170\n",
      "INFO:classifier.model:  Precision: 0.8521, Recall: 0.9925\n",
      "Epoch 3/3 [Training]: 100%|██████████| 1/1 [00:00<00:00, 77.28it/s]\n",
      "Evaluating: 100%|██████████| 10/10 [00:01<00:00,  7.07it/s]\n",
      "INFO:classifier.model:Epoch 3/3 - Time: 1.43s\n",
      "INFO:classifier.model:  Train Loss: 0.8782\n",
      "INFO:classifier.model:  Val Loss: 0.5975, Val F1: 0.9170\n",
      "INFO:classifier.model:  Precision: 0.8521, Recall: 0.9925\n",
      "INFO:classifier.model:Training on new data only: 10 examples\n"
     ]
    },
    {
     "name": "stdout",
     "output_type": "stream",
     "text": [
      "Fetching sample 42/3150...\n"
     ]
    },
    {
     "name": "stderr",
     "output_type": "stream",
     "text": [
      "Epoch 1/3 [Training]: 100%|██████████| 1/1 [00:00<00:00, 76.11it/s]\n",
      "Evaluating: 100%|██████████| 10/10 [00:01<00:00,  7.06it/s]\n",
      "INFO:classifier.model:Epoch 1/3 - Time: 1.44s\n",
      "INFO:classifier.model:  Train Loss: 0.8606\n",
      "INFO:classifier.model:  Val Loss: 0.5976, Val F1: 0.9170\n",
      "INFO:classifier.model:  Precision: 0.8521, Recall: 0.9925\n",
      "Epoch 2/3 [Training]: 100%|██████████| 1/1 [00:00<00:00, 85.98it/s]\n",
      "Evaluating: 100%|██████████| 10/10 [00:01<00:00,  7.06it/s]\n",
      "INFO:classifier.model:Epoch 2/3 - Time: 1.43s\n",
      "INFO:classifier.model:  Train Loss: 0.8653\n",
      "INFO:classifier.model:  Val Loss: 0.5977, Val F1: 0.9170\n",
      "INFO:classifier.model:  Precision: 0.8521, Recall: 0.9925\n",
      "Epoch 3/3 [Training]: 100%|██████████| 1/1 [00:00<00:00, 86.23it/s]\n",
      "Evaluating: 100%|██████████| 10/10 [00:01<00:00,  6.89it/s]\n",
      "INFO:classifier.model:Epoch 3/3 - Time: 1.47s\n",
      "INFO:classifier.model:  Train Loss: 0.9036\n",
      "INFO:classifier.model:  Val Loss: 0.5977, Val F1: 0.9170\n",
      "INFO:classifier.model:  Precision: 0.8521, Recall: 0.9925\n",
      "INFO:classifier.model:Training on new data only: 10 examples\n"
     ]
    },
    {
     "name": "stdout",
     "output_type": "stream",
     "text": [
      "Fetching sample 43/3150...\n"
     ]
    },
    {
     "name": "stderr",
     "output_type": "stream",
     "text": [
      "Epoch 1/3 [Training]: 100%|██████████| 1/1 [00:00<00:00, 88.58it/s]\n",
      "Evaluating: 100%|██████████| 10/10 [00:01<00:00,  7.06it/s]\n",
      "INFO:classifier.model:Epoch 1/3 - Time: 1.43s\n",
      "INFO:classifier.model:  Train Loss: 0.5798\n",
      "INFO:classifier.model:  Val Loss: 0.5978, Val F1: 0.9170\n",
      "INFO:classifier.model:  Precision: 0.8521, Recall: 0.9925\n",
      "Epoch 2/3 [Training]: 100%|██████████| 1/1 [00:00<00:00, 88.22it/s]\n",
      "Evaluating: 100%|██████████| 10/10 [00:01<00:00,  7.04it/s]\n",
      "INFO:classifier.model:Epoch 2/3 - Time: 1.44s\n",
      "INFO:classifier.model:  Train Loss: 0.5464\n",
      "INFO:classifier.model:  Val Loss: 0.5979, Val F1: 0.9170\n",
      "INFO:classifier.model:  Precision: 0.8521, Recall: 0.9925\n",
      "Epoch 3/3 [Training]: 100%|██████████| 1/1 [00:00<00:00, 88.05it/s]\n",
      "Evaluating: 100%|██████████| 10/10 [00:01<00:00,  7.06it/s]\n",
      "INFO:classifier.model:Epoch 3/3 - Time: 1.43s\n",
      "INFO:classifier.model:  Train Loss: 0.5744\n",
      "INFO:classifier.model:  Val Loss: 0.5978, Val F1: 0.9170\n",
      "INFO:classifier.model:  Precision: 0.8521, Recall: 0.9925\n",
      "INFO:classifier.model:Training on new data only: 10 examples\n"
     ]
    },
    {
     "name": "stdout",
     "output_type": "stream",
     "text": [
      "Fetching sample 44/3150...\n"
     ]
    },
    {
     "name": "stderr",
     "output_type": "stream",
     "text": [
      "Epoch 1/3 [Training]: 100%|██████████| 1/1 [00:00<00:00, 89.66it/s]\n",
      "Evaluating: 100%|██████████| 10/10 [00:01<00:00,  7.08it/s]\n",
      "INFO:classifier.model:Epoch 1/3 - Time: 1.43s\n",
      "INFO:classifier.model:  Train Loss: 0.5420\n",
      "INFO:classifier.model:  Val Loss: 0.5978, Val F1: 0.9170\n",
      "INFO:classifier.model:  Precision: 0.8521, Recall: 0.9925\n",
      "Epoch 2/3 [Training]: 100%|██████████| 1/1 [00:00<00:00, 78.64it/s]\n",
      "Evaluating: 100%|██████████| 10/10 [00:01<00:00,  7.04it/s]\n",
      "INFO:classifier.model:Epoch 2/3 - Time: 1.44s\n",
      "INFO:classifier.model:  Train Loss: 0.5430\n",
      "INFO:classifier.model:  Val Loss: 0.5977, Val F1: 0.9170\n",
      "INFO:classifier.model:  Precision: 0.8521, Recall: 0.9925\n",
      "Epoch 3/3 [Training]: 100%|██████████| 1/1 [00:00<00:00, 82.16it/s]\n",
      "Evaluating: 100%|██████████| 10/10 [00:01<00:00,  7.03it/s]\n",
      "INFO:classifier.model:Epoch 3/3 - Time: 1.44s\n",
      "INFO:classifier.model:  Train Loss: 0.5599\n",
      "INFO:classifier.model:  Val Loss: 0.5977, Val F1: 0.9170\n",
      "INFO:classifier.model:  Precision: 0.8521, Recall: 0.9925\n",
      "INFO:classifier.model:Training on new data only: 10 examples\n"
     ]
    },
    {
     "name": "stdout",
     "output_type": "stream",
     "text": [
      "Fetching sample 45/3150...\n"
     ]
    },
    {
     "name": "stderr",
     "output_type": "stream",
     "text": [
      "Epoch 1/3 [Training]: 100%|██████████| 1/1 [00:00<00:00, 90.62it/s]\n",
      "Evaluating: 100%|██████████| 10/10 [00:01<00:00,  7.03it/s]\n",
      "INFO:classifier.model:Epoch 1/3 - Time: 1.44s\n",
      "INFO:classifier.model:  Train Loss: 0.8522\n",
      "INFO:classifier.model:  Val Loss: 0.5976, Val F1: 0.9170\n",
      "INFO:classifier.model:  Precision: 0.8521, Recall: 0.9925\n",
      "Epoch 2/3 [Training]: 100%|██████████| 1/1 [00:00<00:00, 75.48it/s]\n",
      "Evaluating: 100%|██████████| 10/10 [00:01<00:00,  7.03it/s]\n",
      "INFO:classifier.model:Epoch 2/3 - Time: 1.44s\n",
      "INFO:classifier.model:  Train Loss: 0.8840\n",
      "INFO:classifier.model:  Val Loss: 0.5975, Val F1: 0.9170\n",
      "INFO:classifier.model:  Precision: 0.8521, Recall: 0.9925\n",
      "Epoch 3/3 [Training]: 100%|██████████| 1/1 [00:00<00:00, 72.12it/s]\n",
      "Evaluating: 100%|██████████| 10/10 [00:01<00:00,  7.07it/s]\n",
      "INFO:classifier.model:Epoch 3/3 - Time: 1.44s\n",
      "INFO:classifier.model:  Train Loss: 0.8746\n",
      "INFO:classifier.model:  Val Loss: 0.5976, Val F1: 0.9170\n",
      "INFO:classifier.model:  Precision: 0.8521, Recall: 0.9925\n",
      "INFO:classifier.model:Training on new data only: 10 examples\n"
     ]
    },
    {
     "name": "stdout",
     "output_type": "stream",
     "text": [
      "Fetching sample 46/3150...\n"
     ]
    },
    {
     "name": "stderr",
     "output_type": "stream",
     "text": [
      "Epoch 1/3 [Training]: 100%|██████████| 1/1 [00:00<00:00, 86.68it/s]\n",
      "Evaluating: 100%|██████████| 10/10 [00:01<00:00,  7.02it/s]\n",
      "INFO:classifier.model:Epoch 1/3 - Time: 1.44s\n",
      "INFO:classifier.model:  Train Loss: 0.8555\n",
      "INFO:classifier.model:  Val Loss: 0.5977, Val F1: 0.9170\n",
      "INFO:classifier.model:  Precision: 0.8521, Recall: 0.9925\n",
      "Epoch 2/3 [Training]: 100%|██████████| 1/1 [00:00<00:00, 86.00it/s]\n",
      "Evaluating: 100%|██████████| 10/10 [00:01<00:00,  7.02it/s]\n",
      "INFO:classifier.model:Epoch 2/3 - Time: 1.44s\n",
      "INFO:classifier.model:  Train Loss: 0.8885\n",
      "INFO:classifier.model:  Val Loss: 0.5977, Val F1: 0.9170\n",
      "INFO:classifier.model:  Precision: 0.8521, Recall: 0.9925\n",
      "Epoch 3/3 [Training]: 100%|██████████| 1/1 [00:00<00:00, 86.14it/s]\n",
      "Evaluating: 100%|██████████| 10/10 [00:01<00:00,  7.07it/s]\n",
      "INFO:classifier.model:Epoch 3/3 - Time: 1.43s\n",
      "INFO:classifier.model:  Train Loss: 0.9137\n",
      "INFO:classifier.model:  Val Loss: 0.5978, Val F1: 0.9170\n",
      "INFO:classifier.model:  Precision: 0.8521, Recall: 0.9925\n",
      "INFO:classifier.model:Training on new data only: 10 examples\n"
     ]
    },
    {
     "name": "stdout",
     "output_type": "stream",
     "text": [
      "Fetching sample 47/3150...\n"
     ]
    },
    {
     "name": "stderr",
     "output_type": "stream",
     "text": [
      "Epoch 1/3 [Training]: 100%|██████████| 1/1 [00:00<00:00, 73.69it/s]\n",
      "Evaluating: 100%|██████████| 10/10 [00:01<00:00,  7.08it/s]\n",
      "INFO:classifier.model:Epoch 1/3 - Time: 1.43s\n",
      "INFO:classifier.model:  Train Loss: 0.5321\n",
      "INFO:classifier.model:  Val Loss: 0.5979, Val F1: 0.9170\n",
      "INFO:classifier.model:  Precision: 0.8521, Recall: 0.9925\n",
      "Epoch 2/3 [Training]: 100%|██████████| 1/1 [00:00<00:00, 73.86it/s]\n",
      "Evaluating: 100%|██████████| 10/10 [00:01<00:00,  7.05it/s]\n",
      "INFO:classifier.model:Epoch 2/3 - Time: 1.44s\n",
      "INFO:classifier.model:  Train Loss: 0.5955\n",
      "INFO:classifier.model:  Val Loss: 0.5979, Val F1: 0.9170\n",
      "INFO:classifier.model:  Precision: 0.8521, Recall: 0.9925\n",
      "Epoch 3/3 [Training]: 100%|██████████| 1/1 [00:00<00:00, 75.40it/s]\n",
      "Evaluating: 100%|██████████| 10/10 [00:01<00:00,  7.04it/s]\n",
      "INFO:classifier.model:Epoch 3/3 - Time: 1.44s\n",
      "INFO:classifier.model:  Train Loss: 0.5264\n",
      "INFO:classifier.model:  Val Loss: 0.5979, Val F1: 0.9170\n",
      "INFO:classifier.model:  Precision: 0.8521, Recall: 0.9925\n",
      "INFO:classifier.model:Training on new data only: 10 examples\n"
     ]
    },
    {
     "name": "stdout",
     "output_type": "stream",
     "text": [
      "Fetching sample 48/3150...\n"
     ]
    },
    {
     "name": "stderr",
     "output_type": "stream",
     "text": [
      "Epoch 1/3 [Training]: 100%|██████████| 1/1 [00:00<00:00, 75.67it/s]\n",
      "Evaluating: 100%|██████████| 10/10 [00:01<00:00,  7.03it/s]\n",
      "INFO:classifier.model:Epoch 1/3 - Time: 1.44s\n",
      "INFO:classifier.model:  Train Loss: 0.7662\n",
      "INFO:classifier.model:  Val Loss: 0.5979, Val F1: 0.9170\n",
      "INFO:classifier.model:  Precision: 0.8521, Recall: 0.9925\n",
      "Epoch 2/3 [Training]: 100%|██████████| 1/1 [00:00<00:00, 84.53it/s]\n",
      "Evaluating: 100%|██████████| 10/10 [00:01<00:00,  7.02it/s]\n",
      "INFO:classifier.model:Epoch 2/3 - Time: 1.44s\n",
      "INFO:classifier.model:  Train Loss: 0.6995\n",
      "INFO:classifier.model:  Val Loss: 0.5979, Val F1: 0.9170\n",
      "INFO:classifier.model:  Precision: 0.8521, Recall: 0.9925\n",
      "Epoch 3/3 [Training]: 100%|██████████| 1/1 [00:00<00:00, 78.65it/s]\n",
      "Evaluating: 100%|██████████| 10/10 [00:01<00:00,  7.01it/s]\n",
      "INFO:classifier.model:Epoch 3/3 - Time: 1.45s\n",
      "INFO:classifier.model:  Train Loss: 0.7284\n",
      "INFO:classifier.model:  Val Loss: 0.5979, Val F1: 0.9170\n",
      "INFO:classifier.model:  Precision: 0.8521, Recall: 0.9925\n",
      "INFO:classifier.model:Training on new data only: 10 examples\n"
     ]
    },
    {
     "name": "stdout",
     "output_type": "stream",
     "text": [
      "Fetching sample 49/3150...\n"
     ]
    },
    {
     "name": "stderr",
     "output_type": "stream",
     "text": [
      "Epoch 1/3 [Training]: 100%|██████████| 1/1 [00:00<00:00, 85.30it/s]\n",
      "Evaluating: 100%|██████████| 10/10 [00:01<00:00,  7.02it/s]\n",
      "INFO:classifier.model:Epoch 1/3 - Time: 1.44s\n",
      "INFO:classifier.model:  Train Loss: 0.6891\n",
      "INFO:classifier.model:  Val Loss: 0.5980, Val F1: 0.9170\n",
      "INFO:classifier.model:  Precision: 0.8521, Recall: 0.9925\n",
      "Epoch 2/3 [Training]: 100%|██████████| 1/1 [00:00<00:00, 85.02it/s]\n",
      "Evaluating: 100%|██████████| 10/10 [00:01<00:00,  7.01it/s]\n",
      "INFO:classifier.model:Epoch 2/3 - Time: 1.45s\n",
      "INFO:classifier.model:  Train Loss: 0.6756\n",
      "INFO:classifier.model:  Val Loss: 0.5980, Val F1: 0.9170\n",
      "INFO:classifier.model:  Precision: 0.8521, Recall: 0.9925\n",
      "Epoch 3/3 [Training]: 100%|██████████| 1/1 [00:00<00:00, 83.97it/s]\n",
      "Evaluating: 100%|██████████| 10/10 [00:01<00:00,  7.01it/s]\n",
      "INFO:classifier.model:Epoch 3/3 - Time: 1.44s\n",
      "INFO:classifier.model:  Train Loss: 0.6848\n",
      "INFO:classifier.model:  Val Loss: 0.5980, Val F1: 0.9170\n",
      "INFO:classifier.model:  Precision: 0.8521, Recall: 0.9925\n",
      "INFO:classifier.model:Training on new data only: 10 examples\n"
     ]
    },
    {
     "name": "stdout",
     "output_type": "stream",
     "text": [
      "Fetching sample 50/3150...\n"
     ]
    },
    {
     "name": "stderr",
     "output_type": "stream",
     "text": [
      "Epoch 1/3 [Training]: 100%|██████████| 1/1 [00:00<00:00, 76.86it/s]\n",
      "Evaluating: 100%|██████████| 10/10 [00:01<00:00,  7.06it/s]\n",
      "INFO:classifier.model:Epoch 1/3 - Time: 1.44s\n",
      "INFO:classifier.model:  Train Loss: 0.7554\n",
      "INFO:classifier.model:  Val Loss: 0.5981, Val F1: 0.9170\n",
      "INFO:classifier.model:  Precision: 0.8521, Recall: 0.9925\n",
      "Epoch 2/3 [Training]: 100%|██████████| 1/1 [00:00<00:00, 85.73it/s]\n",
      "Evaluating: 100%|██████████| 10/10 [00:01<00:00,  7.06it/s]\n",
      "INFO:classifier.model:Epoch 2/3 - Time: 1.43s\n",
      "INFO:classifier.model:  Train Loss: 0.8043\n",
      "INFO:classifier.model:  Val Loss: 0.5982, Val F1: 0.9170\n",
      "INFO:classifier.model:  Precision: 0.8521, Recall: 0.9925\n",
      "Epoch 3/3 [Training]: 100%|██████████| 1/1 [00:00<00:00, 85.60it/s]\n",
      "Evaluating: 100%|██████████| 10/10 [00:01<00:00,  7.04it/s]\n",
      "INFO:classifier.model:Epoch 3/3 - Time: 1.44s\n",
      "INFO:classifier.model:  Train Loss: 0.8147\n",
      "INFO:classifier.model:  Val Loss: 0.5982, Val F1: 0.9170\n",
      "INFO:classifier.model:  Precision: 0.8521, Recall: 0.9925\n"
     ]
    },
    {
     "data": {
      "text/plain": [
       "'Done.'"
      ]
     },
     "metadata": {},
     "output_type": "display_data"
    }
   ],
   "execution_count": 6
  },
  {
   "metadata": {
    "ExecuteTime": {
     "end_time": "2025-04-17T16:54:33.812430Z",
     "start_time": "2025-04-17T16:54:33.811329Z"
    }
   },
   "cell_type": "code",
   "source": "",
   "id": "eab60f8e22b5ca02",
   "outputs": [],
   "execution_count": null
  }
 ],
 "metadata": {
  "kernelspec": {
   "display_name": "Python 3 (ipykernel)",
   "language": "python",
   "name": "python3"
  },
  "language_info": {
   "codemirror_mode": {
    "name": "ipython",
    "version": 3
   },
   "file_extension": ".py",
   "mimetype": "text/x-python",
   "name": "python",
   "nbconvert_exporter": "python",
   "pygments_lexer": "ipython3",
   "version": "3.12.8"
  }
 },
 "nbformat": 4,
 "nbformat_minor": 5
}
