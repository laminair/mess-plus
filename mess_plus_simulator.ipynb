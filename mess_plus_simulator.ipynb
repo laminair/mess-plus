{
 "cells": [
  {
   "metadata": {},
   "cell_type": "markdown",
   "source": "# Simulations for the MESS+ estimator",
   "id": "6061898d87df3119"
  },
  {
   "cell_type": "code",
   "id": "initial_id",
   "metadata": {
    "collapsed": true,
    "ExecuteTime": {
     "end_time": "2025-05-05T11:10:11.326080Z",
     "start_time": "2025-05-05T11:10:08.391208Z"
    }
   },
   "source": [
    "import time\n",
    "\n",
    "import numpy as np\n",
    "import pandas as pd\n",
    "import wandb\n",
    "import yaml\n",
    "\n",
    "from pathlib import Path\n",
    "\n",
    "from classifier.model import MultilabelBERTClassifier\n",
    "from classifier.file_reader import read_files_from_folder\n",
    "from classifier.dataset import create_bert_datasets, preprocess_dataframe\n",
    "\n",
    "from utils.mess_plus import sample_from_bernoulli\n"
   ],
   "outputs": [
    {
     "name": "stdout",
     "output_type": "stream",
     "text": [
      "INFO 05-05 13:10:10 [__init__.py:239] Automatically detected platform cuda.\n"
     ]
    }
   ],
   "execution_count": 1
  },
  {
   "metadata": {
    "ExecuteTime": {
     "end_time": "2025-05-05T11:10:11.331040Z",
     "start_time": "2025-05-05T11:10:11.329458Z"
    }
   },
   "cell_type": "code",
   "source": [
    "BENCHMARK_NAME = \"boolq\"\n",
    "# this refers to whether we want to use a pre-trained classifier or learn the classifier online while benchmarking.\n",
    "APPROACH = \"pretrained\"  # alt: online\n",
    "# This only has an effect when APPROACH = pretrained. Make sure to adjust the minibatch size accordingly!\n",
    "NUM_PRETRAINING_STEPS = 400\n",
    "SEEDS = [42]\n",
    "\n",
    "PROJECT_ROOT_PATH = Path(\"mess_plus_simulator\").parent"
   ],
   "id": "d29c03961de10500",
   "outputs": [],
   "execution_count": 2
  },
  {
   "metadata": {},
   "cell_type": "markdown",
   "source": "## Load benchmark config",
   "id": "6b3662ffb2169cb0"
  },
  {
   "metadata": {
    "ExecuteTime": {
     "end_time": "2025-05-05T11:10:11.379433Z",
     "start_time": "2025-05-05T11:10:11.374521Z"
    }
   },
   "cell_type": "code",
   "source": [
    "\n",
    "if APPROACH == \"pretrained\":\n",
    "\tconfig_path = Path(f\"{PROJECT_ROOT_PATH}/config/pretrained/{BENCHMARK_NAME}.yaml\")\n",
    "elif APPROACH == \"online\":\n",
    "\tconfig_path = Path(f\"{PROJECT_ROOT_PATH}/config/online/{BENCHMARK_NAME}.yaml\")\n",
    "\tNUM_PRETRAINING_STEPS = 0\n",
    "else:\n",
    "\traise NotImplementedError(f\"Approach {APPROACH} not implemented.\")\n",
    "\n",
    "with config_path.open(\"r\") as f:\n",
    "\tCONFIG = yaml.safe_load(f)\n",
    "\tdisplay(CONFIG)\n"
   ],
   "id": "2d42110779bf1648",
   "outputs": [
    {
     "data": {
      "text/plain": [
       "{'run_name': 'baseline',\n",
       " 'seed': 43,\n",
       " 'model_zoo': {'meta-llama/Llama-3.2-1B-Instruct': {'category': 'small',\n",
       "   'gpu_indices': [0],\n",
       "   'max_seq_len': 2048,\n",
       "   'gpu_memory_utilization': 0.12,\n",
       "   'quantization': None},\n",
       "  'unsloth/Meta-Llama-3.1-8B-Instruct-bnb-4bit': {'category': 'medium',\n",
       "   'gpu_indices': [0],\n",
       "   'max_seq_len': 2048,\n",
       "   'gpu_memory_utilization': 0.15,\n",
       "   'quantization': 'bitsandbytes'},\n",
       "  'unsloth/Llama-3.3-70B-Instruct-bnb-4bit': {'category': 'large',\n",
       "   'gpu_indices': [0],\n",
       "   'max_seq_len': 2048,\n",
       "   'gpu_memory_utilization': 0.68,\n",
       "   'quantization': 'bitsandbytes'}},\n",
       " 'classifier_model': {'model_id': 'answerdotai/ModernBERT-base',\n",
       "  'epochs': 3,\n",
       "  'learning_rate': 0.0767,\n",
       "  'weight_decay': 0.01,\n",
       "  'momentum': 0.95,\n",
       "  'batch_size': 128,\n",
       "  'max_length': 128,\n",
       "  'warmup_ratio': 0.1,\n",
       "  'threshold': 0.5,\n",
       "  'dropout_rate': 0.1,\n",
       "  'freeze_bert_layers': True,\n",
       "  'memory_size': 0,\n",
       "  'memory_strategy': 'random',\n",
       "  'reset_optimizer': False,\n",
       "  'regularization_lambda': 0.0,\n",
       "  'gpu_index': 0,\n",
       "  'disable_tqdm': False,\n",
       "  'checkpoint_path': 'checkpoints/boolq',\n",
       "  'use_pretrained_classifier': True,\n",
       "  'scoring_method': 'raw',\n",
       "  'validation_dataset_size': 0.1,\n",
       "  'generate_training_dataset': False,\n",
       "  'write_training_dataset_to_disk': False},\n",
       " 'algorithm': {'alpha': 0.65,\n",
       "  'c': 0.1,\n",
       "  'V': 100000,\n",
       "  'sim_alpha_values': [0.7, 0.75, 0.8, 0.85, 0.88]},\n",
       " 'lm_eval': {'benchmarks': ['boolq'],\n",
       "  'num_repeats': 1,\n",
       "  'limit_num_samples': None,\n",
       "  'enforce_eager': False,\n",
       "  'write_to_disk': False}}"
      ]
     },
     "metadata": {},
     "output_type": "display_data"
    }
   ],
   "execution_count": 3
  },
  {
   "metadata": {},
   "cell_type": "markdown",
   "source": "## Load dataset",
   "id": "2b25daed58b959c"
  },
  {
   "metadata": {
    "ExecuteTime": {
     "end_time": "2025-05-05T11:10:11.449343Z",
     "start_time": "2025-05-05T11:10:11.422777Z"
    }
   },
   "cell_type": "code",
   "source": [
    "input_df = read_files_from_folder(folder_path=f\"{PROJECT_ROOT_PATH}/data/inference_outputs/{BENCHMARK_NAME}\")\n",
    "input_df[\"idx_original\"] = input_df.index\n",
    "input_df = input_df.sample(frac=1).reset_index(drop=True)\n",
    "\n",
    "display(f\"Loaded dataframe with {input_df.shape[0]} rows and {input_df.shape[1]} columns\")\n",
    "display(f\"{len(input_df.columns.tolist())} available columns: {input_df.columns.tolist()}\")\n",
    "display(input_df.head())"
   ],
   "id": "b1c8ccffd82859a4",
   "outputs": [
    {
     "data": {
      "text/plain": [
       "'Loaded dataframe with 3270 rows and 15 columns'"
      ]
     },
     "metadata": {},
     "output_type": "display_data"
    },
    {
     "data": {
      "text/plain": [
       "\"15 available columns: ['input_text', 'benchmark_name', 'label_small', 'acc_small', 'energy_consumption_small', 'inference_time_small', 'label_medium', 'acc_medium', 'energy_consumption_medium', 'inference_time_medium', 'label_large', 'acc_large', 'energy_consumption_large', 'inference_time_large', 'idx_original']\""
      ]
     },
     "metadata": {},
     "output_type": "display_data"
    },
    {
     "data": {
      "text/plain": [
       "                                          input_text benchmark_name  \\\n",
       "0           is a dachshund the same as a sausage dog          boolq   \n",
       "1  has a school shooting happened in a private sc...          boolq   \n",
       "2           can law of sines be used on any triangle          boolq   \n",
       "3  does colorado school of mines have a football ...          boolq   \n",
       "4    has anyone ever escaped from alcatraz and lived          boolq   \n",
       "\n",
       "   label_small  acc_small  energy_consumption_small  inference_time_small  \\\n",
       "0          0.0        0.0                    38.187              0.129817   \n",
       "1          1.0        1.0                    31.284              0.132452   \n",
       "2          1.0        1.0                    36.066              0.126652   \n",
       "3          1.0        1.0                    25.088              0.147779   \n",
       "4          0.0        0.0                    24.779              0.152949   \n",
       "\n",
       "   label_medium  acc_medium  energy_consumption_medium  inference_time_medium  \\\n",
       "0           1.0         1.0                    125.057               0.396348   \n",
       "1           1.0         1.0                    132.079               0.399106   \n",
       "2           0.0         0.0                    126.523               0.392874   \n",
       "3           1.0         1.0                    132.694               0.410065   \n",
       "4           1.0         1.0                    126.964               0.408143   \n",
       "\n",
       "   label_large  acc_large  energy_consumption_large  inference_time_large  \\\n",
       "0          1.0        1.0                  1025.541              2.083502   \n",
       "1          1.0        1.0                  1048.761              2.090807   \n",
       "2          1.0        1.0                  1023.494              2.077417   \n",
       "3          1.0        1.0                  1060.180              2.110664   \n",
       "4          1.0        1.0                  1045.153              2.092828   \n",
       "\n",
       "   idx_original  \n",
       "0          1214  \n",
       "1           381  \n",
       "2          1008  \n",
       "3          2763  \n",
       "4           873  "
      ],
      "text/html": [
       "<div>\n",
       "<style scoped>\n",
       "    .dataframe tbody tr th:only-of-type {\n",
       "        vertical-align: middle;\n",
       "    }\n",
       "\n",
       "    .dataframe tbody tr th {\n",
       "        vertical-align: top;\n",
       "    }\n",
       "\n",
       "    .dataframe thead th {\n",
       "        text-align: right;\n",
       "    }\n",
       "</style>\n",
       "<table border=\"1\" class=\"dataframe\">\n",
       "  <thead>\n",
       "    <tr style=\"text-align: right;\">\n",
       "      <th></th>\n",
       "      <th>input_text</th>\n",
       "      <th>benchmark_name</th>\n",
       "      <th>label_small</th>\n",
       "      <th>acc_small</th>\n",
       "      <th>energy_consumption_small</th>\n",
       "      <th>inference_time_small</th>\n",
       "      <th>label_medium</th>\n",
       "      <th>acc_medium</th>\n",
       "      <th>energy_consumption_medium</th>\n",
       "      <th>inference_time_medium</th>\n",
       "      <th>label_large</th>\n",
       "      <th>acc_large</th>\n",
       "      <th>energy_consumption_large</th>\n",
       "      <th>inference_time_large</th>\n",
       "      <th>idx_original</th>\n",
       "    </tr>\n",
       "  </thead>\n",
       "  <tbody>\n",
       "    <tr>\n",
       "      <th>0</th>\n",
       "      <td>is a dachshund the same as a sausage dog</td>\n",
       "      <td>boolq</td>\n",
       "      <td>0.0</td>\n",
       "      <td>0.0</td>\n",
       "      <td>38.187</td>\n",
       "      <td>0.129817</td>\n",
       "      <td>1.0</td>\n",
       "      <td>1.0</td>\n",
       "      <td>125.057</td>\n",
       "      <td>0.396348</td>\n",
       "      <td>1.0</td>\n",
       "      <td>1.0</td>\n",
       "      <td>1025.541</td>\n",
       "      <td>2.083502</td>\n",
       "      <td>1214</td>\n",
       "    </tr>\n",
       "    <tr>\n",
       "      <th>1</th>\n",
       "      <td>has a school shooting happened in a private sc...</td>\n",
       "      <td>boolq</td>\n",
       "      <td>1.0</td>\n",
       "      <td>1.0</td>\n",
       "      <td>31.284</td>\n",
       "      <td>0.132452</td>\n",
       "      <td>1.0</td>\n",
       "      <td>1.0</td>\n",
       "      <td>132.079</td>\n",
       "      <td>0.399106</td>\n",
       "      <td>1.0</td>\n",
       "      <td>1.0</td>\n",
       "      <td>1048.761</td>\n",
       "      <td>2.090807</td>\n",
       "      <td>381</td>\n",
       "    </tr>\n",
       "    <tr>\n",
       "      <th>2</th>\n",
       "      <td>can law of sines be used on any triangle</td>\n",
       "      <td>boolq</td>\n",
       "      <td>1.0</td>\n",
       "      <td>1.0</td>\n",
       "      <td>36.066</td>\n",
       "      <td>0.126652</td>\n",
       "      <td>0.0</td>\n",
       "      <td>0.0</td>\n",
       "      <td>126.523</td>\n",
       "      <td>0.392874</td>\n",
       "      <td>1.0</td>\n",
       "      <td>1.0</td>\n",
       "      <td>1023.494</td>\n",
       "      <td>2.077417</td>\n",
       "      <td>1008</td>\n",
       "    </tr>\n",
       "    <tr>\n",
       "      <th>3</th>\n",
       "      <td>does colorado school of mines have a football ...</td>\n",
       "      <td>boolq</td>\n",
       "      <td>1.0</td>\n",
       "      <td>1.0</td>\n",
       "      <td>25.088</td>\n",
       "      <td>0.147779</td>\n",
       "      <td>1.0</td>\n",
       "      <td>1.0</td>\n",
       "      <td>132.694</td>\n",
       "      <td>0.410065</td>\n",
       "      <td>1.0</td>\n",
       "      <td>1.0</td>\n",
       "      <td>1060.180</td>\n",
       "      <td>2.110664</td>\n",
       "      <td>2763</td>\n",
       "    </tr>\n",
       "    <tr>\n",
       "      <th>4</th>\n",
       "      <td>has anyone ever escaped from alcatraz and lived</td>\n",
       "      <td>boolq</td>\n",
       "      <td>0.0</td>\n",
       "      <td>0.0</td>\n",
       "      <td>24.779</td>\n",
       "      <td>0.152949</td>\n",
       "      <td>1.0</td>\n",
       "      <td>1.0</td>\n",
       "      <td>126.964</td>\n",
       "      <td>0.408143</td>\n",
       "      <td>1.0</td>\n",
       "      <td>1.0</td>\n",
       "      <td>1045.153</td>\n",
       "      <td>2.092828</td>\n",
       "      <td>873</td>\n",
       "    </tr>\n",
       "  </tbody>\n",
       "</table>\n",
       "</div>"
      ]
     },
     "metadata": {},
     "output_type": "display_data"
    }
   ],
   "execution_count": 4
  },
  {
   "metadata": {},
   "cell_type": "markdown",
   "source": "## Load, configure, and train classifier",
   "id": "143a3332d4e0264c"
  },
  {
   "metadata": {
    "ExecuteTime": {
     "end_time": "2025-05-05T11:10:16.441137Z",
     "start_time": "2025-05-05T11:10:11.477991Z"
    }
   },
   "cell_type": "code",
   "source": [
    "text_col = \"input_text\"\n",
    "label_cols = [\"label_small\", \"label_medium\", \"label_large\"]\n",
    "\n",
    "classifier = MultilabelBERTClassifier(num_labels=3, **CONFIG[\"classifier_model\"])\n",
    "training_df = input_df.loc[:NUM_PRETRAINING_STEPS]\n",
    "training_df = preprocess_dataframe(training_df, label_cols=label_cols)\n",
    "\n",
    "train_dataset, val_dataset, tokenizer = create_bert_datasets(\n",
    "\ttraining_df,\n",
    "\ttext_col,\n",
    "\tlabel_cols,\n",
    "\tmodel_name=CONFIG[\"classifier_model\"][\"model_id\"],\n",
    "\tmax_length=CONFIG[\"classifier_model\"][\"max_length\"],\n",
    "\tval_ratio=CONFIG[\"classifier_model\"][\"validation_dataset_size\"],\n",
    "\trandom_seed=SEEDS[0],\n",
    ")\n",
    "\n",
    "training_stats = classifier.fit(train_dataset, val_dataset, epochs=CONFIG[\"classifier_model\"][\"epochs\"], early_stopping_patience=2)\n",
    "\n",
    "display(training_stats)\n"
   ],
   "id": "10a446db5d2aedca",
   "outputs": [
    {
     "name": "stderr",
     "output_type": "stream",
     "text": [
      "INFO:classifier.model:Using device: cuda\n",
      "INFO:classifier.model:Initializing custom BERTClassifier: answerdotai/ModernBERT-base with 3 labels\n",
      "Epoch 1/3 [Training]: 100%|██████████| 3/3 [00:01<00:00,  2.13it/s, loss=0.7039, batch_loss=0.5349, lr=0.0767]\n",
      "Epoch 1/3 [Validation]: 100%|██████████| 1/1 [00:00<00:00,  2.38it/s, val_loss=0.8923, avg_val_loss=0.8923]\n",
      "INFO:classifier.model:Epoch 1/3 - Time: 1.83s\n",
      "INFO:classifier.model:  Train Loss: 0.5912 - Val Loss: 0.8923\n",
      "INFO:classifier.model:  Val Metrics - Accuracy: 0.7417, F1: 0.8517, F1(macro): 0.8421\n",
      "INFO:classifier.model:  Per-label metrics:\n",
      "INFO:classifier.model:    Label 0: F1=0.6885, Prec=0.5250, Rec=1.0000\n",
      "INFO:classifier.model:    Label 1: F1=0.9189, Prec=0.8500, Rec=1.0000\n",
      "INFO:classifier.model:    Label 2: F1=0.9189, Prec=0.8500, Rec=1.0000\n",
      "INFO:classifier.model:Directory /home/woi/code/mess-plus/classifier/checkpoints/boolq existis. Reusing...\n",
      "INFO:classifier.model:Best model saved\n",
      "Epoch 2/3 [Training]: 100%|██████████| 3/3 [00:00<00:00,  8.63it/s, loss=0.6579, batch_loss=0.6315, lr=0.0767]\n",
      "Epoch 2/3 [Validation]: 100%|██████████| 1/1 [00:00<00:00, 28.80it/s, val_loss=0.6102, avg_val_loss=0.6102]\n",
      "INFO:classifier.model:Epoch 2/3 - Time: 0.39s\n",
      "INFO:classifier.model:  Train Loss: 0.6086 - Val Loss: 0.6102\n",
      "INFO:classifier.model:  Val Metrics - Accuracy: 0.7333, F1: 0.8447, F1(macro): 0.8359\n",
      "INFO:classifier.model:  Per-label metrics:\n",
      "INFO:classifier.model:    Label 0: F1=0.7000, Prec=0.5385, Rec=1.0000\n",
      "INFO:classifier.model:    Label 1: F1=0.8889, Prec=0.8421, Rec=0.9412\n",
      "INFO:classifier.model:    Label 2: F1=0.9189, Prec=0.8500, Rec=1.0000\n",
      "WARNING:classifier.model:No improvement: 1/2\n",
      "Epoch 3/3 [Training]: 100%|██████████| 3/3 [00:00<00:00,  8.64it/s, loss=0.5707, batch_loss=0.6368, lr=0.0767]\n",
      "Epoch 3/3 [Validation]: 100%|██████████| 1/1 [00:00<00:00, 28.78it/s, val_loss=0.6914, avg_val_loss=0.6914]\n",
      "INFO:classifier.model:Epoch 3/3 - Time: 0.39s\n",
      "INFO:classifier.model:  Train Loss: 0.5820 - Val Loss: 0.6914\n",
      "INFO:classifier.model:  Val Metrics - Accuracy: 0.7417, F1: 0.8517, F1(macro): 0.8421\n",
      "INFO:classifier.model:  Per-label metrics:\n",
      "INFO:classifier.model:    Label 0: F1=0.6885, Prec=0.5250, Rec=1.0000\n",
      "INFO:classifier.model:    Label 1: F1=0.9189, Prec=0.8500, Rec=1.0000\n",
      "INFO:classifier.model:    Label 2: F1=0.9189, Prec=0.8500, Rec=1.0000\n",
      "WARNING:classifier.model:No improvement: 2/2\n",
      "WARNING:classifier.model:Early stopping triggered!\n"
     ]
    },
    {
     "data": {
      "text/plain": [
       "{'epoch': 3,\n",
       " 'train/loss': 0.5819895267486572,\n",
       " 'val/loss': 0.6913987994194031,\n",
       " 'val/accuracy': 0.7416666666666667,\n",
       " 'val/precision_micro': 0.7416666666666667,\n",
       " 'val/recall_micro': 1.0,\n",
       " 'val/f1_micro': 0.8516746411483254,\n",
       " 'val/f1_macro': 0.8421208093339242,\n",
       " 'time/epoch_seconds': 0.3879730701446533,\n",
       " 'val/0_f1score': 0.6885245901639344,\n",
       " 'val/0_recall': 0.525,\n",
       " 'val/0_precision': 1.0,\n",
       " 'val/1_f1score': 0.918918918918919,\n",
       " 'val/1_recall': 0.85,\n",
       " 'val/1_precision': 1.0,\n",
       " 'val/2_f1score': 0.918918918918919,\n",
       " 'val/2_recall': 0.85,\n",
       " 'val/2_precision': 1.0}"
      ]
     },
     "metadata": {},
     "output_type": "display_data"
    }
   ],
   "execution_count": 5
  },
  {
   "metadata": {
    "ExecuteTime": {
     "end_time": "2025-05-05T11:10:16.487125Z",
     "start_time": "2025-05-05T11:10:16.483800Z"
    }
   },
   "cell_type": "code",
   "source": [
    "# Dataset statistics\n",
    "display(input_df[NUM_PRETRAINING_STEPS:][\"label_small\"].mean())\n",
    "display(input_df[NUM_PRETRAINING_STEPS:][\"label_medium\"].mean())\n",
    "display(input_df[NUM_PRETRAINING_STEPS:][\"label_large\"].mean())\n"
   ],
   "id": "ff5f5bf045c8630",
   "outputs": [
    {
     "data": {
      "text/plain": [
       "0.6898954703832753"
      ]
     },
     "metadata": {},
     "output_type": "display_data"
    },
    {
     "data": {
      "text/plain": [
       "0.8432055749128919"
      ]
     },
     "metadata": {},
     "output_type": "display_data"
    },
    {
     "data": {
      "text/plain": [
       "0.8895470383275261"
      ]
     },
     "metadata": {},
     "output_type": "display_data"
    }
   ],
   "execution_count": 6
  },
  {
   "metadata": {
    "ExecuteTime": {
     "end_time": "2025-05-05T11:10:16.549032Z",
     "start_time": "2025-05-05T11:10:16.545311Z"
    }
   },
   "cell_type": "code",
   "source": [
    "algorithm_config = CONFIG[\"algorithm\"]\n",
    "\n",
    "model_categories = [i for i in CONFIG[\"model_zoo\"].keys()]\n",
    "sample_cols = input_df.columns.tolist()\n",
    "\n",
    "ALPHA_VALUES = [0.75]\n",
    "C_VALUES = [1.0]\n",
    "V_VALUES = [1.0]\n",
    "R_VALUES = [2, 5, 10, 15]\n",
    "\n",
    "for alpha in ALPHA_VALUES:\n",
    "\tfor c in C_VALUES:\n",
    "\t\tfor v in V_VALUES:\n",
    "\t\t\tfor r in R_VALUES:\n",
    "\t\t\t\talgorithm_config[\"V\"] = v\n",
    "\t\t\t\talgorithm_config[\"alpha\"] = alpha\n",
    "\t\t\t\talgorithm_config[\"c\"] = c\n",
    "\t\t\t\talgorithm_config[\"r\"] = r\n",
    "\n",
    "\t\t\t\tACCURACY_LIST = []\n",
    "\t\t\t\tEXPLORATION_STEP_LIST = []\n",
    "\t\t\t\tENERGY_CONSUMPTION_LIST = []\n",
    "\t\t\t\tINFERENCE_TIME_LIST = []\n",
    "\t\t\t\tENERGY_PER_MODEL = {\n",
    "\t\t\t\t\t\"small\": [0.0],\n",
    "\t\t\t\t\t\"medium\": [0.0],\n",
    "\t\t\t\t\t\"large\": [0.0],\n",
    "\t\t\t\t}\n",
    "\n",
    "\t\t\t\tmodel_category_list = [i for i in ENERGY_PER_MODEL.keys()]\n",
    "\n",
    "\t\t\t\tQ = 0.0\n",
    "\t\t\t\tctr = 0\n",
    "\n",
    "\t\t\t\trun = wandb.init(\n",
    "\t\t\t\t\tproject=f\"mess-plus_runs_vTEST\",\n",
    "\t\t\t\t\tname=f\"{BENCHMARK_NAME}_V={algorithm_config['V']}_a={algorithm_config['alpha']}_c={algorithm_config['c']}_r={r}\",\n",
    "\t\t\t\t\tconfig=CONFIG\n",
    "\t\t\t\t)\n",
    "\n",
    "\t\t\t\tif wandb.run is not None:\n",
    "\t\t\t\t\trun.summary.update({**{f\"classifier/{k}\": v for k, v in training_stats.items()}})\n",
    "\n",
    "\t\t\t\tmonitoring_dict = {}\n",
    "\t\t\t\tfor idx, sample in input_df[NUM_PRETRAINING_STEPS:].iterrows():\n",
    "\t\t\t\t\tp_t, x_t = sample_from_bernoulli(c=algorithm_config[\"c\"], timestamp=idx)\n",
    "\t\t\t\t\tEXPLORATION_STEP_LIST.append(x_t)\n",
    "\n",
    "\t\t\t\t\tif x_t == 1:\n",
    "\t\t\t\t\t\tresult = sample[\"label_large\"]\n",
    "\t\t\t\t\t\tACCURACY_LIST.append(result)\n",
    "\t\t\t\t\t\tstep_energy = sum([sample[i] for i in sample_cols if \"energy\" in i])\n",
    "\t\t\t\t\t\tstep_time = sum([sample[i] for i in sample_cols if \"inference\" in i])\n",
    "\t\t\t\t\t\tENERGY_CONSUMPTION_LIST.append(step_energy)\n",
    "\t\t\t\t\t\tINFERENCE_TIME_LIST.append(step_time)\n",
    "\t\t\t\t\t\tfor i in ENERGY_PER_MODEL.keys():\n",
    "\t\t\t\t\t\t\tENERGY_PER_MODEL[i] = sample[f\"energy_consumption_{i}\"]\n",
    "\n",
    "\t\t\t\t\t\tmonitoring_dict[f\"mess_plus/energy\"] = step_energy\n",
    "\t\t\t\t\t\tmonitoring_dict[f\"mess_plus/chosen_model\"] = len(model_category_list) - 1\n",
    "\n",
    "\t\t\t\t\telse:\n",
    "\t\t\t\t\t\tpreds, probs = classifier.predict(texts=[sample[\"input_text\"]])\n",
    "\t\t\t\t\t\tenergy = pd.DataFrame(ENERGY_PER_MODEL, index=[0]).to_numpy()\n",
    "\n",
    "\t\t\t\t\t\tenergy = np.array(energy).reshape(-1, 1)\n",
    "\t\t\t\t\t\tprobs = probs.reshape(-1, 1)\n",
    "\n",
    "\t\t\t\t\t\tcost_fn = algorithm_config[\"V\"] * energy + np.power(Q * algorithm_config[\"alpha\"] - probs, r)\n",
    "\t\t\t\t\t\tcost_fn = cost_fn.reshape(1, -1)\n",
    "\t\t\t\t\t\tchosen_model_id = np.argmin(cost_fn)\n",
    "\t\t\t\t\t\tmodel_category_chosen = model_category_list[chosen_model_id]\n",
    "\n",
    "\t\t\t\t\t\tresult = sample[f\"label_{model_category_chosen}\"]\n",
    "\t\t\t\t\t\tstep_energy = sample[f\"energy_consumption_{model_category_chosen}\"]\n",
    "\t\t\t\t\t\tstep_time = sample[f\"inference_time_{model_category_chosen}\"]\n",
    "\n",
    "\t\t\t\t\t\tINFERENCE_TIME_LIST.append(step_time)\n",
    "\t\t\t\t\t\tENERGY_CONSUMPTION_LIST.append(step_energy)\n",
    "\n",
    "\t\t\t\t\t\tmonitoring_dict[f\"mess_plus/energy\"] = step_energy\n",
    "\t\t\t\t\t\tmonitoring_dict[f\"mess_plus/chosen_model\"] = chosen_model_id\n",
    "\n",
    "\t\t\t\t\t\tACCURACY_LIST.append(result)\n",
    "\n",
    "\t\t\t\t\tQ = max(0.0, Q + algorithm_config[\"alpha\"] - result)\n",
    "\n",
    "\t\t\t\t\tmonitoring_dict.update({\n",
    "\t\t\t\t\t\t\"mess_plus/p_t\": p_t,\n",
    "\t\t\t\t\t\t\"mess_plus/x_t\": x_t,\n",
    "\t\t\t\t\t\t\"mess_plus/exploration_step_ratio\": sum(EXPLORATION_STEP_LIST) / (ctr + 1),\n",
    "\t\t\t\t\t\t\"mess_plus/q_length\": Q,\n",
    "\t\t\t\t\t\t\"mess_plus/accuracy\": sum(ACCURACY_LIST) / (ctr + 1),\n",
    "\t\t\t\t\t\t\"mess_plus/step_time\": step_time,\n",
    "\t\t\t\t\t\t\"mess_plus/total_runtime\": sum(INFERENCE_TIME_LIST),\n",
    "\t\t\t\t\t\t\"mess_plus/step_energy_consumption\": step_energy,\n",
    "\t\t\t\t\t})\n",
    "\n",
    "\t\t\t\t\tctr += 1\n",
    "\n",
    "\t\t\t\t\tif wandb.run is not None:\n",
    "\t\t\t\t\t\twandb.log(monitoring_dict, step=ctr)\n",
    "\n",
    "                if wandb.run is not None:\n",
    "                    wandb.finish()\n",
    "\t\t\t\t\ttime.sleep(2)\n",
    "\n",
    "print(f\"DONE\")"
   ],
   "id": "6058fd7e84add86c",
   "outputs": [
    {
     "ename": "TabError",
     "evalue": "inconsistent use of tabs and spaces in indentation (<string>, line 104)",
     "output_type": "error",
     "traceback": [
      "\u001B[0;36m  File \u001B[0;32m<string>:104\u001B[0;36m\u001B[0m\n\u001B[0;31m    if wandb.run is not None:\u001B[0m\n\u001B[0m                             ^\u001B[0m\n\u001B[0;31mTabError\u001B[0m\u001B[0;31m:\u001B[0m inconsistent use of tabs and spaces in indentation\n"
     ]
    }
   ],
   "execution_count": 8
  },
  {
   "metadata": {},
   "cell_type": "code",
   "source": "",
   "id": "bc2321a3d93af5cd",
   "outputs": [],
   "execution_count": null
  }
 ],
 "metadata": {
  "kernelspec": {
   "display_name": "Python 3",
   "language": "python",
   "name": "python3"
  },
  "language_info": {
   "codemirror_mode": {
    "name": "ipython",
    "version": 2
   },
   "file_extension": ".py",
   "mimetype": "text/x-python",
   "name": "python",
   "nbconvert_exporter": "python",
   "pygments_lexer": "ipython2",
   "version": "2.7.6"
  }
 },
 "nbformat": 4,
 "nbformat_minor": 5
}
