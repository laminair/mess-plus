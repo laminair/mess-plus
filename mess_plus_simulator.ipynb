{
 "cells": [
  {
   "metadata": {},
   "cell_type": "markdown",
   "source": "# Simulations for the MESS+ estimator",
   "id": "6061898d87df3119"
  },
  {
   "cell_type": "code",
   "id": "initial_id",
   "metadata": {
    "collapsed": true,
    "ExecuteTime": {
     "end_time": "2025-05-06T18:58:02.670611Z",
     "start_time": "2025-05-06T18:57:59.772664Z"
    }
   },
   "source": [
    "import time\n",
    "\n",
    "import numpy as np\n",
    "import pandas as pd\n",
    "import wandb\n",
    "import yaml\n",
    "\n",
    "from pathlib import Path\n",
    "\n",
    "from classifier.model import MultilabelBERTClassifier\n",
    "from classifier.file_reader import read_files_from_folder\n",
    "from classifier.dataset import create_bert_datasets, preprocess_dataframe\n",
    "\n",
    "from utils.mess_plus import sample_from_bernoulli\n"
   ],
   "outputs": [
    {
     "name": "stdout",
     "output_type": "stream",
     "text": [
      "INFO 05-06 20:58:02 [__init__.py:243] No platform detected, vLLM is running on UnspecifiedPlatform\n"
     ]
    }
   ],
   "execution_count": 1
  },
  {
   "metadata": {
    "ExecuteTime": {
     "end_time": "2025-05-06T18:58:02.785120Z",
     "start_time": "2025-05-06T18:58:02.715283Z"
    }
   },
   "cell_type": "code",
   "source": [
    "BENCHMARK_NAME = \"sciq\"\n",
    "# this refers to whether we want to use a pre-trained classifier or learn the classifier online while benchmarking.\n",
    "APPROACH = \"pretrained\"  # alt: online\n",
    "# This only has an effect when APPROACH = pretrained. Make sure to adjust the minibatch size accordingly!\n",
    "NUM_PRETRAINING_STEPS = 400\n",
    "SEEDS = [42]\n",
    "NUM_CLASSIFIER_LABELS = 3\n",
    "\n",
    "PROJECT_ROOT_PATH = Path(\"mess_plus_simulator\").parent"
   ],
   "id": "d29c03961de10500",
   "outputs": [
    {
     "name": "stderr",
     "output_type": "stream",
     "text": [
      "/home/woi/code/mess-plus/.venv/lib/python3.12/site-packages/torch/cuda/__init__.py:734: UserWarning: Can't initialize NVML\n",
      "  warnings.warn(\"Can't initialize NVML\")\n",
      "/home/woi/code/mess-plus/.venv/lib/python3.12/site-packages/torch/cuda/__init__.py:936: UserWarning: CUDA initialization: Unexpected error from cudaGetDeviceCount(). Did you run some cuda functions before calling NumCudaDevices() that might have already set an error? Error 804: forward compatibility was attempted on non supported HW (Triggered internally at /pytorch/c10/cuda/CUDAFunctions.cpp:109.)\n",
      "  r = torch._C._cuda_getDeviceCount() if nvml_count < 0 else nvml_count\n",
      "INFO:utils.misc:All random seeds have been set to 42.\n"
     ]
    }
   ],
   "execution_count": 2
  },
  {
   "metadata": {},
   "cell_type": "markdown",
   "source": "## Load benchmark config",
   "id": "6b3662ffb2169cb0"
  },
  {
   "metadata": {
    "ExecuteTime": {
     "end_time": "2025-05-06T18:58:02.798321Z",
     "start_time": "2025-05-06T18:58:02.787212Z"
    }
   },
   "cell_type": "code",
   "source": [
    "\n",
    "if APPROACH == \"pretrained\":\n",
    "\tconfig_path = Path(f\"{PROJECT_ROOT_PATH}/config/pretrained/{BENCHMARK_NAME}.yaml\")\n",
    "elif APPROACH == \"online\":\n",
    "\tconfig_path = Path(f\"{PROJECT_ROOT_PATH}/config/online/{BENCHMARK_NAME}.yaml\")\n",
    "\tNUM_PRETRAINING_STEPS = 0\n",
    "else:\n",
    "\traise NotImplementedError(f\"Approach {APPROACH} not implemented.\")\n",
    "\n",
    "with config_path.open(\"r\") as f:\n",
    "\tCONFIG = yaml.safe_load(f)\n",
    "\tdisplay(CONFIG)\n"
   ],
   "id": "2d42110779bf1648",
   "outputs": [
    {
     "data": {
      "text/plain": [
       "{'run_name': 'baseline',\n",
       " 'seed': 43,\n",
       " 'model_zoo': {'meta-llama/Llama-3.2-1B-Instruct': {'category': 'small',\n",
       "   'gpu_indices': [0],\n",
       "   'max_seq_len': 2048,\n",
       "   'gpu_memory_utilization': 0.12,\n",
       "   'quantization': None},\n",
       "  'unsloth/Meta-Llama-3.1-8B-Instruct-bnb-4bit': {'category': 'medium',\n",
       "   'gpu_indices': [0],\n",
       "   'max_seq_len': 2048,\n",
       "   'gpu_memory_utilization': 0.15,\n",
       "   'quantization': 'bitsandbytes'},\n",
       "  'unsloth/Llama-3.3-70B-Instruct-bnb-4bit': {'category': 'large',\n",
       "   'gpu_indices': [0],\n",
       "   'max_seq_len': 2048,\n",
       "   'gpu_memory_utilization': 0.68,\n",
       "   'quantization': 'bitsandbytes'}},\n",
       " 'classifier_model': {'model_id': 'answerdotai/ModernBERT-base',\n",
       "  'epochs': 3,\n",
       "  'learning_rate': 0.0362,\n",
       "  'weight_decay': 0.01,\n",
       "  'momentum': 0.9,\n",
       "  'batch_size': 32,\n",
       "  'max_length': 64,\n",
       "  'warmup_ratio': 0.1,\n",
       "  'threshold': 0.5,\n",
       "  'dropout_rate': 0.1,\n",
       "  'freeze_bert_layers': True,\n",
       "  'memory_size': 0,\n",
       "  'memory_strategy': 'random',\n",
       "  'reset_optimizer': False,\n",
       "  'regularization_lambda': 0.0,\n",
       "  'gpu_index': 0,\n",
       "  'disable_tqdm': False,\n",
       "  'checkpoint_path': 'checkpoints/piqa',\n",
       "  'use_pretrained_classifier': True,\n",
       "  'scoring_method': 'raw',\n",
       "  'validation_dataset_size': 0.1,\n",
       "  'generate_training_dataset': False,\n",
       "  'write_training_dataset_to_disk': False},\n",
       " 'algorithm': {'alpha_values': [0.75, 0.78, 0.81],\n",
       "  'alpha': 0.75,\n",
       "  'c': 1,\n",
       "  'V': 0.01},\n",
       " 'lm_eval': {'benchmarks': ['piqa'],\n",
       "  'num_repeats': 1,\n",
       "  'limit_num_samples': None,\n",
       "  'enforce_eager': True,\n",
       "  'write_to_disk': False}}"
      ]
     },
     "metadata": {},
     "output_type": "display_data"
    }
   ],
   "execution_count": 3
  },
  {
   "metadata": {},
   "cell_type": "markdown",
   "source": "## Load dataset",
   "id": "2b25daed58b959c"
  },
  {
   "metadata": {
    "ExecuteTime": {
     "end_time": "2025-05-06T18:58:02.895678Z",
     "start_time": "2025-05-06T18:58:02.835260Z"
    }
   },
   "cell_type": "code",
   "source": [
    "input_df = read_files_from_folder(folder_path=f\"{PROJECT_ROOT_PATH}/data/inference_outputs/{BENCHMARK_NAME}\")\n",
    "input_df[\"idx_original\"] = input_df.index\n",
    "input_df = input_df.sample(frac=1).reset_index(drop=True)\n",
    "\n",
    "display(f\"Loaded dataframe with {input_df.shape[0]} rows and {input_df.shape[1]} columns\")\n",
    "display(f\"{len(input_df.columns.tolist())} available columns: {input_df.columns.tolist()}\")\n",
    "display(input_df.head())"
   ],
   "id": "b1c8ccffd82859a4",
   "outputs": [
    {
     "data": {
      "text/plain": [
       "'Loaded dataframe with 1838 rows and 15 columns'"
      ]
     },
     "metadata": {},
     "output_type": "display_data"
    },
    {
     "data": {
      "text/plain": [
       "\"15 available columns: ['input_text', 'benchmark_name', 'label_small', 'acc_small', 'energy_consumption_small', 'inference_time_small', 'label_medium', 'acc_medium', 'energy_consumption_medium', 'inference_time_medium', 'label_large', 'acc_large', 'energy_consumption_large', 'inference_time_large', 'idx_original']\""
      ]
     },
     "metadata": {},
     "output_type": "display_data"
    },
    {
     "data": {
      "text/plain": [
       "                                input_text benchmark_name  label_small  \\\n",
       "0  Will rising prices correct a recession?           piqa          1.0   \n",
       "1            how do I make butterscothcies           piqa          1.0   \n",
       "2                Cut out pages from a book           piqa          0.0   \n",
       "3                Remove dents from carpet.           piqa          1.0   \n",
       "4                        Trim apple trees.           piqa          0.0   \n",
       "\n",
       "   acc_small  energy_consumption_small  inference_time_small  label_medium  \\\n",
       "0        1.0                    43.305              0.220327           1.0   \n",
       "1        1.0                    22.240              0.138162           1.0   \n",
       "2        0.0                    37.479              0.224905           1.0   \n",
       "3        1.0                    43.358              0.204620           1.0   \n",
       "4        0.0                    48.952              0.149915           0.0   \n",
       "\n",
       "   acc_medium  energy_consumption_medium  inference_time_medium  label_large  \\\n",
       "0         1.0                    210.447               1.034521          1.0   \n",
       "1         1.0                    212.723               1.077468          1.0   \n",
       "2         1.0                    188.012               1.039578          1.0   \n",
       "3         1.0                    192.771               1.029001          1.0   \n",
       "4         0.0                    194.003               1.027913          0.0   \n",
       "\n",
       "   acc_large  energy_consumption_large  inference_time_large  idx_original  \n",
       "0        1.0                   993.861              2.750166          1594  \n",
       "1        1.0                  1091.356              2.861364          1376  \n",
       "2        1.0                  1014.041              2.764055           351  \n",
       "3        1.0                  1022.005              2.739110          1820  \n",
       "4        0.0                  1007.760              2.792615            54  "
      ],
      "text/html": [
       "<div>\n",
       "<style scoped>\n",
       "    .dataframe tbody tr th:only-of-type {\n",
       "        vertical-align: middle;\n",
       "    }\n",
       "\n",
       "    .dataframe tbody tr th {\n",
       "        vertical-align: top;\n",
       "    }\n",
       "\n",
       "    .dataframe thead th {\n",
       "        text-align: right;\n",
       "    }\n",
       "</style>\n",
       "<table border=\"1\" class=\"dataframe\">\n",
       "  <thead>\n",
       "    <tr style=\"text-align: right;\">\n",
       "      <th></th>\n",
       "      <th>input_text</th>\n",
       "      <th>benchmark_name</th>\n",
       "      <th>label_small</th>\n",
       "      <th>acc_small</th>\n",
       "      <th>energy_consumption_small</th>\n",
       "      <th>inference_time_small</th>\n",
       "      <th>label_medium</th>\n",
       "      <th>acc_medium</th>\n",
       "      <th>energy_consumption_medium</th>\n",
       "      <th>inference_time_medium</th>\n",
       "      <th>label_large</th>\n",
       "      <th>acc_large</th>\n",
       "      <th>energy_consumption_large</th>\n",
       "      <th>inference_time_large</th>\n",
       "      <th>idx_original</th>\n",
       "    </tr>\n",
       "  </thead>\n",
       "  <tbody>\n",
       "    <tr>\n",
       "      <th>0</th>\n",
       "      <td>Will rising prices correct a recession?</td>\n",
       "      <td>piqa</td>\n",
       "      <td>1.0</td>\n",
       "      <td>1.0</td>\n",
       "      <td>43.305</td>\n",
       "      <td>0.220327</td>\n",
       "      <td>1.0</td>\n",
       "      <td>1.0</td>\n",
       "      <td>210.447</td>\n",
       "      <td>1.034521</td>\n",
       "      <td>1.0</td>\n",
       "      <td>1.0</td>\n",
       "      <td>993.861</td>\n",
       "      <td>2.750166</td>\n",
       "      <td>1594</td>\n",
       "    </tr>\n",
       "    <tr>\n",
       "      <th>1</th>\n",
       "      <td>how do I make butterscothcies</td>\n",
       "      <td>piqa</td>\n",
       "      <td>1.0</td>\n",
       "      <td>1.0</td>\n",
       "      <td>22.240</td>\n",
       "      <td>0.138162</td>\n",
       "      <td>1.0</td>\n",
       "      <td>1.0</td>\n",
       "      <td>212.723</td>\n",
       "      <td>1.077468</td>\n",
       "      <td>1.0</td>\n",
       "      <td>1.0</td>\n",
       "      <td>1091.356</td>\n",
       "      <td>2.861364</td>\n",
       "      <td>1376</td>\n",
       "    </tr>\n",
       "    <tr>\n",
       "      <th>2</th>\n",
       "      <td>Cut out pages from a book</td>\n",
       "      <td>piqa</td>\n",
       "      <td>0.0</td>\n",
       "      <td>0.0</td>\n",
       "      <td>37.479</td>\n",
       "      <td>0.224905</td>\n",
       "      <td>1.0</td>\n",
       "      <td>1.0</td>\n",
       "      <td>188.012</td>\n",
       "      <td>1.039578</td>\n",
       "      <td>1.0</td>\n",
       "      <td>1.0</td>\n",
       "      <td>1014.041</td>\n",
       "      <td>2.764055</td>\n",
       "      <td>351</td>\n",
       "    </tr>\n",
       "    <tr>\n",
       "      <th>3</th>\n",
       "      <td>Remove dents from carpet.</td>\n",
       "      <td>piqa</td>\n",
       "      <td>1.0</td>\n",
       "      <td>1.0</td>\n",
       "      <td>43.358</td>\n",
       "      <td>0.204620</td>\n",
       "      <td>1.0</td>\n",
       "      <td>1.0</td>\n",
       "      <td>192.771</td>\n",
       "      <td>1.029001</td>\n",
       "      <td>1.0</td>\n",
       "      <td>1.0</td>\n",
       "      <td>1022.005</td>\n",
       "      <td>2.739110</td>\n",
       "      <td>1820</td>\n",
       "    </tr>\n",
       "    <tr>\n",
       "      <th>4</th>\n",
       "      <td>Trim apple trees.</td>\n",
       "      <td>piqa</td>\n",
       "      <td>0.0</td>\n",
       "      <td>0.0</td>\n",
       "      <td>48.952</td>\n",
       "      <td>0.149915</td>\n",
       "      <td>0.0</td>\n",
       "      <td>0.0</td>\n",
       "      <td>194.003</td>\n",
       "      <td>1.027913</td>\n",
       "      <td>0.0</td>\n",
       "      <td>0.0</td>\n",
       "      <td>1007.760</td>\n",
       "      <td>2.792615</td>\n",
       "      <td>54</td>\n",
       "    </tr>\n",
       "  </tbody>\n",
       "</table>\n",
       "</div>"
      ]
     },
     "metadata": {},
     "output_type": "display_data"
    }
   ],
   "execution_count": 4
  },
  {
   "metadata": {},
   "cell_type": "markdown",
   "source": "## Load, configure, and train classifier",
   "id": "143a3332d4e0264c"
  },
  {
   "metadata": {
    "ExecuteTime": {
     "end_time": "2025-05-06T18:58:21.799043Z",
     "start_time": "2025-05-06T18:58:02.897752Z"
    }
   },
   "cell_type": "code",
   "source": [
    "text_col = \"input_text\"\n",
    "label_cols = [\"label_small\", \"label_medium\", \"label_large\"]\n",
    "\n",
    "classifier = MultilabelBERTClassifier(num_labels=NUM_CLASSIFIER_LABELS, **CONFIG[\"classifier_model\"])\n",
    "training_df = input_df.loc[:NUM_PRETRAINING_STEPS]\n",
    "training_df = preprocess_dataframe(training_df, label_cols=label_cols)\n",
    "\n",
    "train_dataset, val_dataset, tokenizer = create_bert_datasets(\n",
    "\ttraining_df,\n",
    "\ttext_col,\n",
    "\tlabel_cols,\n",
    "\tmodel_name=CONFIG[\"classifier_model\"][\"model_id\"],\n",
    "\tmax_length=CONFIG[\"classifier_model\"][\"max_length\"],\n",
    "\tval_ratio=CONFIG[\"classifier_model\"][\"validation_dataset_size\"],\n",
    "\trandom_seed=SEEDS[0],\n",
    ")\n",
    "\n",
    "training_stats = classifier.fit(train_dataset, val_dataset, epochs=CONFIG[\"classifier_model\"][\"epochs\"], early_stopping_patience=2)\n",
    "\n",
    "display(training_stats)\n"
   ],
   "id": "10a446db5d2aedca",
   "outputs": [
    {
     "name": "stderr",
     "output_type": "stream",
     "text": [
      "/home/woi/code/mess-plus/.venv/lib/python3.12/site-packages/torch/cuda/__init__.py:734: UserWarning: Can't initialize NVML\n",
      "  warnings.warn(\"Can't initialize NVML\")\n",
      "INFO:classifier.model:Using device: cpu\n",
      "INFO:classifier.model:Initializing custom BERTClassifier: answerdotai/ModernBERT-base with 3 labels\n",
      "Epoch 1/3 [Training]: 100%|██████████| 12/12 [00:05<00:00,  2.38it/s, loss=0.6539, batch_loss=0.6547, lr=0.0362]\n",
      "Epoch 1/3 [Validation]: 100%|██████████| 2/2 [00:00<00:00,  3.71it/s, val_loss=0.5532, avg_val_loss=0.6157]\n",
      "INFO:classifier.model:Epoch 1/3 - Time: 5.59s\n",
      "INFO:classifier.model:  Train Loss: 0.6063 - Val Loss: 0.6157\n",
      "INFO:classifier.model:  Val Metrics - Accuracy: 0.6250, F1: 0.7399, F1(macro): 0.6639\n",
      "INFO:classifier.model:  Per-label metrics:\n",
      "INFO:classifier.model:    Label 0: F1=0.2941, Prec=0.6250, Rec=0.1923\n",
      "INFO:classifier.model:    Label 1: F1=0.8406, Prec=0.7250, Rec=1.0000\n",
      "INFO:classifier.model:    Label 2: F1=0.8571, Prec=0.7500, Rec=1.0000\n",
      "INFO:classifier.model:Directory /home/woi/code/mess-plus/classifier/checkpoints/piqa existis. Reusing...\n",
      "INFO:classifier.model:Best model saved\n",
      "Epoch 2/3 [Training]: 100%|██████████| 12/12 [00:04<00:00,  2.68it/s, loss=0.5699, batch_loss=0.6421, lr=0.0362]\n",
      "Epoch 2/3 [Validation]: 100%|██████████| 2/2 [00:00<00:00,  3.74it/s, val_loss=0.5492, avg_val_loss=0.5792]\n",
      "INFO:classifier.model:Epoch 2/3 - Time: 5.01s\n",
      "INFO:classifier.model:  Train Loss: 0.5525 - Val Loss: 0.5792\n",
      "INFO:classifier.model:  Val Metrics - Accuracy: 0.7250, F1: 0.8325, F1(macro): 0.8325\n",
      "INFO:classifier.model:  Per-label metrics:\n",
      "INFO:classifier.model:    Label 0: F1=0.7879, Prec=0.6500, Rec=1.0000\n",
      "INFO:classifier.model:    Label 1: F1=0.8525, Prec=0.8125, Rec=0.8966\n",
      "INFO:classifier.model:    Label 2: F1=0.8571, Prec=0.7500, Rec=1.0000\n",
      "INFO:classifier.model:Directory /home/woi/code/mess-plus/classifier/checkpoints/piqa existis. Reusing...\n",
      "INFO:classifier.model:Best model saved\n",
      "Epoch 3/3 [Training]: 100%|██████████| 12/12 [00:05<00:00,  2.37it/s, loss=0.5513, batch_loss=0.5307, lr=0.0362]\n",
      "Epoch 3/3 [Validation]: 100%|██████████| 2/2 [00:00<00:00,  3.30it/s, val_loss=0.5482, avg_val_loss=0.6571]\n",
      "INFO:classifier.model:Epoch 3/3 - Time: 5.68s\n",
      "INFO:classifier.model:  Train Loss: 0.5792 - Val Loss: 0.6571\n",
      "INFO:classifier.model:  Val Metrics - Accuracy: 0.7000, F1: 0.8235, F1(macro): 0.8229\n",
      "INFO:classifier.model:  Per-label metrics:\n",
      "INFO:classifier.model:    Label 0: F1=0.7879, Prec=0.6500, Rec=1.0000\n",
      "INFO:classifier.model:    Label 1: F1=0.8235, Prec=0.7179, Rec=0.9655\n",
      "INFO:classifier.model:    Label 2: F1=0.8571, Prec=0.7500, Rec=1.0000\n",
      "WARNING:classifier.model:No improvement: 1/2\n"
     ]
    },
    {
     "data": {
      "text/plain": [
       "{'epoch': 3,\n",
       " 'train/loss': 0.5791598930954933,\n",
       " 'val/loss': 0.657087653875351,\n",
       " 'val/accuracy': 0.7,\n",
       " 'val/precision_micro': 0.7058823529411765,\n",
       " 'val/recall_micro': 0.9882352941176471,\n",
       " 'val/f1_micro': 0.8235294117647058,\n",
       " 'val/f1_macro': 0.822850352262117,\n",
       " 'time/epoch_seconds': 5.681046724319458,\n",
       " 'val/0_f1score': 0.7878787878787878,\n",
       " 'val/0_recall': 0.65,\n",
       " 'val/0_precision': 1.0,\n",
       " 'val/1_f1score': 0.8235294117647058,\n",
       " 'val/1_recall': 0.717948717948718,\n",
       " 'val/1_precision': 0.9655172413793104,\n",
       " 'val/2_f1score': 0.8571428571428571,\n",
       " 'val/2_recall': 0.75,\n",
       " 'val/2_precision': 1.0}"
      ]
     },
     "metadata": {},
     "output_type": "display_data"
    }
   ],
   "execution_count": 5
  },
  {
   "metadata": {
    "ExecuteTime": {
     "end_time": "2025-05-06T18:58:21.810934Z",
     "start_time": "2025-05-06T18:58:21.808497Z"
    }
   },
   "cell_type": "code",
   "source": [
    "# Dataset statistics\n",
    "display(input_df[NUM_PRETRAINING_STEPS:][\"label_small\"].mean())\n",
    "display(input_df[NUM_PRETRAINING_STEPS:][\"label_medium\"].mean())\n",
    "display(input_df[NUM_PRETRAINING_STEPS:][\"label_large\"].mean())\n"
   ],
   "id": "ff5f5bf045c8630",
   "outputs": [
    {
     "data": {
      "text/plain": [
       "0.7475660639777468"
      ]
     },
     "metadata": {},
     "output_type": "display_data"
    },
    {
     "data": {
      "text/plain": [
       "0.7906815020862309"
      ]
     },
     "metadata": {},
     "output_type": "display_data"
    },
    {
     "data": {
      "text/plain": [
       "0.8261474269819193"
      ]
     },
     "metadata": {},
     "output_type": "display_data"
    }
   ],
   "execution_count": 6
  },
  {
   "metadata": {
    "ExecuteTime": {
     "end_time": "2025-05-06T18:58:21.862181Z",
     "start_time": "2025-05-06T18:58:21.861218Z"
    }
   },
   "cell_type": "code",
   "source": "",
   "id": "bc2321a3d93af5cd",
   "outputs": [],
   "execution_count": null
  },
  {
   "metadata": {
    "ExecuteTime": {
     "end_time": "2025-05-06T19:06:52.033706Z",
     "start_time": "2025-05-06T18:58:21.913290Z"
    }
   },
   "cell_type": "code",
   "source": [
    "algorithm_config = CONFIG[\"algorithm\"]\n",
    "\n",
    "model_categories = [i for i in CONFIG[\"model_zoo\"].keys()]\n",
    "sample_cols = input_df.columns.tolist()\n",
    "\n",
    "ALPHA_VALUES = algorithm_config[\"alpha_values\"]\n",
    "C_VALUES = [1.0]\n",
    "V_VALUES = [0.01, 0.001, 0.0001, 0.00001, 0.000001]\n",
    "R_VALUES = [1]\n",
    "\n",
    "for alpha in ALPHA_VALUES:\n",
    "\tfor c in C_VALUES:\n",
    "\t\tfor v in V_VALUES:\n",
    "\t\t\talgorithm_config[\"V\"] = v\n",
    "\t\t\talgorithm_config[\"alpha\"] = alpha\n",
    "\t\t\talgorithm_config[\"c\"] = c\n",
    "\n",
    "\t\t\tACCURACY_LIST = []\n",
    "\t\t\tEXPLORATION_STEP_LIST = []\n",
    "\t\t\tENERGY_CONSUMPTION_LIST = []\n",
    "\t\t\tINFERENCE_TIME_LIST = []\n",
    "\t\t\tMODEL_CHOSEN_LIST = []\n",
    "\n",
    "\t\t\tENERGY_PER_MODEL = {\n",
    "\t\t\t\t\"small\": [0.01],\n",
    "\t\t\t\t\"medium\": [0.1],\n",
    "\t\t\t\t\"large\": [1.0],\n",
    "\t\t\t}\n",
    "\n",
    "\t\t\tmodel_category_list = [i for i in ENERGY_PER_MODEL.keys()]\n",
    "\n",
    "\t\t\tQ = 0.0\n",
    "\t\t\tctr = 0\n",
    "\n",
    "\t\t\trun = wandb.init(\n",
    "\t\t\t\tproject=f\"mess-plus_runs_vTEST2\",\n",
    "\t\t\t\tname=f\"{BENCHMARK_NAME}_V={algorithm_config['V']}_a={algorithm_config['alpha']}_c={algorithm_config['c']}_r={r}\",\n",
    "\t\t\t\tconfig=CONFIG\n",
    "\t\t\t)\n",
    "\n",
    "\t\t\tif wandb.run is not None:\n",
    "\t\t\t\trun.summary.update({**{f\"classifier/{k}\": v for k, v in training_stats.items()}})\n",
    "\n",
    "\t\t\tmonitoring_dict = {}\n",
    "\t\t\tfor idx, sample in input_df[NUM_PRETRAINING_STEPS:].iterrows():\n",
    "\t\t\t\tp_t, x_t = sample_from_bernoulli(c=algorithm_config[\"c\"], timestamp=idx)\n",
    "\t\t\t\tEXPLORATION_STEP_LIST.append(x_t)\n",
    "\n",
    "\t\t\t\tif x_t == 1:\n",
    "\t\t\t\t\tresult = sample[\"label_large\"]\n",
    "\t\t\t\t\tACCURACY_LIST.append(result)\n",
    "\t\t\t\t\tstep_energy = sum([sample[i] for i in sample_cols if \"energy\" in i])\n",
    "\t\t\t\t\tstep_time = sum([sample[i] for i in sample_cols if \"inference\" in i])\n",
    "\t\t\t\t\tENERGY_CONSUMPTION_LIST.append(step_energy)\n",
    "\t\t\t\t\tINFERENCE_TIME_LIST.append(step_time)\n",
    "\t\t\t\t\tfor i in ENERGY_PER_MODEL.keys():\n",
    "\t\t\t\t\t\tENERGY_PER_MODEL[i] = sample[f\"energy_consumption_{i}\"]\n",
    "\n",
    "\t\t\t\t\tmonitoring_dict[f\"mess_plus/energy\"] = step_energy\n",
    "\t\t\t\t\tmonitoring_dict[f\"mess_plus/chosen_model\"] = len(model_category_list) - 1\n",
    "\n",
    "\t\t\t\telse:\n",
    "\t\t\t\t\tpreds, probs = classifier.predict(texts=[sample[\"input_text\"]])\n",
    "\t\t\t\t\tenergy = pd.DataFrame(ENERGY_PER_MODEL, index=[0]).to_numpy()\n",
    "\n",
    "\t\t\t\t\tenergy = np.array(energy).reshape(-1, 1)\n",
    "\t\t\t\t\tprobs = probs.reshape(-1, 1)\n",
    "\n",
    "\t\t\t\t\tcost_fn = algorithm_config[\"V\"] * energy + Q * (alpha - probs)\n",
    "\t\t\t\t\tcost_fn = cost_fn.reshape(1, -1)\n",
    "\t\t\t\t\tchosen_model_id = np.argmin(cost_fn)\n",
    "\t\t\t\t\t# print(f\"STEP={ctr} - V={v} - Q={Q} - CHOSEN MODEL: {chosen_model_id} - COST FN: {cost_fn}\")\n",
    "\t\t\t\t\tmodel_category_chosen = model_category_list[chosen_model_id]\n",
    "\n",
    "\t\t\t\t\tresult = sample[f\"label_{model_category_chosen}\"]\n",
    "\t\t\t\t\tstep_energy = sample[f\"energy_consumption_{model_category_chosen}\"]\n",
    "\t\t\t\t\tstep_time = sample[f\"inference_time_{model_category_chosen}\"]\n",
    "\n",
    "\t\t\t\t\tINFERENCE_TIME_LIST.append(step_time)\n",
    "\t\t\t\t\tENERGY_CONSUMPTION_LIST.append(step_energy)\n",
    "\t\t\t\t\tMODEL_CHOSEN_LIST.append(chosen_model_id)\n",
    "\n",
    "\t\t\t\t\tmonitoring_dict[f\"mess_plus/energy\"] = step_energy\n",
    "\t\t\t\t\tmonitoring_dict[f\"mess_plus/chosen_model\"] = chosen_model_id\n",
    "\n",
    "\t\t\t\t\tACCURACY_LIST.append(result)\n",
    "\n",
    "\t\t\t\tQ = max(0.0, Q + algorithm_config[\"alpha\"] - result)\n",
    "\n",
    "\t\t\t\tx = np.array(MODEL_CHOSEN_LIST)\n",
    "\t\t\t\tmonitoring_dict.update({\n",
    "\t\t\t\t\t\"mess_plus/p_t\": p_t,\n",
    "\t\t\t\t\t\"mess_plus/x_t\": x_t,\n",
    "\t\t\t\t\t\"mess_plus/exploration_step_ratio\": sum(EXPLORATION_STEP_LIST) / (ctr + 1),\n",
    "\t\t\t\t\t\"mess_plus/q_length\": Q,\n",
    "\t\t\t\t\t\"mess_plus/accuracy\": sum(ACCURACY_LIST) / (ctr + 1),\n",
    "\t\t\t\t\t\"mess_plus/step_time\": step_time,\n",
    "\t\t\t\t\t\"mess_plus/total_runtime\": sum(INFERENCE_TIME_LIST),\n",
    "\t\t\t\t\t\"mess_plus/step_energy_consumption\": step_energy,\n",
    "\t\t\t\t\t\"models/small_chosen\": len(np.where(x == 0)[0]) / (len(x) + 1e-8),\n",
    "\t\t\t\t\t\"models/medium_chosen\": len(np.where(x == 1)[0]) / (len(x) + 1e-8),\n",
    "\t\t\t\t\t\"models/large_chosen\": len(np.where(x == 2)[0]) / (len(x) + 1e-8),\n",
    "\t\t\t\t})\n",
    "\n",
    "\t\t\t\tprint(monitoring_dict)\n",
    "\n",
    "\t\t\t\tctr += 1\n",
    "\t\t\t\tif wandb.run is not None:\n",
    "\t\t\t\t\twandb.log(monitoring_dict, step=ctr)\n",
    "\n",
    "\t\t\t\tif ctr % 3 == 0 and ctr > 0:\n",
    "\t\t\t\t\tbreak\n",
    "\n",
    "\t\t\tif wandb.run is not None:\n",
    "\t\t\t\twandb.finish()\n",
    "\t\t\t\ttime.sleep(2)\n",
    "\n",
    "\n",
    "print(f\"DONE\")"
   ],
   "id": "6058fd7e84add86c",
   "outputs": [
    {
     "name": "stderr",
     "output_type": "stream",
     "text": [
      "\u001B[34m\u001B[1mwandb\u001B[0m: Using wandb-core as the SDK backend.  Please refer to https://wandb.me/wandb-core for more information.\n",
      "\u001B[34m\u001B[1mwandb\u001B[0m: Currently logged in as: \u001B[33mherbertw\u001B[0m (\u001B[33mtum-i13\u001B[0m). Use \u001B[1m`wandb login --relogin`\u001B[0m to force relogin\n"
     ]
    },
    {
     "data": {
      "text/plain": [
       "<IPython.core.display.HTML object>"
      ],
      "text/html": [
       "Tracking run with wandb version 0.19.1"
      ]
     },
     "metadata": {},
     "output_type": "display_data"
    },
    {
     "data": {
      "text/plain": [
       "<IPython.core.display.HTML object>"
      ],
      "text/html": [
       "Run data is saved locally in <code>/home/woi/code/mess-plus/wandb/run-20250506_205822-h76uwdkr</code>"
      ]
     },
     "metadata": {},
     "output_type": "display_data"
    },
    {
     "data": {
      "text/plain": [
       "<IPython.core.display.HTML object>"
      ],
      "text/html": [
       "Syncing run <strong><a href='https://wandb.ai/tum-i13/mess-plus_runs_3_models/runs/h76uwdkr' target=\"_blank\">piqa_V=1.0_a=0.75_c=1.0</a></strong> to <a href='https://wandb.ai/tum-i13/mess-plus_runs_3_models' target=\"_blank\">Weights & Biases</a> (<a href='https://wandb.me/developer-guide' target=\"_blank\">docs</a>)<br>"
      ]
     },
     "metadata": {},
     "output_type": "display_data"
    },
    {
     "data": {
      "text/plain": [
       "<IPython.core.display.HTML object>"
      ],
      "text/html": [
       " View project at <a href='https://wandb.ai/tum-i13/mess-plus_runs_3_models' target=\"_blank\">https://wandb.ai/tum-i13/mess-plus_runs_3_models</a>"
      ]
     },
     "metadata": {},
     "output_type": "display_data"
    },
    {
     "data": {
      "text/plain": [
       "<IPython.core.display.HTML object>"
      ],
      "text/html": [
       " View run at <a href='https://wandb.ai/tum-i13/mess-plus_runs_3_models/runs/h76uwdkr' target=\"_blank\">https://wandb.ai/tum-i13/mess-plus_runs_3_models/runs/h76uwdkr</a>"
      ]
     },
     "metadata": {},
     "output_type": "display_data"
    },
    {
     "data": {
      "text/plain": [
       "<IPython.core.display.HTML object>"
      ],
      "text/html": []
     },
     "metadata": {},
     "output_type": "display_data"
    },
    {
     "data": {
      "text/plain": [
       "<IPython.core.display.HTML object>"
      ],
      "text/html": [
       "<br>    <style><br>        .wandb-row {<br>            display: flex;<br>            flex-direction: row;<br>            flex-wrap: wrap;<br>            justify-content: flex-start;<br>            width: 100%;<br>        }<br>        .wandb-col {<br>            display: flex;<br>            flex-direction: column;<br>            flex-basis: 100%;<br>            flex: 1;<br>            padding: 10px;<br>        }<br>    </style><br><div class=\"wandb-row\"><div class=\"wandb-col\"><h3>Run history:</h3><br/><table class=\"wandb\"><tr><td>mess_plus/accuracy</td><td>▁▄▆▇▆▅▅▅▅▅▆▇▇██▇▇▇▇▇▇▇▇▇▇▇▇▇▇▇▇▇▇▇▇▇▇▇▇▇</td></tr><tr><td>mess_plus/chosen_model</td><td>▁█▁▁▁▁▁▁██▁▁▁▁▁▁█▁▁▁▁▁▁▁▁▁▁█▁▁███▁█▁▁▁▁▁</td></tr><tr><td>mess_plus/energy</td><td>▁▁▁▁▁▁▁█▇█▁▁█▁▁█▁▁█▁▁▁▁▁█▁▁█▁▁▁█▁▁▁▁▁▁▁▁</td></tr><tr><td>mess_plus/exploration_step_ratio</td><td>▁▁▁▅▅▆▇▇▇▇▇▇▇██▇███▇███▇████████████████</td></tr><tr><td>mess_plus/p_t</td><td>██▇▇▇▆▅▅▅▅▄▄▄▄▄▃▃▃▃▃▂▂▂▂▂▂▂▂▂▂▂▂▂▂▁▁▁▁▁▁</td></tr><tr><td>mess_plus/q_length</td><td>▂▃▃▂▂▅▅▆▆▅▁▂▂▁▁▂▆█▇▄▂▃▃▂▄▅▆▅▅▄▂▃▁▃▄▁▂▂▂▃</td></tr><tr><td>mess_plus/step_energy_consumption</td><td>▁▁▁▁▁▁█▁▁█▁▁▁▁█▁▇▁▁▁▁▁▁▁█▁▁▁▁▁█▁▁▁▁▁▁▁▁▁</td></tr><tr><td>mess_plus/step_time</td><td>▁▁▁█▁▁▁▁▁▁▁█▁▁▁▁▁▁▁▁▁▁▁▁█▁▁▁▁█▁▁▁▁▁▁██▁█</td></tr><tr><td>mess_plus/total_runtime</td><td>▁▁▁▂▂▂▂▂▃▃▃▃▄▄▄▄▅▅▅▅▅▅▅▅▆▆▆▆▆▇▇▇▇▇▇█████</td></tr><tr><td>mess_plus/x_t</td><td>▁▁▁█▁▁█▁▁▁▁▁▁█▁▁▁▁▁▁█▁█▁▁█▁█▁▁█▁█▁▁▁██▁▁</td></tr><tr><td>models/large_chosen</td><td>▁█▆▇▇███████████████████████████████████</td></tr><tr><td>models/medium_chosen</td><td>▁▁▁▁▁▁▁▁▁▁▁▁▁▁▁▁▁▁▁▁▁▁▁▁▁▁▁▁▁▁▁▁▁▁▁▁▁▁▁▁</td></tr><tr><td>models/small_chosen</td><td>█▃▁▃▂▁▁▁▁▁▁▂▁▁▁▁▁▁▂▁▁▁▁▁▁▁▁▁▁▁▁▁▁▁▁▁▁▁▁▁</td></tr></table><br/></div><div class=\"wandb-col\"><h3>Run summary:</h3><br/><table class=\"wandb\"><tr><td>classifier/epoch</td><td>3</td></tr><tr><td>classifier/time/epoch_seconds</td><td>5.68105</td></tr><tr><td>classifier/train/loss</td><td>0.57916</td></tr><tr><td>classifier/val/0_f1score</td><td>0.78788</td></tr><tr><td>classifier/val/0_precision</td><td>1</td></tr><tr><td>classifier/val/0_recall</td><td>0.65</td></tr><tr><td>classifier/val/1_f1score</td><td>0.82353</td></tr><tr><td>classifier/val/1_precision</td><td>0.96552</td></tr><tr><td>classifier/val/1_recall</td><td>0.71795</td></tr><tr><td>classifier/val/2_f1score</td><td>0.85714</td></tr><tr><td>classifier/val/2_precision</td><td>1</td></tr><tr><td>classifier/val/2_recall</td><td>0.75</td></tr><tr><td>classifier/val/accuracy</td><td>0.7</td></tr><tr><td>classifier/val/f1_macro</td><td>0.82285</td></tr><tr><td>classifier/val/f1_micro</td><td>0.82353</td></tr><tr><td>classifier/val/loss</td><td>0.65709</td></tr><tr><td>classifier/val/precision_micro</td><td>0.70588</td></tr><tr><td>classifier/val/recall_micro</td><td>0.98824</td></tr><tr><td>mess_plus/accuracy</td><td>0.76147</td></tr><tr><td>mess_plus/chosen_model</td><td>0</td></tr><tr><td>mess_plus/energy</td><td>38.271</td></tr><tr><td>mess_plus/exploration_step_ratio</td><td>0.23783</td></tr><tr><td>mess_plus/p_t</td><td>0.22242</td></tr><tr><td>mess_plus/q_length</td><td>5</td></tr><tr><td>mess_plus/step_energy_consumption</td><td>38.271</td></tr><tr><td>mess_plus/step_time</td><td>0.21865</td></tr><tr><td>mess_plus/total_runtime</td><td>1525.06529</td></tr><tr><td>mess_plus/x_t</td><td>0</td></tr><tr><td>models/large_chosen</td><td>0.23783</td></tr><tr><td>models/medium_chosen</td><td>0</td></tr><tr><td>models/small_chosen</td><td>0.76217</td></tr></table><br/></div></div>"
      ]
     },
     "metadata": {},
     "output_type": "display_data"
    },
    {
     "data": {
      "text/plain": [
       "<IPython.core.display.HTML object>"
      ],
      "text/html": [
       " View run <strong style=\"color:#cdcd00\">piqa_V=1.0_a=0.75_c=1.0</strong> at: <a href='https://wandb.ai/tum-i13/mess-plus_runs_3_models/runs/h76uwdkr' target=\"_blank\">https://wandb.ai/tum-i13/mess-plus_runs_3_models/runs/h76uwdkr</a><br> View project at: <a href='https://wandb.ai/tum-i13/mess-plus_runs_3_models' target=\"_blank\">https://wandb.ai/tum-i13/mess-plus_runs_3_models</a><br>Synced 5 W&B file(s), 0 media file(s), 0 artifact file(s) and 0 other file(s)"
      ]
     },
     "metadata": {},
     "output_type": "display_data"
    },
    {
     "data": {
      "text/plain": [
       "<IPython.core.display.HTML object>"
      ],
      "text/html": [
       "Find logs at: <code>./wandb/run-20250506_205822-h76uwdkr/logs</code>"
      ]
     },
     "metadata": {},
     "output_type": "display_data"
    },
    {
     "data": {
      "text/plain": [
       "<IPython.core.display.HTML object>"
      ],
      "text/html": [
       "Tracking run with wandb version 0.19.1"
      ]
     },
     "metadata": {},
     "output_type": "display_data"
    },
    {
     "data": {
      "text/plain": [
       "<IPython.core.display.HTML object>"
      ],
      "text/html": [
       "Run data is saved locally in <code>/home/woi/code/mess-plus/wandb/run-20250506_205850-l3msi223</code>"
      ]
     },
     "metadata": {},
     "output_type": "display_data"
    },
    {
     "data": {
      "text/plain": [
       "<IPython.core.display.HTML object>"
      ],
      "text/html": [
       "Syncing run <strong><a href='https://wandb.ai/tum-i13/mess-plus_runs_3_models/runs/l3msi223' target=\"_blank\">piqa_V=0.1_a=0.75_c=1.0</a></strong> to <a href='https://wandb.ai/tum-i13/mess-plus_runs_3_models' target=\"_blank\">Weights & Biases</a> (<a href='https://wandb.me/developer-guide' target=\"_blank\">docs</a>)<br>"
      ]
     },
     "metadata": {},
     "output_type": "display_data"
    },
    {
     "data": {
      "text/plain": [
       "<IPython.core.display.HTML object>"
      ],
      "text/html": [
       " View project at <a href='https://wandb.ai/tum-i13/mess-plus_runs_3_models' target=\"_blank\">https://wandb.ai/tum-i13/mess-plus_runs_3_models</a>"
      ]
     },
     "metadata": {},
     "output_type": "display_data"
    },
    {
     "data": {
      "text/plain": [
       "<IPython.core.display.HTML object>"
      ],
      "text/html": [
       " View run at <a href='https://wandb.ai/tum-i13/mess-plus_runs_3_models/runs/l3msi223' target=\"_blank\">https://wandb.ai/tum-i13/mess-plus_runs_3_models/runs/l3msi223</a>"
      ]
     },
     "metadata": {},
     "output_type": "display_data"
    },
    {
     "data": {
      "text/plain": [
       "<IPython.core.display.HTML object>"
      ],
      "text/html": []
     },
     "metadata": {},
     "output_type": "display_data"
    },
    {
     "data": {
      "text/plain": [
       "<IPython.core.display.HTML object>"
      ],
      "text/html": [
       "<br>    <style><br>        .wandb-row {<br>            display: flex;<br>            flex-direction: row;<br>            flex-wrap: wrap;<br>            justify-content: flex-start;<br>            width: 100%;<br>        }<br>        .wandb-col {<br>            display: flex;<br>            flex-direction: column;<br>            flex-basis: 100%;<br>            flex: 1;<br>            padding: 10px;<br>        }<br>    </style><br><div class=\"wandb-row\"><div class=\"wandb-col\"><h3>Run history:</h3><br/><table class=\"wandb\"><tr><td>mess_plus/accuracy</td><td>▅▁▅▇▇█▆▃▂▃▃▄▃▅▄▂▃▂▂▁▂▂▃▂▁▂▁▂▂▂▂▂▂▂▂▂▂▂▂▂</td></tr><tr><td>mess_plus/chosen_model</td><td>███▁▁█▁▁▁█▁▁▁▁▁▁▁▁▁▁▁▁▁█▁▁▁███▁▁▁▁▁▁▁▁█▁</td></tr><tr><td>mess_plus/energy</td><td>▁▁█▁▁▁▁▁█▁█▁▇▁▁▁▁▁▁▁▁█▁▁▁▁▁▁███▁▁▁█▁▁▁▁█</td></tr><tr><td>mess_plus/exploration_step_ratio</td><td>█▃▅▅▄▃▃▂▂▂▂▂▂▂▂▂▂▂▂▂▂▂▂▂▂▂▂▂▂▁▁▁▁▂▁▁▁▁▁▁</td></tr><tr><td>mess_plus/p_t</td><td>██▇▇▇▆▆▆▆▅▅▄▄▄▄▃▃▃▃▃▃▃▃▃▃▃▂▂▂▂▂▂▂▂▂▁▁▁▁▁</td></tr><tr><td>mess_plus/q_length</td><td>▂▁▁▁▂▄▂▁▁▁▁█▇█▇▆▂▃▄▃▃▃▆▅▅▆▄▂▁▆▃▄▄▄▁▁▂▁▂▄</td></tr><tr><td>mess_plus/step_energy_consumption</td><td>███▁▁▁▁▁▁▁▁█▁▁█▁▁█▁▁▁▁█▁▁▁█▁▁▁▁██▁▁▁█▁▁▁</td></tr><tr><td>mess_plus/step_time</td><td>█▁█▁▁▁▁▁▁▁▁▁▁▁▁██▁▁█▁▁█▁▁▁▁▁▁█▁▁▁▁█▁▁▁██</td></tr><tr><td>mess_plus/total_runtime</td><td>▁▁▁▂▂▂▂▂▃▃▄▄▄▄▄▄▄▄▅▅▅▅▅▅▅▅▅▆▆▆▆▇▇▇▇▇████</td></tr><tr><td>mess_plus/x_t</td><td>▁▁▁▁▁█▁▁▁█▁▁▁▁▁▁▁▁▁▁██▁█▁█▁▁█▁█▁▁▁▁█▁▁▁█</td></tr><tr><td>models/large_chosen</td><td>▆▄▇█▆▄▄▄▄▃▃▃▃▃▃▃▃▃▃▂▂▃▂▂▂▂▂▂▂▂▂▂▂▂▂▁▁▁▁▁</td></tr><tr><td>models/medium_chosen</td><td>▁▁▁▁▁▁▁▁▁▁▁▁▁▁▁▁▁▁▁▁▁▁▁▁▁▁▁▁▁▁▁▁▁▁▁▁▁▁▁▁</td></tr><tr><td>models/small_chosen</td><td>▁▃▄▄▄▁▂▁▃▃▆▅▆▆▆▆▆▇▇▇▇▇▇▇▇▇▇▇▇▇▇▇▇▇▇█████</td></tr></table><br/></div><div class=\"wandb-col\"><h3>Run summary:</h3><br/><table class=\"wandb\"><tr><td>classifier/epoch</td><td>3</td></tr><tr><td>classifier/time/epoch_seconds</td><td>5.68105</td></tr><tr><td>classifier/train/loss</td><td>0.57916</td></tr><tr><td>classifier/val/0_f1score</td><td>0.78788</td></tr><tr><td>classifier/val/0_precision</td><td>1</td></tr><tr><td>classifier/val/0_recall</td><td>0.65</td></tr><tr><td>classifier/val/1_f1score</td><td>0.82353</td></tr><tr><td>classifier/val/1_precision</td><td>0.96552</td></tr><tr><td>classifier/val/1_recall</td><td>0.71795</td></tr><tr><td>classifier/val/2_f1score</td><td>0.85714</td></tr><tr><td>classifier/val/2_precision</td><td>1</td></tr><tr><td>classifier/val/2_recall</td><td>0.75</td></tr><tr><td>classifier/val/accuracy</td><td>0.7</td></tr><tr><td>classifier/val/f1_macro</td><td>0.82285</td></tr><tr><td>classifier/val/f1_micro</td><td>0.82353</td></tr><tr><td>classifier/val/loss</td><td>0.65709</td></tr><tr><td>classifier/val/precision_micro</td><td>0.70588</td></tr><tr><td>classifier/val/recall_micro</td><td>0.98824</td></tr><tr><td>mess_plus/accuracy</td><td>0.76634</td></tr><tr><td>mess_plus/chosen_model</td><td>0</td></tr><tr><td>mess_plus/energy</td><td>38.271</td></tr><tr><td>mess_plus/exploration_step_ratio</td><td>0.26008</td></tr><tr><td>mess_plus/p_t</td><td>0.22242</td></tr><tr><td>mess_plus/q_length</td><td>4</td></tr><tr><td>mess_plus/step_energy_consumption</td><td>38.271</td></tr><tr><td>mess_plus/step_time</td><td>0.21865</td></tr><tr><td>mess_plus/total_runtime</td><td>1644.55048</td></tr><tr><td>mess_plus/x_t</td><td>0</td></tr><tr><td>models/large_chosen</td><td>0.26008</td></tr><tr><td>models/medium_chosen</td><td>0</td></tr><tr><td>models/small_chosen</td><td>0.73992</td></tr></table><br/></div></div>"
      ]
     },
     "metadata": {},
     "output_type": "display_data"
    },
    {
     "data": {
      "text/plain": [
       "<IPython.core.display.HTML object>"
      ],
      "text/html": [
       " View run <strong style=\"color:#cdcd00\">piqa_V=0.1_a=0.75_c=1.0</strong> at: <a href='https://wandb.ai/tum-i13/mess-plus_runs_3_models/runs/l3msi223' target=\"_blank\">https://wandb.ai/tum-i13/mess-plus_runs_3_models/runs/l3msi223</a><br> View project at: <a href='https://wandb.ai/tum-i13/mess-plus_runs_3_models' target=\"_blank\">https://wandb.ai/tum-i13/mess-plus_runs_3_models</a><br>Synced 5 W&B file(s), 0 media file(s), 0 artifact file(s) and 0 other file(s)"
      ]
     },
     "metadata": {},
     "output_type": "display_data"
    },
    {
     "data": {
      "text/plain": [
       "<IPython.core.display.HTML object>"
      ],
      "text/html": [
       "Find logs at: <code>./wandb/run-20250506_205850-l3msi223/logs</code>"
      ]
     },
     "metadata": {},
     "output_type": "display_data"
    },
    {
     "data": {
      "text/plain": [
       "<IPython.core.display.HTML object>"
      ],
      "text/html": [
       "Tracking run with wandb version 0.19.1"
      ]
     },
     "metadata": {},
     "output_type": "display_data"
    },
    {
     "data": {
      "text/plain": [
       "<IPython.core.display.HTML object>"
      ],
      "text/html": [
       "Run data is saved locally in <code>/home/woi/code/mess-plus/wandb/run-20250506_205919-xrmy49cy</code>"
      ]
     },
     "metadata": {},
     "output_type": "display_data"
    },
    {
     "data": {
      "text/plain": [
       "<IPython.core.display.HTML object>"
      ],
      "text/html": [
       "Syncing run <strong><a href='https://wandb.ai/tum-i13/mess-plus_runs_3_models/runs/xrmy49cy' target=\"_blank\">piqa_V=0.01_a=0.75_c=1.0</a></strong> to <a href='https://wandb.ai/tum-i13/mess-plus_runs_3_models' target=\"_blank\">Weights & Biases</a> (<a href='https://wandb.me/developer-guide' target=\"_blank\">docs</a>)<br>"
      ]
     },
     "metadata": {},
     "output_type": "display_data"
    },
    {
     "data": {
      "text/plain": [
       "<IPython.core.display.HTML object>"
      ],
      "text/html": [
       " View project at <a href='https://wandb.ai/tum-i13/mess-plus_runs_3_models' target=\"_blank\">https://wandb.ai/tum-i13/mess-plus_runs_3_models</a>"
      ]
     },
     "metadata": {},
     "output_type": "display_data"
    },
    {
     "data": {
      "text/plain": [
       "<IPython.core.display.HTML object>"
      ],
      "text/html": [
       " View run at <a href='https://wandb.ai/tum-i13/mess-plus_runs_3_models/runs/xrmy49cy' target=\"_blank\">https://wandb.ai/tum-i13/mess-plus_runs_3_models/runs/xrmy49cy</a>"
      ]
     },
     "metadata": {},
     "output_type": "display_data"
    },
    {
     "data": {
      "text/plain": [
       "<IPython.core.display.HTML object>"
      ],
      "text/html": []
     },
     "metadata": {},
     "output_type": "display_data"
    },
    {
     "data": {
      "text/plain": [
       "<IPython.core.display.HTML object>"
      ],
      "text/html": [
       "<br>    <style><br>        .wandb-row {<br>            display: flex;<br>            flex-direction: row;<br>            flex-wrap: wrap;<br>            justify-content: flex-start;<br>            width: 100%;<br>        }<br>        .wandb-col {<br>            display: flex;<br>            flex-direction: column;<br>            flex-basis: 100%;<br>            flex: 1;<br>            padding: 10px;<br>        }<br>    </style><br><div class=\"wandb-row\"><div class=\"wandb-col\"><h3>Run history:</h3><br/><table class=\"wandb\"><tr><td>mess_plus/accuracy</td><td>▄█▆▁▃▁▂▂▂▁▂▂▂▃▃▃▃▃▃▃▃▃▃▃▃▃▃▃▃▃▃▃▃▃▃▃▃▃▃▃</td></tr><tr><td>mess_plus/chosen_model</td><td>█▁█▁██▁▁▁▁▁▁▁▁▁██▁▁▁█▁▁▁▁▁▁▁▁▁▁▁█▁▁▁▁▁▁█</td></tr><tr><td>mess_plus/energy</td><td>▁▁█▁▁█▁▁▁▁█▁█▁▁█▁▁▁▁▁▁▁█▁▁▁▁▁▁▁▁▁▁▁▁▁█▁▁</td></tr><tr><td>mess_plus/exploration_step_ratio</td><td>█▃▂▂▃▃▃▃▂▂▁▁▁▂▂▂▃▃▃▃▂▂▂▂▂▂▂▂▁▁▂▁▁▁▁▁▁▁▁▁</td></tr><tr><td>mess_plus/p_t</td><td>████▇▆▆▆▆▅▅▅▅▄▄▄▄▄▄▄▄▃▃▃▃▃▂▂▂▂▂▂▂▂▂▁▁▁▁▁</td></tr><tr><td>mess_plus/q_length</td><td>▁▃▃▃▇▇▆▆▆▃▁▁▃▂▁█▅▇▄▂▃▁▁▁▃▃▂▂▂▃▂▁▃▂▁▁▄▄▇▄</td></tr><tr><td>mess_plus/step_energy_consumption</td><td>▁█▁▁▁▁▁█▁█▁▁▁▁▁█▁▁█▁█▁▁▁▁▁▁▁█▁▁▁▁▁▁▁▁█▁▁</td></tr><tr><td>mess_plus/step_time</td><td>▁▁▁███▁█▁▅█▁▁█▁█▁██▁▁█▁█▁▁█▁█▁██▁▁█▁▁▁▁▁</td></tr><tr><td>mess_plus/total_runtime</td><td>▁▁▁▁▁▂▂▂▂▂▂▂▃▃▃▃▄▄▄▄▅▅▅▅▆▆▆▆▆▇▇▇▇▇▇█████</td></tr><tr><td>mess_plus/x_t</td><td>██▁▁▁▁▁▁▁▁▁█▁▁▁▁▁▁▁▁▁▁▁▁████▁█▁▁▁▁▁▁█▁█▁</td></tr><tr><td>models/large_chosen</td><td>▁▂█▃▃▃▃▄▄▃▃▃▃▃▃▃▃▃▃▃▃▃▃▃▃▂▃▃▃▃▂▂▂▂▂▂▂▂▂▂</td></tr><tr><td>models/medium_chosen</td><td>▁▁▁▁▁▁▁▁▁▁▁▁▁▁▁▁▁▁▁▁▁▁▁▁▁▁▁▁▁▁▁▁▁▁▁▁▁▁▁▁</td></tr><tr><td>models/small_chosen</td><td>▁▄▄▅▇▆▇▇▇▇▇▇▇▇▇▇▇▇▇▇▇▇▇▇▇███████████████</td></tr></table><br/></div><div class=\"wandb-col\"><h3>Run summary:</h3><br/><table class=\"wandb\"><tr><td>classifier/epoch</td><td>3</td></tr><tr><td>classifier/time/epoch_seconds</td><td>5.68105</td></tr><tr><td>classifier/train/loss</td><td>0.57916</td></tr><tr><td>classifier/val/0_f1score</td><td>0.78788</td></tr><tr><td>classifier/val/0_precision</td><td>1</td></tr><tr><td>classifier/val/0_recall</td><td>0.65</td></tr><tr><td>classifier/val/1_f1score</td><td>0.82353</td></tr><tr><td>classifier/val/1_precision</td><td>0.96552</td></tr><tr><td>classifier/val/1_recall</td><td>0.71795</td></tr><tr><td>classifier/val/2_f1score</td><td>0.85714</td></tr><tr><td>classifier/val/2_precision</td><td>1</td></tr><tr><td>classifier/val/2_recall</td><td>0.75</td></tr><tr><td>classifier/val/accuracy</td><td>0.7</td></tr><tr><td>classifier/val/f1_macro</td><td>0.82285</td></tr><tr><td>classifier/val/f1_micro</td><td>0.82353</td></tr><tr><td>classifier/val/loss</td><td>0.65709</td></tr><tr><td>classifier/val/precision_micro</td><td>0.70588</td></tr><tr><td>classifier/val/recall_micro</td><td>0.98824</td></tr><tr><td>mess_plus/accuracy</td><td>0.76982</td></tr><tr><td>mess_plus/chosen_model</td><td>0</td></tr><tr><td>mess_plus/energy</td><td>38.271</td></tr><tr><td>mess_plus/exploration_step_ratio</td><td>0.23574</td></tr><tr><td>mess_plus/p_t</td><td>0.22242</td></tr><tr><td>mess_plus/q_length</td><td>2.5</td></tr><tr><td>mess_plus/step_energy_consumption</td><td>38.271</td></tr><tr><td>mess_plus/step_time</td><td>0.21865</td></tr><tr><td>mess_plus/total_runtime</td><td>1511.85783</td></tr><tr><td>mess_plus/x_t</td><td>0</td></tr><tr><td>models/large_chosen</td><td>0.23574</td></tr><tr><td>models/medium_chosen</td><td>0</td></tr><tr><td>models/small_chosen</td><td>0.76426</td></tr></table><br/></div></div>"
      ]
     },
     "metadata": {},
     "output_type": "display_data"
    },
    {
     "data": {
      "text/plain": [
       "<IPython.core.display.HTML object>"
      ],
      "text/html": [
       " View run <strong style=\"color:#cdcd00\">piqa_V=0.01_a=0.75_c=1.0</strong> at: <a href='https://wandb.ai/tum-i13/mess-plus_runs_3_models/runs/xrmy49cy' target=\"_blank\">https://wandb.ai/tum-i13/mess-plus_runs_3_models/runs/xrmy49cy</a><br> View project at: <a href='https://wandb.ai/tum-i13/mess-plus_runs_3_models' target=\"_blank\">https://wandb.ai/tum-i13/mess-plus_runs_3_models</a><br>Synced 5 W&B file(s), 0 media file(s), 0 artifact file(s) and 0 other file(s)"
      ]
     },
     "metadata": {},
     "output_type": "display_data"
    },
    {
     "data": {
      "text/plain": [
       "<IPython.core.display.HTML object>"
      ],
      "text/html": [
       "Find logs at: <code>./wandb/run-20250506_205919-xrmy49cy/logs</code>"
      ]
     },
     "metadata": {},
     "output_type": "display_data"
    },
    {
     "data": {
      "text/plain": [
       "<IPython.core.display.HTML object>"
      ],
      "text/html": [
       "Tracking run with wandb version 0.19.1"
      ]
     },
     "metadata": {},
     "output_type": "display_data"
    },
    {
     "data": {
      "text/plain": [
       "<IPython.core.display.HTML object>"
      ],
      "text/html": [
       "Run data is saved locally in <code>/home/woi/code/mess-plus/wandb/run-20250506_205948-ic6mpfis</code>"
      ]
     },
     "metadata": {},
     "output_type": "display_data"
    },
    {
     "data": {
      "text/plain": [
       "<IPython.core.display.HTML object>"
      ],
      "text/html": [
       "Syncing run <strong><a href='https://wandb.ai/tum-i13/mess-plus_runs_3_models/runs/ic6mpfis' target=\"_blank\">piqa_V=0.001_a=0.75_c=1.0</a></strong> to <a href='https://wandb.ai/tum-i13/mess-plus_runs_3_models' target=\"_blank\">Weights & Biases</a> (<a href='https://wandb.me/developer-guide' target=\"_blank\">docs</a>)<br>"
      ]
     },
     "metadata": {},
     "output_type": "display_data"
    },
    {
     "data": {
      "text/plain": [
       "<IPython.core.display.HTML object>"
      ],
      "text/html": [
       " View project at <a href='https://wandb.ai/tum-i13/mess-plus_runs_3_models' target=\"_blank\">https://wandb.ai/tum-i13/mess-plus_runs_3_models</a>"
      ]
     },
     "metadata": {},
     "output_type": "display_data"
    },
    {
     "data": {
      "text/plain": [
       "<IPython.core.display.HTML object>"
      ],
      "text/html": [
       " View run at <a href='https://wandb.ai/tum-i13/mess-plus_runs_3_models/runs/ic6mpfis' target=\"_blank\">https://wandb.ai/tum-i13/mess-plus_runs_3_models/runs/ic6mpfis</a>"
      ]
     },
     "metadata": {},
     "output_type": "display_data"
    },
    {
     "data": {
      "text/plain": [
       "<IPython.core.display.HTML object>"
      ],
      "text/html": []
     },
     "metadata": {},
     "output_type": "display_data"
    },
    {
     "data": {
      "text/plain": [
       "<IPython.core.display.HTML object>"
      ],
      "text/html": [
       "<br>    <style><br>        .wandb-row {<br>            display: flex;<br>            flex-direction: row;<br>            flex-wrap: wrap;<br>            justify-content: flex-start;<br>            width: 100%;<br>        }<br>        .wandb-col {<br>            display: flex;<br>            flex-direction: column;<br>            flex-basis: 100%;<br>            flex: 1;<br>            padding: 10px;<br>        }<br>    </style><br><div class=\"wandb-row\"><div class=\"wandb-col\"><h3>Run history:</h3><br/><table class=\"wandb\"><tr><td>mess_plus/accuracy</td><td>█▅▂▁▂▁▁▁▁▄▄▄▅▅▅▄▃▃▃▃▂▂▂▂▂▃▃▃▃▃▃▃▃▃▃▃▃▃▃▃</td></tr><tr><td>mess_plus/chosen_model</td><td>█▁█▁▁▁▁▁▁▁█▁▁▁▁▁▁▁▁▁▁▁▁▁▁▁▁▁▁█▁▁▁▁▁▁▁▁▁▁</td></tr><tr><td>mess_plus/energy</td><td>█▁▁▁▁▁▁▁█▁▁█▁▁█▁▁▁▁▁▁▁▁▁▁▁▁▁▁▁▁█▁▁▁▁▁▁█▁</td></tr><tr><td>mess_plus/exploration_step_ratio</td><td>█▅▃▃▄▂▂▂▂▂▂▂▂▂▂▂▂▁▁▁▁▁▁▁▁▁▁▁▁▁▁▁▁▁▁▁▁▁▁▁</td></tr><tr><td>mess_plus/p_t</td><td>███▇▇▆▆▅▅▅▅▅▄▄▄▄▄▄▃▃▃▃▃▃▃▂▂▂▂▂▂▂▂▁▁▁▁▁▁▁</td></tr><tr><td>mess_plus/q_length</td><td>▃▅▄▄▃▄▄▅▂▁▁▁▁▄▆▄▅▆▆▅▆▇▅▆▆█▇▆▇▆▄▂▃▃▄▆▅▄▁▁</td></tr><tr><td>mess_plus/step_energy_consumption</td><td>██▁▁▁▁▁▁▁▁▁▁▁▁█▁▁▁▁▁██▁▁▁▁▁▁▁▁▁▁▁▁▁██▁▁▁</td></tr><tr><td>mess_plus/step_time</td><td>▁▁▁▁███▁▁▁▁▁▁▁▁▁▁▁▁█▁▁▁▁▁▁▁▁▁▁▁█▁▁▁▁▁▁▁█</td></tr><tr><td>mess_plus/total_runtime</td><td>▁▁▁▁▂▂▂▂▂▃▃▃▃▃▃▃▄▄▄▄▄▅▅▅▅▆▆▆▆▆▇▇▇███████</td></tr><tr><td>mess_plus/x_t</td><td>▁▁▁█▁█▁▁▁▁▁▁▁█▁▁▁█▁▁▁▁▁▁█▁▁██▁▁▁▁▁▁▁▁▁▁▁</td></tr><tr><td>models/large_chosen</td><td>█▃▃▂▂▂▂▂▂▂▁▁▂▁▁▁▁▁▁▁▁▁▁▁▁▁▁▁▁▁▁▁▁▁▁▁▁▁▁▁</td></tr><tr><td>models/medium_chosen</td><td>▁▁▁▁▁▁▁▁▁▁▁▁▁▁▁▁▁▁▁▁▁▁▁▁▁▁▁▁▁▁▁▁▁▁▁▁▁▁▁▁</td></tr><tr><td>models/small_chosen</td><td>▁▁▇▇▇▇▇▇▇▇▇▇▇▇▇▇▇███████████████████████</td></tr></table><br/></div><div class=\"wandb-col\"><h3>Run summary:</h3><br/><table class=\"wandb\"><tr><td>classifier/epoch</td><td>3</td></tr><tr><td>classifier/time/epoch_seconds</td><td>5.68105</td></tr><tr><td>classifier/train/loss</td><td>0.57916</td></tr><tr><td>classifier/val/0_f1score</td><td>0.78788</td></tr><tr><td>classifier/val/0_precision</td><td>1</td></tr><tr><td>classifier/val/0_recall</td><td>0.65</td></tr><tr><td>classifier/val/1_f1score</td><td>0.82353</td></tr><tr><td>classifier/val/1_precision</td><td>0.96552</td></tr><tr><td>classifier/val/1_recall</td><td>0.71795</td></tr><tr><td>classifier/val/2_f1score</td><td>0.85714</td></tr><tr><td>classifier/val/2_precision</td><td>1</td></tr><tr><td>classifier/val/2_recall</td><td>0.75</td></tr><tr><td>classifier/val/accuracy</td><td>0.7</td></tr><tr><td>classifier/val/f1_macro</td><td>0.82285</td></tr><tr><td>classifier/val/f1_micro</td><td>0.82353</td></tr><tr><td>classifier/val/loss</td><td>0.65709</td></tr><tr><td>classifier/val/precision_micro</td><td>0.70588</td></tr><tr><td>classifier/val/recall_micro</td><td>0.98824</td></tr><tr><td>mess_plus/accuracy</td><td>0.76356</td></tr><tr><td>mess_plus/chosen_model</td><td>0</td></tr><tr><td>mess_plus/energy</td><td>38.271</td></tr><tr><td>mess_plus/exploration_step_ratio</td><td>0.23435</td></tr><tr><td>mess_plus/p_t</td><td>0.22242</td></tr><tr><td>mess_plus/q_length</td><td>3</td></tr><tr><td>mess_plus/step_energy_consumption</td><td>38.271</td></tr><tr><td>mess_plus/step_time</td><td>0.21865</td></tr><tr><td>mess_plus/total_runtime</td><td>1507.60282</td></tr><tr><td>mess_plus/x_t</td><td>0</td></tr><tr><td>models/large_chosen</td><td>0.23435</td></tr><tr><td>models/medium_chosen</td><td>0</td></tr><tr><td>models/small_chosen</td><td>0.76565</td></tr></table><br/></div></div>"
      ]
     },
     "metadata": {},
     "output_type": "display_data"
    },
    {
     "data": {
      "text/plain": [
       "<IPython.core.display.HTML object>"
      ],
      "text/html": [
       " View run <strong style=\"color:#cdcd00\">piqa_V=0.001_a=0.75_c=1.0</strong> at: <a href='https://wandb.ai/tum-i13/mess-plus_runs_3_models/runs/ic6mpfis' target=\"_blank\">https://wandb.ai/tum-i13/mess-plus_runs_3_models/runs/ic6mpfis</a><br> View project at: <a href='https://wandb.ai/tum-i13/mess-plus_runs_3_models' target=\"_blank\">https://wandb.ai/tum-i13/mess-plus_runs_3_models</a><br>Synced 5 W&B file(s), 0 media file(s), 0 artifact file(s) and 0 other file(s)"
      ]
     },
     "metadata": {},
     "output_type": "display_data"
    },
    {
     "data": {
      "text/plain": [
       "<IPython.core.display.HTML object>"
      ],
      "text/html": [
       "Find logs at: <code>./wandb/run-20250506_205948-ic6mpfis/logs</code>"
      ]
     },
     "metadata": {},
     "output_type": "display_data"
    },
    {
     "data": {
      "text/plain": [
       "<IPython.core.display.HTML object>"
      ],
      "text/html": [
       "Tracking run with wandb version 0.19.1"
      ]
     },
     "metadata": {},
     "output_type": "display_data"
    },
    {
     "data": {
      "text/plain": [
       "<IPython.core.display.HTML object>"
      ],
      "text/html": [
       "Run data is saved locally in <code>/home/woi/code/mess-plus/wandb/run-20250506_210017-bfgj878c</code>"
      ]
     },
     "metadata": {},
     "output_type": "display_data"
    },
    {
     "data": {
      "text/plain": [
       "<IPython.core.display.HTML object>"
      ],
      "text/html": [
       "Syncing run <strong><a href='https://wandb.ai/tum-i13/mess-plus_runs_3_models/runs/bfgj878c' target=\"_blank\">piqa_V=0.0001_a=0.75_c=1.0</a></strong> to <a href='https://wandb.ai/tum-i13/mess-plus_runs_3_models' target=\"_blank\">Weights & Biases</a> (<a href='https://wandb.me/developer-guide' target=\"_blank\">docs</a>)<br>"
      ]
     },
     "metadata": {},
     "output_type": "display_data"
    },
    {
     "data": {
      "text/plain": [
       "<IPython.core.display.HTML object>"
      ],
      "text/html": [
       " View project at <a href='https://wandb.ai/tum-i13/mess-plus_runs_3_models' target=\"_blank\">https://wandb.ai/tum-i13/mess-plus_runs_3_models</a>"
      ]
     },
     "metadata": {},
     "output_type": "display_data"
    },
    {
     "data": {
      "text/plain": [
       "<IPython.core.display.HTML object>"
      ],
      "text/html": [
       " View run at <a href='https://wandb.ai/tum-i13/mess-plus_runs_3_models/runs/bfgj878c' target=\"_blank\">https://wandb.ai/tum-i13/mess-plus_runs_3_models/runs/bfgj878c</a>"
      ]
     },
     "metadata": {},
     "output_type": "display_data"
    },
    {
     "data": {
      "text/plain": [
       "<IPython.core.display.HTML object>"
      ],
      "text/html": []
     },
     "metadata": {},
     "output_type": "display_data"
    },
    {
     "data": {
      "text/plain": [
       "<IPython.core.display.HTML object>"
      ],
      "text/html": [
       "<br>    <style><br>        .wandb-row {<br>            display: flex;<br>            flex-direction: row;<br>            flex-wrap: wrap;<br>            justify-content: flex-start;<br>            width: 100%;<br>        }<br>        .wandb-col {<br>            display: flex;<br>            flex-direction: column;<br>            flex-basis: 100%;<br>            flex: 1;<br>            padding: 10px;<br>        }<br>    </style><br><div class=\"wandb-row\"><div class=\"wandb-col\"><h3>Run history:</h3><br/><table class=\"wandb\"><tr><td>mess_plus/accuracy</td><td>▁▂▇██▇▆▆▆▇▇████▇██▇▇▇▇▇▇▇▇▇▇▇▇▇▇▇▇▇▇▇▇▇▇</td></tr><tr><td>mess_plus/chosen_model</td><td>▁█▁█▁▁██▁██▁█▁▁█▁▁▁██▁██▁██▁▁▁▁▁█▁█▁▁▁▁▁</td></tr><tr><td>mess_plus/energy</td><td>▁▁▁▁▁▁▁▁▁▁▁▁▁▁▁▁▁▁▁▁▁▁▁▁▁▇█▁▁▁██▁▁▁▁█▁█▁</td></tr><tr><td>mess_plus/exploration_step_ratio</td><td>▂▁▇▆▅███▆▅▇▇▇▇▆▇▇▆▆▆▆▅▅▅▅▅▅▅▅▅▅▄▄▄▄▄▄▄▄▄</td></tr><tr><td>mess_plus/p_t</td><td>█▇▇▇▇▆▆▆▅▅▅▄▄▄▄▄▄▄▃▃▃▃▃▃▃▃▂▂▂▂▂▂▂▂▂▂▁▁▁▁</td></tr><tr><td>mess_plus/q_length</td><td>▃▂▃▂▂▂▂▁▂▃▇▆▂▁▁▁▁▁▂▆█▇▃▂▅▅▆▇▇▇▄▃▃▂▂▄▃▃▅▁</td></tr><tr><td>mess_plus/step_energy_consumption</td><td>█▁▁▁▁█▁▁▁██▁█▁▁▁▁█▁▁▁▁▁█▁▁▁█▁▁█▁▁▁▁▁▁▁▁▁</td></tr><tr><td>mess_plus/step_time</td><td>▁██▁▁▁▁▁▁▁▁█▁█▁▁▁▁▁▁▁▁▁▁▁▁▁▁▁▁██▁▁▁▁▁▁▁▁</td></tr><tr><td>mess_plus/total_runtime</td><td>▁▁▁▁▁▂▂▂▂▃▃▄▄▄▄▄▄▅▅▅▅▅▅▅▅▆▆▆▆▆▆▆▆▆▇▇▇▇▇█</td></tr><tr><td>mess_plus/x_t</td><td>▁▁▁▁██▁▁█▁█▁██▁▁▁▁▁█▁▁█▁█▁█▁█▁█▁█▁▁███▁▁</td></tr><tr><td>models/large_chosen</td><td>▁▃▄▆▇▇▇████▇▇▇▇▇▇▇▇▇▇▇▇▇▇▇▇▇▇▇▇▇▇▇▇▇▇▇▇▇</td></tr><tr><td>models/medium_chosen</td><td>▁▁▁▁▁▁▁▁▁▁▁▁▁▁▁▁▁▁▁▁▁▁▁▁▁▁▁▁▁▁▁▁▁▁▁▁▁▁▁▁</td></tr><tr><td>models/small_chosen</td><td>▄█▆▇▆▃▃▁▃▅▆▆▅▅▆▄▄▅▅▅▆▆▆▇▆▆▆▇▆▇▇▇▇▇█▇████</td></tr></table><br/></div><div class=\"wandb-col\"><h3>Run summary:</h3><br/><table class=\"wandb\"><tr><td>classifier/epoch</td><td>3</td></tr><tr><td>classifier/time/epoch_seconds</td><td>5.68105</td></tr><tr><td>classifier/train/loss</td><td>0.57916</td></tr><tr><td>classifier/val/0_f1score</td><td>0.78788</td></tr><tr><td>classifier/val/0_precision</td><td>1</td></tr><tr><td>classifier/val/0_recall</td><td>0.65</td></tr><tr><td>classifier/val/1_f1score</td><td>0.82353</td></tr><tr><td>classifier/val/1_precision</td><td>0.96552</td></tr><tr><td>classifier/val/1_recall</td><td>0.71795</td></tr><tr><td>classifier/val/2_f1score</td><td>0.85714</td></tr><tr><td>classifier/val/2_precision</td><td>1</td></tr><tr><td>classifier/val/2_recall</td><td>0.75</td></tr><tr><td>classifier/val/accuracy</td><td>0.7</td></tr><tr><td>classifier/val/f1_macro</td><td>0.82285</td></tr><tr><td>classifier/val/f1_micro</td><td>0.82353</td></tr><tr><td>classifier/val/loss</td><td>0.65709</td></tr><tr><td>classifier/val/precision_micro</td><td>0.70588</td></tr><tr><td>classifier/val/recall_micro</td><td>0.98824</td></tr><tr><td>mess_plus/accuracy</td><td>0.77121</td></tr><tr><td>mess_plus/chosen_model</td><td>0</td></tr><tr><td>mess_plus/energy</td><td>38.271</td></tr><tr><td>mess_plus/exploration_step_ratio</td><td>0.26773</td></tr><tr><td>mess_plus/p_t</td><td>0.22242</td></tr><tr><td>mess_plus/q_length</td><td>1.5</td></tr><tr><td>mess_plus/step_energy_consumption</td><td>38.271</td></tr><tr><td>mess_plus/step_time</td><td>0.21865</td></tr><tr><td>mess_plus/total_runtime</td><td>1687.67566</td></tr><tr><td>mess_plus/x_t</td><td>0</td></tr><tr><td>models/large_chosen</td><td>0.26773</td></tr><tr><td>models/medium_chosen</td><td>0</td></tr><tr><td>models/small_chosen</td><td>0.73227</td></tr></table><br/></div></div>"
      ]
     },
     "metadata": {},
     "output_type": "display_data"
    },
    {
     "data": {
      "text/plain": [
       "<IPython.core.display.HTML object>"
      ],
      "text/html": [
       " View run <strong style=\"color:#cdcd00\">piqa_V=0.0001_a=0.75_c=1.0</strong> at: <a href='https://wandb.ai/tum-i13/mess-plus_runs_3_models/runs/bfgj878c' target=\"_blank\">https://wandb.ai/tum-i13/mess-plus_runs_3_models/runs/bfgj878c</a><br> View project at: <a href='https://wandb.ai/tum-i13/mess-plus_runs_3_models' target=\"_blank\">https://wandb.ai/tum-i13/mess-plus_runs_3_models</a><br>Synced 5 W&B file(s), 0 media file(s), 0 artifact file(s) and 0 other file(s)"
      ]
     },
     "metadata": {},
     "output_type": "display_data"
    },
    {
     "data": {
      "text/plain": [
       "<IPython.core.display.HTML object>"
      ],
      "text/html": [
       "Find logs at: <code>./wandb/run-20250506_210017-bfgj878c/logs</code>"
      ]
     },
     "metadata": {},
     "output_type": "display_data"
    },
    {
     "data": {
      "text/plain": [
       "<IPython.core.display.HTML object>"
      ],
      "text/html": [
       "Tracking run with wandb version 0.19.1"
      ]
     },
     "metadata": {},
     "output_type": "display_data"
    },
    {
     "data": {
      "text/plain": [
       "<IPython.core.display.HTML object>"
      ],
      "text/html": [
       "Run data is saved locally in <code>/home/woi/code/mess-plus/wandb/run-20250506_210045-q5cvoary</code>"
      ]
     },
     "metadata": {},
     "output_type": "display_data"
    },
    {
     "data": {
      "text/plain": [
       "<IPython.core.display.HTML object>"
      ],
      "text/html": [
       "Syncing run <strong><a href='https://wandb.ai/tum-i13/mess-plus_runs_3_models/runs/q5cvoary' target=\"_blank\">piqa_V=1e-05_a=0.75_c=1.0</a></strong> to <a href='https://wandb.ai/tum-i13/mess-plus_runs_3_models' target=\"_blank\">Weights & Biases</a> (<a href='https://wandb.me/developer-guide' target=\"_blank\">docs</a>)<br>"
      ]
     },
     "metadata": {},
     "output_type": "display_data"
    },
    {
     "data": {
      "text/plain": [
       "<IPython.core.display.HTML object>"
      ],
      "text/html": [
       " View project at <a href='https://wandb.ai/tum-i13/mess-plus_runs_3_models' target=\"_blank\">https://wandb.ai/tum-i13/mess-plus_runs_3_models</a>"
      ]
     },
     "metadata": {},
     "output_type": "display_data"
    },
    {
     "data": {
      "text/plain": [
       "<IPython.core.display.HTML object>"
      ],
      "text/html": [
       " View run at <a href='https://wandb.ai/tum-i13/mess-plus_runs_3_models/runs/q5cvoary' target=\"_blank\">https://wandb.ai/tum-i13/mess-plus_runs_3_models/runs/q5cvoary</a>"
      ]
     },
     "metadata": {},
     "output_type": "display_data"
    },
    {
     "data": {
      "text/plain": [
       "<IPython.core.display.HTML object>"
      ],
      "text/html": []
     },
     "metadata": {},
     "output_type": "display_data"
    },
    {
     "data": {
      "text/plain": [
       "<IPython.core.display.HTML object>"
      ],
      "text/html": [
       "<br>    <style><br>        .wandb-row {<br>            display: flex;<br>            flex-direction: row;<br>            flex-wrap: wrap;<br>            justify-content: flex-start;<br>            width: 100%;<br>        }<br>        .wandb-col {<br>            display: flex;<br>            flex-direction: column;<br>            flex-basis: 100%;<br>            flex: 1;<br>            padding: 10px;<br>        }<br>    </style><br><div class=\"wandb-row\"><div class=\"wandb-col\"><h3>Run history:</h3><br/><table class=\"wandb\"><tr><td>mess_plus/accuracy</td><td>▁▅▃▁▃▂▂▄▄▆▇▇▇▇▇▇▆▇█████████▇████▇▇▇▇▇█▇▇</td></tr><tr><td>mess_plus/chosen_model</td><td>▁█▁▁█▁█▁▁▁▁█▁██▁████▁▁█▁▁▁▁▁▁▁██▁▁▁█▁█▁▁</td></tr><tr><td>mess_plus/energy</td><td>▁█▁█▁▁▁▁▁▁▁▁▁▁▁█▁▁▁█▁▁▁▁█▁▁▁██▁▁▁▁▁▁▁▁█▁</td></tr><tr><td>mess_plus/exploration_step_ratio</td><td>▁▇███▇▇▇▇▇▇▇▇▇▇▇▇▇▇▇▇▇▇▇▇▇▇▇▇▇▇▇▇▇▇▇▇▇▇▇</td></tr><tr><td>mess_plus/p_t</td><td>█▇▇▆▅▅▅▅▄▄▃▃▃▃▃▃▃▃▃▃▂▂▂▂▂▂▂▂▂▂▂▂▂▁▁▁▁▁▁▁</td></tr><tr><td>mess_plus/q_length</td><td>▁▃▂▂▃▇█▆▇▇▂▃▃▂▂▃▃▁▁▁▃▂▃▂▂▁▃▂▄▅▆▆▆▆▆▅▄▅▄▄</td></tr><tr><td>mess_plus/step_energy_consumption</td><td>████▁▁█▁▁█▁▁█▁▁▁▁▁▁▁████▁▁█▁▁▁▁█▁▁▁▁█▁█▁</td></tr><tr><td>mess_plus/step_time</td><td>▁██▁▁▁▁▁▁▁▁▁▁█▁▁▁█▁▁▁▁▁▁▁▁█▁▁▁▁██▁██▁▁▁▁</td></tr><tr><td>mess_plus/total_runtime</td><td>▁▁▁▁▂▂▂▂▂▂▂▃▃▃▃▃▄▄▄▄▅▅▆▆▆▆▆▆▆▆▆▆▇▇▇▇▇███</td></tr><tr><td>mess_plus/x_t</td><td>▁▁▁▁▁▁█▁▁▁▁▁▁▁▁▁▁▁▁▁▁▁▁▁▁█▁█▁▁▁█▁▁▁▁▁▁▁▁</td></tr><tr><td>models/large_chosen</td><td>▆▅▅▆█▇▅▅▄▅▄▄▄▄▃▄▃▃▃▃▃▃▃▃▄▃▃▃▃▃▂▂▁▁▁▂▁▁▁▁</td></tr><tr><td>models/medium_chosen</td><td>▁▁▁▁▁▁▁▁▁▁▁▁▁▁▁▁▁▁▁▁▁▁▁▁▁▁▁▁▁▁▁▁▁▁▁▁▁▁▁▁</td></tr><tr><td>models/small_chosen</td><td>█▂▁▂▁▃▄▃▄▄▄▄▄▄▄▄▄▄▄▄▅▅▅▄▄▄▅▅▅▅▆▆▆▅▆▆▆▆▆▆</td></tr></table><br/></div><div class=\"wandb-col\"><h3>Run summary:</h3><br/><table class=\"wandb\"><tr><td>classifier/epoch</td><td>3</td></tr><tr><td>classifier/time/epoch_seconds</td><td>5.68105</td></tr><tr><td>classifier/train/loss</td><td>0.57916</td></tr><tr><td>classifier/val/0_f1score</td><td>0.78788</td></tr><tr><td>classifier/val/0_precision</td><td>1</td></tr><tr><td>classifier/val/0_recall</td><td>0.65</td></tr><tr><td>classifier/val/1_f1score</td><td>0.82353</td></tr><tr><td>classifier/val/1_precision</td><td>0.96552</td></tr><tr><td>classifier/val/1_recall</td><td>0.71795</td></tr><tr><td>classifier/val/2_f1score</td><td>0.85714</td></tr><tr><td>classifier/val/2_precision</td><td>1</td></tr><tr><td>classifier/val/2_recall</td><td>0.75</td></tr><tr><td>classifier/val/accuracy</td><td>0.7</td></tr><tr><td>classifier/val/f1_macro</td><td>0.82285</td></tr><tr><td>classifier/val/f1_micro</td><td>0.82353</td></tr><tr><td>classifier/val/loss</td><td>0.65709</td></tr><tr><td>classifier/val/precision_micro</td><td>0.70588</td></tr><tr><td>classifier/val/recall_micro</td><td>0.98824</td></tr><tr><td>mess_plus/accuracy</td><td>0.76426</td></tr><tr><td>mess_plus/chosen_model</td><td>0</td></tr><tr><td>mess_plus/energy</td><td>38.271</td></tr><tr><td>mess_plus/exploration_step_ratio</td><td>0.24478</td></tr><tr><td>mess_plus/p_t</td><td>0.22242</td></tr><tr><td>mess_plus/q_length</td><td>4</td></tr><tr><td>mess_plus/step_energy_consumption</td><td>38.271</td></tr><tr><td>mess_plus/step_time</td><td>0.21865</td></tr><tr><td>mess_plus/total_runtime</td><td>1563.23996</td></tr><tr><td>mess_plus/x_t</td><td>0</td></tr><tr><td>models/large_chosen</td><td>0.24478</td></tr><tr><td>models/medium_chosen</td><td>0</td></tr><tr><td>models/small_chosen</td><td>0.75522</td></tr></table><br/></div></div>"
      ]
     },
     "metadata": {},
     "output_type": "display_data"
    },
    {
     "data": {
      "text/plain": [
       "<IPython.core.display.HTML object>"
      ],
      "text/html": [
       " View run <strong style=\"color:#cdcd00\">piqa_V=1e-05_a=0.75_c=1.0</strong> at: <a href='https://wandb.ai/tum-i13/mess-plus_runs_3_models/runs/q5cvoary' target=\"_blank\">https://wandb.ai/tum-i13/mess-plus_runs_3_models/runs/q5cvoary</a><br> View project at: <a href='https://wandb.ai/tum-i13/mess-plus_runs_3_models' target=\"_blank\">https://wandb.ai/tum-i13/mess-plus_runs_3_models</a><br>Synced 5 W&B file(s), 0 media file(s), 0 artifact file(s) and 0 other file(s)"
      ]
     },
     "metadata": {},
     "output_type": "display_data"
    },
    {
     "data": {
      "text/plain": [
       "<IPython.core.display.HTML object>"
      ],
      "text/html": [
       "Find logs at: <code>./wandb/run-20250506_210045-q5cvoary/logs</code>"
      ]
     },
     "metadata": {},
     "output_type": "display_data"
    },
    {
     "data": {
      "text/plain": [
       "<IPython.core.display.HTML object>"
      ],
      "text/html": [
       "Tracking run with wandb version 0.19.1"
      ]
     },
     "metadata": {},
     "output_type": "display_data"
    },
    {
     "data": {
      "text/plain": [
       "<IPython.core.display.HTML object>"
      ],
      "text/html": [
       "Run data is saved locally in <code>/home/woi/code/mess-plus/wandb/run-20250506_210114-8pokmtda</code>"
      ]
     },
     "metadata": {},
     "output_type": "display_data"
    },
    {
     "data": {
      "text/plain": [
       "<IPython.core.display.HTML object>"
      ],
      "text/html": [
       "Syncing run <strong><a href='https://wandb.ai/tum-i13/mess-plus_runs_3_models/runs/8pokmtda' target=\"_blank\">piqa_V=1.0_a=0.78_c=1.0</a></strong> to <a href='https://wandb.ai/tum-i13/mess-plus_runs_3_models' target=\"_blank\">Weights & Biases</a> (<a href='https://wandb.me/developer-guide' target=\"_blank\">docs</a>)<br>"
      ]
     },
     "metadata": {},
     "output_type": "display_data"
    },
    {
     "data": {
      "text/plain": [
       "<IPython.core.display.HTML object>"
      ],
      "text/html": [
       " View project at <a href='https://wandb.ai/tum-i13/mess-plus_runs_3_models' target=\"_blank\">https://wandb.ai/tum-i13/mess-plus_runs_3_models</a>"
      ]
     },
     "metadata": {},
     "output_type": "display_data"
    },
    {
     "data": {
      "text/plain": [
       "<IPython.core.display.HTML object>"
      ],
      "text/html": [
       " View run at <a href='https://wandb.ai/tum-i13/mess-plus_runs_3_models/runs/8pokmtda' target=\"_blank\">https://wandb.ai/tum-i13/mess-plus_runs_3_models/runs/8pokmtda</a>"
      ]
     },
     "metadata": {},
     "output_type": "display_data"
    },
    {
     "data": {
      "text/plain": [
       "<IPython.core.display.HTML object>"
      ],
      "text/html": []
     },
     "metadata": {},
     "output_type": "display_data"
    },
    {
     "data": {
      "text/plain": [
       "<IPython.core.display.HTML object>"
      ],
      "text/html": [
       "<br>    <style><br>        .wandb-row {<br>            display: flex;<br>            flex-direction: row;<br>            flex-wrap: wrap;<br>            justify-content: flex-start;<br>            width: 100%;<br>        }<br>        .wandb-col {<br>            display: flex;<br>            flex-direction: column;<br>            flex-basis: 100%;<br>            flex: 1;<br>            padding: 10px;<br>        }<br>    </style><br><div class=\"wandb-row\"><div class=\"wandb-col\"><h3>Run history:</h3><br/><table class=\"wandb\"><tr><td>mess_plus/accuracy</td><td>██▅▃▁▁▂▂▂▄▄▅▅▅▅▅▆▆▇▆▅▆▆▆▅▇▆▆▆▆▆▆▆▆▆▆▆▅▆▅</td></tr><tr><td>mess_plus/chosen_model</td><td>██▁█▁█▁▁▁▁█▁▁█▁▁▁▁▁█▁▁▁▁▁▁▁▁▁█▁▁▁█▁▁▁▁█▁</td></tr><tr><td>mess_plus/energy</td><td>▇▁▁▁▁▁▁▁▁▁▁▁▁▁▁▁▁▁▁▁▁▁█▇▁▁█▁▁▁█▁█▁▁█▁▁█▁</td></tr><tr><td>mess_plus/exploration_step_ratio</td><td>█▆▅▄▃▄▃▃▃▃▃▃▃▃▂▂▂▂▂▂▁▁▁▁▂▂▂▂▂▂▁▁▁▁▁▁▁▁▁▁</td></tr><tr><td>mess_plus/p_t</td><td>█▇▆▆▆▅▅▅▅▅▄▄▄▄▄▄▃▃▃▃▃▃▃▂▂▂▂▂▂▂▂▂▁▁▁▁▁▁▁▁</td></tr><tr><td>mess_plus/q_length</td><td>▁▂▄▄▅▄▄▃▃▃▃▄▄▅▅▄▄▄▅▅▅▅▅▅▅▆▅▅▆▆▆▇▇▇█▇▇▇▇█</td></tr><tr><td>mess_plus/step_energy_consumption</td><td>▁█▁██▁▁▁▁█▁█▁▁▁█▁▁█▁▁▁▁▁▁▁▁▁▁▁▁▁▁▁█▁█▁▁▁</td></tr><tr><td>mess_plus/step_time</td><td>▁▁█▁▁▁▁▁█▁▁▁█▁█▁▁▁██▇▁▁█▁█▁▁▁▁▁▁▁▁▁▁██▁█</td></tr><tr><td>mess_plus/total_runtime</td><td>▁▁▁▁▁▂▂▂▃▃▃▃▃▃▄▄▄▄▄▄▅▅▅▅▅▅▅▆▆▆▆▆▇▇▇█████</td></tr><tr><td>mess_plus/x_t</td><td>▁▁▁█▁▁█▁█▁▁▁▁▁▁▁█▁▁▁▁▁▁▁▁█▁█▁▁▁██▁▁▁▁█▁█</td></tr><tr><td>models/large_chosen</td><td>█▄▄▃▃▂▂▂▂▂▂▂▂▂▂▂▂▂▂▂▁▁▁▁▁▁▁▁▁▁▁▁▁▁▁▁▁▁▁▁</td></tr><tr><td>models/medium_chosen</td><td>▁▁▁▁▁▁▁▁▁▁▁▁▁▁▁▁▁▁▁▁▁▁▁▁▁▁▁▁▁▁▁▁▁▁▁▁▁▁▁▁</td></tr><tr><td>models/small_chosen</td><td>▁▄▆▆▇▇▇▇▇▇▇▇▇▇▇▇▇▇██████████████████████</td></tr></table><br/></div><div class=\"wandb-col\"><h3>Run summary:</h3><br/><table class=\"wandb\"><tr><td>classifier/epoch</td><td>3</td></tr><tr><td>classifier/time/epoch_seconds</td><td>5.68105</td></tr><tr><td>classifier/train/loss</td><td>0.57916</td></tr><tr><td>classifier/val/0_f1score</td><td>0.78788</td></tr><tr><td>classifier/val/0_precision</td><td>1</td></tr><tr><td>classifier/val/0_recall</td><td>0.65</td></tr><tr><td>classifier/val/1_f1score</td><td>0.82353</td></tr><tr><td>classifier/val/1_precision</td><td>0.96552</td></tr><tr><td>classifier/val/1_recall</td><td>0.71795</td></tr><tr><td>classifier/val/2_f1score</td><td>0.85714</td></tr><tr><td>classifier/val/2_precision</td><td>1</td></tr><tr><td>classifier/val/2_recall</td><td>0.75</td></tr><tr><td>classifier/val/accuracy</td><td>0.7</td></tr><tr><td>classifier/val/f1_macro</td><td>0.82285</td></tr><tr><td>classifier/val/f1_micro</td><td>0.82353</td></tr><tr><td>classifier/val/loss</td><td>0.65709</td></tr><tr><td>classifier/val/precision_micro</td><td>0.70588</td></tr><tr><td>classifier/val/recall_micro</td><td>0.98824</td></tr><tr><td>mess_plus/accuracy</td><td>0.75869</td></tr><tr><td>mess_plus/chosen_model</td><td>2</td></tr><tr><td>mess_plus/energy</td><td>1259.411</td></tr><tr><td>mess_plus/exploration_step_ratio</td><td>0.23435</td></tr><tr><td>mess_plus/p_t</td><td>0.22242</td></tr><tr><td>mess_plus/q_length</td><td>32.06</td></tr><tr><td>mess_plus/step_energy_consumption</td><td>1259.411</td></tr><tr><td>mess_plus/step_time</td><td>3.98536</td></tr><tr><td>mess_plus/total_runtime</td><td>1506.78462</td></tr><tr><td>mess_plus/x_t</td><td>1</td></tr><tr><td>models/large_chosen</td><td>0.23435</td></tr><tr><td>models/medium_chosen</td><td>0</td></tr><tr><td>models/small_chosen</td><td>0.76565</td></tr></table><br/></div></div>"
      ]
     },
     "metadata": {},
     "output_type": "display_data"
    },
    {
     "data": {
      "text/plain": [
       "<IPython.core.display.HTML object>"
      ],
      "text/html": [
       " View run <strong style=\"color:#cdcd00\">piqa_V=1.0_a=0.78_c=1.0</strong> at: <a href='https://wandb.ai/tum-i13/mess-plus_runs_3_models/runs/8pokmtda' target=\"_blank\">https://wandb.ai/tum-i13/mess-plus_runs_3_models/runs/8pokmtda</a><br> View project at: <a href='https://wandb.ai/tum-i13/mess-plus_runs_3_models' target=\"_blank\">https://wandb.ai/tum-i13/mess-plus_runs_3_models</a><br>Synced 5 W&B file(s), 0 media file(s), 0 artifact file(s) and 0 other file(s)"
      ]
     },
     "metadata": {},
     "output_type": "display_data"
    },
    {
     "data": {
      "text/plain": [
       "<IPython.core.display.HTML object>"
      ],
      "text/html": [
       "Find logs at: <code>./wandb/run-20250506_210114-8pokmtda/logs</code>"
      ]
     },
     "metadata": {},
     "output_type": "display_data"
    },
    {
     "data": {
      "text/plain": [
       "<IPython.core.display.HTML object>"
      ],
      "text/html": [
       "Tracking run with wandb version 0.19.1"
      ]
     },
     "metadata": {},
     "output_type": "display_data"
    },
    {
     "data": {
      "text/plain": [
       "<IPython.core.display.HTML object>"
      ],
      "text/html": [
       "Run data is saved locally in <code>/home/woi/code/mess-plus/wandb/run-20250506_210143-hklp7zc6</code>"
      ]
     },
     "metadata": {},
     "output_type": "display_data"
    },
    {
     "data": {
      "text/plain": [
       "<IPython.core.display.HTML object>"
      ],
      "text/html": [
       "Syncing run <strong><a href='https://wandb.ai/tum-i13/mess-plus_runs_3_models/runs/hklp7zc6' target=\"_blank\">piqa_V=0.1_a=0.78_c=1.0</a></strong> to <a href='https://wandb.ai/tum-i13/mess-plus_runs_3_models' target=\"_blank\">Weights & Biases</a> (<a href='https://wandb.me/developer-guide' target=\"_blank\">docs</a>)<br>"
      ]
     },
     "metadata": {},
     "output_type": "display_data"
    },
    {
     "data": {
      "text/plain": [
       "<IPython.core.display.HTML object>"
      ],
      "text/html": [
       " View project at <a href='https://wandb.ai/tum-i13/mess-plus_runs_3_models' target=\"_blank\">https://wandb.ai/tum-i13/mess-plus_runs_3_models</a>"
      ]
     },
     "metadata": {},
     "output_type": "display_data"
    },
    {
     "data": {
      "text/plain": [
       "<IPython.core.display.HTML object>"
      ],
      "text/html": [
       " View run at <a href='https://wandb.ai/tum-i13/mess-plus_runs_3_models/runs/hklp7zc6' target=\"_blank\">https://wandb.ai/tum-i13/mess-plus_runs_3_models/runs/hklp7zc6</a>"
      ]
     },
     "metadata": {},
     "output_type": "display_data"
    },
    {
     "data": {
      "text/plain": [
       "<IPython.core.display.HTML object>"
      ],
      "text/html": []
     },
     "metadata": {},
     "output_type": "display_data"
    },
    {
     "data": {
      "text/plain": [
       "<IPython.core.display.HTML object>"
      ],
      "text/html": [
       "<br>    <style><br>        .wandb-row {<br>            display: flex;<br>            flex-direction: row;<br>            flex-wrap: wrap;<br>            justify-content: flex-start;<br>            width: 100%;<br>        }<br>        .wandb-col {<br>            display: flex;<br>            flex-direction: column;<br>            flex-basis: 100%;<br>            flex: 1;<br>            padding: 10px;<br>        }<br>    </style><br><div class=\"wandb-row\"><div class=\"wandb-col\"><h3>Run history:</h3><br/><table class=\"wandb\"><tr><td>mess_plus/accuracy</td><td>▁▇█▇█▆▆▆▆▆▆▇▇▇▇▇▇▇▇▇▇▇▇▇▇▇▇▇▇▇▇▇▇▇▇▇▇▇▇▇</td></tr><tr><td>mess_plus/chosen_model</td><td>▁▁▁▁▁▁▁█▁▁█▁▁▁▁▁▁▁█▁▁▁▁▁█▁██▁▁████▁▁▁▁▁▁</td></tr><tr><td>mess_plus/energy</td><td>██▁█▁█▁▁▁▁█▁▁▁▁▁▁▁▁▁▁██▁█▁▁▁▁▁▁▁▁██▁▁▁▁▁</td></tr><tr><td>mess_plus/exploration_step_ratio</td><td>█▂▅▅▄▂▄▆▆▇██▇▆▆▅▅▅▅▅▄▄▄▅▅▅▅▅▅▆▄▄▄▄▄▃▂▁▁▁</td></tr><tr><td>mess_plus/p_t</td><td>█▇▇▇▇▇▇▆▆▆▅▅▅▄▄▄▄▄▃▃▃▃▃▂▂▂▂▂▂▂▂▂▂▂▂▁▁▁▁▁</td></tr><tr><td>mess_plus/q_length</td><td>▂▁▁▁▁▃▂▃▃▅▆▅▃▃▄▆▅▅▆▆▆▅▅▄▅▄▆▆▆▆▅▆▆▆▇██▅▅▇</td></tr><tr><td>mess_plus/step_energy_consumption</td><td>██▁▁█▁▁▁▁▁▁█▁▁█▁▁▁▁▁▁▁▁▁▁▁███▁▁▁▁▁▁▁█▁█▁</td></tr><tr><td>mess_plus/step_time</td><td>█▁▁▇▁▁▁▁▁█▁▁▁▁▁▁█▁▇▁█▁▁▁▁▁▁▁▁███▁▁▁█▁▁▁▁</td></tr><tr><td>mess_plus/total_runtime</td><td>▁▂▂▂▂▂▂▂▃▃▄▄▄▄▄▅▅▅▅▅▅▅▅▆▆▆▆▇▇▇▇▇▇███████</td></tr><tr><td>mess_plus/x_t</td><td>▁▁▁▁▁█▁█▁█▁█▁▁█▁▁▁█▁▁▁█▁█▁▁█▁▁▁▁▁▁▁▁▁▁█▁</td></tr><tr><td>models/large_chosen</td><td>██▂▁▃▂▃▂▃▃▄▄▄▄▄▅▄▄▄▃▃▃▃▃▃▃▃▃▃▃▃▃▃▂▂▂▂▂▁▁</td></tr><tr><td>models/medium_chosen</td><td>▁▁▁▁▁▁▁▁▁▁▁▁▁▁▁▁▁▁▁▁▁▁▁▁▁▁▁▁▁▁▁▁▁▁▁▁▁▁▁▁</td></tr><tr><td>models/small_chosen</td><td>▆▁▅▆▆▇▇▇▇▇▆▆▆▆▅▆▆▆▅▆▆▆▆▆▇▇▇▇▇▆▆▇▇▇▇▇▇▇▇█</td></tr></table><br/></div><div class=\"wandb-col\"><h3>Run summary:</h3><br/><table class=\"wandb\"><tr><td>classifier/epoch</td><td>3</td></tr><tr><td>classifier/time/epoch_seconds</td><td>5.68105</td></tr><tr><td>classifier/train/loss</td><td>0.57916</td></tr><tr><td>classifier/val/0_f1score</td><td>0.78788</td></tr><tr><td>classifier/val/0_precision</td><td>1</td></tr><tr><td>classifier/val/0_recall</td><td>0.65</td></tr><tr><td>classifier/val/1_f1score</td><td>0.82353</td></tr><tr><td>classifier/val/1_precision</td><td>0.96552</td></tr><tr><td>classifier/val/1_recall</td><td>0.71795</td></tr><tr><td>classifier/val/2_f1score</td><td>0.85714</td></tr><tr><td>classifier/val/2_precision</td><td>1</td></tr><tr><td>classifier/val/2_recall</td><td>0.75</td></tr><tr><td>classifier/val/accuracy</td><td>0.7</td></tr><tr><td>classifier/val/f1_macro</td><td>0.82285</td></tr><tr><td>classifier/val/f1_micro</td><td>0.82353</td></tr><tr><td>classifier/val/loss</td><td>0.65709</td></tr><tr><td>classifier/val/precision_micro</td><td>0.70588</td></tr><tr><td>classifier/val/recall_micro</td><td>0.98824</td></tr><tr><td>mess_plus/accuracy</td><td>0.76843</td></tr><tr><td>mess_plus/chosen_model</td><td>2</td></tr><tr><td>mess_plus/energy</td><td>1259.411</td></tr><tr><td>mess_plus/exploration_step_ratio</td><td>0.25174</td></tr><tr><td>mess_plus/p_t</td><td>0.22242</td></tr><tr><td>mess_plus/q_length</td><td>17.56</td></tr><tr><td>mess_plus/step_energy_consumption</td><td>1259.411</td></tr><tr><td>mess_plus/step_time</td><td>3.98536</td></tr><tr><td>mess_plus/total_runtime</td><td>1605.69144</td></tr><tr><td>mess_plus/x_t</td><td>1</td></tr><tr><td>models/large_chosen</td><td>0.25174</td></tr><tr><td>models/medium_chosen</td><td>0</td></tr><tr><td>models/small_chosen</td><td>0.74826</td></tr></table><br/></div></div>"
      ]
     },
     "metadata": {},
     "output_type": "display_data"
    },
    {
     "data": {
      "text/plain": [
       "<IPython.core.display.HTML object>"
      ],
      "text/html": [
       " View run <strong style=\"color:#cdcd00\">piqa_V=0.1_a=0.78_c=1.0</strong> at: <a href='https://wandb.ai/tum-i13/mess-plus_runs_3_models/runs/hklp7zc6' target=\"_blank\">https://wandb.ai/tum-i13/mess-plus_runs_3_models/runs/hklp7zc6</a><br> View project at: <a href='https://wandb.ai/tum-i13/mess-plus_runs_3_models' target=\"_blank\">https://wandb.ai/tum-i13/mess-plus_runs_3_models</a><br>Synced 5 W&B file(s), 0 media file(s), 0 artifact file(s) and 0 other file(s)"
      ]
     },
     "metadata": {},
     "output_type": "display_data"
    },
    {
     "data": {
      "text/plain": [
       "<IPython.core.display.HTML object>"
      ],
      "text/html": [
       "Find logs at: <code>./wandb/run-20250506_210143-hklp7zc6/logs</code>"
      ]
     },
     "metadata": {},
     "output_type": "display_data"
    },
    {
     "data": {
      "text/plain": [
       "<IPython.core.display.HTML object>"
      ],
      "text/html": [
       "Tracking run with wandb version 0.19.1"
      ]
     },
     "metadata": {},
     "output_type": "display_data"
    },
    {
     "data": {
      "text/plain": [
       "<IPython.core.display.HTML object>"
      ],
      "text/html": [
       "Run data is saved locally in <code>/home/woi/code/mess-plus/wandb/run-20250506_210211-f1kywgrj</code>"
      ]
     },
     "metadata": {},
     "output_type": "display_data"
    },
    {
     "data": {
      "text/plain": [
       "<IPython.core.display.HTML object>"
      ],
      "text/html": [
       "Syncing run <strong><a href='https://wandb.ai/tum-i13/mess-plus_runs_3_models/runs/f1kywgrj' target=\"_blank\">piqa_V=0.01_a=0.78_c=1.0</a></strong> to <a href='https://wandb.ai/tum-i13/mess-plus_runs_3_models' target=\"_blank\">Weights & Biases</a> (<a href='https://wandb.me/developer-guide' target=\"_blank\">docs</a>)<br>"
      ]
     },
     "metadata": {},
     "output_type": "display_data"
    },
    {
     "data": {
      "text/plain": [
       "<IPython.core.display.HTML object>"
      ],
      "text/html": [
       " View project at <a href='https://wandb.ai/tum-i13/mess-plus_runs_3_models' target=\"_blank\">https://wandb.ai/tum-i13/mess-plus_runs_3_models</a>"
      ]
     },
     "metadata": {},
     "output_type": "display_data"
    },
    {
     "data": {
      "text/plain": [
       "<IPython.core.display.HTML object>"
      ],
      "text/html": [
       " View run at <a href='https://wandb.ai/tum-i13/mess-plus_runs_3_models/runs/f1kywgrj' target=\"_blank\">https://wandb.ai/tum-i13/mess-plus_runs_3_models/runs/f1kywgrj</a>"
      ]
     },
     "metadata": {},
     "output_type": "display_data"
    },
    {
     "data": {
      "text/plain": [
       "<IPython.core.display.HTML object>"
      ],
      "text/html": []
     },
     "metadata": {},
     "output_type": "display_data"
    },
    {
     "data": {
      "text/plain": [
       "<IPython.core.display.HTML object>"
      ],
      "text/html": [
       "<br>    <style><br>        .wandb-row {<br>            display: flex;<br>            flex-direction: row;<br>            flex-wrap: wrap;<br>            justify-content: flex-start;<br>            width: 100%;<br>        }<br>        .wandb-col {<br>            display: flex;<br>            flex-direction: column;<br>            flex-basis: 100%;<br>            flex: 1;<br>            padding: 10px;<br>        }<br>    </style><br><div class=\"wandb-row\"><div class=\"wandb-col\"><h3>Run history:</h3><br/><table class=\"wandb\"><tr><td>mess_plus/accuracy</td><td>█▁▅▆▇▆▆▆▆▆▆▆▆▇▇███████▇██████▇████▇▇▇▇██</td></tr><tr><td>mess_plus/chosen_model</td><td>▁█▁██▁█▁▁██▁▁▁█▁▁██▁▁██▁█▁█▁▁▁▁▁▁▁▁▁▁▁▁▁</td></tr><tr><td>mess_plus/energy</td><td>▁█▁█▁▁██▁▁█▁▁▁██▁▁▁▁█████▁▁█▁▆▁▁▁█▁█▁▁█▁</td></tr><tr><td>mess_plus/exploration_step_ratio</td><td>█▆▇▆▅▆▆▅▆▅▅▅▅▅▄▄▄▄▃▂▃▃▃▃▃▃▃▃▃▃▃▂▂▂▂▂▁▁▁▁</td></tr><tr><td>mess_plus/p_t</td><td>███▇▇▆▆▆▆▅▅▄▄▄▄▄▄▄▄▄▃▃▃▃▃▃▂▂▂▂▂▂▂▂▂▂▂▂▁▁</td></tr><tr><td>mess_plus/q_length</td><td>▁▁▁▁▁▂▃▂▂▂▃▄▃▃▃▃▂▄▄▃▃▃▂▃▅▅▅▅▅▄▅▅▅▅▆█▇▇▆▇</td></tr><tr><td>mess_plus/step_energy_consumption</td><td>█▁██▁▁█▁██▁▁▁▁▁█▁█▁██▁▁▁▁▁▁▁▁▁▁█▁█▁▁███▁</td></tr><tr><td>mess_plus/step_time</td><td>▁▁▁▁█▁▁▁▁▁▁▁▁▁█▁▁█▁▁█▁▁▁█▁▁█▁▁▁▁▁█▁█▁▁▁▁</td></tr><tr><td>mess_plus/total_runtime</td><td>▁▁▂▂▂▂▃▃▃▃▃▃▄▄▄▄▄▄▅▅▅▅▅▅▅▅▅▆▆▇▇▇▇▇▇▇████</td></tr><tr><td>mess_plus/x_t</td><td>▁██▁▁█▁▁▁▁▁█▁█▁▁█▁▁▁▁▁▁██▁█▁▁▁▁▁▁▁▁█▁▁▁█</td></tr><tr><td>models/large_chosen</td><td>██▇█▇▅▆▇▇▆▇▆▅▆▆▄▅▄▄▄▃▃▃▃▃▃▄▃▃▃▃▃▃▃▂▂▂▂▁▁</td></tr><tr><td>models/medium_chosen</td><td>▁▁▁▁▁▁▁▁▁▁▁▁▁▁▁▁▁▁▁▁▁▁▁▁▁▁▁▁▁▁▁▁▁▁▁▁▁▁▁▁</td></tr><tr><td>models/small_chosen</td><td>▁▂▁▂▂▃▃▂▄▅▅▅▅▅▅▆▆▆▆▆▆▆▆▆▆▆▆▆▆▆▇▇▇▇▇▇▇███</td></tr></table><br/></div><div class=\"wandb-col\"><h3>Run summary:</h3><br/><table class=\"wandb\"><tr><td>classifier/epoch</td><td>3</td></tr><tr><td>classifier/time/epoch_seconds</td><td>5.68105</td></tr><tr><td>classifier/train/loss</td><td>0.57916</td></tr><tr><td>classifier/val/0_f1score</td><td>0.78788</td></tr><tr><td>classifier/val/0_precision</td><td>1</td></tr><tr><td>classifier/val/0_recall</td><td>0.65</td></tr><tr><td>classifier/val/1_f1score</td><td>0.82353</td></tr><tr><td>classifier/val/1_precision</td><td>0.96552</td></tr><tr><td>classifier/val/1_recall</td><td>0.71795</td></tr><tr><td>classifier/val/2_f1score</td><td>0.85714</td></tr><tr><td>classifier/val/2_precision</td><td>1</td></tr><tr><td>classifier/val/2_recall</td><td>0.75</td></tr><tr><td>classifier/val/accuracy</td><td>0.7</td></tr><tr><td>classifier/val/f1_macro</td><td>0.82285</td></tr><tr><td>classifier/val/f1_micro</td><td>0.82353</td></tr><tr><td>classifier/val/loss</td><td>0.65709</td></tr><tr><td>classifier/val/precision_micro</td><td>0.70588</td></tr><tr><td>classifier/val/recall_micro</td><td>0.98824</td></tr><tr><td>mess_plus/accuracy</td><td>0.76426</td></tr><tr><td>mess_plus/chosen_model</td><td>0</td></tr><tr><td>mess_plus/energy</td><td>38.271</td></tr><tr><td>mess_plus/exploration_step_ratio</td><td>0.24409</td></tr><tr><td>mess_plus/p_t</td><td>0.22242</td></tr><tr><td>mess_plus/q_length</td><td>22.64</td></tr><tr><td>mess_plus/step_energy_consumption</td><td>38.271</td></tr><tr><td>mess_plus/step_time</td><td>0.21865</td></tr><tr><td>mess_plus/total_runtime</td><td>1561.23106</td></tr><tr><td>mess_plus/x_t</td><td>0</td></tr><tr><td>models/large_chosen</td><td>0.24409</td></tr><tr><td>models/medium_chosen</td><td>0</td></tr><tr><td>models/small_chosen</td><td>0.75591</td></tr></table><br/></div></div>"
      ]
     },
     "metadata": {},
     "output_type": "display_data"
    },
    {
     "data": {
      "text/plain": [
       "<IPython.core.display.HTML object>"
      ],
      "text/html": [
       " View run <strong style=\"color:#cdcd00\">piqa_V=0.01_a=0.78_c=1.0</strong> at: <a href='https://wandb.ai/tum-i13/mess-plus_runs_3_models/runs/f1kywgrj' target=\"_blank\">https://wandb.ai/tum-i13/mess-plus_runs_3_models/runs/f1kywgrj</a><br> View project at: <a href='https://wandb.ai/tum-i13/mess-plus_runs_3_models' target=\"_blank\">https://wandb.ai/tum-i13/mess-plus_runs_3_models</a><br>Synced 5 W&B file(s), 0 media file(s), 0 artifact file(s) and 0 other file(s)"
      ]
     },
     "metadata": {},
     "output_type": "display_data"
    },
    {
     "data": {
      "text/plain": [
       "<IPython.core.display.HTML object>"
      ],
      "text/html": [
       "Find logs at: <code>./wandb/run-20250506_210211-f1kywgrj/logs</code>"
      ]
     },
     "metadata": {},
     "output_type": "display_data"
    },
    {
     "data": {
      "text/plain": [
       "<IPython.core.display.HTML object>"
      ],
      "text/html": [
       "Tracking run with wandb version 0.19.1"
      ]
     },
     "metadata": {},
     "output_type": "display_data"
    },
    {
     "data": {
      "text/plain": [
       "<IPython.core.display.HTML object>"
      ],
      "text/html": [
       "Run data is saved locally in <code>/home/woi/code/mess-plus/wandb/run-20250506_210239-vvqlv2vf</code>"
      ]
     },
     "metadata": {},
     "output_type": "display_data"
    },
    {
     "data": {
      "text/plain": [
       "<IPython.core.display.HTML object>"
      ],
      "text/html": [
       "Syncing run <strong><a href='https://wandb.ai/tum-i13/mess-plus_runs_3_models/runs/vvqlv2vf' target=\"_blank\">piqa_V=0.001_a=0.78_c=1.0</a></strong> to <a href='https://wandb.ai/tum-i13/mess-plus_runs_3_models' target=\"_blank\">Weights & Biases</a> (<a href='https://wandb.me/developer-guide' target=\"_blank\">docs</a>)<br>"
      ]
     },
     "metadata": {},
     "output_type": "display_data"
    },
    {
     "data": {
      "text/plain": [
       "<IPython.core.display.HTML object>"
      ],
      "text/html": [
       " View project at <a href='https://wandb.ai/tum-i13/mess-plus_runs_3_models' target=\"_blank\">https://wandb.ai/tum-i13/mess-plus_runs_3_models</a>"
      ]
     },
     "metadata": {},
     "output_type": "display_data"
    },
    {
     "data": {
      "text/plain": [
       "<IPython.core.display.HTML object>"
      ],
      "text/html": [
       " View run at <a href='https://wandb.ai/tum-i13/mess-plus_runs_3_models/runs/vvqlv2vf' target=\"_blank\">https://wandb.ai/tum-i13/mess-plus_runs_3_models/runs/vvqlv2vf</a>"
      ]
     },
     "metadata": {},
     "output_type": "display_data"
    },
    {
     "data": {
      "text/plain": [
       "<IPython.core.display.HTML object>"
      ],
      "text/html": []
     },
     "metadata": {},
     "output_type": "display_data"
    },
    {
     "data": {
      "text/plain": [
       "<IPython.core.display.HTML object>"
      ],
      "text/html": [
       "<br>    <style><br>        .wandb-row {<br>            display: flex;<br>            flex-direction: row;<br>            flex-wrap: wrap;<br>            justify-content: flex-start;<br>            width: 100%;<br>        }<br>        .wandb-col {<br>            display: flex;<br>            flex-direction: column;<br>            flex-basis: 100%;<br>            flex: 1;<br>            padding: 10px;<br>        }<br>    </style><br><div class=\"wandb-row\"><div class=\"wandb-col\"><h3>Run history:</h3><br/><table class=\"wandb\"><tr><td>mess_plus/accuracy</td><td>▁▄▆▇▄▄▄▄▃▃▅▆▇▇▇█▇▇▇▇▇▇▇▇▆▇▇▇▇▇▇▇▇▆▇▇▇▇▇▆</td></tr><tr><td>mess_plus/chosen_model</td><td>▁██▁█▁▁▁▁▁██▁▁▁▁█▁█▁▁▁▁▁▁▁██▁▁▁▁▁█▁▁▁▁▁▁</td></tr><tr><td>mess_plus/energy</td><td>██▁█▁█▁▁▁▁▁███▁▁▁█▁██▁▁▇▁▁▁▁▁▁▁▁▁▁█▁██▁█</td></tr><tr><td>mess_plus/exploration_step_ratio</td><td>▁▆▆██▇▇▇▇▆▆▆▆▆▆▆▆▆▆▆▆▆▆▆▆▆▆▆▆▆▆▆▆▆▆▆▆▆▆▆</td></tr><tr><td>mess_plus/p_t</td><td>██▇▆▆▆▆▅▅▅▄▄▄▄▄▄▄▄▃▃▃▃▃▃▃▂▂▂▂▂▂▂▂▁▁▁▁▁▁▁</td></tr><tr><td>mess_plus/q_length</td><td>▁▁▂▂▂▂▃▃▃▅▄▄▅▂▂▂▃▅▄▄▄▄▄▄▄▆▆▆▇▆▆▆▅▅▆▆▇█▅▆</td></tr><tr><td>mess_plus/step_energy_consumption</td><td>▁█▁▁█▁▁▁▁▁▁█▁▁▁█▁▁▁█▁▁▁▁▁████▁▁▁▁▁▁▁█▁█▁</td></tr><tr><td>mess_plus/step_time</td><td>▁█▅▁▁▁▁█▁█▁▁▁▁█▁▁▁▁█▁▁▁▁▁▆▁▁▁█▁▁▁▁▁▁▁█▁▁</td></tr><tr><td>mess_plus/total_runtime</td><td>▁▁▁▂▂▂▃▃▃▃▃▃▃▃▄▄▄▄▄▄▅▅▅▅▅▆▆▆▆▆▇▇▇▇▇█████</td></tr><tr><td>mess_plus/x_t</td><td>█▁███▁▁▁██▁▁▁▁▁▁▁▁▁▁▁█▁▁█▁▁▁█▁▁█▁▁▁▁▁▁▁▁</td></tr><tr><td>models/large_chosen</td><td>▂▇█▆▅▅▄▄▃▃▃▃▃▃▃▃▃▂▂▂▂▂▁▁▁▂▂▂▂▁▁▁▁▁▁▁▁▁▁▁</td></tr><tr><td>models/medium_chosen</td><td>▁▁▁▁▁▁▁▁▁▁▁▁▁▁▁▁▁▁▁▁▁▁▁▁▁▁▁▁▁▁▁▁▁▁▁▁▁▁▁▁</td></tr><tr><td>models/small_chosen</td><td>▁▁▂▁▃▄▅▅▅▅▅▆▆▆▆▆▆▆▆▆▆▆▆▇▇▇▇▇▇██▇████████</td></tr></table><br/></div><div class=\"wandb-col\"><h3>Run summary:</h3><br/><table class=\"wandb\"><tr><td>classifier/epoch</td><td>3</td></tr><tr><td>classifier/time/epoch_seconds</td><td>5.68105</td></tr><tr><td>classifier/train/loss</td><td>0.57916</td></tr><tr><td>classifier/val/0_f1score</td><td>0.78788</td></tr><tr><td>classifier/val/0_precision</td><td>1</td></tr><tr><td>classifier/val/0_recall</td><td>0.65</td></tr><tr><td>classifier/val/1_f1score</td><td>0.82353</td></tr><tr><td>classifier/val/1_precision</td><td>0.96552</td></tr><tr><td>classifier/val/1_recall</td><td>0.71795</td></tr><tr><td>classifier/val/2_f1score</td><td>0.85714</td></tr><tr><td>classifier/val/2_precision</td><td>1</td></tr><tr><td>classifier/val/2_recall</td><td>0.75</td></tr><tr><td>classifier/val/accuracy</td><td>0.7</td></tr><tr><td>classifier/val/f1_macro</td><td>0.82285</td></tr><tr><td>classifier/val/f1_micro</td><td>0.82353</td></tr><tr><td>classifier/val/loss</td><td>0.65709</td></tr><tr><td>classifier/val/precision_micro</td><td>0.70588</td></tr><tr><td>classifier/val/recall_micro</td><td>0.98824</td></tr><tr><td>mess_plus/accuracy</td><td>0.7733</td></tr><tr><td>mess_plus/chosen_model</td><td>2</td></tr><tr><td>mess_plus/energy</td><td>1259.411</td></tr><tr><td>mess_plus/exploration_step_ratio</td><td>0.25035</td></tr><tr><td>mess_plus/p_t</td><td>0.22242</td></tr><tr><td>mess_plus/q_length</td><td>16.58</td></tr><tr><td>mess_plus/step_energy_consumption</td><td>1259.411</td></tr><tr><td>mess_plus/step_time</td><td>3.98536</td></tr><tr><td>mess_plus/total_runtime</td><td>1591.63859</td></tr><tr><td>mess_plus/x_t</td><td>1</td></tr><tr><td>models/large_chosen</td><td>0.25035</td></tr><tr><td>models/medium_chosen</td><td>0</td></tr><tr><td>models/small_chosen</td><td>0.74965</td></tr></table><br/></div></div>"
      ]
     },
     "metadata": {},
     "output_type": "display_data"
    },
    {
     "data": {
      "text/plain": [
       "<IPython.core.display.HTML object>"
      ],
      "text/html": [
       " View run <strong style=\"color:#cdcd00\">piqa_V=0.001_a=0.78_c=1.0</strong> at: <a href='https://wandb.ai/tum-i13/mess-plus_runs_3_models/runs/vvqlv2vf' target=\"_blank\">https://wandb.ai/tum-i13/mess-plus_runs_3_models/runs/vvqlv2vf</a><br> View project at: <a href='https://wandb.ai/tum-i13/mess-plus_runs_3_models' target=\"_blank\">https://wandb.ai/tum-i13/mess-plus_runs_3_models</a><br>Synced 5 W&B file(s), 0 media file(s), 0 artifact file(s) and 0 other file(s)"
      ]
     },
     "metadata": {},
     "output_type": "display_data"
    },
    {
     "data": {
      "text/plain": [
       "<IPython.core.display.HTML object>"
      ],
      "text/html": [
       "Find logs at: <code>./wandb/run-20250506_210239-vvqlv2vf/logs</code>"
      ]
     },
     "metadata": {},
     "output_type": "display_data"
    },
    {
     "data": {
      "text/plain": [
       "<IPython.core.display.HTML object>"
      ],
      "text/html": [
       "Tracking run with wandb version 0.19.1"
      ]
     },
     "metadata": {},
     "output_type": "display_data"
    },
    {
     "data": {
      "text/plain": [
       "<IPython.core.display.HTML object>"
      ],
      "text/html": [
       "Run data is saved locally in <code>/home/woi/code/mess-plus/wandb/run-20250506_210308-5hvxx6b8</code>"
      ]
     },
     "metadata": {},
     "output_type": "display_data"
    },
    {
     "data": {
      "text/plain": [
       "<IPython.core.display.HTML object>"
      ],
      "text/html": [
       "Syncing run <strong><a href='https://wandb.ai/tum-i13/mess-plus_runs_3_models/runs/5hvxx6b8' target=\"_blank\">piqa_V=0.0001_a=0.78_c=1.0</a></strong> to <a href='https://wandb.ai/tum-i13/mess-plus_runs_3_models' target=\"_blank\">Weights & Biases</a> (<a href='https://wandb.me/developer-guide' target=\"_blank\">docs</a>)<br>"
      ]
     },
     "metadata": {},
     "output_type": "display_data"
    },
    {
     "data": {
      "text/plain": [
       "<IPython.core.display.HTML object>"
      ],
      "text/html": [
       " View project at <a href='https://wandb.ai/tum-i13/mess-plus_runs_3_models' target=\"_blank\">https://wandb.ai/tum-i13/mess-plus_runs_3_models</a>"
      ]
     },
     "metadata": {},
     "output_type": "display_data"
    },
    {
     "data": {
      "text/plain": [
       "<IPython.core.display.HTML object>"
      ],
      "text/html": [
       " View run at <a href='https://wandb.ai/tum-i13/mess-plus_runs_3_models/runs/5hvxx6b8' target=\"_blank\">https://wandb.ai/tum-i13/mess-plus_runs_3_models/runs/5hvxx6b8</a>"
      ]
     },
     "metadata": {},
     "output_type": "display_data"
    },
    {
     "data": {
      "text/plain": [
       "<IPython.core.display.HTML object>"
      ],
      "text/html": []
     },
     "metadata": {},
     "output_type": "display_data"
    },
    {
     "data": {
      "text/plain": [
       "<IPython.core.display.HTML object>"
      ],
      "text/html": [
       "<br>    <style><br>        .wandb-row {<br>            display: flex;<br>            flex-direction: row;<br>            flex-wrap: wrap;<br>            justify-content: flex-start;<br>            width: 100%;<br>        }<br>        .wandb-col {<br>            display: flex;<br>            flex-direction: column;<br>            flex-basis: 100%;<br>            flex: 1;<br>            padding: 10px;<br>        }<br>    </style><br><div class=\"wandb-row\"><div class=\"wandb-col\"><h3>Run history:</h3><br/><table class=\"wandb\"><tr><td>mess_plus/accuracy</td><td>▄▁▅▆▆▅▅▅▆▆▇▇▇▇▇█████▇▇█████▇▇▇▇█████████</td></tr><tr><td>mess_plus/chosen_model</td><td>█▁▁▁▁▁█▁▁▁▁█▁▁▁▁▁▁█▁▁▁█▁▁▁▁▁▁▁▁▁███▁█▁█▁</td></tr><tr><td>mess_plus/energy</td><td>▁▁▁▁█▁▁█▁▁▁▁▁██▁▁▁█▁▁▁▁▁▁▁▁██▁▁▁▁▁▁█▁▁█▁</td></tr><tr><td>mess_plus/exploration_step_ratio</td><td>▁▄▇▇█▆▆▅▃▃▃▃▄▃▄▄▃▃▃▃▄▄▃▄▃▃▃▃▃▃▂▂▂▃▃▃▃▃▂▂</td></tr><tr><td>mess_plus/p_t</td><td>█▇▇▇▇▆▆▄▄▄▄▄▄▄▃▃▃▃▃▃▂▂▂▂▂▂▂▂▂▂▂▁▁▁▁▁▁▁▁▁</td></tr><tr><td>mess_plus/q_length</td><td>▁▁▂▂▂▃▃▃▄▄▄▄▄▄▄▄▄▃▃▄▅▅▅▅▅▅▅▅▇▇██████▇▆▆█</td></tr><tr><td>mess_plus/step_energy_consumption</td><td>▁▁████▁█▁▁█▁▁▁▁█▁▁█▁▁▁▁▁▁▁▁▁██▁█▁▁▁▁█▁██</td></tr><tr><td>mess_plus/step_time</td><td>▁▆▁▁▁▁▁▁▁▁█▁▁▁▁▁█▁▁▁▁▁▁▁▁▁██▁▁▁▆▁▁▁▁▁▁▁▁</td></tr><tr><td>mess_plus/total_runtime</td><td>▁▁▁▂▂▂▂▂▂▃▃▃▃▃▄▄▄▄▄▅▅▅▅▅▅▅▆▆▆▆▇▇▇▇▇▇████</td></tr><tr><td>mess_plus/x_t</td><td>▁▁▁▁██▁█▁▁█▁▁█▁▁█▁▁▁▁▁▁███▁▁▁▁██▁▁█▁▁▁▁▁</td></tr><tr><td>models/large_chosen</td><td>▅▆█▇▆▅▄▄▂▁▂▃▂▂▂▃▃▃▃▂▃▂▂▂▂▂▁▂▂▂▂▂▁▁▁▂▂▁▁▁</td></tr><tr><td>models/medium_chosen</td><td>▁▁▁▁▁▁▁▁▁▁▁▁▁▁▁▁▁▁▁▁▁▁▁▁▁▁▁▁▁▁▁▁▁▁▁▁▁▁▁▁</td></tr><tr><td>models/small_chosen</td><td>▁▁▄▄▄▅▆▇▇▇▇▇▇▇▇▇▇▇▇▇▇▇▇▇▇██▇███▇████████</td></tr></table><br/></div><div class=\"wandb-col\"><h3>Run summary:</h3><br/><table class=\"wandb\"><tr><td>classifier/epoch</td><td>3</td></tr><tr><td>classifier/time/epoch_seconds</td><td>5.68105</td></tr><tr><td>classifier/train/loss</td><td>0.57916</td></tr><tr><td>classifier/val/0_f1score</td><td>0.78788</td></tr><tr><td>classifier/val/0_precision</td><td>1</td></tr><tr><td>classifier/val/0_recall</td><td>0.65</td></tr><tr><td>classifier/val/1_f1score</td><td>0.82353</td></tr><tr><td>classifier/val/1_precision</td><td>0.96552</td></tr><tr><td>classifier/val/1_recall</td><td>0.71795</td></tr><tr><td>classifier/val/2_f1score</td><td>0.85714</td></tr><tr><td>classifier/val/2_precision</td><td>1</td></tr><tr><td>classifier/val/2_recall</td><td>0.75</td></tr><tr><td>classifier/val/accuracy</td><td>0.7</td></tr><tr><td>classifier/val/f1_macro</td><td>0.82285</td></tr><tr><td>classifier/val/f1_micro</td><td>0.82353</td></tr><tr><td>classifier/val/loss</td><td>0.65709</td></tr><tr><td>classifier/val/precision_micro</td><td>0.70588</td></tr><tr><td>classifier/val/recall_micro</td><td>0.98824</td></tr><tr><td>mess_plus/accuracy</td><td>0.76356</td></tr><tr><td>mess_plus/chosen_model</td><td>0</td></tr><tr><td>mess_plus/energy</td><td>38.271</td></tr><tr><td>mess_plus/exploration_step_ratio</td><td>0.23435</td></tr><tr><td>mess_plus/p_t</td><td>0.22242</td></tr><tr><td>mess_plus/q_length</td><td>23.64</td></tr><tr><td>mess_plus/step_energy_consumption</td><td>38.271</td></tr><tr><td>mess_plus/step_time</td><td>0.21865</td></tr><tr><td>mess_plus/total_runtime</td><td>1508.16853</td></tr><tr><td>mess_plus/x_t</td><td>0</td></tr><tr><td>models/large_chosen</td><td>0.23435</td></tr><tr><td>models/medium_chosen</td><td>0</td></tr><tr><td>models/small_chosen</td><td>0.76565</td></tr></table><br/></div></div>"
      ]
     },
     "metadata": {},
     "output_type": "display_data"
    },
    {
     "data": {
      "text/plain": [
       "<IPython.core.display.HTML object>"
      ],
      "text/html": [
       " View run <strong style=\"color:#cdcd00\">piqa_V=0.0001_a=0.78_c=1.0</strong> at: <a href='https://wandb.ai/tum-i13/mess-plus_runs_3_models/runs/5hvxx6b8' target=\"_blank\">https://wandb.ai/tum-i13/mess-plus_runs_3_models/runs/5hvxx6b8</a><br> View project at: <a href='https://wandb.ai/tum-i13/mess-plus_runs_3_models' target=\"_blank\">https://wandb.ai/tum-i13/mess-plus_runs_3_models</a><br>Synced 5 W&B file(s), 0 media file(s), 0 artifact file(s) and 0 other file(s)"
      ]
     },
     "metadata": {},
     "output_type": "display_data"
    },
    {
     "data": {
      "text/plain": [
       "<IPython.core.display.HTML object>"
      ],
      "text/html": [
       "Find logs at: <code>./wandb/run-20250506_210308-5hvxx6b8/logs</code>"
      ]
     },
     "metadata": {},
     "output_type": "display_data"
    },
    {
     "data": {
      "text/plain": [
       "<IPython.core.display.HTML object>"
      ],
      "text/html": [
       "Tracking run with wandb version 0.19.1"
      ]
     },
     "metadata": {},
     "output_type": "display_data"
    },
    {
     "data": {
      "text/plain": [
       "<IPython.core.display.HTML object>"
      ],
      "text/html": [
       "Run data is saved locally in <code>/home/woi/code/mess-plus/wandb/run-20250506_210336-ofysrh1w</code>"
      ]
     },
     "metadata": {},
     "output_type": "display_data"
    },
    {
     "data": {
      "text/plain": [
       "<IPython.core.display.HTML object>"
      ],
      "text/html": [
       "Syncing run <strong><a href='https://wandb.ai/tum-i13/mess-plus_runs_3_models/runs/ofysrh1w' target=\"_blank\">piqa_V=1e-05_a=0.78_c=1.0</a></strong> to <a href='https://wandb.ai/tum-i13/mess-plus_runs_3_models' target=\"_blank\">Weights & Biases</a> (<a href='https://wandb.me/developer-guide' target=\"_blank\">docs</a>)<br>"
      ]
     },
     "metadata": {},
     "output_type": "display_data"
    },
    {
     "data": {
      "text/plain": [
       "<IPython.core.display.HTML object>"
      ],
      "text/html": [
       " View project at <a href='https://wandb.ai/tum-i13/mess-plus_runs_3_models' target=\"_blank\">https://wandb.ai/tum-i13/mess-plus_runs_3_models</a>"
      ]
     },
     "metadata": {},
     "output_type": "display_data"
    },
    {
     "data": {
      "text/plain": [
       "<IPython.core.display.HTML object>"
      ],
      "text/html": [
       " View run at <a href='https://wandb.ai/tum-i13/mess-plus_runs_3_models/runs/ofysrh1w' target=\"_blank\">https://wandb.ai/tum-i13/mess-plus_runs_3_models/runs/ofysrh1w</a>"
      ]
     },
     "metadata": {},
     "output_type": "display_data"
    },
    {
     "data": {
      "text/plain": [
       "<IPython.core.display.HTML object>"
      ],
      "text/html": []
     },
     "metadata": {},
     "output_type": "display_data"
    },
    {
     "data": {
      "text/plain": [
       "<IPython.core.display.HTML object>"
      ],
      "text/html": [
       "<br>    <style><br>        .wandb-row {<br>            display: flex;<br>            flex-direction: row;<br>            flex-wrap: wrap;<br>            justify-content: flex-start;<br>            width: 100%;<br>        }<br>        .wandb-col {<br>            display: flex;<br>            flex-direction: column;<br>            flex-basis: 100%;<br>            flex: 1;<br>            padding: 10px;<br>        }<br>    </style><br><div class=\"wandb-row\"><div class=\"wandb-col\"><h3>Run history:</h3><br/><table class=\"wandb\"><tr><td>mess_plus/accuracy</td><td>▁█▇▆▆▄▄▅▆▆▇▇▇▇██▇▇▆▇▇▇▇▇▇▆▆▆▆▆▇▇▇▇▇▇▆▆▆▇</td></tr><tr><td>mess_plus/chosen_model</td><td>▁▁▁▁████▁▁▁▁▁█▁▁▁▁███▁▁▁▁▁▁▁▁▁▁▁▁▁▁▁█▁▁▁</td></tr><tr><td>mess_plus/energy</td><td>▁█▁▁▁▁▁▁█▁▁▁█▁▁██▁▁▁█▁▁▁▁█▁▁▁▁▁▁█▁▁▁▁▁▁▁</td></tr><tr><td>mess_plus/exploration_step_ratio</td><td>▂▁▄▄▄▄▅▂▃▄▅▅▅▅▆▇▇▇▇▇▇▇▇▇▇█████████▇▇▇▇▇▇</td></tr><tr><td>mess_plus/p_t</td><td>███▇▇▇▇▇▆▆▅▄▄▄▄▄▄▄▃▃▃▂▂▂▂▂▂▂▂▂▂▂▂▁▁▁▁▁▁▁</td></tr><tr><td>mess_plus/q_length</td><td>▂▂▁▁▁▃▄▄▃▄▂▂▂▄▄▄▄▃▄▄▄▄▄▆▆▆▅▆▆▇███▇▆▆▆▇▇█</td></tr><tr><td>mess_plus/step_energy_consumption</td><td>▁▁▁█▁▁▁▁█▁▁▁█▁█▁█▁▁▁██▁▁██▁█▁█▁▁▁▁▁█▁▁▁▁</td></tr><tr><td>mess_plus/step_time</td><td>█▁▁█▁▁▁▁▁▁▁▁▁▁███▁▁▁██▁▁▁█▁▁▁█▁█▇▁█▁█▁█▁</td></tr><tr><td>mess_plus/total_runtime</td><td>▁▁▁▁▁▂▂▂▂▂▃▃▃▃▃▄▄▄▄▄▄▅▅▅▅▅▆▆▆▆▆▇▇▇▇▇▇▇██</td></tr><tr><td>mess_plus/x_t</td><td>▁█▁▁▁▁▁▁█▁▁█▁▁▁▁█▁▁█▁█▁▁▁██▁█▁▁▁█▁▁▁▁▁▁▁</td></tr><tr><td>models/large_chosen</td><td>▃▁▁▁▁▃▃▃▆▆▇▇▇▇▇▇▇▇█▇███▇▇▇▇▇██████▇▆▆▆▇▇</td></tr><tr><td>models/medium_chosen</td><td>▁▁▁▁▁▁▁▁▁▁▁▁▁▁▁▁▁▁▁▁▁▁▁▁▁▁▁▁▁▁▁▁▁▁▁▁▁▁▁▁</td></tr><tr><td>models/small_chosen</td><td>██▇▄▅▆▅▅▆▇▇▆▅▅▅▄▄▄▃▃▃▂▂▂▂▁▁▁▁▂▂▁▁▁▁▂▂▃▂▂</td></tr></table><br/></div><div class=\"wandb-col\"><h3>Run summary:</h3><br/><table class=\"wandb\"><tr><td>classifier/epoch</td><td>3</td></tr><tr><td>classifier/time/epoch_seconds</td><td>5.68105</td></tr><tr><td>classifier/train/loss</td><td>0.57916</td></tr><tr><td>classifier/val/0_f1score</td><td>0.78788</td></tr><tr><td>classifier/val/0_precision</td><td>1</td></tr><tr><td>classifier/val/0_recall</td><td>0.65</td></tr><tr><td>classifier/val/1_f1score</td><td>0.82353</td></tr><tr><td>classifier/val/1_precision</td><td>0.96552</td></tr><tr><td>classifier/val/1_recall</td><td>0.71795</td></tr><tr><td>classifier/val/2_f1score</td><td>0.85714</td></tr><tr><td>classifier/val/2_precision</td><td>1</td></tr><tr><td>classifier/val/2_recall</td><td>0.75</td></tr><tr><td>classifier/val/accuracy</td><td>0.7</td></tr><tr><td>classifier/val/f1_macro</td><td>0.82285</td></tr><tr><td>classifier/val/f1_micro</td><td>0.82353</td></tr><tr><td>classifier/val/loss</td><td>0.65709</td></tr><tr><td>classifier/val/precision_micro</td><td>0.70588</td></tr><tr><td>classifier/val/recall_micro</td><td>0.98824</td></tr><tr><td>mess_plus/accuracy</td><td>0.76426</td></tr><tr><td>mess_plus/chosen_model</td><td>0</td></tr><tr><td>mess_plus/energy</td><td>38.271</td></tr><tr><td>mess_plus/exploration_step_ratio</td><td>0.23644</td></tr><tr><td>mess_plus/p_t</td><td>0.22242</td></tr><tr><td>mess_plus/q_length</td><td>23.56</td></tr><tr><td>mess_plus/step_energy_consumption</td><td>38.271</td></tr><tr><td>mess_plus/step_time</td><td>0.21865</td></tr><tr><td>mess_plus/total_runtime</td><td>1522.26908</td></tr><tr><td>mess_plus/x_t</td><td>0</td></tr><tr><td>models/large_chosen</td><td>0.23644</td></tr><tr><td>models/medium_chosen</td><td>0</td></tr><tr><td>models/small_chosen</td><td>0.76356</td></tr></table><br/></div></div>"
      ]
     },
     "metadata": {},
     "output_type": "display_data"
    },
    {
     "data": {
      "text/plain": [
       "<IPython.core.display.HTML object>"
      ],
      "text/html": [
       " View run <strong style=\"color:#cdcd00\">piqa_V=1e-05_a=0.78_c=1.0</strong> at: <a href='https://wandb.ai/tum-i13/mess-plus_runs_3_models/runs/ofysrh1w' target=\"_blank\">https://wandb.ai/tum-i13/mess-plus_runs_3_models/runs/ofysrh1w</a><br> View project at: <a href='https://wandb.ai/tum-i13/mess-plus_runs_3_models' target=\"_blank\">https://wandb.ai/tum-i13/mess-plus_runs_3_models</a><br>Synced 5 W&B file(s), 0 media file(s), 0 artifact file(s) and 0 other file(s)"
      ]
     },
     "metadata": {},
     "output_type": "display_data"
    },
    {
     "data": {
      "text/plain": [
       "<IPython.core.display.HTML object>"
      ],
      "text/html": [
       "Find logs at: <code>./wandb/run-20250506_210336-ofysrh1w/logs</code>"
      ]
     },
     "metadata": {},
     "output_type": "display_data"
    },
    {
     "data": {
      "text/plain": [
       "<IPython.core.display.HTML object>"
      ],
      "text/html": [
       "Tracking run with wandb version 0.19.1"
      ]
     },
     "metadata": {},
     "output_type": "display_data"
    },
    {
     "data": {
      "text/plain": [
       "<IPython.core.display.HTML object>"
      ],
      "text/html": [
       "Run data is saved locally in <code>/home/woi/code/mess-plus/wandb/run-20250506_210402-d33lbbqn</code>"
      ]
     },
     "metadata": {},
     "output_type": "display_data"
    },
    {
     "data": {
      "text/plain": [
       "<IPython.core.display.HTML object>"
      ],
      "text/html": [
       "Syncing run <strong><a href='https://wandb.ai/tum-i13/mess-plus_runs_3_models/runs/d33lbbqn' target=\"_blank\">piqa_V=1.0_a=0.81_c=1.0</a></strong> to <a href='https://wandb.ai/tum-i13/mess-plus_runs_3_models' target=\"_blank\">Weights & Biases</a> (<a href='https://wandb.me/developer-guide' target=\"_blank\">docs</a>)<br>"
      ]
     },
     "metadata": {},
     "output_type": "display_data"
    },
    {
     "data": {
      "text/plain": [
       "<IPython.core.display.HTML object>"
      ],
      "text/html": [
       " View project at <a href='https://wandb.ai/tum-i13/mess-plus_runs_3_models' target=\"_blank\">https://wandb.ai/tum-i13/mess-plus_runs_3_models</a>"
      ]
     },
     "metadata": {},
     "output_type": "display_data"
    },
    {
     "data": {
      "text/plain": [
       "<IPython.core.display.HTML object>"
      ],
      "text/html": [
       " View run at <a href='https://wandb.ai/tum-i13/mess-plus_runs_3_models/runs/d33lbbqn' target=\"_blank\">https://wandb.ai/tum-i13/mess-plus_runs_3_models/runs/d33lbbqn</a>"
      ]
     },
     "metadata": {},
     "output_type": "display_data"
    },
    {
     "data": {
      "text/plain": [
       "<IPython.core.display.HTML object>"
      ],
      "text/html": []
     },
     "metadata": {},
     "output_type": "display_data"
    },
    {
     "data": {
      "text/plain": [
       "<IPython.core.display.HTML object>"
      ],
      "text/html": [
       "<br>    <style><br>        .wandb-row {<br>            display: flex;<br>            flex-direction: row;<br>            flex-wrap: wrap;<br>            justify-content: flex-start;<br>            width: 100%;<br>        }<br>        .wandb-col {<br>            display: flex;<br>            flex-direction: column;<br>            flex-basis: 100%;<br>            flex: 1;<br>            padding: 10px;<br>        }<br>    </style><br><div class=\"wandb-row\"><div class=\"wandb-col\"><h3>Run history:</h3><br/><table class=\"wandb\"><tr><td>mess_plus/accuracy</td><td>▁▃▅▆▆▆▆▅▄▅▅▇▇██▇▇▆▆▆▇▆▆▆▆▆▆▆▆▆▆▆▇▆▆▆▆▆▆▆</td></tr><tr><td>mess_plus/chosen_model</td><td>▁█▁█▁█▁█▁▁▁▁▁▁▁▁█▁▁███▁▁▁▁▁█▁▁▁▁▁▁▁▁▁▁▁█</td></tr><tr><td>mess_plus/energy</td><td>▁▁▁▁█▁▁▁▁█▁▁█▁▁▁▁██▁▁▁█▁▁█▁█▁▁▁▁▁▁▁▁█▁██</td></tr><tr><td>mess_plus/exploration_step_ratio</td><td>▂▁▃▆▇██▇▇▆▆▆▆▆▆▆▆▆▆▅▅▅▅▅▅▅▅▅▅▅▅▅▅▅▅▄▄▄▄▄</td></tr><tr><td>mess_plus/p_t</td><td>███▇▇▇▇▇▆▆▅▅▄▄▄▄▄▃▃▃▃▃▃▃▃▃▂▂▂▂▂▂▂▂▂▂▁▁▁▁</td></tr><tr><td>mess_plus/q_length</td><td>▁▁▁▁▁▂▃▃▃▃▃▂▂▃▄▄▄▄▄▄▄▅▅▅▅▆▆▆▆▆▆▆▆▆▆▇████</td></tr><tr><td>mess_plus/step_energy_consumption</td><td>▁█▁▁█▁██▁▁▁█▁▁▁▁▁▁▁▁██▇▁▁▁▁▁██▁▁▁▁▁▁▁▁▁▁</td></tr><tr><td>mess_plus/step_time</td><td>▁▁▁██▇█▁▁▁▁▁▁▁▁▁▁▁█▇▁▁▁▁█▁▁▇▁▇▁███▁▁▁▁▇▁</td></tr><tr><td>mess_plus/total_runtime</td><td>▁▁▂▂▂▂▃▃▃▃▃▄▄▄▄▄▅▅▅▅▅▅▆▆▆▆▆▇▇▇▇▇▇▇▇█████</td></tr><tr><td>mess_plus/x_t</td><td>▁▁██▁▁▁▁▁▁▁▁█▁▁▁█▁▁█▁██▁▁▁▁█▁▁▁▁▁▁▁▁▁▁██</td></tr><tr><td>models/large_chosen</td><td>▃▁▄▇▇▇███▇▆▆▆▆▆▆▆▆▆▆▆▆▆▆▆▆▅▆▆▆▆▅▅▅▅▅▅▅▅▅</td></tr><tr><td>models/medium_chosen</td><td>▁▁▁▁▁▁▁▁▁▁▁▁▁▁▁▁▁▁▁▁▁▁▁▁▁▁▁▁▁▁▁▁▁▁▁▁▁▁▁▁</td></tr><tr><td>models/small_chosen</td><td>█▅▅▂▁▁▁▁▂▂▂▂▂▂▂▂▂▂▂▂▂▂▂▂▂▂▂▂▂▂▂▂▂▂▂▃▃▃▃▃</td></tr></table><br/></div><div class=\"wandb-col\"><h3>Run summary:</h3><br/><table class=\"wandb\"><tr><td>classifier/epoch</td><td>3</td></tr><tr><td>classifier/time/epoch_seconds</td><td>5.68105</td></tr><tr><td>classifier/train/loss</td><td>0.57916</td></tr><tr><td>classifier/val/0_f1score</td><td>0.78788</td></tr><tr><td>classifier/val/0_precision</td><td>1</td></tr><tr><td>classifier/val/0_recall</td><td>0.65</td></tr><tr><td>classifier/val/1_f1score</td><td>0.82353</td></tr><tr><td>classifier/val/1_precision</td><td>0.96552</td></tr><tr><td>classifier/val/1_recall</td><td>0.71795</td></tr><tr><td>classifier/val/2_f1score</td><td>0.85714</td></tr><tr><td>classifier/val/2_precision</td><td>1</td></tr><tr><td>classifier/val/2_recall</td><td>0.75</td></tr><tr><td>classifier/val/accuracy</td><td>0.7</td></tr><tr><td>classifier/val/f1_macro</td><td>0.82285</td></tr><tr><td>classifier/val/f1_micro</td><td>0.82353</td></tr><tr><td>classifier/val/loss</td><td>0.65709</td></tr><tr><td>classifier/val/precision_micro</td><td>0.70588</td></tr><tr><td>classifier/val/recall_micro</td><td>0.98824</td></tr><tr><td>mess_plus/accuracy</td><td>0.76704</td></tr><tr><td>mess_plus/chosen_model</td><td>0</td></tr><tr><td>mess_plus/energy</td><td>38.271</td></tr><tr><td>mess_plus/exploration_step_ratio</td><td>0.24896</td></tr><tr><td>mess_plus/p_t</td><td>0.22242</td></tr><tr><td>mess_plus/q_length</td><td>61.87</td></tr><tr><td>mess_plus/step_energy_consumption</td><td>38.271</td></tr><tr><td>mess_plus/step_time</td><td>0.21865</td></tr><tr><td>mess_plus/total_runtime</td><td>1588.63061</td></tr><tr><td>mess_plus/x_t</td><td>0</td></tr><tr><td>models/large_chosen</td><td>0.24896</td></tr><tr><td>models/medium_chosen</td><td>0</td></tr><tr><td>models/small_chosen</td><td>0.75104</td></tr></table><br/></div></div>"
      ]
     },
     "metadata": {},
     "output_type": "display_data"
    },
    {
     "data": {
      "text/plain": [
       "<IPython.core.display.HTML object>"
      ],
      "text/html": [
       " View run <strong style=\"color:#cdcd00\">piqa_V=1.0_a=0.81_c=1.0</strong> at: <a href='https://wandb.ai/tum-i13/mess-plus_runs_3_models/runs/d33lbbqn' target=\"_blank\">https://wandb.ai/tum-i13/mess-plus_runs_3_models/runs/d33lbbqn</a><br> View project at: <a href='https://wandb.ai/tum-i13/mess-plus_runs_3_models' target=\"_blank\">https://wandb.ai/tum-i13/mess-plus_runs_3_models</a><br>Synced 5 W&B file(s), 0 media file(s), 0 artifact file(s) and 0 other file(s)"
      ]
     },
     "metadata": {},
     "output_type": "display_data"
    },
    {
     "data": {
      "text/plain": [
       "<IPython.core.display.HTML object>"
      ],
      "text/html": [
       "Find logs at: <code>./wandb/run-20250506_210402-d33lbbqn/logs</code>"
      ]
     },
     "metadata": {},
     "output_type": "display_data"
    },
    {
     "data": {
      "text/plain": [
       "<IPython.core.display.HTML object>"
      ],
      "text/html": [
       "Tracking run with wandb version 0.19.1"
      ]
     },
     "metadata": {},
     "output_type": "display_data"
    },
    {
     "data": {
      "text/plain": [
       "<IPython.core.display.HTML object>"
      ],
      "text/html": [
       "Run data is saved locally in <code>/home/woi/code/mess-plus/wandb/run-20250506_210430-n8jiuo01</code>"
      ]
     },
     "metadata": {},
     "output_type": "display_data"
    },
    {
     "data": {
      "text/plain": [
       "<IPython.core.display.HTML object>"
      ],
      "text/html": [
       "Syncing run <strong><a href='https://wandb.ai/tum-i13/mess-plus_runs_3_models/runs/n8jiuo01' target=\"_blank\">piqa_V=0.1_a=0.81_c=1.0</a></strong> to <a href='https://wandb.ai/tum-i13/mess-plus_runs_3_models' target=\"_blank\">Weights & Biases</a> (<a href='https://wandb.me/developer-guide' target=\"_blank\">docs</a>)<br>"
      ]
     },
     "metadata": {},
     "output_type": "display_data"
    },
    {
     "data": {
      "text/plain": [
       "<IPython.core.display.HTML object>"
      ],
      "text/html": [
       " View project at <a href='https://wandb.ai/tum-i13/mess-plus_runs_3_models' target=\"_blank\">https://wandb.ai/tum-i13/mess-plus_runs_3_models</a>"
      ]
     },
     "metadata": {},
     "output_type": "display_data"
    },
    {
     "data": {
      "text/plain": [
       "<IPython.core.display.HTML object>"
      ],
      "text/html": [
       " View run at <a href='https://wandb.ai/tum-i13/mess-plus_runs_3_models/runs/n8jiuo01' target=\"_blank\">https://wandb.ai/tum-i13/mess-plus_runs_3_models/runs/n8jiuo01</a>"
      ]
     },
     "metadata": {},
     "output_type": "display_data"
    },
    {
     "data": {
      "text/plain": [
       "<IPython.core.display.HTML object>"
      ],
      "text/html": []
     },
     "metadata": {},
     "output_type": "display_data"
    },
    {
     "data": {
      "text/plain": [
       "<IPython.core.display.HTML object>"
      ],
      "text/html": [
       "<br>    <style><br>        .wandb-row {<br>            display: flex;<br>            flex-direction: row;<br>            flex-wrap: wrap;<br>            justify-content: flex-start;<br>            width: 100%;<br>        }<br>        .wandb-col {<br>            display: flex;<br>            flex-direction: column;<br>            flex-basis: 100%;<br>            flex: 1;<br>            padding: 10px;<br>        }<br>    </style><br><div class=\"wandb-row\"><div class=\"wandb-col\"><h3>Run history:</h3><br/><table class=\"wandb\"><tr><td>mess_plus/accuracy</td><td>▁▇▇▇████████████████████████████████████</td></tr><tr><td>mess_plus/chosen_model</td><td>▁▁▁▁▁▁▁▁▁▁▁█▁▁▁██▁█▁█▁█▁█▁█▁█▁▁▁▁█▁▁▁▁▁▁</td></tr><tr><td>mess_plus/energy</td><td>▁▁▁▁▅▁▁▁▇▁▁▁▁███▁█▁▇▁▁█▁▁▁▁▆▁▁▁▁▁▁▁▁█▁▁▁</td></tr><tr><td>mess_plus/exploration_step_ratio</td><td>▂▁▄▅▆██▇▆▅▅▅▅▅▅▄▄▄▅▅▄▄▄▄▄▃▃▃▃▃▃▃▃▃▃▂▂▂▂▂</td></tr><tr><td>mess_plus/p_t</td><td>█▇▆▆▆▅▅▅▅▅▄▄▄▄▄▄▄▄▄▄▃▃▃▃▃▃▂▂▂▂▂▂▂▂▂▂▂▂▁▁</td></tr><tr><td>mess_plus/q_length</td><td>▁▁▁▁▂▂▂▂▃▃▃▄▃▄▃▄▄▄▄▄▄▅▅▅▅▅▅▅▆▇▇▇▇▇██████</td></tr><tr><td>mess_plus/step_energy_consumption</td><td>▁▁▁▁▁▁▁█▁▁▁▁▁▁▁█▁█▁▁█▁▁▁▁▁▁▁██▁▁██▁▁▁▁▁▁</td></tr><tr><td>mess_plus/step_time</td><td>▁▁█▁███▁█▁▁▁▁█▁▁█▁▁██▁██▁▁▁██████▁▁▁██▁▁</td></tr><tr><td>mess_plus/total_runtime</td><td>▁▁▂▂▂▂▂▂▂▃▃▃▃▃▃▃▃▃▄▄▅▅▅▅▅▆▆▆▆▇▇▇▇▇▇█████</td></tr><tr><td>mess_plus/x_t</td><td>▁▁▁▁▁▁▁▁▁▁█▁▁▁▁▁▁▁▁▁▁▁▁▁▁▁█▁▁▁▁██▁██▁▁██</td></tr><tr><td>models/large_chosen</td><td>▁█▆▇▇▆▆▆▆▅▄▅▅▅▅▄▄▄▄▄▄▄▃▃▃▃▃▃▃▃▃▃▃▃▃▃▃▃▃▃</td></tr><tr><td>models/medium_chosen</td><td>▁▁▁▁▁▁▁▁▁▁▁▁▁▁▁▁▁▁▁▁▁▁▁▁▁▁▁▁▁▁▁▁▁▁▁▁▁▁▁▁</td></tr><tr><td>models/small_chosen</td><td>█▃▃▁▁▁▁▂▂▂▃▄▄▄▄▃▃▃▄▄▄▅▅▅▅▅▅▅▅▅▅▅▅▅▅▆▅▆▆▆</td></tr></table><br/></div><div class=\"wandb-col\"><h3>Run summary:</h3><br/><table class=\"wandb\"><tr><td>classifier/epoch</td><td>3</td></tr><tr><td>classifier/time/epoch_seconds</td><td>5.68105</td></tr><tr><td>classifier/train/loss</td><td>0.57916</td></tr><tr><td>classifier/val/0_f1score</td><td>0.78788</td></tr><tr><td>classifier/val/0_precision</td><td>1</td></tr><tr><td>classifier/val/0_recall</td><td>0.65</td></tr><tr><td>classifier/val/1_f1score</td><td>0.82353</td></tr><tr><td>classifier/val/1_precision</td><td>0.96552</td></tr><tr><td>classifier/val/1_recall</td><td>0.71795</td></tr><tr><td>classifier/val/2_f1score</td><td>0.85714</td></tr><tr><td>classifier/val/2_precision</td><td>1</td></tr><tr><td>classifier/val/2_recall</td><td>0.75</td></tr><tr><td>classifier/val/accuracy</td><td>0.7</td></tr><tr><td>classifier/val/f1_macro</td><td>0.82285</td></tr><tr><td>classifier/val/f1_micro</td><td>0.82353</td></tr><tr><td>classifier/val/loss</td><td>0.65709</td></tr><tr><td>classifier/val/precision_micro</td><td>0.70588</td></tr><tr><td>classifier/val/recall_micro</td><td>0.98824</td></tr><tr><td>mess_plus/accuracy</td><td>0.76773</td></tr><tr><td>mess_plus/chosen_model</td><td>0</td></tr><tr><td>mess_plus/energy</td><td>38.271</td></tr><tr><td>mess_plus/exploration_step_ratio</td><td>0.26287</td></tr><tr><td>mess_plus/p_t</td><td>0.22242</td></tr><tr><td>mess_plus/q_length</td><td>60.78</td></tr><tr><td>mess_plus/step_energy_consumption</td><td>38.271</td></tr><tr><td>mess_plus/step_time</td><td>0.21865</td></tr><tr><td>mess_plus/total_runtime</td><td>1661.08816</td></tr><tr><td>mess_plus/x_t</td><td>0</td></tr><tr><td>models/large_chosen</td><td>0.26287</td></tr><tr><td>models/medium_chosen</td><td>0</td></tr><tr><td>models/small_chosen</td><td>0.73713</td></tr></table><br/></div></div>"
      ]
     },
     "metadata": {},
     "output_type": "display_data"
    },
    {
     "data": {
      "text/plain": [
       "<IPython.core.display.HTML object>"
      ],
      "text/html": [
       " View run <strong style=\"color:#cdcd00\">piqa_V=0.1_a=0.81_c=1.0</strong> at: <a href='https://wandb.ai/tum-i13/mess-plus_runs_3_models/runs/n8jiuo01' target=\"_blank\">https://wandb.ai/tum-i13/mess-plus_runs_3_models/runs/n8jiuo01</a><br> View project at: <a href='https://wandb.ai/tum-i13/mess-plus_runs_3_models' target=\"_blank\">https://wandb.ai/tum-i13/mess-plus_runs_3_models</a><br>Synced 5 W&B file(s), 0 media file(s), 0 artifact file(s) and 0 other file(s)"
      ]
     },
     "metadata": {},
     "output_type": "display_data"
    },
    {
     "data": {
      "text/plain": [
       "<IPython.core.display.HTML object>"
      ],
      "text/html": [
       "Find logs at: <code>./wandb/run-20250506_210430-n8jiuo01/logs</code>"
      ]
     },
     "metadata": {},
     "output_type": "display_data"
    },
    {
     "data": {
      "text/plain": [
       "<IPython.core.display.HTML object>"
      ],
      "text/html": [
       "Tracking run with wandb version 0.19.1"
      ]
     },
     "metadata": {},
     "output_type": "display_data"
    },
    {
     "data": {
      "text/plain": [
       "<IPython.core.display.HTML object>"
      ],
      "text/html": [
       "Run data is saved locally in <code>/home/woi/code/mess-plus/wandb/run-20250506_210500-ccg7n8sa</code>"
      ]
     },
     "metadata": {},
     "output_type": "display_data"
    },
    {
     "data": {
      "text/plain": [
       "<IPython.core.display.HTML object>"
      ],
      "text/html": [
       "Syncing run <strong><a href='https://wandb.ai/tum-i13/mess-plus_runs_3_models/runs/ccg7n8sa' target=\"_blank\">piqa_V=0.01_a=0.81_c=1.0</a></strong> to <a href='https://wandb.ai/tum-i13/mess-plus_runs_3_models' target=\"_blank\">Weights & Biases</a> (<a href='https://wandb.me/developer-guide' target=\"_blank\">docs</a>)<br>"
      ]
     },
     "metadata": {},
     "output_type": "display_data"
    },
    {
     "data": {
      "text/plain": [
       "<IPython.core.display.HTML object>"
      ],
      "text/html": [
       " View project at <a href='https://wandb.ai/tum-i13/mess-plus_runs_3_models' target=\"_blank\">https://wandb.ai/tum-i13/mess-plus_runs_3_models</a>"
      ]
     },
     "metadata": {},
     "output_type": "display_data"
    },
    {
     "data": {
      "text/plain": [
       "<IPython.core.display.HTML object>"
      ],
      "text/html": [
       " View run at <a href='https://wandb.ai/tum-i13/mess-plus_runs_3_models/runs/ccg7n8sa' target=\"_blank\">https://wandb.ai/tum-i13/mess-plus_runs_3_models/runs/ccg7n8sa</a>"
      ]
     },
     "metadata": {},
     "output_type": "display_data"
    },
    {
     "data": {
      "text/plain": [
       "<IPython.core.display.HTML object>"
      ],
      "text/html": []
     },
     "metadata": {},
     "output_type": "display_data"
    },
    {
     "data": {
      "text/plain": [
       "<IPython.core.display.HTML object>"
      ],
      "text/html": [
       "<br>    <style><br>        .wandb-row {<br>            display: flex;<br>            flex-direction: row;<br>            flex-wrap: wrap;<br>            justify-content: flex-start;<br>            width: 100%;<br>        }<br>        .wandb-col {<br>            display: flex;<br>            flex-direction: column;<br>            flex-basis: 100%;<br>            flex: 1;<br>            padding: 10px;<br>        }<br>    </style><br><div class=\"wandb-row\"><div class=\"wandb-col\"><h3>Run history:</h3><br/><table class=\"wandb\"><tr><td>mess_plus/accuracy</td><td>▆█▆▇▅▃▃▁▁▁▂▂▃▃▃▃▃▂▂▂▂▂▂▂▂▂▂▃▃▃▂▂▂▂▂▂▂▁▁▁</td></tr><tr><td>mess_plus/chosen_model</td><td>▁▁▁▁▁▁▁▁▁▁▁▁▁▁███▁▁▁▁▁▁▁▁▁▁▁█▁▁▁▁▁██▁██▁</td></tr><tr><td>mess_plus/energy</td><td>▁▁▁▁▁▁▇▁▁▁▁▁▁▁▁▁▁▁▁▁▁▁▁▁▁▁▁▁▁▁▁▁▁▁███▁▁▁</td></tr><tr><td>mess_plus/exploration_step_ratio</td><td>█▅▄▃▃▃▂▂▂▂▂▂▂▂▂▂▂▂▂▂▂▂▂▂▂▁▁▁▁▁▁▁▁▁▁▁▁▁▁▁</td></tr><tr><td>mess_plus/p_t</td><td>█▇▇▇▆▆▆▆▆▆▅▅▄▄▄▄▄▃▃▃▃▃▃▃▃▃▂▂▂▂▂▁▁▁▁▁▁▁▁▁</td></tr><tr><td>mess_plus/q_length</td><td>▁▁▂▂▃▃▃▃▃▃▃▃▃▃▃▃▄▄▄▄▄▄▅▄▄▄▄▄▅▅▆▆▆▆▆▆▇▇▇█</td></tr><tr><td>mess_plus/step_energy_consumption</td><td>▁▁███▇▁▁▁▁███▁▁█▁▁▁██▁▁▁▁█▇▁▁▁▁▁█▆█▁▁▁█▁</td></tr><tr><td>mess_plus/step_time</td><td>▁▁▁▁█▁▁▁▁▁▁▁▁▁▁▁▁▁▁█▁▁▁▁▁▁█▁█▁█▁▁▁██▁▁█▁</td></tr><tr><td>mess_plus/total_runtime</td><td>▁▁▂▂▂▃▃▃▃▃▄▄▄▄▄▄▄▅▅▅▅▅▆▆▆▆▆▆▇▇▇▇▇▇▇█████</td></tr><tr><td>mess_plus/x_t</td><td>███▁█▁▁█▁▁█▁▁▁███▁▁▁▁▁▁▁▁█▁▁██▁▁▁█▁█▁▁█▁</td></tr><tr><td>models/large_chosen</td><td>█▇▅▅▆▃▃▃▃▃▃▃▃▃▃▃▃▂▂▂▂▂▂▂▂▂▂▂▂▂▁▁▁▁▁▁▁▁▁▁</td></tr><tr><td>models/medium_chosen</td><td>▁▁▁▁▁▁▁▁▁▁▁▁▁▁▁▁▁▁▁▁▁▁▁▁▁▁▁▁▁▁▁▁▁▁▁▁▁▁▁▁</td></tr><tr><td>models/small_chosen</td><td>▁▄▄▄▄▆▆▇▇▇▇▇▇▇▇▇▇▇▇▇▇▇▇▇▇▇▇▇▇▇██████████</td></tr></table><br/></div><div class=\"wandb-col\"><h3>Run summary:</h3><br/><table class=\"wandb\"><tr><td>classifier/epoch</td><td>3</td></tr><tr><td>classifier/time/epoch_seconds</td><td>5.68105</td></tr><tr><td>classifier/train/loss</td><td>0.57916</td></tr><tr><td>classifier/val/0_f1score</td><td>0.78788</td></tr><tr><td>classifier/val/0_precision</td><td>1</td></tr><tr><td>classifier/val/0_recall</td><td>0.65</td></tr><tr><td>classifier/val/1_f1score</td><td>0.82353</td></tr><tr><td>classifier/val/1_precision</td><td>0.96552</td></tr><tr><td>classifier/val/1_recall</td><td>0.71795</td></tr><tr><td>classifier/val/2_f1score</td><td>0.85714</td></tr><tr><td>classifier/val/2_precision</td><td>1</td></tr><tr><td>classifier/val/2_recall</td><td>0.75</td></tr><tr><td>classifier/val/accuracy</td><td>0.7</td></tr><tr><td>classifier/val/f1_macro</td><td>0.82285</td></tr><tr><td>classifier/val/f1_micro</td><td>0.82353</td></tr><tr><td>classifier/val/loss</td><td>0.65709</td></tr><tr><td>classifier/val/precision_micro</td><td>0.70588</td></tr><tr><td>classifier/val/recall_micro</td><td>0.98824</td></tr><tr><td>mess_plus/accuracy</td><td>0.76982</td></tr><tr><td>mess_plus/chosen_model</td><td>0</td></tr><tr><td>mess_plus/energy</td><td>38.271</td></tr><tr><td>mess_plus/exploration_step_ratio</td><td>0.25104</td></tr><tr><td>mess_plus/p_t</td><td>0.22242</td></tr><tr><td>mess_plus/q_length</td><td>60.17</td></tr><tr><td>mess_plus/step_energy_consumption</td><td>38.271</td></tr><tr><td>mess_plus/step_time</td><td>0.21865</td></tr><tr><td>mess_plus/total_runtime</td><td>1596.20265</td></tr><tr><td>mess_plus/x_t</td><td>0</td></tr><tr><td>models/large_chosen</td><td>0.25104</td></tr><tr><td>models/medium_chosen</td><td>0</td></tr><tr><td>models/small_chosen</td><td>0.74896</td></tr></table><br/></div></div>"
      ]
     },
     "metadata": {},
     "output_type": "display_data"
    },
    {
     "data": {
      "text/plain": [
       "<IPython.core.display.HTML object>"
      ],
      "text/html": [
       " View run <strong style=\"color:#cdcd00\">piqa_V=0.01_a=0.81_c=1.0</strong> at: <a href='https://wandb.ai/tum-i13/mess-plus_runs_3_models/runs/ccg7n8sa' target=\"_blank\">https://wandb.ai/tum-i13/mess-plus_runs_3_models/runs/ccg7n8sa</a><br> View project at: <a href='https://wandb.ai/tum-i13/mess-plus_runs_3_models' target=\"_blank\">https://wandb.ai/tum-i13/mess-plus_runs_3_models</a><br>Synced 5 W&B file(s), 0 media file(s), 0 artifact file(s) and 0 other file(s)"
      ]
     },
     "metadata": {},
     "output_type": "display_data"
    },
    {
     "data": {
      "text/plain": [
       "<IPython.core.display.HTML object>"
      ],
      "text/html": [
       "Find logs at: <code>./wandb/run-20250506_210500-ccg7n8sa/logs</code>"
      ]
     },
     "metadata": {},
     "output_type": "display_data"
    },
    {
     "data": {
      "text/plain": [
       "<IPython.core.display.HTML object>"
      ],
      "text/html": [
       "Tracking run with wandb version 0.19.1"
      ]
     },
     "metadata": {},
     "output_type": "display_data"
    },
    {
     "data": {
      "text/plain": [
       "<IPython.core.display.HTML object>"
      ],
      "text/html": [
       "Run data is saved locally in <code>/home/woi/code/mess-plus/wandb/run-20250506_210529-ovikhkxi</code>"
      ]
     },
     "metadata": {},
     "output_type": "display_data"
    },
    {
     "data": {
      "text/plain": [
       "<IPython.core.display.HTML object>"
      ],
      "text/html": [
       "Syncing run <strong><a href='https://wandb.ai/tum-i13/mess-plus_runs_3_models/runs/ovikhkxi' target=\"_blank\">piqa_V=0.001_a=0.81_c=1.0</a></strong> to <a href='https://wandb.ai/tum-i13/mess-plus_runs_3_models' target=\"_blank\">Weights & Biases</a> (<a href='https://wandb.me/developer-guide' target=\"_blank\">docs</a>)<br>"
      ]
     },
     "metadata": {},
     "output_type": "display_data"
    },
    {
     "data": {
      "text/plain": [
       "<IPython.core.display.HTML object>"
      ],
      "text/html": [
       " View project at <a href='https://wandb.ai/tum-i13/mess-plus_runs_3_models' target=\"_blank\">https://wandb.ai/tum-i13/mess-plus_runs_3_models</a>"
      ]
     },
     "metadata": {},
     "output_type": "display_data"
    },
    {
     "data": {
      "text/plain": [
       "<IPython.core.display.HTML object>"
      ],
      "text/html": [
       " View run at <a href='https://wandb.ai/tum-i13/mess-plus_runs_3_models/runs/ovikhkxi' target=\"_blank\">https://wandb.ai/tum-i13/mess-plus_runs_3_models/runs/ovikhkxi</a>"
      ]
     },
     "metadata": {},
     "output_type": "display_data"
    },
    {
     "data": {
      "text/plain": [
       "<IPython.core.display.HTML object>"
      ],
      "text/html": []
     },
     "metadata": {},
     "output_type": "display_data"
    },
    {
     "data": {
      "text/plain": [
       "<IPython.core.display.HTML object>"
      ],
      "text/html": [
       "<br>    <style><br>        .wandb-row {<br>            display: flex;<br>            flex-direction: row;<br>            flex-wrap: wrap;<br>            justify-content: flex-start;<br>            width: 100%;<br>        }<br>        .wandb-col {<br>            display: flex;<br>            flex-direction: column;<br>            flex-basis: 100%;<br>            flex: 1;<br>            padding: 10px;<br>        }<br>    </style><br><div class=\"wandb-row\"><div class=\"wandb-col\"><h3>Run history:</h3><br/><table class=\"wandb\"><tr><td>mess_plus/accuracy</td><td>▃▁▆▄▅▆▄▄▄▄▅▆▇██▇▇▆▇▇▇▆▆▆▆▆▆▆▆▆▆▆▆▅▅▅▆▆▆▆</td></tr><tr><td>mess_plus/chosen_model</td><td>▁▁█▁▁██▁▁▁▁▁▁▁▁▁▁█▁▁▁▁█▁█▁▁▁▁▁█▁▁▁▁▁▁▁██</td></tr><tr><td>mess_plus/energy</td><td>▁▁▁██▁▁▁▁▁▁▁█▁▁▁▁▁█▁▁▁▁▁▁█▁▁▁▁██▁█▁█▁██▁</td></tr><tr><td>mess_plus/exploration_step_ratio</td><td>█▄▃▃▄▄▄▃▃▃▂▂▂▂▂▂▂▃▃▃▃▂▂▂▂▂▂▂▁▂▁▁▁▁▁▁▁▁▁▁</td></tr><tr><td>mess_plus/p_t</td><td>██▇▇▇▇▇▆▆▆▆▆▆▆▅▄▄▄▄▃▃▃▃▃▃▃▂▂▂▂▂▂▂▂▁▁▁▁▁▁</td></tr><tr><td>mess_plus/q_length</td><td>▁▁▃▃▃▃▃▃▃▃▃▃▄▄▄▄▄▄▄▅▆▆▆▆▆▆▆▆▆▆▇▇▇▇▇█████</td></tr><tr><td>mess_plus/step_energy_consumption</td><td>▁▁█▁▇▁▁▁▁▁▁▁▁▁█▁▁▁▁▁██▁▁▁▁▁▁▁▁▆██▁▁▁█▁▁▁</td></tr><tr><td>mess_plus/step_time</td><td>▁█▁████▁▁▁▁▁▁▁▁▁▁▁█▁▁▁██▁▁▁▁▁▁▁▁▁▁▁▁██▁▆</td></tr><tr><td>mess_plus/total_runtime</td><td>▁▁▁▁▁▂▂▂▂▂▃▃▃▃▃▃▄▄▄▄▄▄▄▄▄▅▅▅▅▅▆▆▆▆▆▇▇▇▇█</td></tr><tr><td>mess_plus/x_t</td><td>▁▁█▁█▁▁▁▁▁█▁▁▁▁█▁▁█▁▁▁██▁▁█▁▁▁█▁▁▁▁▁▁▁▁▁</td></tr><tr><td>models/large_chosen</td><td>▁▇▆██▇▇▆▆▅▅▅▅▆▅▆▆▆▆▆▆▅▅▅▅▅▄▄▄▄▄▄▄▄▄▄▄▄▄▄</td></tr><tr><td>models/medium_chosen</td><td>▁▁▁▁▁▁▁▁▁▁▁▁▁▁▁▁▁▁▁▁▁▁▁▁▁▁▁▁▁▁▁▁▁▁▁▁▁▁▁▁</td></tr><tr><td>models/small_chosen</td><td>█▁▂▂▂▂▂▂▂▂▂▂▂▂▂▂▂▂▂▂▂▂▂▂▂▂▂▂▂▂▂▂▃▃▃▃▃▃▃▃</td></tr></table><br/></div><div class=\"wandb-col\"><h3>Run summary:</h3><br/><table class=\"wandb\"><tr><td>classifier/epoch</td><td>3</td></tr><tr><td>classifier/time/epoch_seconds</td><td>5.68105</td></tr><tr><td>classifier/train/loss</td><td>0.57916</td></tr><tr><td>classifier/val/0_f1score</td><td>0.78788</td></tr><tr><td>classifier/val/0_precision</td><td>1</td></tr><tr><td>classifier/val/0_recall</td><td>0.65</td></tr><tr><td>classifier/val/1_f1score</td><td>0.82353</td></tr><tr><td>classifier/val/1_precision</td><td>0.96552</td></tr><tr><td>classifier/val/1_recall</td><td>0.71795</td></tr><tr><td>classifier/val/2_f1score</td><td>0.85714</td></tr><tr><td>classifier/val/2_precision</td><td>1</td></tr><tr><td>classifier/val/2_recall</td><td>0.75</td></tr><tr><td>classifier/val/accuracy</td><td>0.7</td></tr><tr><td>classifier/val/f1_macro</td><td>0.82285</td></tr><tr><td>classifier/val/f1_micro</td><td>0.82353</td></tr><tr><td>classifier/val/loss</td><td>0.65709</td></tr><tr><td>classifier/val/precision_micro</td><td>0.70588</td></tr><tr><td>classifier/val/recall_micro</td><td>0.98824</td></tr><tr><td>mess_plus/accuracy</td><td>0.76912</td></tr><tr><td>mess_plus/chosen_model</td><td>2</td></tr><tr><td>mess_plus/energy</td><td>1259.411</td></tr><tr><td>mess_plus/exploration_step_ratio</td><td>0.25869</td></tr><tr><td>mess_plus/p_t</td><td>0.22242</td></tr><tr><td>mess_plus/q_length</td><td>59.25</td></tr><tr><td>mess_plus/step_energy_consumption</td><td>1259.411</td></tr><tr><td>mess_plus/step_time</td><td>3.98536</td></tr><tr><td>mess_plus/total_runtime</td><td>1634.72918</td></tr><tr><td>mess_plus/x_t</td><td>1</td></tr><tr><td>models/large_chosen</td><td>0.25869</td></tr><tr><td>models/medium_chosen</td><td>0</td></tr><tr><td>models/small_chosen</td><td>0.74131</td></tr></table><br/></div></div>"
      ]
     },
     "metadata": {},
     "output_type": "display_data"
    },
    {
     "data": {
      "text/plain": [
       "<IPython.core.display.HTML object>"
      ],
      "text/html": [
       " View run <strong style=\"color:#cdcd00\">piqa_V=0.001_a=0.81_c=1.0</strong> at: <a href='https://wandb.ai/tum-i13/mess-plus_runs_3_models/runs/ovikhkxi' target=\"_blank\">https://wandb.ai/tum-i13/mess-plus_runs_3_models/runs/ovikhkxi</a><br> View project at: <a href='https://wandb.ai/tum-i13/mess-plus_runs_3_models' target=\"_blank\">https://wandb.ai/tum-i13/mess-plus_runs_3_models</a><br>Synced 5 W&B file(s), 0 media file(s), 0 artifact file(s) and 0 other file(s)"
      ]
     },
     "metadata": {},
     "output_type": "display_data"
    },
    {
     "data": {
      "text/plain": [
       "<IPython.core.display.HTML object>"
      ],
      "text/html": [
       "Find logs at: <code>./wandb/run-20250506_210529-ovikhkxi/logs</code>"
      ]
     },
     "metadata": {},
     "output_type": "display_data"
    },
    {
     "data": {
      "text/plain": [
       "<IPython.core.display.HTML object>"
      ],
      "text/html": [
       "Tracking run with wandb version 0.19.1"
      ]
     },
     "metadata": {},
     "output_type": "display_data"
    },
    {
     "data": {
      "text/plain": [
       "<IPython.core.display.HTML object>"
      ],
      "text/html": [
       "Run data is saved locally in <code>/home/woi/code/mess-plus/wandb/run-20250506_210556-02yddm4o</code>"
      ]
     },
     "metadata": {},
     "output_type": "display_data"
    },
    {
     "data": {
      "text/plain": [
       "<IPython.core.display.HTML object>"
      ],
      "text/html": [
       "Syncing run <strong><a href='https://wandb.ai/tum-i13/mess-plus_runs_3_models/runs/02yddm4o' target=\"_blank\">piqa_V=0.0001_a=0.81_c=1.0</a></strong> to <a href='https://wandb.ai/tum-i13/mess-plus_runs_3_models' target=\"_blank\">Weights & Biases</a> (<a href='https://wandb.me/developer-guide' target=\"_blank\">docs</a>)<br>"
      ]
     },
     "metadata": {},
     "output_type": "display_data"
    },
    {
     "data": {
      "text/plain": [
       "<IPython.core.display.HTML object>"
      ],
      "text/html": [
       " View project at <a href='https://wandb.ai/tum-i13/mess-plus_runs_3_models' target=\"_blank\">https://wandb.ai/tum-i13/mess-plus_runs_3_models</a>"
      ]
     },
     "metadata": {},
     "output_type": "display_data"
    },
    {
     "data": {
      "text/plain": [
       "<IPython.core.display.HTML object>"
      ],
      "text/html": [
       " View run at <a href='https://wandb.ai/tum-i13/mess-plus_runs_3_models/runs/02yddm4o' target=\"_blank\">https://wandb.ai/tum-i13/mess-plus_runs_3_models/runs/02yddm4o</a>"
      ]
     },
     "metadata": {},
     "output_type": "display_data"
    },
    {
     "data": {
      "text/plain": [
       "<IPython.core.display.HTML object>"
      ],
      "text/html": []
     },
     "metadata": {},
     "output_type": "display_data"
    },
    {
     "data": {
      "text/plain": [
       "<IPython.core.display.HTML object>"
      ],
      "text/html": [
       "<br>    <style><br>        .wandb-row {<br>            display: flex;<br>            flex-direction: row;<br>            flex-wrap: wrap;<br>            justify-content: flex-start;<br>            width: 100%;<br>        }<br>        .wandb-col {<br>            display: flex;<br>            flex-direction: column;<br>            flex-basis: 100%;<br>            flex: 1;<br>            padding: 10px;<br>        }<br>    </style><br><div class=\"wandb-row\"><div class=\"wandb-col\"><h3>Run history:</h3><br/><table class=\"wandb\"><tr><td>mess_plus/accuracy</td><td>▆█▆▃▄▄▃▂▁▂▃▄▄▆▇▇▅▅▅▅▆▅▅▅▆▅▅▅▅▅▅▅▅▅▅▅▅▅▅▅</td></tr><tr><td>mess_plus/chosen_model</td><td>▁▁█▁▁▁▁███▁█▁▁▁▁▁█▁█▁▁▁▁▁▁▁▁▁▁▁█▁██▁▁▁▁█</td></tr><tr><td>mess_plus/energy</td><td>██▁██▁▁▁▁█▁██▁▁▁█▁▁▁▁▁▇█▁█▁▁▁▁█▁▁▁▁▁█▁▁▁</td></tr><tr><td>mess_plus/exploration_step_ratio</td><td>█▄▅▄▄▄▃▃▃▃▄▃▃▃▃▂▂▂▂▂▂▂▂▂▂▂▂▂▂▂▂▂▂▁▁▁▁▁▁▁</td></tr><tr><td>mess_plus/p_t</td><td>████▇▇▇▆▆▆▅▅▅▅▄▄▄▃▃▃▃▃▃▃▃▃▃▃▂▂▂▂▂▂▂▂▁▁▁▁</td></tr><tr><td>mess_plus/q_length</td><td>▁▁▁▂▂▂▂▃▃▃▃▃▃▃▃▃▃▃▄▅▄▄▄▄▄▅▆▆▆▆▆▆▆▇▇▇▇███</td></tr><tr><td>mess_plus/step_energy_consumption</td><td>▁▇▁▁█▁█▇▁█▁▁▁▁▁▁▁▁▁▁▁▁█▁█▁▁▁▁▁▁▁▁▁▁▁█▁▁▁</td></tr><tr><td>mess_plus/step_time</td><td>▁█▁█▁█▁███▇▁▁▁▁▁█▁▁█▁▇▁▁▁▁▁▁█▁█▁▁▁▁▁▁█▁▁</td></tr><tr><td>mess_plus/total_runtime</td><td>▁▁▁▁▁▂▂▃▃▃▃▃▄▄▄▄▅▅▅▅▆▆▆▆▆▆▆▆▆▇▇▇▇▇▇█████</td></tr><tr><td>mess_plus/x_t</td><td>▁█████▁▁█▁▁▁▁▁█▁█▁▁▁▁▁▁▁▁▁▁▁▁▁▁█▁▁█▁▁▁▁▁</td></tr><tr><td>models/large_chosen</td><td>█▄▄▄▃▄▄▃▃▃▃▄▄▄▄▄▃▃▃▃▃▃▃▃▃▂▂▂▂▂▂▂▂▂▁▁▁▁▁▁</td></tr><tr><td>models/medium_chosen</td><td>▁▁▁▁▁▁▁▁▁▁▁▁▁▁▁▁▁▁▁▁▁▁▁▁▁▁▁▁▁▁▁▁▁▁▁▁▁▁▁▁</td></tr><tr><td>models/small_chosen</td><td>▁▂▂▂▃▂▂▃▄▅▄▅▅▅▅▅▆▆▆▆▆▆▆▆▆▇▇▇▇▇▇█▇▇▇█████</td></tr></table><br/></div><div class=\"wandb-col\"><h3>Run summary:</h3><br/><table class=\"wandb\"><tr><td>classifier/epoch</td><td>3</td></tr><tr><td>classifier/time/epoch_seconds</td><td>5.68105</td></tr><tr><td>classifier/train/loss</td><td>0.57916</td></tr><tr><td>classifier/val/0_f1score</td><td>0.78788</td></tr><tr><td>classifier/val/0_precision</td><td>1</td></tr><tr><td>classifier/val/0_recall</td><td>0.65</td></tr><tr><td>classifier/val/1_f1score</td><td>0.82353</td></tr><tr><td>classifier/val/1_precision</td><td>0.96552</td></tr><tr><td>classifier/val/1_recall</td><td>0.71795</td></tr><tr><td>classifier/val/2_f1score</td><td>0.85714</td></tr><tr><td>classifier/val/2_precision</td><td>1</td></tr><tr><td>classifier/val/2_recall</td><td>0.75</td></tr><tr><td>classifier/val/accuracy</td><td>0.7</td></tr><tr><td>classifier/val/f1_macro</td><td>0.82285</td></tr><tr><td>classifier/val/f1_micro</td><td>0.82353</td></tr><tr><td>classifier/val/loss</td><td>0.65709</td></tr><tr><td>classifier/val/precision_micro</td><td>0.70588</td></tr><tr><td>classifier/val/recall_micro</td><td>0.98824</td></tr><tr><td>mess_plus/accuracy</td><td>0.76912</td></tr><tr><td>mess_plus/chosen_model</td><td>0</td></tr><tr><td>mess_plus/energy</td><td>38.271</td></tr><tr><td>mess_plus/exploration_step_ratio</td><td>0.26078</td></tr><tr><td>mess_plus/p_t</td><td>0.22242</td></tr><tr><td>mess_plus/q_length</td><td>59.04</td></tr><tr><td>mess_plus/step_energy_consumption</td><td>38.271</td></tr><tr><td>mess_plus/step_time</td><td>0.21865</td></tr><tr><td>mess_plus/total_runtime</td><td>1652.7302</td></tr><tr><td>mess_plus/x_t</td><td>0</td></tr><tr><td>models/large_chosen</td><td>0.26078</td></tr><tr><td>models/medium_chosen</td><td>0</td></tr><tr><td>models/small_chosen</td><td>0.73922</td></tr></table><br/></div></div>"
      ]
     },
     "metadata": {},
     "output_type": "display_data"
    },
    {
     "data": {
      "text/plain": [
       "<IPython.core.display.HTML object>"
      ],
      "text/html": [
       " View run <strong style=\"color:#cdcd00\">piqa_V=0.0001_a=0.81_c=1.0</strong> at: <a href='https://wandb.ai/tum-i13/mess-plus_runs_3_models/runs/02yddm4o' target=\"_blank\">https://wandb.ai/tum-i13/mess-plus_runs_3_models/runs/02yddm4o</a><br> View project at: <a href='https://wandb.ai/tum-i13/mess-plus_runs_3_models' target=\"_blank\">https://wandb.ai/tum-i13/mess-plus_runs_3_models</a><br>Synced 5 W&B file(s), 0 media file(s), 0 artifact file(s) and 0 other file(s)"
      ]
     },
     "metadata": {},
     "output_type": "display_data"
    },
    {
     "data": {
      "text/plain": [
       "<IPython.core.display.HTML object>"
      ],
      "text/html": [
       "Find logs at: <code>./wandb/run-20250506_210556-02yddm4o/logs</code>"
      ]
     },
     "metadata": {},
     "output_type": "display_data"
    },
    {
     "data": {
      "text/plain": [
       "<IPython.core.display.HTML object>"
      ],
      "text/html": [
       "Tracking run with wandb version 0.19.1"
      ]
     },
     "metadata": {},
     "output_type": "display_data"
    },
    {
     "data": {
      "text/plain": [
       "<IPython.core.display.HTML object>"
      ],
      "text/html": [
       "Run data is saved locally in <code>/home/woi/code/mess-plus/wandb/run-20250506_210623-qgm7ekag</code>"
      ]
     },
     "metadata": {},
     "output_type": "display_data"
    },
    {
     "data": {
      "text/plain": [
       "<IPython.core.display.HTML object>"
      ],
      "text/html": [
       "Syncing run <strong><a href='https://wandb.ai/tum-i13/mess-plus_runs_3_models/runs/qgm7ekag' target=\"_blank\">piqa_V=1e-05_a=0.81_c=1.0</a></strong> to <a href='https://wandb.ai/tum-i13/mess-plus_runs_3_models' target=\"_blank\">Weights & Biases</a> (<a href='https://wandb.me/developer-guide' target=\"_blank\">docs</a>)<br>"
      ]
     },
     "metadata": {},
     "output_type": "display_data"
    },
    {
     "data": {
      "text/plain": [
       "<IPython.core.display.HTML object>"
      ],
      "text/html": [
       " View project at <a href='https://wandb.ai/tum-i13/mess-plus_runs_3_models' target=\"_blank\">https://wandb.ai/tum-i13/mess-plus_runs_3_models</a>"
      ]
     },
     "metadata": {},
     "output_type": "display_data"
    },
    {
     "data": {
      "text/plain": [
       "<IPython.core.display.HTML object>"
      ],
      "text/html": [
       " View run at <a href='https://wandb.ai/tum-i13/mess-plus_runs_3_models/runs/qgm7ekag' target=\"_blank\">https://wandb.ai/tum-i13/mess-plus_runs_3_models/runs/qgm7ekag</a>"
      ]
     },
     "metadata": {},
     "output_type": "display_data"
    },
    {
     "data": {
      "text/plain": [
       "<IPython.core.display.HTML object>"
      ],
      "text/html": []
     },
     "metadata": {},
     "output_type": "display_data"
    },
    {
     "data": {
      "text/plain": [
       "<IPython.core.display.HTML object>"
      ],
      "text/html": [
       "<br>    <style><br>        .wandb-row {<br>            display: flex;<br>            flex-direction: row;<br>            flex-wrap: wrap;<br>            justify-content: flex-start;<br>            width: 100%;<br>        }<br>        .wandb-col {<br>            display: flex;<br>            flex-direction: column;<br>            flex-basis: 100%;<br>            flex: 1;<br>            padding: 10px;<br>        }<br>    </style><br><div class=\"wandb-row\"><div class=\"wandb-col\"><h3>Run history:</h3><br/><table class=\"wandb\"><tr><td>mess_plus/accuracy</td><td>▅█▅▄▂▃▂▃▁▁▁▃▄▆▅▅▆▆▄▃▃▄▃▃▃▃▃▃▃▃▃▃▄▃▃▃▃▃▄▄</td></tr><tr><td>mess_plus/chosen_model</td><td>█▁▁▁█▁▁██▁█▁▁▁▁▁▁█▁▁▁▁▁█▁█▁▁▁▁▁█▁▁▁▁██▁▁</td></tr><tr><td>mess_plus/energy</td><td>██▁██▁▁▁▁██▁▁█▁██▁▁▁▁▁▁▁▁█▁█▁▁█▁█▁▁▁██▁▁</td></tr><tr><td>mess_plus/exploration_step_ratio</td><td>▃▄▇▇█▇▆▆▆▅▄▄▄▃▃▃▂▂▂▂▂▂▂▁▁▁▁▁▁▁▁▁▁▁▁▁▁▁▁▁</td></tr><tr><td>mess_plus/p_t</td><td>██▇▇▆▆▆▆▅▅▄▄▄▄▄▃▃▃▃▃▂▂▂▂▂▂▂▂▂▂▂▁▁▁▁▁▁▁▁▁</td></tr><tr><td>mess_plus/q_length</td><td>▁▁▁▁▁▂▂▂▂▂▃▃▃▂▃▃▃▃▃▄▅▅▅▅▅▅▆▇▇▇▇████▇▇▇▇█</td></tr><tr><td>mess_plus/step_energy_consumption</td><td>█▁█▁█▁█▁▁▁█▁▁█▁▁▁▁█▁▁▁█▁▁▁▁█▁▁▁▁██▁█▁▁▆▁</td></tr><tr><td>mess_plus/step_time</td><td>▁▁███▁▁▁▁▁▁█▁▁█▁▁█▁█▁▁█▁▁█▁█▁█▁▁▁▁▁▁▁▁▁▁</td></tr><tr><td>mess_plus/total_runtime</td><td>▁▁▂▂▂▂▃▃▃▃▄▄▄▄▄▅▅▅▅▅▅▅▅▅▅▅▆▆▆▆▇▇▇▇▇█████</td></tr><tr><td>mess_plus/x_t</td><td>███▁█▁█▁▁▁▁▁██▁▁▁██▁▁▁▁▁▁▁▁▁▁▁█▁▁▁█▁▁▁▁▁</td></tr><tr><td>models/large_chosen</td><td>▅▆██▇▇▅▅▄▄▄▄▄▄▄▂▂▂▂▁▁▁▁▁▁▁▁▁▁▁▁▁▁▁▁▁▁▁▁▁</td></tr><tr><td>models/medium_chosen</td><td>▁▁▁▁▁▁▁▁▁▁▁▁▁▁▁▁▁▁▁▁▁▁▁▁▁▁▁▁▁▁▁▁▁▁▁▁▁▁▁▁</td></tr><tr><td>models/small_chosen</td><td>▂▅▁▂▂▄▄▄▅▅▅▅▅▅▆▆▇▇▇▇▇▇▇▇▇███████████████</td></tr></table><br/></div><div class=\"wandb-col\"><h3>Run summary:</h3><br/><table class=\"wandb\"><tr><td>classifier/epoch</td><td>3</td></tr><tr><td>classifier/time/epoch_seconds</td><td>5.68105</td></tr><tr><td>classifier/train/loss</td><td>0.57916</td></tr><tr><td>classifier/val/0_f1score</td><td>0.78788</td></tr><tr><td>classifier/val/0_precision</td><td>1</td></tr><tr><td>classifier/val/0_recall</td><td>0.65</td></tr><tr><td>classifier/val/1_f1score</td><td>0.82353</td></tr><tr><td>classifier/val/1_precision</td><td>0.96552</td></tr><tr><td>classifier/val/1_recall</td><td>0.71795</td></tr><tr><td>classifier/val/2_f1score</td><td>0.85714</td></tr><tr><td>classifier/val/2_precision</td><td>1</td></tr><tr><td>classifier/val/2_recall</td><td>0.75</td></tr><tr><td>classifier/val/accuracy</td><td>0.7</td></tr><tr><td>classifier/val/f1_macro</td><td>0.82285</td></tr><tr><td>classifier/val/f1_micro</td><td>0.82353</td></tr><tr><td>classifier/val/loss</td><td>0.65709</td></tr><tr><td>classifier/val/precision_micro</td><td>0.70588</td></tr><tr><td>classifier/val/recall_micro</td><td>0.98824</td></tr><tr><td>mess_plus/accuracy</td><td>0.77191</td></tr><tr><td>mess_plus/chosen_model</td><td>0</td></tr><tr><td>mess_plus/energy</td><td>38.271</td></tr><tr><td>mess_plus/exploration_step_ratio</td><td>0.24618</td></tr><tr><td>mess_plus/p_t</td><td>0.22242</td></tr><tr><td>mess_plus/q_length</td><td>55.1</td></tr><tr><td>mess_plus/step_energy_consumption</td><td>38.271</td></tr><tr><td>mess_plus/step_time</td><td>0.21865</td></tr><tr><td>mess_plus/total_runtime</td><td>1572.88063</td></tr><tr><td>mess_plus/x_t</td><td>0</td></tr><tr><td>models/large_chosen</td><td>0.24618</td></tr><tr><td>models/medium_chosen</td><td>0</td></tr><tr><td>models/small_chosen</td><td>0.75382</td></tr></table><br/></div></div>"
      ]
     },
     "metadata": {},
     "output_type": "display_data"
    },
    {
     "data": {
      "text/plain": [
       "<IPython.core.display.HTML object>"
      ],
      "text/html": [
       " View run <strong style=\"color:#cdcd00\">piqa_V=1e-05_a=0.81_c=1.0</strong> at: <a href='https://wandb.ai/tum-i13/mess-plus_runs_3_models/runs/qgm7ekag' target=\"_blank\">https://wandb.ai/tum-i13/mess-plus_runs_3_models/runs/qgm7ekag</a><br> View project at: <a href='https://wandb.ai/tum-i13/mess-plus_runs_3_models' target=\"_blank\">https://wandb.ai/tum-i13/mess-plus_runs_3_models</a><br>Synced 5 W&B file(s), 0 media file(s), 0 artifact file(s) and 0 other file(s)"
      ]
     },
     "metadata": {},
     "output_type": "display_data"
    },
    {
     "data": {
      "text/plain": [
       "<IPython.core.display.HTML object>"
      ],
      "text/html": [
       "Find logs at: <code>./wandb/run-20250506_210623-qgm7ekag/logs</code>"
      ]
     },
     "metadata": {},
     "output_type": "display_data"
    },
    {
     "name": "stdout",
     "output_type": "stream",
     "text": [
      "DONE\n"
     ]
    }
   ],
   "execution_count": 7
  },
  {
   "metadata": {
    "ExecuteTime": {
     "end_time": "2025-05-06T19:06:52.059132Z",
     "start_time": "2025-05-06T19:06:52.057768Z"
    }
   },
   "cell_type": "code",
   "source": "",
   "id": "c3c4fcb1c67955d0",
   "outputs": [],
   "execution_count": null
  }
 ],
 "metadata": {
  "kernelspec": {
   "display_name": "Python 3",
   "language": "python",
   "name": "python3"
  },
  "language_info": {
   "codemirror_mode": {
    "name": "ipython",
    "version": 2
   },
   "file_extension": ".py",
   "mimetype": "text/x-python",
   "name": "python",
   "nbconvert_exporter": "python",
   "pygments_lexer": "ipython2",
   "version": "2.7.6"
  }
 },
 "nbformat": 4,
 "nbformat_minor": 5
}
